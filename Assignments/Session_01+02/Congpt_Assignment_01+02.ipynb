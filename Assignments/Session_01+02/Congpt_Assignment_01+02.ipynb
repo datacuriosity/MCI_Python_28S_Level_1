{
 "cells": [
  {
   "cell_type": "markdown",
   "metadata": {},
   "source": [
    "## Bài 1.\n",
    "\n",
    "Viết một chương trình tính giai thừa của một số nguyên dương n. Với n được nhập từ bàn phím. Ví dụ, n = 8 thì kết quả đầu ra phải là `1*2*3*4*5*6*7*8` = 40320."
   ]
  },
  {
   "cell_type": "code",
   "execution_count": null,
   "metadata": {},
   "outputs": [],
   "source": [
    "n = int(input(\"Input positive integer: \"))\n",
    " \n",
    "def factorial(n):\n",
    "    val = 1\n",
    "    for i in range(1,n+1):\n",
    "        val = val * i\n",
    "    return val\n",
    " \n",
    "print (n,'! =',(factorial(n)))"
   ]
  },
  {
   "cell_type": "code",
   "execution_count": null,
   "metadata": {},
   "outputs": [],
   "source": [
    "# Testing\n",
    "n = 5\n",
    "assert factorial(n) == 120, \"Wrong answer, please calculate again\""
   ]
  },
  {
   "cell_type": "markdown",
   "metadata": {},
   "source": [
    "## Bài 2.\n",
    "\n",
    "Viết chương trình tính tổng của các chữ số của môt số nguyên n trong Python. Số nguyên dương n được nhập từ bàn phím. Với n = 1234, tổng các chữ số: 1 + 2 + 3 + 4 = 10"
   ]
  },
  {
   "cell_type": "code",
   "execution_count": null,
   "metadata": {},
   "outputs": [],
   "source": [
    "n = int(input(\"Nhập số nguyên n = \"));\n",
    "\n",
    "def sum_all(n):\n",
    "    SUM = 0;\n",
    "    while (n > 0):\n",
    "        SUM += n % 10; #SUM = SUM + n % 10\n",
    "        n = int(n / 10)\n",
    "    return SUM\n",
    "\n",
    "print(\"Tổng các chữ số của\", n , \"là\",  sum_all(n));"
   ]
  },
  {
   "cell_type": "code",
   "execution_count": null,
   "metadata": {},
   "outputs": [],
   "source": [
    "# Testing\n",
    "number = 34103\n",
    "assert sum_all(number) == 11, \"Wrong answer, please calculate again\""
   ]
  },
  {
   "cell_type": "markdown",
   "metadata": {},
   "source": [
    "## Bài 3.\n",
    "\n",
    "Tìm giá trị lớn nhất của một list hoặc tuple nhập vào"
   ]
  },
  {
   "cell_type": "code",
   "execution_count": null,
   "metadata": {},
   "outputs": [],
   "source": [
    "#Way 1\n",
    "n = int(input(\"Number of elements : \"))\n",
    "li = []\n",
    "for i in range(0,n):\n",
    "    li.append(int(input('Input list values:')))\n",
    "print(li)\n",
    "def maximum(li):\n",
    "    return max(li)\n",
    "print(\"The maximum value is:\",maximum(li))\n",
    "\n",
    "    "
   ]
  },
  {
   "cell_type": "code",
   "execution_count": null,
   "metadata": {},
   "outputs": [],
   "source": [
    "#Way 2\n",
    "n = int(input(\"Number of elements : \"))\n",
    "li = []\n",
    "for i in range(0,n):\n",
    "    li.append(int(input('Input list values:')))\n",
    "print(li)\n",
    "def maximum(li):\n",
    "    li.sort()\n",
    "    return li[-1]\n",
    "print(\"The maximum value is:\",maximum(li))\n",
    "\n",
    "    "
   ]
  },
  {
   "cell_type": "code",
   "execution_count": null,
   "metadata": {},
   "outputs": [],
   "source": [
    "# Testing\n",
    "number = [1, 2, 6, 8, 10]\n",
    "assert maximum(number) == 10, \"Wrong answer, please calculate again\""
   ]
  },
  {
   "cell_type": "markdown",
   "metadata": {},
   "source": [
    "## Bài 4.\n",
    "\n",
    "Tìm giá trị lớn thứ nhì từ một list hoặc tuple nhập vào"
   ]
  },
  {
   "cell_type": "code",
   "execution_count": 82,
   "metadata": {},
   "outputs": [
    {
     "name": "stdin",
     "output_type": "stream",
     "text": [
      "Number of elements? 4\n",
      "Input list value: 1\n",
      "Input list value: 3\n",
      "Input list value: 4\n",
      "Input list value: 3\n"
     ]
    },
    {
     "name": "stdout",
     "output_type": "stream",
     "text": [
      "The second maximum value in the list/tuple is 3\n"
     ]
    }
   ],
   "source": [
    "n=int(input('Number of elements?'))\n",
    "l1=list(())\n",
    "for i in range(0,n):\n",
    "    l1.append(int(input('Input list value:')))\n",
    "def second_maximum(l1):\n",
    "    l2=l1.copy()\n",
    "    l2.sort()\n",
    "    x = l2.count(l2[-1])\n",
    "    return l2[x*-1-1]\n",
    "print('The second maximum value in the list/tuple is',second_maximum(l1))"
   ]
  },
  {
   "cell_type": "code",
   "execution_count": 8,
   "metadata": {},
   "outputs": [
    {
     "name": "stdout",
     "output_type": "stream",
     "text": [
      "0\n"
     ]
    }
   ],
   "source": [
    " food = (0) * 5  # comma not used\n",
    " print (food)"
   ]
  },
  {
   "cell_type": "code",
   "execution_count": null,
   "metadata": {},
   "outputs": [],
   "source": [
    "# Testing\n",
    "number = [1, 2, 6, 8, 10]\n",
    "assert second_maximum(number) == 8, \"Wrong answer, please calculate again\""
   ]
  },
  {
   "cell_type": "markdown",
   "metadata": {},
   "source": [
    "## Bài 5.\n",
    "\n",
    "Định nghĩa một hàm có input là 2 chuỗi và trả về chuỗi có độ dài lớn hơn. Nếu 2 chuỗi có chiều dài như nhau thì trả tất cả các chuỗi dưới dạng tuple"
   ]
  },
  {
   "cell_type": "code",
   "execution_count": null,
   "metadata": {},
   "outputs": [],
   "source": [
    "def greater_string(str_1, str_2):\n",
    "    count1 = 0\n",
    "    count2 = 0\n",
    "    for i1 in str_1:\n",
    "        count1 += 1\n",
    "    for i2 in str_2:\n",
    "        count2 += 1\n",
    "    if count1 > count2:\n",
    "        return str_1\n",
    "    elif count1 < count2:\n",
    "        return str_2\n",
    "    else:\n",
    "        result=(str_1,str_2)\n",
    "        return tuple(result)\n",
    "str_1=input('nhập chuỗi 1:')\n",
    "str_2=input('nhập chuỗi 2:')\n",
    "print(greater_string(str_1, str_2))"
   ]
  },
  {
   "cell_type": "code",
   "execution_count": null,
   "metadata": {},
   "outputs": [],
   "source": [
    "# Test 1\n",
    "str_1 = \"My name is\"\n",
    "str_2 = \"My university\"\n",
    "\n",
    "assert len(greater_string(str_1, str_2)) == len(str_2), \"Wrong answer, please code again\"\n",
    "\n",
    "\n",
    "#Test 2\n",
    "\n",
    "str_1 = \"My name is\"\n",
    "str_2 = \"My name ar\"\n",
    "\n",
    "assert greater_string(str_1, str_2) == (str_1, str_2), \"Wrong answer, please code again\""
   ]
  },
  {
   "cell_type": "markdown",
   "metadata": {},
   "source": [
    "## Bài 6.\n",
    "\n",
    "Loại bỏ các giá trị trùng từ chuỗi nhập vào, nhưng vẫn giữ thứ tự.\n",
    "\n",
    "Ví dụ: aaabbbbcccddd1111 --> abcd1"
   ]
  },
  {
   "cell_type": "code",
   "execution_count": 76,
   "metadata": {},
   "outputs": [
    {
     "name": "stdin",
     "output_type": "stream",
     "text": [
      "Input: aadccc\n"
     ]
    },
    {
     "name": "stdout",
     "output_type": "stream",
     "text": [
      "Output: adc\n"
     ]
    }
   ],
   "source": [
    "def remove_duplicated(str_1):\n",
    "    result = ''\n",
    "    for i in str_1:\n",
    "        if i not in result:\n",
    "            result += i\n",
    "    return result\n",
    "c=input('Input:')\n",
    "print('Output:',remove_duplicated(c))"
   ]
  },
  {
   "cell_type": "code",
   "execution_count": null,
   "metadata": {},
   "outputs": [],
   "source": [
    "# Testing\n",
    "str_1 = \"cccccddddeeeeffff22222\"\n",
    "\n",
    "assert remove_duplicated(str_1) == \"cdef2\""
   ]
  },
  {
   "cell_type": "markdown",
   "metadata": {},
   "source": [
    "## Bài 7. \n",
    "Viết một chương trình có 2 chữ số X, Y nhận giá trị đầu vào và tạo ra một mảng 2 chiều. Giá trị phần tử trong hàng thứ i và cột thứ j của mảng phải là `i*j`\n",
    "\n",
    "Lưu ý: \n",
    "- i = 0, 1, 2, ..., X-1\n",
    "- j = 0, 1, 2, ..., Y-1      "
   ]
  },
  {
   "cell_type": "code",
   "execution_count": null,
   "metadata": {
    "collapsed": false,
    "jupyter": {
     "outputs_hidden": false
    },
    "pycharm": {
     "name": "#%%\n"
    }
   },
   "outputs": [],
   "source": [
    "import numpy as np\n",
    "def create_2D_array(X, Y):\n",
    "    column=[]\n",
    "    for i in range(0,x):\n",
    "        row=[]\n",
    "        for j in range(0,y):\n",
    "            row.append(i*j)\n",
    "        column.append(row)\n",
    "    return column\n",
    "x=int(input('x:'))\n",
    "y=int(input('y:'))\n",
    "result = np.array(create_2D_array(x,y))\n",
    "print(create_2D_array(x,y))\n",
    "print(result)"
   ]
  },
  {
   "cell_type": "code",
   "execution_count": null,
   "metadata": {
    "collapsed": false,
    "jupyter": {
     "outputs_hidden": false
    },
    "pycharm": {
     "name": "#%%\n"
    }
   },
   "outputs": [],
   "source": [
    "assert create_2D_array(5, 5) == [[0, 0, 0, 0, 0], [0, 1, 2, 3, 4], [0, 2, 4, 6, 8], [0, 3, 6, 9, 12], [0, 4, 8, 12, 16]], \"Wrong answer, please code again\""
   ]
  },
  {
   "cell_type": "code",
   "execution_count": null,
   "metadata": {},
   "outputs": [],
   "source": [
    "np.zeros((3,3,2), dtype='int')"
   ]
  },
  {
   "cell_type": "code",
   "execution_count": null,
   "metadata": {},
   "outputs": [],
   "source": [
    "li = list(range(11))\n",
    "new_li =[0 for i in range(6)]\n",
    "index = 0\n",
    "for i in li:\n",
    "    if i % 2 == 0:\n",
    "        new_li[index] = i\n",
    "        index += 1\n",
    "new_li"
   ]
  },
  {
   "cell_type": "markdown",
   "metadata": {},
   "source": [
    "## Bài 8.\n",
    "Viết chương trình để xuất một số ngẫu nhiên, chia hết cho 5 và 7, từ 0 đến 200 (gồm cả 0 và 200), sử dụng module random và list comprehension"
   ]
  },
  {
   "cell_type": "code",
   "execution_count": null,
   "metadata": {},
   "outputs": [],
   "source": [
    "li = list(range(0,201))\n",
    "li2 = [i for i in li if (i % 5 == 0 and i % 7 == 0) ] \n",
    "li2"
   ]
  },
  {
   "cell_type": "code",
   "execution_count": null,
   "metadata": {
    "collapsed": false,
    "jupyter": {
     "outputs_hidden": false
    },
    "pycharm": {
     "name": "#%%\n"
    }
   },
   "outputs": [],
   "source": [
    "import random\n",
    "def division_5_7(random_seed):\n",
    "    li = list(range(0,201))\n",
    "    li2 = [i for i in li if (i % 5 == 0 and i % 7 == 0)]\n",
    "    random.seed(random_seed)\n",
    "    print(random.choice(li2))\n",
    "random_seed=input('Input:')\n",
    "division_5_7(random_seed)\n",
    "\n",
    "    "
   ]
  },
  {
   "cell_type": "code",
   "execution_count": null,
   "metadata": {
    "collapsed": false,
    "jupyter": {
     "outputs_hidden": false
    },
    "pycharm": {
     "name": "#%%\n"
    }
   },
   "outputs": [],
   "source": [
    "random_seed = 4\n",
    "assert division_5_7(random_seed) == 35, \"Wrong answer, please code again\""
   ]
  },
  {
   "cell_type": "code",
   "execution_count": null,
   "metadata": {},
   "outputs": [],
   "source": [
    "li = list(range(0,201))\n",
    "li2 = [i for i in li if (i % 5 == 0 and i % 7 == 0)]\n",
    "print(random.choice(li2))"
   ]
  },
  {
   "cell_type": "code",
   "execution_count": null,
   "metadata": {},
   "outputs": [],
   "source": [
    "def tong(li):\n",
    "    total = 0\n",
    "    for i in li:\n",
    "        total += i\n",
    "    return total\n",
    "def binhquan(li):\n",
    "    sum_all = 0\n",
    "    count = 0\n",
    "    for i in li:\n",
    "        sum_all += i\n",
    "        count += 1\n",
    "    return sum_all/count\n",
    "\n",
    "print(tong((1,2)))\n",
    "[binhquan([3, 5]))"
   ]
  },
  {
   "cell_type": "code",
   "execution_count": null,
   "metadata": {},
   "outputs": [],
   "source": [
    "def prime_number(n):\n",
    "    result = False\n",
    "    if (n == 2 or n == 3):\n",
    "        return True\n",
    "    if n > 2:\n",
    "        for i in range(2, int(n**1/2)+1):\n",
    "            if (n % i) == 0:\n",
    "                result = False\n",
    "                break\n",
    "            else:\n",
    "                result = True\n",
    "    else:\n",
    "        result = False\n",
    "    return result\n",
    "\n",
    "li = list(range(1,101))\n",
    "prime_li=[]\n",
    "for i in li:\n",
    "    if prime_number(i):\n",
    "        prime_li.append(i)\n",
    "\n",
    "prime_li        "
   ]
  },
  {
   "cell_type": "code",
   "execution_count": null,
   "metadata": {},
   "outputs": [],
   "source": [
    "li = list(range(-5,5))\n",
    "li2 = [i*-1 if i < 0 else i for i in li]\n",
    "print(li2)\n",
    "li3 = [(i**2)**(1/2) for i in li]\n",
    "print(li3)\n"
   ]
  },
  {
   "cell_type": "code",
   "execution_count": null,
   "metadata": {},
   "outputs": [],
   "source": [
    "li = [[1,2,3,4],[4,5,6,7],[7,8,9,10]]\n",
    "[i for i in li]"
   ]
  }
 ],
 "metadata": {
  "kernelspec": {
   "display_name": "Python 3",
   "language": "python",
   "name": "python3"
  },
  "language_info": {
   "codemirror_mode": {
    "name": "ipython",
    "version": 3
   },
   "file_extension": ".py",
   "mimetype": "text/x-python",
   "name": "python",
   "nbconvert_exporter": "python",
   "pygments_lexer": "ipython3",
   "version": "3.7.10"
  }
 },
 "nbformat": 4,
 "nbformat_minor": 4
}
