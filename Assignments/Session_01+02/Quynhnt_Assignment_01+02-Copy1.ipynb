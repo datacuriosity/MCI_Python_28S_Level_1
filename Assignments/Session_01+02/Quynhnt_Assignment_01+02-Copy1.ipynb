{
 "cells": [
  {
   "cell_type": "markdown",
   "metadata": {},
   "source": [
    "## Bài 1.\n",
    "\n",
    "Viết một chương trình tính giai thừa của một số nguyên dương n. Với n được nhập từ bàn phím. Ví dụ, n = 8 thì kết quả đầu ra phải là `1*2*3*4*5*6*7*8` = 40320."
   ]
  },
  {
   "cell_type": "code",
   "execution_count": null,
   "metadata": {
    "tags": []
   },
   "outputs": [],
   "source": [
    "def factorial(n):\n",
    "    # Your code here\n",
    "    return "
   ]
  },
  {
   "cell_type": "code",
   "execution_count": null,
   "metadata": {
    "tags": []
   },
   "outputs": [],
   "source": [
    "# Testing\n",
    "n = 5\n",
    "assert factorial(n) == 120, \"Wrong answer, please calculate again\""
   ]
  },
  {
   "cell_type": "code",
   "execution_count": 50,
   "metadata": {
    "tags": []
   },
   "outputs": [
    {
     "name": "stdin",
     "output_type": "stream",
     "text": [
      "Nhập số nguyên dương: 8\n"
     ]
    },
    {
     "name": "stdout",
     "output_type": "stream",
     "text": [
      "giai thừa của 8 là 40320\n"
     ]
    }
   ],
   "source": [
    "def factorial(n):\n",
    "    if n==0:\n",
    "        return 1\n",
    "    else:\n",
    "        return n*factorial(n-1)\n",
    "n=int(input(\"Nhập số nguyên dương:\"))\n",
    "print(\"giai thừa của\",n,\"là\",factorial(n))"
   ]
  },
  {
   "cell_type": "code",
   "execution_count": 42,
   "metadata": {},
   "outputs": [
    {
     "name": "stdout",
     "output_type": "stream",
     "text": [
      "giai thừa của 5 là 120\n"
     ]
    }
   ],
   "source": [
    "def factorial(n):\n",
    "    if n==0:\n",
    "        return 1\n",
    "    else:\n",
    "        return n*factorial(n-1)\n",
    "n=5\n",
    "print(\"giai thừa của\",n,\"là\",factorial(n))"
   ]
  },
  {
   "cell_type": "markdown",
   "metadata": {},
   "source": [
    "## Bài 2.\n",
    "\n",
    "Viết chương trình tính tổng của các chữ số của môt số nguyên n trong Python. Số nguyên dương n được nhập từ bàn phím. Với n = 1234, tổng các chữ số: 1 + 2 + 3 + 4 = 10"
   ]
  },
  {
   "cell_type": "code",
   "execution_count": null,
   "metadata": {},
   "outputs": [],
   "source": [
    "def sum_all(number):\n",
    "    # Your code here\n",
    "    return"
   ]
  },
  {
   "cell_type": "code",
   "execution_count": null,
   "metadata": {},
   "outputs": [],
   "source": [
    "# Testing\n",
    "number = 34103\n",
    "assert sum_all(number) == 11, \"Wrong answer, please calculate again\""
   ]
  },
  {
   "cell_type": "code",
   "execution_count": 45,
   "metadata": {
    "tags": []
   },
   "outputs": [
    {
     "name": "stdin",
     "output_type": "stream",
     "text": [
      "Nhập số nguyên dương: 1234\n"
     ]
    },
    {
     "name": "stdout",
     "output_type": "stream",
     "text": [
      "Tổng các chữ số bằng 10\n"
     ]
    }
   ],
   "source": [
    "def sum_all(number):\n",
    "    x=0\n",
    "    while number>0:\n",
    "        x=x+number%10\n",
    "        number=number//10\n",
    "    return x\n",
    "number=int(input(\"Nhập số nguyên dương:\"))\n",
    "print(\"Tổng các chữ số bằng\",sum_all(number))"
   ]
  },
  {
   "cell_type": "code",
   "execution_count": 1,
   "metadata": {},
   "outputs": [
    {
     "name": "stdout",
     "output_type": "stream",
     "text": [
      "Tổng các chữ số bằng 11\n"
     ]
    }
   ],
   "source": [
    "def sum_all(number):\n",
    "    x=0\n",
    "    while number>0:\n",
    "        x=x+number%10\n",
    "        number=number//10\n",
    "    return x\n",
    "number=34103\n",
    "print(\"Tổng các chữ số bằng\",sum_all(number))"
   ]
  },
  {
   "cell_type": "markdown",
   "metadata": {
    "tags": []
   },
   "source": [
    "## Bài 3.\n",
    "\n",
    "Tìm giá trị lớn nhất của một list hoặc tuple nhập vào"
   ]
  },
  {
   "cell_type": "code",
   "execution_count": null,
   "metadata": {},
   "outputs": [],
   "source": [
    "def maximum(li):\n",
    "    # Your code here\n",
    "    return"
   ]
  },
  {
   "cell_type": "code",
   "execution_count": null,
   "metadata": {},
   "outputs": [],
   "source": [
    "# Testing\n",
    "number = [1, 2, 6, 8, 10]\n",
    "assert maximum(number) == 10, \"Wrong answer, please calculate again\""
   ]
  },
  {
   "cell_type": "code",
   "execution_count": 57,
   "metadata": {},
   "outputs": [
    {
     "name": "stdin",
     "output_type": "stream",
     "text": [
      "Số phần tử được nhập:  4\n",
      " 22\n",
      " 13\n",
      " 43\n",
      " 24\n"
     ]
    },
    {
     "name": "stdout",
     "output_type": "stream",
     "text": [
      "List: [22, 13, 43, 24]\n",
      "Phần tử có giá trị lớn nhất là 43\n"
     ]
    }
   ],
   "source": [
    "li=[]\n",
    "n=int(input(\"Số phần tử được nhập: \"))\n",
    "for i in range (0,n):\n",
    "    phantu=int(input())\n",
    "    li.append(phantu)\n",
    "print(\"List:\",li)\n",
    "def maximum(li):\n",
    "    return max(li);\n",
    "print(\"Phần tử có giá trị lớn nhất là\",maximum(li))"
   ]
  },
  {
   "cell_type": "code",
   "execution_count": 59,
   "metadata": {},
   "outputs": [
    {
     "name": "stdout",
     "output_type": "stream",
     "text": [
      "List: [1, 2, 6, 8, 10]\n",
      "Phần tử có giá trị lớn nhất là 10\n"
     ]
    }
   ],
   "source": [
    "li=[1,2,6,8,10]\n",
    "print(\"List:\",li)\n",
    "def maximum(li):\n",
    "    return max(li);\n",
    "print(\"Phần tử có giá trị lớn nhất là\",maximum(li))"
   ]
  },
  {
   "cell_type": "markdown",
   "metadata": {},
   "source": [
    "## Bài 4.\n",
    "\n",
    "Tìm giá trị lớn thứ nhì từ một list hoặc tuple nhập vào"
   ]
  },
  {
   "cell_type": "code",
   "execution_count": null,
   "metadata": {},
   "outputs": [],
   "source": [
    "def second_maximum(li):\n",
    "    # Your code here\n",
    "    return"
   ]
  },
  {
   "cell_type": "code",
   "execution_count": null,
   "metadata": {},
   "outputs": [],
   "source": [
    "# Testing\n",
    "number = [1, 2, 6, 8, 10]\n",
    "assert second_maximum(number) == 8, \"Wrong answer, please calculate again\""
   ]
  },
  {
   "cell_type": "code",
   "execution_count": 61,
   "metadata": {},
   "outputs": [
    {
     "name": "stdin",
     "output_type": "stream",
     "text": [
      "Số phần tử được nhập: 7\n",
      " 13\n",
      " 43\n",
      " 23\n",
      " 54\n",
      " 63\n",
      " 34\n",
      " 20\n"
     ]
    },
    {
     "name": "stdout",
     "output_type": "stream",
     "text": [
      "List: [13, 43, 23, 54, 63, 34, 20]\n",
      "Phần tử lớn thứ nhì là 54\n"
     ]
    }
   ],
   "source": [
    "li=[]\n",
    "n=int(input(\"Số phần tử được nhập:\"))\n",
    "for i in range (0,n):\n",
    "    phantu=int(input())\n",
    "    li.append(phantu)\n",
    "print(\"List:\",li)\n",
    "def second_maximum(li):\n",
    "    a=max(li)\n",
    "    li.remove(a)\n",
    "    return max(li);\n",
    "print(\"Phần tử lớn thứ nhì là\",second_maximum(li))"
   ]
  },
  {
   "cell_type": "code",
   "execution_count": 62,
   "metadata": {},
   "outputs": [
    {
     "name": "stdout",
     "output_type": "stream",
     "text": [
      "List: [1, 2, 6, 8, 10]\n",
      "Phần tử lớn thứ nhì là 8\n"
     ]
    }
   ],
   "source": [
    "li=[1,2,6,8,10]\n",
    "print(\"List:\",li)\n",
    "def second_maximum(li):\n",
    "    a=max(li)\n",
    "    li.remove(a)\n",
    "    return max(li);\n",
    "print(\"Phần tử lớn thứ nhì là\",second_maximum(li))"
   ]
  },
  {
   "cell_type": "markdown",
   "metadata": {},
   "source": [
    "## Bài 5.\n",
    "\n",
    "Định nghĩa một hàm có input là 2 chuỗi và trả về chuỗi có độ dài lớn hơn. Nếu 2 chuỗi có chiều dài như nhau thì trả tất cả các chuỗi dưới dạng tuple"
   ]
  },
  {
   "cell_type": "code",
   "execution_count": null,
   "metadata": {},
   "outputs": [],
   "source": [
    "def greater_string(str_1, str_2):\n",
    "    # Your code here\n",
    "    return"
   ]
  },
  {
   "cell_type": "code",
   "execution_count": null,
   "metadata": {},
   "outputs": [],
   "source": [
    "# Test 1\n",
    "str_1 = \"My name is\"\n",
    "str_2 = \"My university\"\n",
    "\n",
    "assert len(greater_string(str_1, str_2)) == len(str_2), \"Wrong answer, please code again\"\n",
    "\n",
    "\n",
    "#Test 2\n",
    "\n",
    "str_1 = \"My name is\"\n",
    "str_2 = \"My name ar\"\n",
    "\n",
    "assert greater_string(str_1, str_2) == (str_1, str_2), \"Wrong answer, please code again\""
   ]
  },
  {
   "cell_type": "code",
   "execution_count": 3,
   "metadata": {},
   "outputs": [
    {
     "name": "stdin",
     "output_type": "stream",
     "text": [
      "Nhập chuỗi thứ 1: my name\n",
      "Nhập chuỗi thứ 2: quynh\n"
     ]
    },
    {
     "name": "stdout",
     "output_type": "stream",
     "text": [
      "Độ dài chuỗi 1 là 7\n",
      "Độ dài chuỗi 2 là 5\n",
      "Tìm chuỗi có độ dài lớn hơn: my name\n"
     ]
    }
   ],
   "source": [
    "str_1=input(\"Nhập chuỗi thứ 1:\")\n",
    "str_2=input(\"Nhập chuỗi thứ 2:\")\n",
    "print(\"Độ dài chuỗi 1 là\",len(str_1))\n",
    "print(\"Độ dài chuỗi 2 là\",len(str_2))\n",
    "def greater_string(str_1, str_2):\n",
    "    if len(str_1) > len(str_2):\n",
    "        return str_1\n",
    "    elif len(str_1) < len(str_2):\n",
    "        return str_2\n",
    "    else:\n",
    "        return (str_1, str_2)\n",
    "print(\"Tìm chuỗi có độ dài lớn hơn:\",greater_string(str_1, str_2))"
   ]
  },
  {
   "cell_type": "code",
   "execution_count": 4,
   "metadata": {},
   "outputs": [
    {
     "name": "stdout",
     "output_type": "stream",
     "text": [
      "Độ dài chuỗi 1 là 10\n",
      "Độ dài chuỗi 2 là 13\n",
      "Tìm chuỗi có độ dài lớn hơn: My university\n",
      "Độ dài chuỗi 1 là 10\n",
      "Độ dài chuỗi 2 là 10\n",
      "Tìm chuỗi có độ dài lớn hơn: ('My name is', 'My name ar')\n"
     ]
    }
   ],
   "source": [
    "str_1 = \"My name is\"\n",
    "str_2 = \"My university\"\n",
    "print(\"Độ dài chuỗi 1 là\",len(str_1))\n",
    "print(\"Độ dài chuỗi 2 là\",len(str_2))\n",
    "def greater_string(str_1, str_2):\n",
    "    if len(str_1) > len(str_2):\n",
    "        return str_1\n",
    "    elif len(str_1) < len(str_2):\n",
    "        return str_2\n",
    "    else:\n",
    "        return (str_1, str_2)\n",
    "print(\"Tìm chuỗi có độ dài lớn hơn:\",greater_string(str_1, str_2))\n",
    "\n",
    "str_1 = \"My name is\"\n",
    "str_2 = \"My name ar\"\n",
    "print(\"Độ dài chuỗi 1 là\",len(str_1))\n",
    "print(\"Độ dài chuỗi 2 là\",len(str_2))\n",
    "def greater_string(str_1, str_2):\n",
    "    if len(str_1) > len(str_2):\n",
    "        return str_1\n",
    "    elif len(str_1) < len(str_2):\n",
    "        return str_2\n",
    "    else:\n",
    "        return (str_1, str_2)\n",
    "print(\"Tìm chuỗi có độ dài lớn hơn:\",greater_string(str_1, str_2))"
   ]
  },
  {
   "cell_type": "markdown",
   "metadata": {},
   "source": [
    "## Bài 6.\n",
    "\n",
    "Loại bỏ các giá trị trùng từ chuỗi nhập vào, nhưng vẫn giữ thứ tự.\n",
    "\n",
    "Ví dụ: aaabbbbcccddd1111 --> abcd1"
   ]
  },
  {
   "cell_type": "code",
   "execution_count": null,
   "metadata": {},
   "outputs": [],
   "source": [
    "def remove_duplicated(str_1):\n",
    "    # Your code here\n",
    "    return"
   ]
  },
  {
   "cell_type": "code",
   "execution_count": null,
   "metadata": {},
   "outputs": [],
   "source": [
    "# Testing\n",
    "str_1 = \"cccccddddeeeeffff22222\"\n",
    "\n",
    "assert remove_duplicated(str_1) == \"cdef2\""
   ]
  },
  {
   "cell_type": "code",
   "execution_count": 15,
   "metadata": {},
   "outputs": [
    {
     "name": "stdin",
     "output_type": "stream",
     "text": [
      "Chuỗi ban đầu: aaabbbbcccddd1111\n"
     ]
    },
    {
     "name": "stdout",
     "output_type": "stream",
     "text": [
      "Kết quả loại bỏ giá trị trùng lặp: abcd1\n"
     ]
    }
   ],
   "source": [
    "str_1=input(\"Chuỗi ban đầu:\")\n",
    "def remove_duplicated(str_1):\n",
    "    chuoi_output=\"\"\n",
    "    for x in str_1:\n",
    "        if x not in chuoi_output:\n",
    "            chuoi_output+=x\n",
    "    return chuoi_output\n",
    "print(\"Kết quả loại bỏ giá trị trùng lặp:\", remove_duplicated(str_1))"
   ]
  },
  {
   "cell_type": "code",
   "execution_count": 16,
   "metadata": {},
   "outputs": [
    {
     "name": "stdout",
     "output_type": "stream",
     "text": [
      "Kết quả loại bỏ giá trị trùng lặp: cdef2\n"
     ]
    }
   ],
   "source": [
    "str_1=\"cccccddddeeeeffff22222\"\n",
    "def remove_duplicated(str_1):\n",
    "    chuoi_output=\"\"\n",
    "    for x in str_1:\n",
    "        if x not in chuoi_output:\n",
    "            chuoi_output+=x\n",
    "    return chuoi_output\n",
    "print(\"Kết quả loại bỏ giá trị trùng lặp:\", remove_duplicated(str_1))"
   ]
  },
  {
   "cell_type": "markdown",
   "metadata": {},
   "source": [
    "## Bài 7. \n",
    "Viết một chương trình có 2 chữ số X, Y nhận giá trị đầu vào và tạo ra một mảng 2 chiều. Giá trị phần tử trong hàng thứ i và cột thứ j của mảng phải là `i*j`\n",
    "\n",
    "Lưu ý: \n",
    "- i = 0, 1, 2, ..., X-1\n",
    "- j = 0, 1, 2, ..., Y-1      "
   ]
  },
  {
   "cell_type": "code",
   "execution_count": null,
   "metadata": {
    "collapsed": false,
    "jupyter": {
     "outputs_hidden": false
    },
    "pycharm": {
     "name": "#%%\n"
    }
   },
   "outputs": [],
   "source": [
    "def create_2D_array(X, Y):\n",
    "    # Your code here\n",
    "    return "
   ]
  },
  {
   "cell_type": "code",
   "execution_count": null,
   "metadata": {
    "pycharm": {
     "name": "#%%\n"
    },
    "tags": []
   },
   "outputs": [],
   "source": [
    "assert create_2D_array(5, 5) == [[0, 0, 0, 0, 0], [0, 1, 2, 3, 4], [0, 2, 4, 6, 8], [0, 3, 6, 9, 12], [0, 4, 8, 12, 16]], \"Wrong answer, please code again\""
   ]
  },
  {
   "cell_type": "code",
   "execution_count": 22,
   "metadata": {
    "tags": []
   },
   "outputs": [
    {
     "name": "stdin",
     "output_type": "stream",
     "text": [
      "Giá trị đầu vào X: 3\n",
      "Giá trị đầu vào Y: 4\n"
     ]
    },
    {
     "name": "stdout",
     "output_type": "stream",
     "text": [
      "Mảng 2 chiều với X= 3 Y= 4 là: [[0, 0, 0, 0], [0, 1, 2, 3], [0, 2, 4, 6]]\n"
     ]
    }
   ],
   "source": [
    "X=int(input(\"Giá trị đầu vào X:\"))\n",
    "Y=int(input(\"Giá trị đầu vào Y:\"))\n",
    "li_xy=[]\n",
    "def create_2D_array(X, Y):\n",
    "    for i in range (0, X):\n",
    "        li_i=[]\n",
    "        for j in range (0, Y):\n",
    "            a=i*j\n",
    "            li_i.append(a)\n",
    "        li_xy.append(li_i)\n",
    "    return li_xy\n",
    "print(\"Mảng 2 chiều với\",\"X=\",X,\"Y=\",Y,\"là:\",create_2D_array(X,Y))"
   ]
  },
  {
   "cell_type": "code",
   "execution_count": 23,
   "metadata": {},
   "outputs": [
    {
     "name": "stdout",
     "output_type": "stream",
     "text": [
      "Mảng 2 chiều với X= 5 Y= 5 là: [[0, 0, 0, 0, 0], [0, 1, 2, 3, 4], [0, 2, 4, 6, 8], [0, 3, 6, 9, 12], [0, 4, 8, 12, 16]]\n"
     ]
    }
   ],
   "source": [
    "X=5\n",
    "Y=5\n",
    "li_xy=[]\n",
    "def create_2D_array(X, Y):\n",
    "    for i in range (0, X):\n",
    "        li_i=[]\n",
    "        for j in range (0, Y):\n",
    "            a=i*j\n",
    "            li_i.append(a)\n",
    "        li_xy.append(li_i)\n",
    "    return li_xy\n",
    "print(\"Mảng 2 chiều với\",\"X=\",X,\"Y=\",Y,\"là:\",create_2D_array(X,Y))"
   ]
  },
  {
   "cell_type": "markdown",
   "metadata": {},
   "source": [
    "## Bài 8.\n",
    "Viết chương trình để xuất một số ngẫu nhiên, chia hết cho 5 và 7, từ 0 đến 200 (gồm cả 0 và 200), sử dụng module random và list comprehension"
   ]
  },
  {
   "cell_type": "code",
   "execution_count": null,
   "metadata": {
    "collapsed": false,
    "jupyter": {
     "outputs_hidden": false
    },
    "pycharm": {
     "name": "#%%\n"
    }
   },
   "outputs": [],
   "source": [
    "import random\n",
    "def division_5_7(random_seed = 4):\n",
    "    random.seed(random_seed)\n",
    "    # Your code here\n",
    "    return \n",
    "    "
   ]
  },
  {
   "cell_type": "code",
   "execution_count": null,
   "metadata": {
    "collapsed": false,
    "jupyter": {
     "outputs_hidden": false
    },
    "pycharm": {
     "name": "#%%\n"
    }
   },
   "outputs": [],
   "source": [
    "random_seed = 4\n",
    "assert division_5_7(random_seed) == 35, \"Wrong answer, please code again\""
   ]
  },
  {
   "cell_type": "code",
   "execution_count": 66,
   "metadata": {},
   "outputs": [
    {
     "name": "stdout",
     "output_type": "stream",
     "text": [
      "35\n"
     ]
    }
   ],
   "source": [
    "import random\n",
    "def division_5_7():\n",
    "    random.seed(4)\n",
    "    x=random.randrange(0,200,35)\n",
    "    return x\n",
    "print (division_5_7())"
   ]
  },
  {
   "cell_type": "code",
   "execution_count": 1,
   "metadata": {},
   "outputs": [
    {
     "name": "stdout",
     "output_type": "stream",
     "text": [
      "35\n"
     ]
    }
   ],
   "source": [
    "import random\n",
    "def division_5_7():\n",
    "    random.seed(4)\n",
    "    numbers=[x for x in range(200) if x%5==0 and x%7==0]\n",
    "    y=random.choice(numbers)\n",
    "    return y\n",
    "print(division_5_7())    "
   ]
  }
 ],
 "metadata": {
  "kernelspec": {
   "display_name": "Python 3",
   "language": "python",
   "name": "python3"
  },
  "language_info": {
   "codemirror_mode": {
    "name": "ipython",
    "version": 3
   },
   "file_extension": ".py",
   "mimetype": "text/x-python",
   "name": "python",
   "nbconvert_exporter": "python",
   "pygments_lexer": "ipython3",
   "version": "3.7.10"
  }
 },
 "nbformat": 4,
 "nbformat_minor": 4
}
