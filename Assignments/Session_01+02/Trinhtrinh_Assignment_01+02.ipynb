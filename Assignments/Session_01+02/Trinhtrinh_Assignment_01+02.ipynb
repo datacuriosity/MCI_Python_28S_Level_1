{
 "cells": [
  {
   "cell_type": "markdown",
   "id": "ordinary-arcade",
   "metadata": {},
   "source": [
    "# Bài 1."
   ]
  },
  {
   "cell_type": "markdown",
   "id": "acquired-municipality",
   "metadata": {},
   "source": [
    "Viết một chương trình tính giai thừa của một số nguyên dương n. Với n được nhập từ bàn phím. Ví dụ, n = 8 thì kết quả đầu ra phải là `1*2*3*4*5*6*7*8*9*10=40320`"
   ]
  },
  {
   "cell_type": "code",
   "execution_count": 49,
   "id": "broadband-bradford",
   "metadata": {},
   "outputs": [
    {
     "name": "stdout",
     "output_type": "stream",
     "text": [
      "Giai thừa của 8 là 40320\n"
     ]
    }
   ],
   "source": [
    "n = 8\n",
    "def tinhgiaithua(n):\n",
    "    giai_thua = 1\n",
    "    if (n == 0 or n == 1):\n",
    "        return giai_thua\n",
    "    else:\n",
    "        for i in range(2, n + 1):\n",
    "            giai_thua = giai_thua * i\n",
    "        return giai_thua\n",
    "print(\"Giai thừa của\", n, \"là\", tinhgiaithua(8))"
   ]
  },
  {
   "cell_type": "code",
   "execution_count": null,
   "id": "worldwide-workshop",
   "metadata": {},
   "outputs": [],
   "source": [
    "# T\n",
    "n = 5\n",
    "assert factorial(n) == 120, \"Wrong answer, please calculate again\""
   ]
  },
  {
   "cell_type": "markdown",
   "id": "listed-translation",
   "metadata": {},
   "source": [
    "# Bài 2.\n",
    "Viết chương trình tính tổng các chữ số của một số nguyên n trong Python. Số nguyên dương n được nhập từ bàn phím. Số 1234 có tổng các chữ số là `1 + 2 + 3 + 4 = 10` "
   ]
  },
  {
   "cell_type": "code",
   "execution_count": 50,
   "id": "smaller-gentleman",
   "metadata": {},
   "outputs": [
    {
     "name": "stdout",
     "output_type": "stream",
     "text": [
      "Tổng các chữ số của 1234  là 10\n"
     ]
    }
   ],
   "source": [
    "n = 1234\n",
    "def sum_all(n):\n",
    "    S = 0\n",
    "    while (n > 0):\n",
    "        S = S+ n % 10\n",
    "        n = int(n / 10)\n",
    "    return S\n",
    "print(\"Tổng các chữ số của\", n, \" là\", sum_all(n))"
   ]
  },
  {
   "cell_type": "code",
   "execution_count": null,
   "id": "official-intake",
   "metadata": {},
   "outputs": [],
   "source": [
    "# Testing\n",
    "number = 34103\n",
    "assert sum_all(number) == 11, \"Wrong answer, please calculate again\""
   ]
  },
  {
   "cell_type": "markdown",
   "id": "circular-circulation",
   "metadata": {},
   "source": [
    "# Bài 3."
   ]
  },
  {
   "cell_type": "markdown",
   "id": "distinct-douglas",
   "metadata": {},
   "source": [
    "Tìm giá trị lớn nhất của 1 list hoặc 1 tuple nhập vào."
   ]
  },
  {
   "cell_type": "code",
   "execution_count": 5,
   "id": "native-baseball",
   "metadata": {},
   "outputs": [
    {
     "name": "stdout",
     "output_type": "stream",
     "text": [
      "Số lớn nhất là  10\n"
     ]
    }
   ],
   "source": [
    "li=[1, 2, 6, 8, 10]\n",
    "max = li[0]\n",
    "for i in li:\n",
    "    if max < i:\n",
    "         max = i\n",
    "print(\"Số lớn nhất là \", max)"
   ]
  },
  {
   "cell_type": "code",
   "execution_count": null,
   "id": "sophisticated-anthony",
   "metadata": {},
   "outputs": [],
   "source": [
    "# Testing\n",
    "number = [1, 2, 6, 8, 10]\n",
    "assert maximum(number) == 10, \"Wrong anwer, please calculate again\""
   ]
  },
  {
   "cell_type": "markdown",
   "id": "nasty-hampton",
   "metadata": {},
   "source": [
    "# Bài 4."
   ]
  },
  {
   "cell_type": "markdown",
   "id": "present-happening",
   "metadata": {},
   "source": [
    "Tìm giá trị lớn thứ nhì trong một list hoặc một tuple nhập vào.\n"
   ]
  },
  {
   "cell_type": "code",
   "execution_count": 8,
   "id": "enabling-neighbor",
   "metadata": {},
   "outputs": [
    {
     "name": "stdout",
     "output_type": "stream",
     "text": [
      "Số lớn thứ hai là  8\n"
     ]
    }
   ],
   "source": [
    "li=[1, 2, 6, 8, 10]\n",
    "max = li[0]\n",
    "for i in li:\n",
    "    if max < i:\n",
    "         max = i\n",
    "\n",
    "max2 = li[0]\n",
    "for i in li:\n",
    "    if (max2 < i) and (i < max):\n",
    "        max2 = i\n",
    "print(\"Số lớn thứ hai là \", max2)\n"
   ]
  },
  {
   "cell_type": "code",
   "execution_count": null,
   "id": "blessed-playback",
   "metadata": {},
   "outputs": [],
   "source": [
    "# Testing 5\n",
    "number = [1, 2, 3, 8, 10]\n",
    "assert second_maximum(number) == 8, \"Wrong answer, please calculate again\""
   ]
  },
  {
   "cell_type": "markdown",
   "id": "royal-patrol",
   "metadata": {},
   "source": [
    "## Bài 5."
   ]
  },
  {
   "cell_type": "markdown",
   "id": "adjusted-timeline",
   "metadata": {},
   "source": [
    "Định nghĩa một hàm có input là 2 chuỗi và trả về chuỗi có độ dài lớn hơn. Nếu 2 chuỗi có chiều dài như nhau thì trả tất cả các chuỗi dưới dạng tuple."
   ]
  },
  {
   "cell_type": "code",
   "execution_count": 72,
   "id": "nonprofit-improvement",
   "metadata": {},
   "outputs": [
    {
     "name": "stdout",
     "output_type": "stream",
     "text": [
      "My University\n",
      "My name is\n",
      "My name ar\n"
     ]
    }
   ],
   "source": [
    "def printValue(s1,s2): \n",
    "    len1 = len(s1) \n",
    "    len2 = len(s2)\n",
    "    if len1>len2:\n",
    "        print (s1)\n",
    "    elif len2>len1:\n",
    "        print (s2)\n",
    "    else:\n",
    "        print(s1)\n",
    "        print (s2) \n",
    "# Test 1\n",
    "printValue(\"My name is\",\"My University\")\n",
    "# Test 2\n",
    "printValue(\"My name is\",\"My name ar\")"
   ]
  },
  {
   "cell_type": "code",
   "execution_count": null,
   "id": "thrown-mandate",
   "metadata": {},
   "outputs": [],
   "source": [
    "# Test 1\n",
    "Str_1 = \"My name is\"\n",
    "Str_2 = \"My University\"\n",
    "assert len(greater(Str_1, Str_2)) == len(Str_2), \"Wrong answer, please code again\"\n",
    "# Test 2\n",
    "Str_1 = \"My name is\"\n",
    "Str_2 = \"My name ar\"\n",
    "assert greater(Str_1, Str_2) == (Str_1, Str_2), \"Wrong answer, please code again\"\n"
   ]
  },
  {
   "cell_type": "markdown",
   "id": "mighty-secretary",
   "metadata": {},
   "source": [
    "## Bài 6."
   ]
  },
  {
   "cell_type": "markdown",
   "id": "obvious-sauce",
   "metadata": {},
   "source": [
    "Loại bỏ các giá trị trùng từ chuỗi nhập vào, nhưng vẫn giữ thứ tự.\n",
    "\n",
    "Ví dụ: aaabbbbcccddd1111 --> abcd1"
   ]
  },
  {
   "cell_type": "code",
   "execution_count": 26,
   "id": "nervous-looking",
   "metadata": {},
   "outputs": [],
   "source": [
    "def remove_duplicated(Str_1):\n",
    "    # Your code here\n",
    "    return"
   ]
  },
  {
   "cell_type": "code",
   "execution_count": 85,
   "id": "sharing-somewhere",
   "metadata": {},
   "outputs": [
    {
     "name": "stdout",
     "output_type": "stream",
     "text": [
      "abcd1\n"
     ]
    }
   ],
   "source": [
    "str1 = 'aaabbbbcccdd11'\n",
    "str = list( dict.fromkeys(str) )\n",
    "print(''.join(str))\n"
   ]
  },
  {
   "cell_type": "code",
   "execution_count": null,
   "id": "involved-defendant",
   "metadata": {},
   "outputs": [],
   "source": [
    "# Testing\n",
    "Str_1 = \"cccccddddeeefff22\"\n",
    "assert remove_duplicated(Str_1) == \"cdef2\""
   ]
  },
  {
   "cell_type": "markdown",
   "id": "original-kidney",
   "metadata": {},
   "source": [
    "## Bài 7."
   ]
  },
  {
   "cell_type": "markdown",
   "id": "visible-investor",
   "metadata": {},
   "source": [
    "Viết một chương trình có 2 chữ số X, Y nhận giá trị đầu vào và tạo ra một mảng 2 chiều. Giá trị phần tử trong hàng thứ i và cột thứ j của mảng phải là i*j\n",
    "- i= 0,1,2,3.....,X-1\n",
    "- j= 0,1,2,3.....,Y-1"
   ]
  },
  {
   "cell_type": "code",
   "execution_count": 29,
   "id": "sought-cookbook",
   "metadata": {},
   "outputs": [],
   "source": [
    "def create_2D_array(X,Y):\n",
    "    # Your code here\n",
    "    return"
   ]
  },
  {
   "cell_type": "code",
   "execution_count": 78,
   "id": "dense-michigan",
   "metadata": {},
   "outputs": [
    {
     "name": "stdout",
     "output_type": "stream",
     "text": [
      "create_2D_array(5, 5) ==  [[0, 0, 0, 0, 0], [0, 1, 2, 3, 4], [0, 2, 4, 6, 8], [0, 3, 6, 9, 12], [0, 4, 8, 12, 16]]\n"
     ]
    }
   ],
   "source": [
    "(X, Y) = (5, 5)\n",
    "tr =[int(x) for x in input_str.split(',')]\n",
    "rowNum=tr[0]\n",
    "colNum=tr[1]\n",
    "trinhtrinh = [[0 for col in range(colNum)] for row in range(rowNum)]\n",
    "for row in range(rowNum):\n",
    "    for col in range(colNum):\n",
    "        trinhtrinh[row][col]= row*col\n",
    "print (\"create_2D_array(5, 5) == \", trinhtrinh)"
   ]
  },
  {
   "cell_type": "code",
   "execution_count": null,
   "id": "different-scenario",
   "metadata": {},
   "outputs": [],
   "source": [
    "assert create_2D_array(5, 5) == [[0, 0, 0, 0, 0], [0, 1, 2, 3, 4], [0, 2, 4, 6, 8], [0, 3, 6, 9, 12], [0, 4, 8, 12, 20]]"
   ]
  },
  {
   "cell_type": "markdown",
   "id": "cognitive-hawaiian",
   "metadata": {},
   "source": [
    "## Bài 8.\n",
    "Viết chương trình để xuất một số ngẫu nhiên, chia hết cho 5 và 7, từ 0 đến 200 (gồm cả 0 và 200), sử dụng module random và list comprehension."
   ]
  },
  {
   "cell_type": "code",
   "execution_count": 79,
   "id": "stock-gravity",
   "metadata": {},
   "outputs": [
    {
     "name": "stdout",
     "output_type": "stream",
     "text": [
      "35\n"
     ]
    }
   ],
   "source": [
    "import random\n",
    "print (random.choice([i for i in range(201) if i%5==0 and i%7==0]))"
   ]
  },
  {
   "cell_type": "code",
   "execution_count": null,
   "id": "devoted-absorption",
   "metadata": {},
   "outputs": [],
   "source": [
    "random_seed = 4\n",
    "assert division_5_7(random_seed) == 35, \"Wrong answer, please code again\""
   ]
  }
 ],
 "metadata": {
  "kernelspec": {
   "display_name": "Python 3",
   "language": "python",
   "name": "python3"
  },
  "language_info": {
   "codemirror_mode": {
    "name": "ipython",
    "version": 3
   },
   "file_extension": ".py",
   "mimetype": "text/x-python",
   "name": "python",
   "nbconvert_exporter": "python",
   "pygments_lexer": "ipython3",
   "version": "3.7.10"
  }
 },
 "nbformat": 4,
 "nbformat_minor": 5
}
