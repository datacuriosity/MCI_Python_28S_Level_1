{
 "cells": [
  {
   "cell_type": "markdown",
   "id": "80aff21e-72c5-4c74-8430-e67ca359ffa3",
   "metadata": {},
   "source": [
    "Cells:\n",
    "    - Code\n",
    "    - Markdown\n",
    "\n",
    "Insert new cell aboce: A\n",
    "Insert new cell below: B\n",
    "Cut a cell: X\n",
    "Paste a cell: V\n",
    "Copy a cell: C"
   ]
  },
  {
   "cell_type": "markdown",
   "id": "a1cc6d99-a392-417d-8888-5fe9b6346efa",
   "metadata": {},
   "source": [
    "1+1"
   ]
  }
 ],
 "metadata": {
  "kernelspec": {
   "display_name": "Python 3",
   "language": "python",
   "name": "python3"
  },
  "language_info": {
   "codemirror_mode": {
    "name": "ipython",
    "version": 3
   },
   "file_extension": ".py",
   "mimetype": "text/x-python",
   "name": "python",
   "nbconvert_exporter": "python",
   "pygments_lexer": "ipython3",
   "version": "3.7.10"
  }
 },
 "nbformat": 4,
 "nbformat_minor": 5
}
