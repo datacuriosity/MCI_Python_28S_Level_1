{
 "cells": [
  {
   "cell_type": "markdown",
   "id": "0873419a-995a-48d5-9941-f5d45648fd7a",
   "metadata": {},
   "source": [
    "### Notebook tutorial\n",
    "*Italic*\n",
    "\n",
    "**Bold**\n",
    "<p style =\"color:red\"> I am Cong </p>\n",
    "\n",
    "### 1. Lession\n",
    "- Open github desktop -> Pull Origin\n",
    "1. Open Jupyter lab (cmd at MCI...github directory)\n",
    "2. Conda activate congpt\n",
    "3. Jupyter lab\n",
    "\n",
    "Create virtual environment:\n",
    "\n",
    "Conda create -n congpt python =3.7 numpy pandas seaborn matplotlib scikit-learn jupyterlab\n",
    "\n",
    "# Coding\n",
    "\n",
    "## 1. Operations\n"
   ]
  },
  {
   "cell_type": "markdown",
   "id": "80aff21e-72c5-4c74-8430-e67ca359ffa3",
   "metadata": {},
   "source": [
    "Cells:\n",
    "    - Code\n",
    "    - Markdown\n",
    "\n",
    "Insert new cell aboce: A\n",
    "Insert new cell below: B\n",
    "Cut a cell: X\n",
    "Paste a cell: V\n",
    "Copy a cell: C"
   ]
  },
  {
   "cell_type": "markdown",
   "id": "8b16ebc4-def4-4fd1-aed0-b093dca964a8",
   "metadata": {},
   "source": [
    "![](https://miro.medium.com/max/1436/1*9oHMzUlcyyWRbAIGTIibnQ.png)"
   ]
  },
  {
   "cell_type": "code",
   "execution_count": 7,
   "id": "7ef9cd34-cee1-4b82-a268-c9cf768636df",
   "metadata": {},
   "outputs": [
    {
     "data": {
      "text/plain": [
       "2"
      ]
     },
     "execution_count": 7,
     "metadata": {},
     "output_type": "execute_result"
    }
   ],
   "source": [
    "1+1"
   ]
  },
  {
   "cell_type": "code",
   "execution_count": 8,
   "id": "2e6d3591-28a5-41fa-8ab8-1303c151959c",
   "metadata": {},
   "outputs": [
    {
     "data": {
      "text/plain": [
       "2.6666666666666665"
      ]
     },
     "execution_count": 8,
     "metadata": {},
     "output_type": "execute_result"
    }
   ],
   "source": [
    "8/3"
   ]
  },
  {
   "cell_type": "code",
   "execution_count": 12,
   "id": "02a77d30-fa3b-4fce-89b0-2d76a0e2fa34",
   "metadata": {},
   "outputs": [
    {
     "data": {
      "text/plain": [
       "1"
      ]
     },
     "execution_count": 12,
     "metadata": {},
     "output_type": "execute_result"
    }
   ],
   "source": [
    "# Modulus: Chia phan nguyen lay du\n",
    "10%3"
   ]
  },
  {
   "cell_type": "code",
   "execution_count": 15,
   "id": "ce4de817-911f-49b3-a8cd-fe187f1401d3",
   "metadata": {},
   "outputs": [
    {
     "data": {
      "text/plain": [
       "3"
      ]
     },
     "execution_count": 15,
     "metadata": {},
     "output_type": "execute_result"
    }
   ],
   "source": [
    "# Floor Division: Chia lay phan nguyen\n",
    "10//3"
   ]
  },
  {
   "cell_type": "code",
   "execution_count": 16,
   "id": "56ff4af8-bc12-497e-b568-fe3c4b214c5b",
   "metadata": {},
   "outputs": [
    {
     "data": {
      "text/plain": [
       "64"
      ]
     },
     "execution_count": 16,
     "metadata": {},
     "output_type": "execute_result"
    }
   ],
   "source": [
    "4**3"
   ]
  },
  {
   "cell_type": "code",
   "execution_count": 17,
   "id": "8fa25a21-d335-4c00-8d3e-dca530471e5d",
   "metadata": {},
   "outputs": [
    {
     "data": {
      "text/plain": [
       "4"
      ]
     },
     "execution_count": 17,
     "metadata": {},
     "output_type": "execute_result"
    }
   ],
   "source": [
    "abs(-4)"
   ]
  },
  {
   "cell_type": "code",
   "execution_count": 20,
   "id": "76f2c99b-8eba-4c7f-92b4-4417cdc3175a",
   "metadata": {},
   "outputs": [
    {
     "data": {
      "text/plain": [
       "4.0"
      ]
     },
     "execution_count": 20,
     "metadata": {},
     "output_type": "execute_result"
    }
   ],
   "source": [
    "16**0.5"
   ]
  },
  {
   "cell_type": "code",
   "execution_count": 25,
   "id": "5adb3328-aa4d-4323-8f2e-8a7fcf0ae9b6",
   "metadata": {},
   "outputs": [
    {
     "data": {
      "text/plain": [
       "1.67"
      ]
     },
     "execution_count": 25,
     "metadata": {},
     "output_type": "execute_result"
    }
   ],
   "source": [
    "round(10/6, 2)"
   ]
  },
  {
   "cell_type": "code",
   "execution_count": 26,
   "id": "be1e36f2-61a4-443d-b1ac-2e7dfd8c5f6e",
   "metadata": {},
   "outputs": [],
   "source": [
    "import math"
   ]
  },
  {
   "cell_type": "markdown",
   "id": "8efa62c5-83b4-4f19-95f8-51e49bbd481c",
   "metadata": {},
   "source": [
    "# 2. Datatypes and data structures\n",
    "\n",
    "Programming = data structures + Algorithms\n",
    "- Data structures: What is this?\n",
    "- Algorithms: What should i do"
   ]
  },
  {
   "cell_type": "raw",
   "id": "24799cb0-f4da-46ac-a3a2-9ea2b3b30b32",
   "metadata": {},
   "source": []
  }
 ],
 "metadata": {
  "kernelspec": {
   "display_name": "Python 3",
   "language": "python",
   "name": "python3"
  },
  "language_info": {
   "codemirror_mode": {
    "name": "ipython",
    "version": 3
   },
   "file_extension": ".py",
   "mimetype": "text/x-python",
   "name": "python",
   "nbconvert_exporter": "python",
   "pygments_lexer": "ipython3",
   "version": "3.7.10"
  }
 },
 "nbformat": 4,
 "nbformat_minor": 5
}
