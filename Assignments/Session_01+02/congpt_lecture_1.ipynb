{
 "cells": [
  {
   "cell_type": "markdown",
   "id": "0873419a-995a-48d5-9941-f5d45648fd7a",
   "metadata": {},
   "source": [
    "### Notebook tutorial\n",
    "*Italic*\n",
    "\n",
    "**Bold**\n",
    "<p style =\"color:red\"> I am Cong </p>\n",
    "\n",
    "### 1. Lession\n",
    "- Open github desktop -> Pull Origin\n",
    "1. Open Jupyter lab (cmd at MCI...github directory)\n",
    "2. Conda activate congpt\n",
    "3. Jupyter lab\n",
    "\n",
    "Create virtual environment:\n",
    "\n",
    "Conda create -n congpt python =3.7 numpy pandas seaborn matplotlib scikit-learn jupyterlab\n",
    "Cells:\n",
    "- Code\n",
    "- Markdown\n",
    "\n",
    "Insert new cell aboce: A\n",
    "\n",
    "Insert new cell below: B\n",
    "\n",
    "Cut a cell: X\n",
    "\n",
    "Paste a cell: V\n",
    "\n",
    "Copy a cell: C\n",
    "![](https://miro.medium.com/max/1436/1*9oHMzUlcyyWRbAIGTIibnQ.png)"
   ]
  },
  {
   "cell_type": "markdown",
   "id": "8b16ebc4-def4-4fd1-aed0-b093dca964a8",
   "metadata": {},
   "source": [
    "# Coding\n",
    "\n",
    "# 1. Operations\n",
    "## 1.1 Mathematic operations\n"
   ]
  },
  {
   "cell_type": "code",
   "execution_count": 107,
   "id": "7ef9cd34-cee1-4b82-a268-c9cf768636df",
   "metadata": {},
   "outputs": [
    {
     "data": {
      "text/plain": [
       "2"
      ]
     },
     "execution_count": 107,
     "metadata": {},
     "output_type": "execute_result"
    }
   ],
   "source": [
    "1+1"
   ]
  },
  {
   "cell_type": "code",
   "execution_count": 108,
   "id": "2e6d3591-28a5-41fa-8ab8-1303c151959c",
   "metadata": {},
   "outputs": [
    {
     "data": {
      "text/plain": [
       "2.6666666666666665"
      ]
     },
     "execution_count": 108,
     "metadata": {},
     "output_type": "execute_result"
    }
   ],
   "source": [
    "8/3"
   ]
  },
  {
   "cell_type": "code",
   "execution_count": 109,
   "id": "02a77d30-fa3b-4fce-89b0-2d76a0e2fa34",
   "metadata": {},
   "outputs": [
    {
     "data": {
      "text/plain": [
       "1"
      ]
     },
     "execution_count": 109,
     "metadata": {},
     "output_type": "execute_result"
    }
   ],
   "source": [
    "# Modulus: Chia phan nguyen lay du\n",
    "10%3"
   ]
  },
  {
   "cell_type": "code",
   "execution_count": 110,
   "id": "ce4de817-911f-49b3-a8cd-fe187f1401d3",
   "metadata": {},
   "outputs": [
    {
     "data": {
      "text/plain": [
       "3"
      ]
     },
     "execution_count": 110,
     "metadata": {},
     "output_type": "execute_result"
    }
   ],
   "source": [
    "# Floor Division: Chia lay phan nguyen\n",
    "10//3"
   ]
  },
  {
   "cell_type": "code",
   "execution_count": 111,
   "id": "56ff4af8-bc12-497e-b568-fe3c4b214c5b",
   "metadata": {},
   "outputs": [
    {
     "data": {
      "text/plain": [
       "64"
      ]
     },
     "execution_count": 111,
     "metadata": {},
     "output_type": "execute_result"
    }
   ],
   "source": [
    "4**3"
   ]
  },
  {
   "cell_type": "code",
   "execution_count": 112,
   "id": "8fa25a21-d335-4c00-8d3e-dca530471e5d",
   "metadata": {},
   "outputs": [
    {
     "data": {
      "text/plain": [
       "4"
      ]
     },
     "execution_count": 112,
     "metadata": {},
     "output_type": "execute_result"
    }
   ],
   "source": [
    "abs(-4)"
   ]
  },
  {
   "cell_type": "markdown",
   "id": "5472d908-c1ec-48f9-ba8b-b3fe60136fdc",
   "metadata": {},
   "source": [
    "16**0.5"
   ]
  },
  {
   "cell_type": "code",
   "execution_count": 114,
   "id": "5adb3328-aa4d-4323-8f2e-8a7fcf0ae9b6",
   "metadata": {},
   "outputs": [
    {
     "data": {
      "text/plain": [
       "1.67"
      ]
     },
     "execution_count": 114,
     "metadata": {},
     "output_type": "execute_result"
    }
   ],
   "source": [
    "round(10/6, 2)"
   ]
  },
  {
   "cell_type": "code",
   "execution_count": 115,
   "id": "be1e36f2-61a4-443d-b1ac-2e7dfd8c5f6e",
   "metadata": {},
   "outputs": [],
   "source": [
    "import math"
   ]
  },
  {
   "cell_type": "markdown",
   "id": "2a7bbeeb-b463-437c-bb90-911591cd1547",
   "metadata": {},
   "source": [
    "## 1.2 Mathematic Operations\n",
    "\n",
    "- AND: True if all true\n",
    "- OR: True if at least one true\n",
    "- NOT: True --> False and vice cersa\n",
    "- XOR: Same values --> False, else True"
   ]
  },
  {
   "cell_type": "code",
   "execution_count": 121,
   "id": "f8ef8694-2ad8-403a-8f1e-1f5a634e9c05",
   "metadata": {},
   "outputs": [
    {
     "data": {
      "text/plain": [
       "True"
      ]
     },
     "execution_count": 121,
     "metadata": {},
     "output_type": "execute_result"
    }
   ],
   "source": [
    "True and False or False or not False"
   ]
  },
  {
   "cell_type": "markdown",
   "id": "e4d03f74-a9ed-45a5-8fd2-ee0e8efa2ed5",
   "metadata": {},
   "source": [
    "Object-oriented Programming: teacher\n",
    "- Attributes/ Properties: Thuộc tính --> Static: name, Identity, age,..\n",
    "- Methods/ Functions: Phương thức/Hàm số --> Action, dynamic: teaching, speak,..."
   ]
  },
  {
   "cell_type": "markdown",
   "id": "8efa62c5-83b4-4f19-95f8-51e49bbd481c",
   "metadata": {},
   "source": [
    "# 2. Datatypes and data structures\n",
    "\n",
    "Programming = data structures + Algorithms\n",
    "- Data structures: What is this?\n",
    "- Algorithms: What should i do\n",
    "\n",
    "## 2.1 Datatypes\n",
    "\n",
    "- Numberics: integer, float\n",
    "- String: text, char\n",
    "- Boolean: True/False\n",
    "- Datetime\n",
    "- Complex: 1+2j\n",
    "- Nonetype: "
   ]
  },
  {
   "cell_type": "code",
   "execution_count": 116,
   "id": "00ce7eb1-fe28-47a8-83ce-98a59eb46046",
   "metadata": {},
   "outputs": [
    {
     "data": {
      "text/plain": [
       "str"
      ]
     },
     "execution_count": 116,
     "metadata": {},
     "output_type": "execute_result"
    }
   ],
   "source": [
    "# no distinction between ' and '' in SQL\n",
    "type(\"\")"
   ]
  },
  {
   "cell_type": "code",
   "execution_count": 117,
   "id": "d8a75907-b140-4784-84e3-e5609ff1d2c2",
   "metadata": {},
   "outputs": [
    {
     "data": {
      "text/plain": [
       "bool"
      ]
     },
     "execution_count": 117,
     "metadata": {},
     "output_type": "execute_result"
    }
   ],
   "source": [
    "type(False)"
   ]
  },
  {
   "cell_type": "code",
   "execution_count": 118,
   "id": "837272ba-bf6e-4076-b867-3d8bc36f62e3",
   "metadata": {},
   "outputs": [
    {
     "ename": "SyntaxError",
     "evalue": "invalid syntax (<ipython-input-118-1a7b56411df7>, line 1)",
     "output_type": "error",
     "traceback": [
      "\u001b[1;36m  File \u001b[1;32m\"<ipython-input-118-1a7b56411df7>\"\u001b[1;36m, line \u001b[1;32m1\u001b[0m\n\u001b[1;33m    Hello world --> translator (compiler) --> 101001010101\u001b[0m\n\u001b[1;37m              ^\u001b[0m\n\u001b[1;31mSyntaxError\u001b[0m\u001b[1;31m:\u001b[0m invalid syntax\n"
     ]
    }
   ],
   "source": [
    "Hello world --> translator (compiler) --> 101001010101"
   ]
  },
  {
   "cell_type": "code",
   "execution_count": null,
   "id": "df1d18fe-15bd-4660-9b30-f8112d1c9802",
   "metadata": {},
   "outputs": [],
   "source": [
    "type(None) #Null differs from empty"
   ]
  },
  {
   "cell_type": "code",
   "execution_count": null,
   "id": "8a8dd406-6d3b-40a5-9216-4dae36f11ae4",
   "metadata": {},
   "outputs": [],
   "source": [
    "type(1+3j) #real + imaginary"
   ]
  },
  {
   "cell_type": "code",
   "execution_count": null,
   "id": "1f35c5b0-75f3-429b-a402-75c1cc841b37",
   "metadata": {},
   "outputs": [],
   "source": [
    "(3j)**2"
   ]
  },
  {
   "cell_type": "code",
   "execution_count": null,
   "id": "eabb247d-b630-43bf-921d-3fdabfd6650b",
   "metadata": {},
   "outputs": [],
   "source": [
    "from datetime import datetime\n",
    "type (datetime.now())"
   ]
  },
  {
   "cell_type": "code",
   "execution_count": null,
   "id": "b6f04458-e9fa-4962-b673-0dc78197c0a2",
   "metadata": {},
   "outputs": [],
   "source": [
    "datetime.now().year"
   ]
  },
  {
   "cell_type": "code",
   "execution_count": null,
   "id": "0f524f45-a2e2-4d10-8f8a-cf96282aa38c",
   "metadata": {},
   "outputs": [],
   "source": [
    "datetime.now().month"
   ]
  },
  {
   "cell_type": "code",
   "execution_count": null,
   "id": "2c36929b-f24b-4b55-b638-c06ac5ac38c6",
   "metadata": {},
   "outputs": [],
   "source": [
    "datetime.strftime(datetime.now(),'%Y-%m-%d %H:%M:s')"
   ]
  },
  {
   "cell_type": "code",
   "execution_count": null,
   "id": "6847dee8-df2a-4cdb-8742-acffe24a746e",
   "metadata": {},
   "outputs": [],
   "source": [
    "from datetime import datetime"
   ]
  },
  {
   "cell_type": "code",
   "execution_count": null,
   "id": "c1cbd8e6-476d-4dae-ab79-59047d6307e0",
   "metadata": {},
   "outputs": [],
   "source": [
    "now = datetime.now()"
   ]
  },
  {
   "cell_type": "code",
   "execution_count": null,
   "id": "d456563a-f937-49c0-98ec-2838d6b823f1",
   "metadata": {},
   "outputs": [],
   "source": [
    "print(\"now =\", now)"
   ]
  },
  {
   "cell_type": "code",
   "execution_count": null,
   "id": "f2e469f1-4b8b-4c60-a0a9-bbe212569363",
   "metadata": {},
   "outputs": [],
   "source": [
    "print(now)"
   ]
  },
  {
   "cell_type": "markdown",
   "id": "78af70d4-7470-456f-bdba-b442bf8609a2",
   "metadata": {},
   "source": [
    "### 2.2. Data structure\n",
    "\n",
    "- List: [], list(), index\n",
    "- Tuple: (), tuple(), index\n",
    "- Set: {}, set(), non-index, no-duplicated values\n",
    "- Dictionary: {key:value}, no-duplicated keys\n",
    "\n",
    "### 2.2.1. List\n",
    "- Mix data types\n",
    "- Index --> ordered\n",
    "- **Variable**: \n",
    "-- reusable\n",
    "-- a name contains values and assigned memory address\n",
    "-- No Capital --> lower case\n",
    "-- Meaning\n",
    "-- Meaning words: '_'"
   ]
  },
  {
   "cell_type": "code",
   "execution_count": null,
   "id": "36314966-ff1b-4a9d-badf-75b0883ce380",
   "metadata": {},
   "outputs": [],
   "source": [
    "Li = [1,2,3,4,'Cong','Nam', True, 1+2j]"
   ]
  },
  {
   "cell_type": "code",
   "execution_count": null,
   "id": "9abafa50-74d7-432d-90b2-f9b0a51dcb94",
   "metadata": {},
   "outputs": [],
   "source": [
    "id(Li)"
   ]
  },
  {
   "cell_type": "code",
   "execution_count": null,
   "id": "18a57379-f40d-4a6e-a24c-d401fce8b200",
   "metadata": {},
   "outputs": [],
   "source": [
    "#vòng lặp để tìm các method của Variable Li ở bên trên mà không bắt đầu = '_'\n",
    "[method for method in dir(Li) if not method.startswith('_')] \n"
   ]
  },
  {
   "cell_type": "code",
   "execution_count": null,
   "id": "12ee2c63-96b5-43f9-a4a5-6b14aebba806",
   "metadata": {},
   "outputs": [],
   "source": []
  },
  {
   "cell_type": "code",
   "execution_count": null,
   "id": "785a21f5-df4e-4a8f-b413-57d210af16e8",
   "metadata": {},
   "outputs": [],
   "source": []
  },
  {
   "cell_type": "code",
   "execution_count": null,
   "id": "73ed6554-f0ed-40c6-a300-f7d364f1280b",
   "metadata": {},
   "outputs": [],
   "source": []
  }
 ],
 "metadata": {
  "kernelspec": {
   "display_name": "Python 3",
   "language": "python",
   "name": "python3"
  },
  "language_info": {
   "codemirror_mode": {
    "name": "ipython",
    "version": 3
   },
   "file_extension": ".py",
   "mimetype": "text/x-python",
   "name": "python",
   "nbconvert_exporter": "python",
   "pygments_lexer": "ipython3",
   "version": "3.7.10"
  }
 },
 "nbformat": 4,
 "nbformat_minor": 5
}
