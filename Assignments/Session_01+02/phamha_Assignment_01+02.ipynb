{
 "cells": [
  {
   "cell_type": "markdown",
   "metadata": {},
   "source": [
    "## Bài 1.\n",
    "\n",
    "Viết một chương trình tính giai thừa của một số nguyên dương n. Với n được nhập từ bàn phím. Ví dụ, n = 8 thì kết quả đầu ra phải là `1*2*3*4*5*6*7*8` = 40320."
   ]
  },
  {
   "cell_type": "code",
   "execution_count": 9,
   "metadata": {},
   "outputs": [
    {
     "name": "stdout",
     "output_type": "stream",
     "text": [
      "Nhập số cần tính giai thừa: 121\n",
      "121 != 809429852527344373968162284544935082997082306309701607045776233628497660426640521713391773997910182738287074185078904956856663439318382745047716214841147650721760223072092160000000000000000000000000000\n"
     ]
    }
   ],
   "source": [
    "n = int(input(\"Nhập số cần tính giai thừa: \"))\n",
    " \n",
    "def factorial(n):\n",
    "    if n == 0:\n",
    "        return 1\n",
    "    return n * factorial(n - 1)\n",
    " \n",
    "print (n,'!=',factorial(n))"
   ]
  },
  {
   "cell_type": "code",
   "execution_count": 36,
   "metadata": {},
   "outputs": [
    {
     "name": "stdout",
     "output_type": "stream",
     "text": [
      "5 != 120\n"
     ]
    }
   ],
   "source": [
    "# Testing\n",
    "n = 5\n",
    "def factorial(n):\n",
    "    if n == 0:\n",
    "        return 1\n",
    "    return n * factorial(n - 1)\n",
    " \n",
    "print (n,'!=',factorial(n))\n",
    "assert factorial(n) == 120, \"Wrong answer, please calculate again\""
   ]
  },
  {
   "cell_type": "markdown",
   "metadata": {},
   "source": [
    "## Bài 2.\n",
    "\n",
    "Viết chương trình tính tổng của các chữ số của môt số nguyên n trong Python. Số nguyên dương n được nhập từ bàn phím. Với n = 1234, tổng các chữ số: 1 + 2 + 3 + 4 = 10"
   ]
  },
  {
   "cell_type": "code",
   "execution_count": 36,
   "metadata": {},
   "outputs": [
    {
     "name": "stdout",
     "output_type": "stream",
     "text": [
      "Nhập số nguyên dương bất kỳ: 34103\n",
      "Tổng các chữ số của số  34103  là:  11\n"
     ]
    }
   ],
   "source": [
    "n = int(input(\"Nhập số nguyên dương bất kỳ: \"))\n",
    "def sum_all(number):\n",
    "    i=0\n",
    "    while number>0:\n",
    "        i+=number%10\n",
    "        number=number//10\n",
    "    return i\n",
    "print('Tổng các chữ số của số ',n,' là: ',sum_all(n))"
   ]
  },
  {
   "cell_type": "code",
   "execution_count": 38,
   "metadata": {},
   "outputs": [
    {
     "name": "stdout",
     "output_type": "stream",
     "text": [
      "Tổng các chữ số của số  34103  là:  5\n"
     ]
    }
   ],
   "source": [
    "# Testing\n",
    "number = 34103\n",
    "def sum_all(number):\n",
    "    i=0\n",
    "    while number>0:\n",
    "        i+=number%10\n",
    "        number=number//10\n",
    "    return i\n",
    "print('Tổng các chữ số của số ',number,' là: ',sum_all(n))\n",
    "assert sum_all(number) == 11, \"Wrong answer, please calculate again\""
   ]
  },
  {
   "cell_type": "markdown",
   "metadata": {},
   "source": [
    "## Bài 3.\n",
    "\n",
    "Tìm giá trị lớn nhất của một list hoặc tuple nhập vào"
   ]
  },
  {
   "cell_type": "code",
   "execution_count": 2,
   "metadata": {},
   "outputs": [
    {
     "name": "stdout",
     "output_type": "stream",
     "text": [
      "list/tuple có mấy phần tử?5\n",
      "nhap gia tri:34\n",
      "nhap gia tri:65\n",
      "nhap gia tri:87\n",
      "nhap gia tri:23\n",
      "nhap gia tri:14\n",
      "[34, 65, 87, 23, 14]\n",
      "Phan tu có gia tri lon nhat: 87\n"
     ]
    }
   ],
   "source": [
    "def maximum(li):\n",
    "    return max(li)\n",
    "n=int(input('list/tuple có mấy phần tử?'))\n",
    "li=[]\n",
    "for i in range(0,n):\n",
    "    li.append(int(input('nhap gia tri:')))\n",
    "print(li)\n",
    "print('Phan tu có gia tri lon nhat:',maximum(li))\n",
    "    "
   ]
  },
  {
   "cell_type": "code",
   "execution_count": 1,
   "metadata": {},
   "outputs": [
    {
     "name": "stdout",
     "output_type": "stream",
     "text": [
      "[1, 2, 6, 8, 10]\n",
      "Phan tu có gia tri lon nhat: 10\n"
     ]
    }
   ],
   "source": [
    "# Testing\n",
    "def maximum(li):\n",
    "    return max(li)\n",
    "li = [1, 2, 6, 8, 10]\n",
    "print(li)\n",
    "print('Phan tu có gia tri lon nhat:',maximum(li))\n",
    "assert maximum(li) == 10, \"Wrong answer, please calculate again\"\n"
   ]
  },
  {
   "cell_type": "markdown",
   "metadata": {},
   "source": [
    "## Bài 4.\n",
    "\n",
    "Tìm giá trị lớn thứ nhì từ một list hoặc tuple nhập vào"
   ]
  },
  {
   "cell_type": "code",
   "execution_count": 18,
   "metadata": {},
   "outputs": [
    {
     "name": "stdout",
     "output_type": "stream",
     "text": [
      "so phan tu trong list?4\n",
      "Nhap gia tri phan tu?23\n",
      "Nhap gia tri phan tu?65\n",
      "Nhap gia tri phan tu?74\n",
      "Nhap gia tri phan tu?56\n",
      "[23, 65, 74, 56]\n",
      "Phan tu lon thu 2 trong list 65\n"
     ]
    }
   ],
   "source": [
    "def second_maximum(li):\n",
    "    li1=li.copy()\n",
    "    li1.remove(max(li1))\n",
    "    return max(li1)\n",
    "n=int(input('so phan tu trong list?'))\n",
    "li=[]\n",
    "for i in range(0,n):\n",
    "    li.append(int(input('Nhap gia tri phan tu?')))\n",
    "print(li)\n",
    "print('Phan tu lon thu 2 trong list',second_maximum(li))"
   ]
  },
  {
   "cell_type": "code",
   "execution_count": 19,
   "metadata": {},
   "outputs": [
    {
     "name": "stdout",
     "output_type": "stream",
     "text": [
      "[1, 2, 6, 8, 10]\n",
      "Phan tu lon thu 2 trong list 8\n"
     ]
    }
   ],
   "source": [
    "# Testing\n",
    "def second_maximum(li):\n",
    "    li1=li.copy()\n",
    "    li1.remove(max(li1))\n",
    "    return max(li1)\n",
    "li = [1, 2, 6, 8, 10]\n",
    "print(li)\n",
    "print('Phan tu lon thu 2 trong list',second_maximum(li))\n",
    "assert second_maximum(li) == 8, \"Wrong answer, please calculate again\""
   ]
  },
  {
   "cell_type": "markdown",
   "metadata": {},
   "source": [
    "## Bài 5.\n",
    "\n",
    "Định nghĩa một hàm có input là 2 chuỗi và trả về chuỗi có độ dài lớn hơn. Nếu 2 chuỗi có chiều dài như nhau thì trả tất cả các chuỗi dưới dạng tuple"
   ]
  },
  {
   "cell_type": "code",
   "execution_count": 33,
   "metadata": {},
   "outputs": [
    {
     "name": "stdout",
     "output_type": "stream",
     "text": [
      "nhập chuỗi 1:le mai\n",
      "nhập chuỗi 2:ca tha\n",
      "('le mai', 'ca tha')\n"
     ]
    }
   ],
   "source": [
    "def greater_string(str_1, str_2):\n",
    "    if len(str_1)>len(str_2):\n",
    "        return str_1\n",
    "    elif len(str_1)<len(str_2):\n",
    "        return str_2\n",
    "    else:\n",
    "        tu=(str_1,)+(str_2,)\n",
    "        return tu\n",
    "str_1=input('nhập chuỗi 1:')\n",
    "str_2=input('nhập chuỗi 2:')\n",
    "print(greater_string(str_1, str_2))"
   ]
  },
  {
   "cell_type": "code",
   "execution_count": 34,
   "metadata": {},
   "outputs": [
    {
     "name": "stdout",
     "output_type": "stream",
     "text": [
      "test1: My university\n",
      "test2: ('My name is', 'My name ar')\n"
     ]
    }
   ],
   "source": [
    "# Test 1\n",
    "str_1 = \"My name is\"\n",
    "str_2 = \"My university\"\n",
    "def greater_string(str_1, str_2):\n",
    "    if len(str_1)>len(str_2):\n",
    "        return str_1\n",
    "    elif len(str_1)<len(str_2):\n",
    "        return str_2\n",
    "    else:\n",
    "        tu=(str_1,)+(str_2,)\n",
    "        return tu\n",
    "print('test1:',greater_string(str_1, str_2))\n",
    "assert len(greater_string(str_1, str_2)) == len(str_2), \"Wrong answer, please code again\"\n",
    "\n",
    "\n",
    "#Test 2\n",
    "\n",
    "str_1 = \"My name is\"\n",
    "str_2 = \"My name ar\"\n",
    "def greater_string(str_1, str_2):\n",
    "    if len(str_1)>len(str_2):\n",
    "        return str_1\n",
    "    elif len(str_1)<len(str_2):\n",
    "        return str_2\n",
    "    else:\n",
    "        tu=(str_1,)+(str_2,)\n",
    "        return tu\n",
    "print('test2:',greater_string(str_1, str_2))\n",
    "assert greater_string(str_1, str_2) == (str_1, str_2), \"Wrong answer, please code again\""
   ]
  },
  {
   "cell_type": "markdown",
   "metadata": {},
   "source": [
    "## Bài 6.\n",
    "\n",
    "Loại bỏ các giá trị trùng từ chuỗi nhập vào, nhưng vẫn giữ thứ tự.\n",
    "\n",
    "Ví dụ: aaabbbbcccddd1111 --> abcd1"
   ]
  },
  {
   "cell_type": "code",
   "execution_count": 39,
   "metadata": {},
   "outputs": [
    {
     "name": "stdout",
     "output_type": "stream",
     "text": [
      "nhập chuỗi:aaaaaaannnn1111166666\n",
      "an16\n"
     ]
    }
   ],
   "source": [
    "def remove_duplicated(str_1):\n",
    "    str_2=str_1[0]\n",
    "    for char in str_1[1:]:\n",
    "        if char != str_2[-1]:\n",
    "            str_2+=char\n",
    "    return str_2\n",
    "c=input('nhập chuỗi:')\n",
    "print(remove_duplicated(c))"
   ]
  },
  {
   "cell_type": "code",
   "execution_count": 40,
   "metadata": {},
   "outputs": [
    {
     "name": "stdout",
     "output_type": "stream",
     "text": [
      "cdef2\n"
     ]
    }
   ],
   "source": [
    "# Testing\n",
    "str_1 = \"cccccddddeeeeffff22222\"\n",
    "def remove_duplicated(str_1):\n",
    "    str_2=str_1[0]\n",
    "    for char in str_1[1:]:\n",
    "        if char != str_2[-1]:\n",
    "            str_2+=char\n",
    "    return str_2\n",
    "print(remove_duplicated(str_1))\n",
    "assert remove_duplicated(str_1) == \"cdef2\""
   ]
  },
  {
   "cell_type": "markdown",
   "metadata": {},
   "source": [
    "## Bài 7. \n",
    "Viết một chương trình có 2 chữ số X, Y nhận giá trị đầu vào và tạo ra một mảng 2 chiều. Giá trị phần tử trong hàng thứ i và cột thứ j của mảng phải là `i*j`\n",
    "\n",
    "Lưu ý: \n",
    "- i = 0, 1, 2, ..., X-1\n",
    "- j = 0, 1, 2, ..., Y-1      "
   ]
  },
  {
   "cell_type": "code",
   "execution_count": 6,
   "metadata": {
    "jupyter": {
     "outputs_hidden": false
    },
    "pycharm": {
     "name": "#%%\n"
    }
   },
   "outputs": [
    {
     "name": "stdout",
     "output_type": "stream",
     "text": [
      "x=5\n",
      "y=6\n",
      "[[0, 0, 0, 0, 0, 0], [0, 1, 2, 3, 4, 5], [0, 2, 4, 6, 8, 10], [0, 3, 6, 9, 12, 15], [0, 4, 8, 12, 16, 20]]\n"
     ]
    }
   ],
   "source": [
    "def create_2D_array(X, Y):\n",
    "    arrayx=[]\n",
    "    for i in range(0,x):\n",
    "        arrayy=[]\n",
    "        for j in range(0,y):\n",
    "            arrayy.append(i*j)\n",
    "        arrayx.append(arrayy)\n",
    "    return arrayx\n",
    "x=int(input('x='))\n",
    "y=int(input('y='))\n",
    "print(create_2D_array(x,y))\n",
    "\n"
   ]
  },
  {
   "cell_type": "code",
   "execution_count": 12,
   "metadata": {
    "jupyter": {
     "outputs_hidden": false
    },
    "pycharm": {
     "name": "#%%\n"
    }
   },
   "outputs": [
    {
     "name": "stdout",
     "output_type": "stream",
     "text": [
      "[[0, 0, 0, 0, 0], [0, 1, 2, 3, 4], [0, 2, 4, 6, 8], [0, 3, 6, 9, 12], [0, 4, 8, 12, 16]]\n"
     ]
    }
   ],
   "source": [
    "def create_2D_array(X, Y):\n",
    "    arrayx=[]\n",
    "    for i in range(0,x):\n",
    "        arrayy=[]\n",
    "        for j in range(0,y):\n",
    "            arrayy.append(i*j)\n",
    "        arrayx.append(arrayy)\n",
    "    return arrayx\n",
    "x=5\n",
    "y=5\n",
    "print(create_2D_array(x, y))\n",
    "assert create_2D_array(5, 5) == [[0, 0, 0, 0, 0], [0, 1, 2, 3, 4], [0, 2, 4, 6, 8], [0, 3, 6, 9, 12], [0, 4, 8, 12, 16]], \"Wrong answer, please code again\""
   ]
  },
  {
   "cell_type": "markdown",
   "metadata": {},
   "source": [
    "## Bài 8.\n",
    "Viết chương trình để xuất một số ngẫu nhiên, chia hết cho 5 và 7, từ 0 đến 200 (gồm cả 0 và 200), sử dụng module random và list comprehension"
   ]
  },
  {
   "cell_type": "code",
   "execution_count": 81,
   "metadata": {
    "jupyter": {
     "outputs_hidden": false
    },
    "pycharm": {
     "name": "#%%\n"
    }
   },
   "outputs": [
    {
     "name": "stdout",
     "output_type": "stream",
     "text": [
      "73\n",
      "100\n",
      "176\n",
      "150\n",
      "173\n",
      "96\n",
      "154\n",
      "199\n",
      "72\n",
      "76\n",
      "104\n",
      "28\n",
      "83\n",
      "4\n",
      "49\n",
      "11\n",
      "150\n",
      "51\n",
      "177\n",
      "128\n",
      "44\n",
      "130\n",
      "104\n",
      "159\n",
      "11\n",
      "171\n",
      "26\n",
      "129\n",
      "191\n",
      "189\n",
      "13\n",
      "114\n",
      "151\n",
      "152\n",
      "79\n",
      "109\n",
      "97\n",
      "161\n",
      "117\n",
      "39\n",
      "93\n",
      "185\n",
      "175\n",
      "Ket qua: None\n"
     ]
    }
   ],
   "source": [
    "import random\n",
    "def division_5_7():\n",
    "    ran=int(random.random()*200)\n",
    "    print(ran)\n",
    "    if (ran%5==0 and ran%7==0):\n",
    "        return ran\n",
    "    else:\n",
    "        division_5_7()\n",
    "print('Ket qua:',division_5_7())    "
   ]
  },
  {
   "cell_type": "code",
   "execution_count": null,
   "metadata": {
    "jupyter": {
     "outputs_hidden": false
    },
    "pycharm": {
     "name": "#%%\n"
    }
   },
   "outputs": [],
   "source": [
    "random_seed = 4\n",
    "assert division_5_7(random_seed) == 35, \"Wrong answer, please code again\""
   ]
  },
  {
   "cell_type": "markdown",
   "metadata": {},
   "source": [
    "## Bài 8. Cách khác\n",
    "\n",
    "Viết chương trình để xuất một số ngẫu nhiên, chia hết cho 5 và 7, từ 0 đến 200 (gồm cả 0 và 200), sử dụng module random và list comprehension"
   ]
  },
  {
   "cell_type": "code",
   "execution_count": 40,
   "metadata": {
    "jupyter": {
     "outputs_hidden": false
    },
    "pycharm": {
     "name": "#%%\n"
    }
   },
   "outputs": [
    {
     "name": "stdout",
     "output_type": "stream",
     "text": [
      "Ket qua: 105\n"
     ]
    }
   ],
   "source": [
    "import random\n",
    "def division_5_7():\n",
    "    ran=int(random.random()*200)\n",
    "    if (ran%5==0 and ran%7==0):\n",
    "        print('Ket qua:',ran)    \n",
    "        return ''\n",
    "    else:\n",
    "        division_5_7()\n",
    "division_5_7()"
   ]
  }
 ],
 "metadata": {
  "kernelspec": {
   "display_name": "Python 3",
   "language": "python",
   "name": "python3"
  },
  "language_info": {
   "codemirror_mode": {
    "name": "ipython",
    "version": 3
   },
   "file_extension": ".py",
   "mimetype": "text/x-python",
   "name": "python",
   "nbconvert_exporter": "python",
   "pygments_lexer": "ipython3",
   "version": "3.8.5"
  }
 },
 "nbformat": 4,
 "nbformat_minor": 4
}
