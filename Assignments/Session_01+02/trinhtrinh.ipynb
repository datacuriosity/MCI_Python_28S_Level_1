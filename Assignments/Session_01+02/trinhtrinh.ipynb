{
 "cells": [
  {
   "cell_type": "markdown",
   "id": "promising-great",
   "metadata": {},
   "source": [
    "# Bài 1."
   ]
  },
  {
   "cell_type": "markdown",
   "id": "entertaining-greenhouse",
   "metadata": {},
   "source": [
    "Viết một chương trình tính giai thừa của một số nguyên dương n. Với n được nhập từ bàn phím. Ví dụ, n = 8 thì kết quả đầu ra phải là `1*2*3*4*5*6*7*8*9*10=40320`"
   ]
  },
  {
   "cell_type": "code",
   "execution_count": 6,
   "id": "decimal-walter",
   "metadata": {},
   "outputs": [],
   "source": [
    "def factorial(n):\n",
    "    # Your code here\n",
    "    return"
   ]
  },
  {
   "cell_type": "code",
   "execution_count": 18,
   "id": "numerical-cancellation",
   "metadata": {},
   "outputs": [
    {
     "ename": "NameError",
     "evalue": "name 'factorial' is not defined",
     "output_type": "error",
     "traceback": [
      "\u001b[1;31m---------------------------------------------------------------------------\u001b[0m",
      "\u001b[1;31mNameError\u001b[0m                                 Traceback (most recent call last)",
      "\u001b[1;32m<ipython-input-18-00249b753fcd>\u001b[0m in \u001b[0;36m<module>\u001b[1;34m\u001b[0m\n\u001b[0;32m      1\u001b[0m \u001b[1;31m## Testing\u001b[0m\u001b[1;33m\u001b[0m\u001b[1;33m\u001b[0m\u001b[1;33m\u001b[0m\u001b[0m\n\u001b[0;32m      2\u001b[0m \u001b[0mn\u001b[0m \u001b[1;33m=\u001b[0m \u001b[1;36m5\u001b[0m\u001b[1;33m\u001b[0m\u001b[1;33m\u001b[0m\u001b[0m\n\u001b[1;32m----> 3\u001b[1;33m \u001b[1;32massert\u001b[0m \u001b[0mfactorial\u001b[0m\u001b[1;33m(\u001b[0m\u001b[0mn\u001b[0m\u001b[1;33m)\u001b[0m \u001b[1;33m==\u001b[0m \u001b[1;36m120\u001b[0m\u001b[1;33m,\u001b[0m \u001b[1;34m\"Wrong answer, please calculate again\"\u001b[0m\u001b[1;33m\u001b[0m\u001b[1;33m\u001b[0m\u001b[0m\n\u001b[0m",
      "\u001b[1;31mNameError\u001b[0m: name 'factorial' is not defined"
     ]
    }
   ],
   "source": [
    "# Testing\n",
    "n = 5\n",
    "assert factorial(n) == 120, \"Wrong answer, please calculate again\""
   ]
  },
  {
   "cell_type": "markdown",
   "id": "african-devon",
   "metadata": {},
   "source": [
    "# Bài 2.\n",
    "Viết chương trình tính tổng các chữ số của một số nguyên n trong Python. Số nguyên dương n được nhập từ bàn phím. Số 1234 có tổng các chữ số là `1 + 2 + 3 + 4 = 10` "
   ]
  },
  {
   "cell_type": "code",
   "execution_count": 5,
   "id": "historical-transaction",
   "metadata": {},
   "outputs": [],
   "source": [
    "def sum_all(number):\n",
    "# Your code here\n",
    "  return"
   ]
  },
  {
   "cell_type": "code",
   "execution_count": 16,
   "id": "white-doctor",
   "metadata": {},
   "outputs": [
    {
     "ename": "AssertionError",
     "evalue": "Wrong answer, please calculate again",
     "output_type": "error",
     "traceback": [
      "\u001b[1;31m---------------------------------------------------------------------------\u001b[0m",
      "\u001b[1;31mAssertionError\u001b[0m                            Traceback (most recent call last)",
      "\u001b[1;32m<ipython-input-16-ef20677cc5f6>\u001b[0m in \u001b[0;36m<module>\u001b[1;34m\u001b[0m\n\u001b[0;32m      1\u001b[0m \u001b[1;31m# Testing\u001b[0m\u001b[1;33m\u001b[0m\u001b[1;33m\u001b[0m\u001b[1;33m\u001b[0m\u001b[0m\n\u001b[0;32m      2\u001b[0m \u001b[0mnumber\u001b[0m \u001b[1;33m=\u001b[0m \u001b[1;36m34103\u001b[0m\u001b[1;33m\u001b[0m\u001b[1;33m\u001b[0m\u001b[0m\n\u001b[1;32m----> 3\u001b[1;33m \u001b[1;32massert\u001b[0m \u001b[0msum_all\u001b[0m\u001b[1;33m(\u001b[0m\u001b[0mnumber\u001b[0m\u001b[1;33m)\u001b[0m \u001b[1;33m==\u001b[0m \u001b[1;36m11\u001b[0m\u001b[1;33m,\u001b[0m \u001b[1;34m\"Wrong answer, please calculate again\"\u001b[0m\u001b[1;33m\u001b[0m\u001b[1;33m\u001b[0m\u001b[0m\n\u001b[0m",
      "\u001b[1;31mAssertionError\u001b[0m: Wrong answer, please calculate again"
     ]
    }
   ],
   "source": [
    "# Testing\n",
    "number = 34103\n",
    "assert sum_all(number) == 11, \"Wrong answer, please calculate again\""
   ]
  },
  {
   "cell_type": "markdown",
   "id": "convinced-constitutional",
   "metadata": {},
   "source": [
    "# Bài 3."
   ]
  },
  {
   "cell_type": "markdown",
   "id": "piano-colleague",
   "metadata": {},
   "source": [
    "Tìm giá trị lớn nhất của 1 list hoặc 1 tuple nhập vào."
   ]
  },
  {
   "cell_type": "code",
   "execution_count": 8,
   "id": "wrapped-telling",
   "metadata": {},
   "outputs": [],
   "source": [
    "def maximum(li):\n",
    "    # Your code here\n",
    "    return"
   ]
  },
  {
   "cell_type": "code",
   "execution_count": 13,
   "id": "quick-germany",
   "metadata": {},
   "outputs": [
    {
     "ename": "NameError",
     "evalue": "name 'maximum' is not defined",
     "output_type": "error",
     "traceback": [
      "\u001b[1;31m---------------------------------------------------------------------------\u001b[0m",
      "\u001b[1;31mNameError\u001b[0m                                 Traceback (most recent call last)",
      "\u001b[1;32m<ipython-input-13-61049f589eee>\u001b[0m in \u001b[0;36m<module>\u001b[1;34m\u001b[0m\n\u001b[0;32m      1\u001b[0m \u001b[1;31m# Testing\u001b[0m\u001b[1;33m\u001b[0m\u001b[1;33m\u001b[0m\u001b[1;33m\u001b[0m\u001b[0m\n\u001b[0;32m      2\u001b[0m \u001b[0mnumber\u001b[0m \u001b[1;33m=\u001b[0m \u001b[1;33m[\u001b[0m\u001b[1;36m1\u001b[0m\u001b[1;33m,\u001b[0m \u001b[1;36m2\u001b[0m\u001b[1;33m,\u001b[0m \u001b[1;36m6\u001b[0m\u001b[1;33m,\u001b[0m \u001b[1;36m8\u001b[0m\u001b[1;33m,\u001b[0m \u001b[1;36m10\u001b[0m\u001b[1;33m]\u001b[0m\u001b[1;33m\u001b[0m\u001b[1;33m\u001b[0m\u001b[0m\n\u001b[1;32m----> 3\u001b[1;33m \u001b[1;32massert\u001b[0m \u001b[0mmaximum\u001b[0m\u001b[1;33m(\u001b[0m\u001b[0mnumber\u001b[0m\u001b[1;33m)\u001b[0m \u001b[1;33m==\u001b[0m \u001b[1;36m10\u001b[0m\u001b[1;33m,\u001b[0m \u001b[1;34m\"Wrong anwer, please calculate again\"\u001b[0m\u001b[1;33m\u001b[0m\u001b[1;33m\u001b[0m\u001b[0m\n\u001b[0m",
      "\u001b[1;31mNameError\u001b[0m: name 'maximum' is not defined"
     ]
    }
   ],
   "source": [
    "# Testing\n",
    "number = [1, 2, 6, 8, 10]\n",
    "assert maximum(number) == 10, \"Wrong anwer, please calculate again\""
   ]
  },
  {
   "cell_type": "markdown",
   "id": "monthly-wesley",
   "metadata": {},
   "source": [
    "# Bài 4."
   ]
  },
  {
   "cell_type": "markdown",
   "id": "listed-moldova",
   "metadata": {},
   "source": [
    "Tìm giá trị lớn thứ nhì trong một lisrt hoặc một tuple nhập vào.\n"
   ]
  },
  {
   "cell_type": "code",
   "execution_count": 14,
   "id": "molecular-bracelet",
   "metadata": {},
   "outputs": [],
   "source": [
    "def second_maximum(li):\n",
    "    # Your code here\n",
    "    return"
   ]
  },
  {
   "cell_type": "code",
   "execution_count": 19,
   "id": "established-enhancement",
   "metadata": {},
   "outputs": [
    {
     "ename": "AssertionError",
     "evalue": "Wrong answer, please calculate again",
     "output_type": "error",
     "traceback": [
      "\u001b[1;31m---------------------------------------------------------------------------\u001b[0m",
      "\u001b[1;31mAssertionError\u001b[0m                            Traceback (most recent call last)",
      "\u001b[1;32m<ipython-input-19-fdd20ebfb21c>\u001b[0m in \u001b[0;36m<module>\u001b[1;34m\u001b[0m\n\u001b[0;32m      1\u001b[0m \u001b[1;31m# Testing 5\u001b[0m\u001b[1;33m\u001b[0m\u001b[1;33m\u001b[0m\u001b[1;33m\u001b[0m\u001b[0m\n\u001b[0;32m      2\u001b[0m \u001b[0mnumber\u001b[0m \u001b[1;33m=\u001b[0m \u001b[1;33m[\u001b[0m\u001b[1;36m1\u001b[0m\u001b[1;33m,\u001b[0m \u001b[1;36m2\u001b[0m\u001b[1;33m,\u001b[0m \u001b[1;36m3\u001b[0m\u001b[1;33m,\u001b[0m \u001b[1;36m8\u001b[0m\u001b[1;33m,\u001b[0m \u001b[1;36m10\u001b[0m\u001b[1;33m]\u001b[0m\u001b[1;33m\u001b[0m\u001b[1;33m\u001b[0m\u001b[0m\n\u001b[1;32m----> 3\u001b[1;33m \u001b[1;32massert\u001b[0m \u001b[0msecond_maximum\u001b[0m\u001b[1;33m(\u001b[0m\u001b[0mnumber\u001b[0m\u001b[1;33m)\u001b[0m \u001b[1;33m==\u001b[0m \u001b[1;36m8\u001b[0m\u001b[1;33m,\u001b[0m \u001b[1;34m\"Wrong answer, please calculate again\"\u001b[0m\u001b[1;33m\u001b[0m\u001b[1;33m\u001b[0m\u001b[0m\n\u001b[0m",
      "\u001b[1;31mAssertionError\u001b[0m: Wrong answer, please calculate again"
     ]
    }
   ],
   "source": [
    "# Testing 5\n",
    "number = [1, 2, 3, 8, 10]\n",
    "assert second_maximum(number) == 8, \"Wrong answer, please calculate again\""
   ]
  },
  {
   "cell_type": "markdown",
   "id": "excellent-opening",
   "metadata": {},
   "source": [
    "## Bài 5."
   ]
  },
  {
   "cell_type": "markdown",
   "id": "medical-context",
   "metadata": {},
   "source": [
    "Định nghĩa một hàm có input là 2 chuỗi và trả về chuỗi có độ dài lớn hơn. Nếu 2 chuỗi có chiều dài như nhau thì trả tất cả các chuỗi dưới dạng tuple."
   ]
  },
  {
   "cell_type": "code",
   "execution_count": 21,
   "id": "eligible-suspect",
   "metadata": {},
   "outputs": [],
   "source": [
    "def greater_string(str_1, str_2):\n",
    "# Your code here\n",
    " return"
   ]
  },
  {
   "cell_type": "code",
   "execution_count": 24,
   "id": "intense-worthy",
   "metadata": {},
   "outputs": [
    {
     "ename": "NameError",
     "evalue": "name 'greater' is not defined",
     "output_type": "error",
     "traceback": [
      "\u001b[1;31m---------------------------------------------------------------------------\u001b[0m",
      "\u001b[1;31mNameError\u001b[0m                                 Traceback (most recent call last)",
      "\u001b[1;32m<ipython-input-24-6e7878779092>\u001b[0m in \u001b[0;36m<module>\u001b[1;34m\u001b[0m\n\u001b[0;32m      2\u001b[0m \u001b[0mStr_1\u001b[0m \u001b[1;33m=\u001b[0m \u001b[1;34m\"My name is\"\u001b[0m\u001b[1;33m\u001b[0m\u001b[1;33m\u001b[0m\u001b[0m\n\u001b[0;32m      3\u001b[0m \u001b[0mStr_2\u001b[0m \u001b[1;33m=\u001b[0m \u001b[1;34m\"My University\"\u001b[0m\u001b[1;33m\u001b[0m\u001b[1;33m\u001b[0m\u001b[0m\n\u001b[1;32m----> 4\u001b[1;33m \u001b[1;32massert\u001b[0m \u001b[0mlen\u001b[0m\u001b[1;33m(\u001b[0m\u001b[0mgreater\u001b[0m\u001b[1;33m(\u001b[0m\u001b[0mStr_1\u001b[0m\u001b[1;33m,\u001b[0m \u001b[0mStr_2\u001b[0m\u001b[1;33m)\u001b[0m\u001b[1;33m)\u001b[0m \u001b[1;33m==\u001b[0m \u001b[0mlen\u001b[0m\u001b[1;33m(\u001b[0m\u001b[0mStr_2\u001b[0m\u001b[1;33m)\u001b[0m\u001b[1;33m,\u001b[0m \u001b[1;34m\"Wrong answer, please code again\"\u001b[0m\u001b[1;33m\u001b[0m\u001b[1;33m\u001b[0m\u001b[0m\n\u001b[0m\u001b[0;32m      5\u001b[0m \u001b[1;31m# Test 2\u001b[0m\u001b[1;33m\u001b[0m\u001b[1;33m\u001b[0m\u001b[1;33m\u001b[0m\u001b[0m\n\u001b[0;32m      6\u001b[0m \u001b[0mStr_1\u001b[0m \u001b[1;33m=\u001b[0m \u001b[1;34m\"My name is\"\u001b[0m\u001b[1;33m\u001b[0m\u001b[1;33m\u001b[0m\u001b[0m\n",
      "\u001b[1;31mNameError\u001b[0m: name 'greater' is not defined"
     ]
    }
   ],
   "source": [
    "# Test 1\n",
    "Str_1 = \"My name is\"\n",
    "Str_2 = \"My University\"\n",
    "assert len(greater(Str_1, Str_2)) == len(Str_2), \"Wrong answer, please code again\"\n",
    "# Test 2\n",
    "Str_1 = \"My name is\"\n",
    "Str_2 = \"My name ar\"\n",
    "assert greater(Str_1, Str_2) == (Str_1, Str_2), \"Wrong answer, please code again\"\n"
   ]
  },
  {
   "cell_type": "markdown",
   "id": "intelligent-composite",
   "metadata": {},
   "source": [
    "## Bài 6."
   ]
  },
  {
   "cell_type": "markdown",
   "id": "general-linux",
   "metadata": {},
   "source": [
    "Loại bỏ các giá trị trùng từ chuỗi nhập vào, nhưng vẫn giữ thứ tự.\n",
    "\n",
    "Ví dụ: aaabbbbcccddd1111 --> abcd1"
   ]
  },
  {
   "cell_type": "code",
   "execution_count": 26,
   "id": "historical-substance",
   "metadata": {},
   "outputs": [],
   "source": [
    "def remove_duplicated(Str_1):\n",
    "    # Your code here\n",
    "    return"
   ]
  },
  {
   "cell_type": "code",
   "execution_count": 28,
   "id": "generous-harvey",
   "metadata": {},
   "outputs": [
    {
     "ename": "AssertionError",
     "evalue": "",
     "output_type": "error",
     "traceback": [
      "\u001b[1;31m---------------------------------------------------------------------------\u001b[0m",
      "\u001b[1;31mAssertionError\u001b[0m                            Traceback (most recent call last)",
      "\u001b[1;32m<ipython-input-28-5536c24830ee>\u001b[0m in \u001b[0;36m<module>\u001b[1;34m\u001b[0m\n\u001b[0;32m      1\u001b[0m \u001b[1;31m# Testing\u001b[0m\u001b[1;33m\u001b[0m\u001b[1;33m\u001b[0m\u001b[1;33m\u001b[0m\u001b[0m\n\u001b[0;32m      2\u001b[0m \u001b[0mStr_1\u001b[0m \u001b[1;33m=\u001b[0m \u001b[1;34m\"cccccddddeeefff22\"\u001b[0m\u001b[1;33m\u001b[0m\u001b[1;33m\u001b[0m\u001b[0m\n\u001b[1;32m----> 3\u001b[1;33m \u001b[1;32massert\u001b[0m \u001b[0mremove_duplicated\u001b[0m\u001b[1;33m(\u001b[0m\u001b[0mStr_1\u001b[0m\u001b[1;33m)\u001b[0m \u001b[1;33m==\u001b[0m \u001b[1;34m\"cdef2\"\u001b[0m\u001b[1;33m\u001b[0m\u001b[1;33m\u001b[0m\u001b[0m\n\u001b[0m",
      "\u001b[1;31mAssertionError\u001b[0m: "
     ]
    }
   ],
   "source": [
    "# Testing\n",
    "Str_1 = \"cccccddddeeefff22\"\n",
    "assert remove_duplicated(Str_1) == \"cdef2\""
   ]
  },
  {
   "cell_type": "markdown",
   "id": "accomplished-craft",
   "metadata": {},
   "source": [
    "## Bài 7."
   ]
  },
  {
   "cell_type": "markdown",
   "id": "black-separate",
   "metadata": {},
   "source": [
    "Viết một chương trình có 2 chữ số X, Y nhận giá trị đầu vào và tạo ra một mảng 2 chiều. Giá trị phần tử trong hàng thứ i và cột thứ j của mảng phải là i*j\n",
    "- i= 0,1,2,3.....,X-1\n",
    "- j= 0,1,2,3.....,Y-1"
   ]
  },
  {
   "cell_type": "code",
   "execution_count": 29,
   "id": "colored-liverpool",
   "metadata": {},
   "outputs": [],
   "source": [
    "def create_2D_array(X,Y):\n",
    "    # Your code here\n",
    "    return"
   ]
  },
  {
   "cell_type": "code",
   "execution_count": 32,
   "id": "nominated-lunch",
   "metadata": {},
   "outputs": [
    {
     "ename": "NameError",
     "evalue": "name 'create_2D_array' is not defined",
     "output_type": "error",
     "traceback": [
      "\u001b[1;31m---------------------------------------------------------------------------\u001b[0m",
      "\u001b[1;31mNameError\u001b[0m                                 Traceback (most recent call last)",
      "\u001b[1;32m<ipython-input-32-fb92bdc4e2d9>\u001b[0m in \u001b[0;36m<module>\u001b[1;34m\u001b[0m\n\u001b[1;32m----> 1\u001b[1;33m \u001b[1;32massert\u001b[0m \u001b[0mcreate_2D_array\u001b[0m\u001b[1;33m(\u001b[0m\u001b[1;36m5\u001b[0m\u001b[1;33m,\u001b[0m \u001b[1;36m5\u001b[0m\u001b[1;33m)\u001b[0m \u001b[1;33m==\u001b[0m \u001b[1;33m[\u001b[0m\u001b[1;33m[\u001b[0m\u001b[1;36m0\u001b[0m\u001b[1;33m,\u001b[0m \u001b[1;36m0\u001b[0m\u001b[1;33m,\u001b[0m \u001b[1;36m0\u001b[0m\u001b[1;33m,\u001b[0m \u001b[1;36m0\u001b[0m\u001b[1;33m,\u001b[0m \u001b[1;36m0\u001b[0m\u001b[1;33m]\u001b[0m\u001b[1;33m,\u001b[0m \u001b[1;33m[\u001b[0m\u001b[1;36m0\u001b[0m\u001b[1;33m,\u001b[0m \u001b[1;36m1\u001b[0m\u001b[1;33m,\u001b[0m \u001b[1;36m2\u001b[0m\u001b[1;33m,\u001b[0m \u001b[1;36m3\u001b[0m\u001b[1;33m,\u001b[0m \u001b[1;36m4\u001b[0m\u001b[1;33m]\u001b[0m\u001b[1;33m,\u001b[0m \u001b[1;33m[\u001b[0m\u001b[1;36m0\u001b[0m\u001b[1;33m,\u001b[0m \u001b[1;36m2\u001b[0m\u001b[1;33m,\u001b[0m \u001b[1;36m4\u001b[0m\u001b[1;33m,\u001b[0m \u001b[1;36m6\u001b[0m\u001b[1;33m,\u001b[0m \u001b[1;36m8\u001b[0m\u001b[1;33m]\u001b[0m\u001b[1;33m,\u001b[0m \u001b[1;33m[\u001b[0m\u001b[1;36m0\u001b[0m\u001b[1;33m,\u001b[0m \u001b[1;36m3\u001b[0m\u001b[1;33m,\u001b[0m \u001b[1;36m6\u001b[0m\u001b[1;33m,\u001b[0m \u001b[1;36m9\u001b[0m\u001b[1;33m,\u001b[0m \u001b[1;36m12\u001b[0m\u001b[1;33m]\u001b[0m\u001b[1;33m,\u001b[0m \u001b[1;33m[\u001b[0m\u001b[1;36m0\u001b[0m\u001b[1;33m,\u001b[0m \u001b[1;36m4\u001b[0m\u001b[1;33m,\u001b[0m \u001b[1;36m8\u001b[0m\u001b[1;33m,\u001b[0m \u001b[1;36m12\u001b[0m\u001b[1;33m,\u001b[0m \u001b[1;36m20\u001b[0m\u001b[1;33m]\u001b[0m\u001b[1;33m]\u001b[0m\u001b[1;33m\u001b[0m\u001b[1;33m\u001b[0m\u001b[0m\n\u001b[0m",
      "\u001b[1;31mNameError\u001b[0m: name 'create_2D_array' is not defined"
     ]
    }
   ],
   "source": [
    "assert create_2D_array(5, 5) == [[0, 0, 0, 0, 0], [0, 1, 2, 3, 4], [0, 2, 4, 6, 8], [0, 3, 6, 9, 12], [0, 4, 8, 12, 20]]"
   ]
  },
  {
   "cell_type": "markdown",
   "id": "charitable-colonial",
   "metadata": {},
   "source": [
    "## Bài 8.\n",
    "Viết chương trình để xuất một số ngẫu nhiên, chia hết cho 5 và 7, từ 0 đến 200 (gồm cả 0 và 200), sử dụng module random và list comprehension."
   ]
  },
  {
   "cell_type": "code",
   "execution_count": 34,
   "id": "intelligent-laundry",
   "metadata": {},
   "outputs": [],
   "source": [
    "import random\n",
    "def division_5_7(random_seed = 4):\n",
    "    random.seed(random_seed)\n",
    "    # Your code here\n",
    "    return\n",
    "    "
   ]
  },
  {
   "cell_type": "code",
   "execution_count": 35,
   "id": "pursuant-heating",
   "metadata": {},
   "outputs": [
    {
     "ename": "AssertionError",
     "evalue": "Wrong answer, please code again",
     "output_type": "error",
     "traceback": [
      "\u001b[1;31m---------------------------------------------------------------------------\u001b[0m",
      "\u001b[1;31mAssertionError\u001b[0m                            Traceback (most recent call last)",
      "\u001b[1;32m<ipython-input-35-8bc6b1167d47>\u001b[0m in \u001b[0;36m<module>\u001b[1;34m\u001b[0m\n\u001b[0;32m      1\u001b[0m \u001b[0mrandom_seed\u001b[0m \u001b[1;33m=\u001b[0m \u001b[1;36m4\u001b[0m\u001b[1;33m\u001b[0m\u001b[1;33m\u001b[0m\u001b[0m\n\u001b[1;32m----> 2\u001b[1;33m \u001b[1;32massert\u001b[0m \u001b[0mdivision_5_7\u001b[0m\u001b[1;33m(\u001b[0m\u001b[0mrandom_seed\u001b[0m\u001b[1;33m)\u001b[0m \u001b[1;33m==\u001b[0m \u001b[1;36m35\u001b[0m\u001b[1;33m,\u001b[0m \u001b[1;34m\"Wrong answer, please code again\"\u001b[0m\u001b[1;33m\u001b[0m\u001b[1;33m\u001b[0m\u001b[0m\n\u001b[0m",
      "\u001b[1;31mAssertionError\u001b[0m: Wrong answer, please code again"
     ]
    }
   ],
   "source": [
    "random_seed = 4\n",
    "assert division_5_7(random_seed) == 35, \"Wrong answer, please code again\""
   ]
  },
  {
   "cell_type": "code",
   "execution_count": null,
   "id": "broadband-vampire",
   "metadata": {},
   "outputs": [],
   "source": []
  }
 ],
 "metadata": {
  "kernelspec": {
   "display_name": "Python 3",
   "language": "python",
   "name": "python3"
  },
  "language_info": {
   "codemirror_mode": {
    "name": "ipython",
    "version": 3
   },
   "file_extension": ".py",
   "mimetype": "text/x-python",
   "name": "python",
   "nbconvert_exporter": "python",
   "pygments_lexer": "ipython3",
   "version": "3.7.10"
  }
 },
 "nbformat": 4,
 "nbformat_minor": 5
}
