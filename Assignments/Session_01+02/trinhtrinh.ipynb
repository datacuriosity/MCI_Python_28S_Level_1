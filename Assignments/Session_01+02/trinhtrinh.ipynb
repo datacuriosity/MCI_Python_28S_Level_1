{
 "cells": [
  {
   "cell_type": "markdown",
   "id": "expected-vector",
   "metadata": {},
   "source": [
    "# Bài 1."
   ]
  },
  {
   "cell_type": "markdown",
   "id": "pointed-kruger",
   "metadata": {},
   "source": [
    "Viết một chương trình tính giai thừa của một số nguyên dương n. Với n được nhập từ bàn phím. Ví dụ, n = 8 thì kết quả đầu ra phải là `1*2*3*4*5*6*7*8*9*10=40320`"
   ]
  },
  {
   "cell_type": "code",
   "execution_count": 16,
   "id": "regulation-uncertainty",
   "metadata": {},
   "outputs": [
    {
     "name": "stdin",
     "output_type": "stream",
     "text": [
      "Nhập số nguyên dương n =:  8\n"
     ]
    },
    {
     "name": "stdout",
     "output_type": "stream",
     "text": [
      "Giai thừa của 8 là 40320\n"
     ]
    }
   ],
   "source": [
    "n = int(input(\"Nhập số nguyên dương n =: \")) \n",
    "def tinhgiaithua(n):\n",
    "    giai_thua = 1;\n",
    "    if (n == 0 or n == 1):\n",
    "        return giai_thua\n",
    "    else:\n",
    "        for i in range(2, n + 1):\n",
    "            giai_thua = giai_thua * i\n",
    "        return giai_thua\n",
    "print(\"Giai thừa của\", n, \"là\", tinhgiaithua(n))"
   ]
  },
  {
   "cell_type": "code",
   "execution_count": null,
   "id": "civilian-grammar",
   "metadata": {},
   "outputs": [],
   "source": [
    "# T\n",
    "n = 5\n",
    "assert factorial(n) == 120, \"Wrong answer, please calculate again\""
   ]
  },
  {
   "cell_type": "markdown",
   "id": "regular-thumbnail",
   "metadata": {},
   "source": [
    "# Bài 2.\n",
    "Viết chương trình tính tổng các chữ số của một số nguyên n trong Python. Số nguyên dương n được nhập từ bàn phím. Số 1234 có tổng các chữ số là `1 + 2 + 3 + 4 = 10` "
   ]
  },
  {
   "cell_type": "code",
   "execution_count": 5,
   "id": "recovered-trader",
   "metadata": {},
   "outputs": [
    {
     "name": "stdin",
     "output_type": "stream",
     "text": [
      "Nhập số nguyên dương n =  1234\n"
     ]
    },
    {
     "name": "stdout",
     "output_type": "stream",
     "text": [
      "Tổng các chữ số của 1234  là 10\n"
     ]
    }
   ],
   "source": [
    "n = int(input(\"Nhập số nguyên dương n = \"))\n",
    "def sum_all(n):\n",
    "    S = 0\n",
    "    while (n > 0):\n",
    "        S = S+ n % 10\n",
    "        n = int(n / 10)\n",
    "    return S\n",
    "print(\"Tổng các chữ số của\", n, \" là\", sum_all(n))"
   ]
  },
  {
   "cell_type": "code",
   "execution_count": null,
   "id": "decent-marathon",
   "metadata": {},
   "outputs": [],
   "source": [
    "# Testing\n",
    "number = 34103\n",
    "assert sum_all(number) == 11, \"Wrong answer, please calculate again\""
   ]
  },
  {
   "cell_type": "markdown",
   "id": "representative-olympus",
   "metadata": {},
   "source": [
    "# Bài 3."
   ]
  },
  {
   "cell_type": "markdown",
   "id": "emerging-enforcement",
   "metadata": {},
   "source": [
    "Tìm giá trị lớn nhất của 1 list hoặc 1 tuple nhập vào."
   ]
  },
  {
   "cell_type": "code",
   "execution_count": 12,
   "id": "tutorial-amber",
   "metadata": {},
   "outputs": [
    {
     "name": "stdin",
     "output_type": "stream",
     "text": [
      "Nhập số phần tử của list 5\n",
      "Nhập phần tử của list vào : 1\n",
      "Nhập phần tử của list vào : 2\n",
      "Nhập phần tử của list vào : 6\n",
      "Nhập phần tử của list vào : 8\n",
      "Nhập phần tử của list vào : 10\n"
     ]
    },
    {
     "name": "stdout",
     "output_type": "stream",
     "text": [
      "number =  [1, 2, 6, 8, 10]\n",
      "Giá trị lớn nhất của list là  10\n"
     ]
    }
   ],
   "source": [
    "n = int(input(\"Nhập số phần tử của list\"))\n",
    "li = []\n",
    "for i in range(0,n):\n",
    "    li.append(int(input('Nhập phần tử của list vào :')))\n",
    "print(\"number = \", li)\n",
    "def maximum(li):\n",
    "    return max(li)\n",
    "print(\"Giá trị lớn nhất của list là \", maximum(li))"
   ]
  },
  {
   "cell_type": "code",
   "execution_count": null,
   "id": "cooked-norman",
   "metadata": {},
   "outputs": [],
   "source": [
    "# Testing\n",
    "number = [1, 2, 6, 8, 10]\n",
    "assert maximum(number) == 10, \"Wrong anwer, please calculate again\""
   ]
  },
  {
   "cell_type": "markdown",
   "id": "defensive-reasoning",
   "metadata": {},
   "source": [
    "# Bài 4."
   ]
  },
  {
   "cell_type": "markdown",
   "id": "appointed-impact",
   "metadata": {},
   "source": [
    "Tìm giá trị lớn thứ nhì trong một lisrt hoặc một tuple nhập vào.\n"
   ]
  },
  {
   "cell_type": "code",
   "execution_count": 14,
   "id": "centered-smith",
   "metadata": {},
   "outputs": [
    {
     "name": "stdin",
     "output_type": "stream",
     "text": [
      "Nhập số phần tử của list 5\n",
      "Nhập phần tử của list vào : 1\n",
      "Nhập phần tử của list vào : 2\n",
      "Nhập phần tử của list vào : 3\n",
      "Nhập phần tử của list vào : 8\n",
      "Nhập phần tử của list vào : 10\n"
     ]
    },
    {
     "name": "stdout",
     "output_type": "stream",
     "text": [
      "number =  [1, 2, 3, 8, 10]\n",
      "Giá trị lớn thứ nhì của list là  8\n"
     ]
    }
   ],
   "source": [
    "n = int(input(\"Nhập số phần tử của list\"))\n",
    "li = []\n",
    "for i in range(0,n):\n",
    "    li.append(int(input('Nhập phần tử của list vào :')))\n",
    "print(\"number = \", li)\n",
    "li.remove(max(li))\n",
    "li\n",
    "def second_maximum(li):\n",
    "    return max(li)\n",
    "print(\"Giá trị lớn thứ nhì của list là \", second_maximum(li))"
   ]
  },
  {
   "cell_type": "code",
   "execution_count": null,
   "id": "visible-phase",
   "metadata": {},
   "outputs": [],
   "source": [
    "# Testing 5\n",
    "number = [1, 2, 3, 8, 10]\n",
    "assert second_maximum(number) == 8, \"Wrong answer, please calculate again\""
   ]
  },
  {
   "cell_type": "markdown",
   "id": "lyric-procedure",
   "metadata": {},
   "source": [
    "## Bài 5."
   ]
  },
  {
   "cell_type": "markdown",
   "id": "changed-signature",
   "metadata": {},
   "source": [
    "Định nghĩa một hàm có input là 2 chuỗi và trả về chuỗi có độ dài lớn hơn. Nếu 2 chuỗi có chiều dài như nhau thì trả tất cả các chuỗi dưới dạng tuple."
   ]
  },
  {
   "cell_type": "code",
   "execution_count": 21,
   "id": "technological-possibility",
   "metadata": {},
   "outputs": [],
   "source": [
    "def greater_string(str_1, str_2):\n",
    "# Your code here\n",
    " return"
   ]
  },
  {
   "cell_type": "code",
   "execution_count": null,
   "id": "advanced-atlanta",
   "metadata": {},
   "outputs": [],
   "source": [
    "# Test 1\n",
    "Str_1 = \"My name is\"\n",
    "Str_2 = \"My University\"\n",
    "assert len(greater(Str_1, Str_2)) == len(Str_2), \"Wrong answer, please code again\"\n",
    "# Test 2\n",
    "Str_1 = \"My name is\"\n",
    "Str_2 = \"My name ar\"\n",
    "assert greater(Str_1, Str_2) == (Str_1, Str_2), \"Wrong answer, please code again\"\n"
   ]
  },
  {
   "cell_type": "markdown",
   "id": "incredible-story",
   "metadata": {},
   "source": [
    "## Bài 6."
   ]
  },
  {
   "cell_type": "markdown",
   "id": "automatic-crack",
   "metadata": {},
   "source": [
    "Loại bỏ các giá trị trùng từ chuỗi nhập vào, nhưng vẫn giữ thứ tự.\n",
    "\n",
    "Ví dụ: aaabbbbcccddd1111 --> abcd1"
   ]
  },
  {
   "cell_type": "code",
   "execution_count": 26,
   "id": "communist-wesley",
   "metadata": {},
   "outputs": [],
   "source": [
    "def remove_duplicated(Str_1):\n",
    "    # Your code here\n",
    "    return"
   ]
  },
  {
   "cell_type": "code",
   "execution_count": null,
   "id": "governmental-budget",
   "metadata": {},
   "outputs": [],
   "source": [
    "# Testing\n",
    "Str_1 = \"cccccddddeeefff22\"\n",
    "assert remove_duplicated(Str_1) == \"cdef2\""
   ]
  },
  {
   "cell_type": "markdown",
   "id": "precious-modification",
   "metadata": {},
   "source": [
    "## Bài 7."
   ]
  },
  {
   "cell_type": "markdown",
   "id": "banned-madison",
   "metadata": {},
   "source": [
    "Viết một chương trình có 2 chữ số X, Y nhận giá trị đầu vào và tạo ra một mảng 2 chiều. Giá trị phần tử trong hàng thứ i và cột thứ j của mảng phải là i*j\n",
    "- i= 0,1,2,3.....,X-1\n",
    "- j= 0,1,2,3.....,Y-1"
   ]
  },
  {
   "cell_type": "code",
   "execution_count": 29,
   "id": "resistant-leonard",
   "metadata": {},
   "outputs": [],
   "source": [
    "def create_2D_array(X,Y):\n",
    "    # Your code here\n",
    "    return"
   ]
  },
  {
   "cell_type": "code",
   "execution_count": null,
   "id": "passive-poland",
   "metadata": {},
   "outputs": [],
   "source": [
    "assert create_2D_array(5, 5) == [[0, 0, 0, 0, 0], [0, 1, 2, 3, 4], [0, 2, 4, 6, 8], [0, 3, 6, 9, 12], [0, 4, 8, 12, 20]]"
   ]
  },
  {
   "cell_type": "markdown",
   "id": "narrative-network",
   "metadata": {},
   "source": [
    "## Bài 8.\n",
    "Viết chương trình để xuất một số ngẫu nhiên, chia hết cho 5 và 7, từ 0 đến 200 (gồm cả 0 và 200), sử dụng module random và list comprehension."
   ]
  },
  {
   "cell_type": "code",
   "execution_count": 34,
   "id": "limited-glenn",
   "metadata": {},
   "outputs": [],
   "source": [
    "import random\n",
    "def division_5_7(random_seed = 4):\n",
    "    random.seed(random_seed)\n",
    "    # Your code here\n",
    "    return\n",
    "    "
   ]
  },
  {
   "cell_type": "code",
   "execution_count": null,
   "id": "three-utilization",
   "metadata": {},
   "outputs": [],
   "source": [
    "random_seed = 4\n",
    "assert division_5_7(random_seed) == 35, \"Wrong answer, please code again\""
   ]
  },
  {
   "cell_type": "code",
   "execution_count": null,
   "id": "experimental-regression",
   "metadata": {},
   "outputs": [],
   "source": []
  }
 ],
 "metadata": {
  "kernelspec": {
   "display_name": "Python 3",
   "language": "python",
   "name": "python3"
  },
  "language_info": {
   "codemirror_mode": {
    "name": "ipython",
    "version": 3
   },
   "file_extension": ".py",
   "mimetype": "text/x-python",
   "name": "python",
   "nbconvert_exporter": "python",
   "pygments_lexer": "ipython3",
   "version": "3.7.10"
  }
 },
 "nbformat": 4,
 "nbformat_minor": 5
}
