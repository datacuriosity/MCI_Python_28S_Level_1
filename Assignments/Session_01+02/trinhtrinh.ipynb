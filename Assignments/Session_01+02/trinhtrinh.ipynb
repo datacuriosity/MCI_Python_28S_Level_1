{
 "cells": [
  {
   "cell_type": "markdown",
   "id": "continued-boxing",
   "metadata": {},
   "source": [
    "# Bài 1."
   ]
  },
  {
   "cell_type": "markdown",
   "id": "difficult-suffering",
   "metadata": {},
   "source": [
    "Viết một chương trình tính giai thừa của một số nguyên dương n. Với n được nhập từ bàn phím. Ví dụ, n = 8 thì kết quả đầu ra phải là `1*2*3*4*5*6*7*8*9*10=40320`"
   ]
  },
  {
   "cell_type": "code",
   "execution_count": 6,
   "id": "prompt-serve",
   "metadata": {},
   "outputs": [],
   "source": [
    "def factorial(n):\n",
    "    # Your code here\n",
    "    return"
   ]
  },
  {
   "cell_type": "code",
   "execution_count": null,
   "id": "brutal-array",
   "metadata": {},
   "outputs": [],
   "source": [
    "# Testing\n",
    "n = 5\n",
    "assert factorial(n) == 120, \"Wrong answer, please calculate again\""
   ]
  },
  {
   "cell_type": "markdown",
   "id": "tracked-thickness",
   "metadata": {},
   "source": [
    "# Bài 2.\n",
    "Viết chương trình tính tổng các chữ số của một số nguyên n trong Python. Số nguyên dương n được nhập từ bàn phím. Số 1234 có tổng các chữ số là `1 + 2 + 3 + 4 = 10` "
   ]
  },
  {
   "cell_type": "code",
   "execution_count": 5,
   "id": "modern-reputation",
   "metadata": {},
   "outputs": [],
   "source": [
    "def sum_all(number):\n",
    "# Your code here\n",
    "  return"
   ]
  },
  {
   "cell_type": "code",
   "execution_count": null,
   "id": "incredible-elevation",
   "metadata": {},
   "outputs": [],
   "source": [
    "# Testing\n",
    "number = 34103\n",
    "assert sum_all(number) == 11, \"Wrong answer, please calculate again\""
   ]
  },
  {
   "cell_type": "markdown",
   "id": "interesting-tolerance",
   "metadata": {},
   "source": [
    "# Bài 3."
   ]
  },
  {
   "cell_type": "markdown",
   "id": "awful-bench",
   "metadata": {},
   "source": [
    "Tìm giá trị lớn nhất của 1 list hoặc 1 tuple nhập vào."
   ]
  },
  {
   "cell_type": "code",
   "execution_count": 8,
   "id": "finished-explosion",
   "metadata": {},
   "outputs": [],
   "source": [
    "def maximum(li):\n",
    "    # Your code here\n",
    "    return"
   ]
  },
  {
   "cell_type": "code",
   "execution_count": null,
   "id": "institutional-translator",
   "metadata": {},
   "outputs": [],
   "source": [
    "# Testing\n",
    "number = [1, 2, 6, 8, 10]\n",
    "assert maximum(number) == 10, \"Wrong anwer, please calculate again\""
   ]
  },
  {
   "cell_type": "markdown",
   "id": "approximate-strength",
   "metadata": {},
   "source": [
    "# Bài 4."
   ]
  },
  {
   "cell_type": "markdown",
   "id": "approximate-nancy",
   "metadata": {},
   "source": [
    "Tìm giá trị lớn thứ nhì trong một lisrt hoặc một tuple nhập vào.\n"
   ]
  },
  {
   "cell_type": "code",
   "execution_count": 14,
   "id": "enclosed-berry",
   "metadata": {},
   "outputs": [],
   "source": [
    "def second_maximum(li):\n",
    "    # Your code here\n",
    "    return"
   ]
  },
  {
   "cell_type": "code",
   "execution_count": null,
   "id": "incredible-expression",
   "metadata": {},
   "outputs": [],
   "source": [
    "# Testing 5\n",
    "number = [1, 2, 3, 8, 10]\n",
    "assert second_maximum(number) == 8, \"Wrong answer, please calculate again\""
   ]
  },
  {
   "cell_type": "markdown",
   "id": "little-quest",
   "metadata": {},
   "source": [
    "## Bài 5."
   ]
  },
  {
   "cell_type": "markdown",
   "id": "floral-chancellor",
   "metadata": {},
   "source": [
    "Định nghĩa một hàm có input là 2 chuỗi và trả về chuỗi có độ dài lớn hơn. Nếu 2 chuỗi có chiều dài như nhau thì trả tất cả các chuỗi dưới dạng tuple."
   ]
  },
  {
   "cell_type": "code",
   "execution_count": 21,
   "id": "gross-landing",
   "metadata": {},
   "outputs": [],
   "source": [
    "def greater_string(str_1, str_2):\n",
    "# Your code here\n",
    " return"
   ]
  },
  {
   "cell_type": "code",
   "execution_count": null,
   "id": "proved-bleeding",
   "metadata": {},
   "outputs": [],
   "source": [
    "# Test 1\n",
    "Str_1 = \"My name is\"\n",
    "Str_2 = \"My University\"\n",
    "assert len(greater(Str_1, Str_2)) == len(Str_2), \"Wrong answer, please code again\"\n",
    "# Test 2\n",
    "Str_1 = \"My name is\"\n",
    "Str_2 = \"My name ar\"\n",
    "assert greater(Str_1, Str_2) == (Str_1, Str_2), \"Wrong answer, please code again\"\n"
   ]
  },
  {
   "cell_type": "markdown",
   "id": "emotional-terrorist",
   "metadata": {},
   "source": [
    "## Bài 6."
   ]
  },
  {
   "cell_type": "markdown",
   "id": "hearing-marble",
   "metadata": {},
   "source": [
    "Loại bỏ các giá trị trùng từ chuỗi nhập vào, nhưng vẫn giữ thứ tự.\n",
    "\n",
    "Ví dụ: aaabbbbcccddd1111 --> abcd1"
   ]
  },
  {
   "cell_type": "code",
   "execution_count": 26,
   "id": "unauthorized-saying",
   "metadata": {},
   "outputs": [],
   "source": [
    "def remove_duplicated(Str_1):\n",
    "    # Your code here\n",
    "    return"
   ]
  },
  {
   "cell_type": "code",
   "execution_count": null,
   "id": "surgical-absence",
   "metadata": {},
   "outputs": [],
   "source": [
    "# Testing\n",
    "Str_1 = \"cccccddddeeefff22\"\n",
    "assert remove_duplicated(Str_1) == \"cdef2\""
   ]
  },
  {
   "cell_type": "markdown",
   "id": "settled-stake",
   "metadata": {},
   "source": [
    "## Bài 7."
   ]
  },
  {
   "cell_type": "markdown",
   "id": "green-essay",
   "metadata": {},
   "source": [
    "Viết một chương trình có 2 chữ số X, Y nhận giá trị đầu vào và tạo ra một mảng 2 chiều. Giá trị phần tử trong hàng thứ i và cột thứ j của mảng phải là i*j\n",
    "- i= 0,1,2,3.....,X-1\n",
    "- j= 0,1,2,3.....,Y-1"
   ]
  },
  {
   "cell_type": "code",
   "execution_count": 29,
   "id": "operational-essay",
   "metadata": {},
   "outputs": [],
   "source": [
    "def create_2D_array(X,Y):\n",
    "    # Your code here\n",
    "    return"
   ]
  },
  {
   "cell_type": "code",
   "execution_count": null,
   "id": "scheduled-outreach",
   "metadata": {},
   "outputs": [],
   "source": [
    "assert create_2D_array(5, 5) == [[0, 0, 0, 0, 0], [0, 1, 2, 3, 4], [0, 2, 4, 6, 8], [0, 3, 6, 9, 12], [0, 4, 8, 12, 20]]"
   ]
  },
  {
   "cell_type": "markdown",
   "id": "mexican-chuck",
   "metadata": {},
   "source": [
    "## Bài 8.\n",
    "Viết chương trình để xuất một số ngẫu nhiên, chia hết cho 5 và 7, từ 0 đến 200 (gồm cả 0 và 200), sử dụng module random và list comprehension."
   ]
  },
  {
   "cell_type": "code",
   "execution_count": 34,
   "id": "abroad-cooperative",
   "metadata": {},
   "outputs": [],
   "source": [
    "import random\n",
    "def division_5_7(random_seed = 4):\n",
    "    random.seed(random_seed)\n",
    "    # Your code here\n",
    "    return\n",
    "    "
   ]
  },
  {
   "cell_type": "code",
   "execution_count": null,
   "id": "declared-tourism",
   "metadata": {},
   "outputs": [],
   "source": [
    "random_seed = 4\n",
    "assert division_5_7(random_seed) == 35, \"Wrong answer, please code again\""
   ]
  },
  {
   "cell_type": "code",
   "execution_count": null,
   "id": "accepted-apartment",
   "metadata": {},
   "outputs": [],
   "source": []
  }
 ],
 "metadata": {
  "kernelspec": {
   "display_name": "Python 3",
   "language": "python",
   "name": "python3"
  },
  "language_info": {
   "codemirror_mode": {
    "name": "ipython",
    "version": 3
   },
   "file_extension": ".py",
   "mimetype": "text/x-python",
   "name": "python",
   "nbconvert_exporter": "python",
   "pygments_lexer": "ipython3",
   "version": "3.7.10"
  }
 },
 "nbformat": 4,
 "nbformat_minor": 5
}
