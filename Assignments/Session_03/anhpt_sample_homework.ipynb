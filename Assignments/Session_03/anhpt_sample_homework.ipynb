{
 "cells": [
  {
   "cell_type": "code",
   "execution_count": 2,
   "id": "8986eb2e-e02f-49d3-abd8-05f50dbf139c",
   "metadata": {},
   "outputs": [],
   "source": [
    "%config Completer.use_jedi = False"
   ]
  },
  {
   "cell_type": "code",
   "execution_count": 3,
   "id": "52b57182-a320-4028-9735-258754bba4ea",
   "metadata": {},
   "outputs": [],
   "source": [
    "import pandas as pd"
   ]
  },
  {
   "cell_type": "code",
   "execution_count": 7,
   "id": "d92877c9-ede3-4bfa-87dd-1064fe7fe979",
   "metadata": {
    "tags": []
   },
   "outputs": [
    {
     "data": {
      "text/html": [
       "<div>\n",
       "<style scoped>\n",
       "    .dataframe tbody tr th:only-of-type {\n",
       "        vertical-align: middle;\n",
       "    }\n",
       "\n",
       "    .dataframe tbody tr th {\n",
       "        vertical-align: top;\n",
       "    }\n",
       "\n",
       "    .dataframe thead th {\n",
       "        text-align: right;\n",
       "    }\n",
       "</style>\n",
       "<table border=\"1\" class=\"dataframe\">\n",
       "  <thead>\n",
       "    <tr style=\"text-align: right;\">\n",
       "      <th></th>\n",
       "      <th>account_id</th>\n",
       "      <th>ad_id</th>\n",
       "      <th>event_name</th>\n",
       "      <th>timestamp</th>\n",
       "      <th>platform</th>\n",
       "      <th>category_name</th>\n",
       "      <th>region_name</th>\n",
       "      <th>condition_ad_name</th>\n",
       "      <th>price</th>\n",
       "    </tr>\n",
       "  </thead>\n",
       "  <tbody>\n",
       "    <tr>\n",
       "      <th>0</th>\n",
       "      <td>249683985899310273</td>\n",
       "      <td>-159265360436186278</td>\n",
       "      <td>order</td>\n",
       "      <td>2018-05-16 17:33:18.350333</td>\n",
       "      <td>on_behalf</td>\n",
       "      <td>Cars</td>\n",
       "      <td>Đông Bắc Bộ</td>\n",
       "      <td>Mới</td>\n",
       "      <td>267000000.0</td>\n",
       "    </tr>\n",
       "    <tr>\n",
       "      <th>1</th>\n",
       "      <td>2753457128963724056</td>\n",
       "      <td>-6487219347028929285</td>\n",
       "      <td>order</td>\n",
       "      <td>2018-05-04 16:03:08.099983</td>\n",
       "      <td>on_behalf</td>\n",
       "      <td>Cars</td>\n",
       "      <td>Đông Bắc Bộ</td>\n",
       "      <td>Mới</td>\n",
       "      <td>399000000.0</td>\n",
       "    </tr>\n",
       "    <tr>\n",
       "      <th>2</th>\n",
       "      <td>2753457128963724056</td>\n",
       "      <td>-6487219347028929285</td>\n",
       "      <td>order</td>\n",
       "      <td>2018-05-03 15:13:42.447070</td>\n",
       "      <td>on_behalf</td>\n",
       "      <td>Cars</td>\n",
       "      <td>Đông Bắc Bộ</td>\n",
       "      <td>Mới</td>\n",
       "      <td>399000000.0</td>\n",
       "    </tr>\n",
       "    <tr>\n",
       "      <th>3</th>\n",
       "      <td>-4397739266189556976</td>\n",
       "      <td>4054922453976773054</td>\n",
       "      <td>order</td>\n",
       "      <td>2018-05-23 11:15:25.932663</td>\n",
       "      <td>on_behalf</td>\n",
       "      <td>Cars</td>\n",
       "      <td>Hà Nội</td>\n",
       "      <td>Mới</td>\n",
       "      <td>705000000.0</td>\n",
       "    </tr>\n",
       "    <tr>\n",
       "      <th>4</th>\n",
       "      <td>-8143274583979068266</td>\n",
       "      <td>3202538754056800998</td>\n",
       "      <td>order</td>\n",
       "      <td>2018-05-15 17:53:01.634923</td>\n",
       "      <td>on_behalf</td>\n",
       "      <td>Cars</td>\n",
       "      <td>Hà Nội</td>\n",
       "      <td>Mới</td>\n",
       "      <td>696000000.0</td>\n",
       "    </tr>\n",
       "  </tbody>\n",
       "</table>\n",
       "</div>"
      ],
      "text/plain": [
       "            account_id                ad_id event_name  \\\n",
       "0   249683985899310273  -159265360436186278      order   \n",
       "1  2753457128963724056 -6487219347028929285      order   \n",
       "2  2753457128963724056 -6487219347028929285      order   \n",
       "3 -4397739266189556976  4054922453976773054      order   \n",
       "4 -8143274583979068266  3202538754056800998      order   \n",
       "\n",
       "                    timestamp   platform category_name  region_name  \\\n",
       "0  2018-05-16 17:33:18.350333  on_behalf          Cars  Đông Bắc Bộ   \n",
       "1  2018-05-04 16:03:08.099983  on_behalf          Cars  Đông Bắc Bộ   \n",
       "2  2018-05-03 15:13:42.447070  on_behalf          Cars  Đông Bắc Bộ   \n",
       "3  2018-05-23 11:15:25.932663  on_behalf          Cars       Hà Nội   \n",
       "4  2018-05-15 17:53:01.634923  on_behalf          Cars       Hà Nội   \n",
       "\n",
       "  condition_ad_name        price  \n",
       "0               Mới  267000000.0  \n",
       "1               Mới  399000000.0  \n",
       "2               Mới  399000000.0  \n",
       "3               Mới  705000000.0  \n",
       "4               Mới  696000000.0  "
      ]
     },
     "execution_count": 7,
     "metadata": {},
     "output_type": "execute_result"
    }
   ],
   "source": [
    "sample = pd.read_csv('sample_data.csv')\n",
    "sample.head(5)"
   ]
  },
  {
   "cell_type": "markdown",
   "id": "ac630794-4981-4ea9-bec3-744d9e14e825",
   "metadata": {},
   "source": [
    "# 1- How many distinct account_id on each platform?"
   ]
  },
  {
   "cell_type": "code",
   "execution_count": 12,
   "id": "2028a5e3-9030-442e-b737-c00a2fdb7d0f",
   "metadata": {},
   "outputs": [
    {
     "data": {
      "text/plain": [
       "platform\n",
       "android         10789\n",
       "desktop_web     11910\n",
       "ios             10773\n",
       "mobile_web       6154\n",
       "on_behalf          36\n",
       "unknown        108990\n",
       "Name: account_id, dtype: int64"
      ]
     },
     "execution_count": 12,
     "metadata": {},
     "output_type": "execute_result"
    }
   ],
   "source": [
    "sample.groupby('platform').account_id.nunique()"
   ]
  },
  {
   "cell_type": "markdown",
   "id": "96889bc7-8b60-494b-8e9c-4aac547c9955",
   "metadata": {},
   "source": [
    "# 2- How many distinct ad_id on each platform?"
   ]
  },
  {
   "cell_type": "code",
   "execution_count": 13,
   "id": "854aff8a-1240-4ac5-8f6a-e84e57cead27",
   "metadata": {},
   "outputs": [
    {
     "data": {
      "text/plain": [
       "platform\n",
       "android         130551\n",
       "desktop_web     144673\n",
       "ios             144161\n",
       "mobile_web       40165\n",
       "on_behalf           82\n",
       "unknown        3669226\n",
       "Name: ad_id, dtype: int64"
      ]
     },
     "execution_count": 13,
     "metadata": {},
     "output_type": "execute_result"
    }
   ],
   "source": [
    "sample.groupby('platform').ad_id.nunique()"
   ]
  },
  {
   "cell_type": "markdown",
   "id": "1f0590b2-e10e-46c4-ae43-ff9025232b71",
   "metadata": {},
   "source": [
    "# 3- For each category_name how many ad is advertised?"
   ]
  },
  {
   "cell_type": "code",
   "execution_count": 121,
   "id": "92f69150-5cc9-4907-97bf-ec0956476265",
   "metadata": {},
   "outputs": [
    {
     "data": {
      "text/plain": [
       "category_name\n",
       "Accessories                    106074\n",
       "Aircon                              9\n",
       "Bags                             8510\n",
       "Bed & bedding                      19\n",
       "Bicycles                        18087\n",
       "                                ...  \n",
       "Trucks                          10970\n",
       "Vehicles parts, Accessories     50158\n",
       "Video games                       516\n",
       "Washing machine                     5\n",
       "Watch                           51624\n",
       "Name: ad_id, Length: 64, dtype: int64"
      ]
     },
     "execution_count": 121,
     "metadata": {},
     "output_type": "execute_result"
    }
   ],
   "source": [
    "sample.groupby('category_name').ad_id.nunique()"
   ]
  },
  {
   "cell_type": "markdown",
   "id": "8ea70d67-4a2b-4bd4-9507-40d3a5f39d7c",
   "metadata": {},
   "source": [
    "# 4- Give me top 5 category_name having the highest number of ads?\n"
   ]
  },
  {
   "cell_type": "code",
   "execution_count": 137,
   "id": "a907c50d-f2c8-4f40-b054-7907d07f5afd",
   "metadata": {},
   "outputs": [
    {
     "data": {
      "text/html": [
       "<div>\n",
       "<style scoped>\n",
       "    .dataframe tbody tr th:only-of-type {\n",
       "        vertical-align: middle;\n",
       "    }\n",
       "\n",
       "    .dataframe tbody tr th {\n",
       "        vertical-align: top;\n",
       "    }\n",
       "\n",
       "    .dataframe thead th {\n",
       "        text-align: right;\n",
       "    }\n",
       "</style>\n",
       "<table border=\"1\" class=\"dataframe\">\n",
       "  <thead>\n",
       "    <tr style=\"text-align: right;\">\n",
       "      <th></th>\n",
       "      <th>number_of_ads</th>\n",
       "    </tr>\n",
       "    <tr>\n",
       "      <th>category_name</th>\n",
       "      <th></th>\n",
       "    </tr>\n",
       "  </thead>\n",
       "  <tbody>\n",
       "    <tr>\n",
       "      <th>Mobile Phones</th>\n",
       "      <td>655796</td>\n",
       "    </tr>\n",
       "    <tr>\n",
       "      <th>PTY-Houses</th>\n",
       "      <td>567108</td>\n",
       "    </tr>\n",
       "    <tr>\n",
       "      <th>Computers, Laptops</th>\n",
       "      <td>308002</td>\n",
       "    </tr>\n",
       "    <tr>\n",
       "      <th>PTY-Land</th>\n",
       "      <td>297297</td>\n",
       "    </tr>\n",
       "    <tr>\n",
       "      <th>TV, Speakers, MP3 players</th>\n",
       "      <td>259987</td>\n",
       "    </tr>\n",
       "  </tbody>\n",
       "</table>\n",
       "</div>"
      ],
      "text/plain": [
       "                           number_of_ads\n",
       "category_name                           \n",
       "Mobile Phones                     655796\n",
       "PTY-Houses                        567108\n",
       "Computers, Laptops                308002\n",
       "PTY-Land                          297297\n",
       "TV, Speakers, MP3 players         259987"
      ]
     },
     "execution_count": 137,
     "metadata": {},
     "output_type": "execute_result"
    }
   ],
   "source": [
    "sample.groupby('category_name').agg(number_of_ads = ('ad_id', 'nunique')).sort_values('number_of_ads', ascending = False).head(5)"
   ]
  },
  {
   "cell_type": "markdown",
   "id": "0af851c2-8737-4674-96ad-f0de0c166884",
   "metadata": {},
   "source": [
    "# 5- Give me top 5 category_name having lowest number of ads?"
   ]
  },
  {
   "cell_type": "code",
   "execution_count": 140,
   "id": "c9848191-644d-4da0-ac05-8d32efb41c14",
   "metadata": {},
   "outputs": [
    {
     "data": {
      "text/html": [
       "<div>\n",
       "<style scoped>\n",
       "    .dataframe tbody tr th:only-of-type {\n",
       "        vertical-align: middle;\n",
       "    }\n",
       "\n",
       "    .dataframe tbody tr th {\n",
       "        vertical-align: top;\n",
       "    }\n",
       "\n",
       "    .dataframe thead th {\n",
       "        text-align: right;\n",
       "    }\n",
       "</style>\n",
       "<table border=\"1\" class=\"dataframe\">\n",
       "  <thead>\n",
       "    <tr style=\"text-align: right;\">\n",
       "      <th></th>\n",
       "      <th>number_of_ads</th>\n",
       "    </tr>\n",
       "    <tr>\n",
       "      <th>category_name</th>\n",
       "      <th></th>\n",
       "    </tr>\n",
       "  </thead>\n",
       "  <tbody>\n",
       "    <tr>\n",
       "      <th>Other pet</th>\n",
       "      <td>1</td>\n",
       "    </tr>\n",
       "    <tr>\n",
       "      <th>Ornamental plant &amp; decoration</th>\n",
       "      <td>1</td>\n",
       "    </tr>\n",
       "    <tr>\n",
       "      <th>Fan</th>\n",
       "      <td>1</td>\n",
       "    </tr>\n",
       "    <tr>\n",
       "      <th>Lighting</th>\n",
       "      <td>2</td>\n",
       "    </tr>\n",
       "    <tr>\n",
       "      <th>Washing machine</th>\n",
       "      <td>5</td>\n",
       "    </tr>\n",
       "  </tbody>\n",
       "</table>\n",
       "</div>"
      ],
      "text/plain": [
       "                               number_of_ads\n",
       "category_name                               \n",
       "Other pet                                  1\n",
       "Ornamental plant & decoration              1\n",
       "Fan                                        1\n",
       "Lighting                                   2\n",
       "Washing machine                            5"
      ]
     },
     "execution_count": 140,
     "metadata": {},
     "output_type": "execute_result"
    }
   ],
   "source": [
    "sample.groupby('category_name').agg(number_of_ads = ('ad_id', 'nunique')).sort_values('number_of_ads').head(5)"
   ]
  },
  {
   "cell_type": "markdown",
   "id": "552f0b81-2920-4f0b-85a6-566d2d49c558",
   "metadata": {},
   "source": [
    "# 6- Give me the average price for all distinct ads within each category?"
   ]
  },
  {
   "cell_type": "code",
   "execution_count": 143,
   "id": "2be7658a-2138-4b7f-930c-39ddb43ea92a",
   "metadata": {},
   "outputs": [
    {
     "data": {
      "text/plain": [
       "averagee_pricee    70294\n",
       "dtype: int64"
      ]
     },
     "execution_count": 143,
     "metadata": {},
     "output_type": "execute_result"
    }
   ],
   "source": [
    "sample.groupby('category_name')."
   ]
  },
  {
   "cell_type": "code",
   "execution_count": 131,
   "id": "d38e6de2-2000-43bc-8e2b-89ef2284d3b9",
   "metadata": {},
   "outputs": [
    {
     "data": {
      "text/html": [
       "<div>\n",
       "<style scoped>\n",
       "    .dataframe tbody tr th:only-of-type {\n",
       "        vertical-align: middle;\n",
       "    }\n",
       "\n",
       "    .dataframe tbody tr th {\n",
       "        vertical-align: top;\n",
       "    }\n",
       "\n",
       "    .dataframe thead th {\n",
       "        text-align: right;\n",
       "    }\n",
       "</style>\n",
       "<table border=\"1\" class=\"dataframe\">\n",
       "  <thead>\n",
       "    <tr style=\"text-align: right;\">\n",
       "      <th></th>\n",
       "      <th>average_price</th>\n",
       "    </tr>\n",
       "    <tr>\n",
       "      <th>category_name</th>\n",
       "      <th></th>\n",
       "    </tr>\n",
       "  </thead>\n",
       "  <tbody>\n",
       "    <tr>\n",
       "      <th>Accessories</th>\n",
       "      <td>8.808542e+06</td>\n",
       "    </tr>\n",
       "    <tr>\n",
       "      <th>Aircon</th>\n",
       "      <td>5.913818e+06</td>\n",
       "    </tr>\n",
       "    <tr>\n",
       "      <th>Bags</th>\n",
       "      <td>8.026387e+07</td>\n",
       "    </tr>\n",
       "    <tr>\n",
       "      <th>Bed &amp; bedding</th>\n",
       "      <td>1.482936e+06</td>\n",
       "    </tr>\n",
       "    <tr>\n",
       "      <th>Bicycles</th>\n",
       "      <td>3.262726e+06</td>\n",
       "    </tr>\n",
       "    <tr>\n",
       "      <th>...</th>\n",
       "      <td>...</td>\n",
       "    </tr>\n",
       "    <tr>\n",
       "      <th>Trucks</th>\n",
       "      <td>6.693941e+08</td>\n",
       "    </tr>\n",
       "    <tr>\n",
       "      <th>Vehicles parts, Accessories</th>\n",
       "      <td>1.141225e+08</td>\n",
       "    </tr>\n",
       "    <tr>\n",
       "      <th>Video games</th>\n",
       "      <td>2.210399e+06</td>\n",
       "    </tr>\n",
       "    <tr>\n",
       "      <th>Washing machine</th>\n",
       "      <td>1.349307e+07</td>\n",
       "    </tr>\n",
       "    <tr>\n",
       "      <th>Watch</th>\n",
       "      <td>3.596161e+07</td>\n",
       "    </tr>\n",
       "  </tbody>\n",
       "</table>\n",
       "<p>64 rows × 1 columns</p>\n",
       "</div>"
      ],
      "text/plain": [
       "                             average_price\n",
       "category_name                             \n",
       "Accessories                   8.808542e+06\n",
       "Aircon                        5.913818e+06\n",
       "Bags                          8.026387e+07\n",
       "Bed & bedding                 1.482936e+06\n",
       "Bicycles                      3.262726e+06\n",
       "...                                    ...\n",
       "Trucks                        6.693941e+08\n",
       "Vehicles parts, Accessories   1.141225e+08\n",
       "Video games                   2.210399e+06\n",
       "Washing machine               1.349307e+07\n",
       "Watch                         3.596161e+07\n",
       "\n",
       "[64 rows x 1 columns]"
      ]
     },
     "execution_count": 131,
     "metadata": {},
     "output_type": "execute_result"
    }
   ],
   "source": [
    "sample.groupby('category_name').agg(average_price = ('price', 'mean'))"
   ]
  },
  {
   "cell_type": "markdown",
   "id": "08b91df3-90af-43a7-b51f-1efe1f6619a0",
   "metadata": {},
   "source": [
    "# 7- Give me the average price for all distinct ads within each region_name?\n"
   ]
  },
  {
   "cell_type": "code",
   "execution_count": 44,
   "id": "bf98dc14-aad8-41f3-b4f4-fa2046c4b3d0",
   "metadata": {},
   "outputs": [
    {
     "data": {
      "text/html": [
       "<div>\n",
       "<style scoped>\n",
       "    .dataframe tbody tr th:only-of-type {\n",
       "        vertical-align: middle;\n",
       "    }\n",
       "\n",
       "    .dataframe tbody tr th {\n",
       "        vertical-align: top;\n",
       "    }\n",
       "\n",
       "    .dataframe thead th {\n",
       "        text-align: right;\n",
       "    }\n",
       "</style>\n",
       "<table border=\"1\" class=\"dataframe\">\n",
       "  <thead>\n",
       "    <tr style=\"text-align: right;\">\n",
       "      <th></th>\n",
       "      <th></th>\n",
       "      <th>average_price</th>\n",
       "    </tr>\n",
       "    <tr>\n",
       "      <th>region_name</th>\n",
       "      <th>ad_id</th>\n",
       "      <th></th>\n",
       "    </tr>\n",
       "  </thead>\n",
       "  <tbody>\n",
       "    <tr>\n",
       "      <th rowspan=\"5\" valign=\"top\">Bình Trị Thừa Thiên Huế</th>\n",
       "      <th>-9223210020812554718</th>\n",
       "      <td>1500000.0</td>\n",
       "    </tr>\n",
       "    <tr>\n",
       "      <th>-9223021154882804676</th>\n",
       "      <td>3300000.0</td>\n",
       "    </tr>\n",
       "    <tr>\n",
       "      <th>-9222427810124298511</th>\n",
       "      <td>2400000.0</td>\n",
       "    </tr>\n",
       "    <tr>\n",
       "      <th>-9221930762195792095</th>\n",
       "      <td>399000.0</td>\n",
       "    </tr>\n",
       "    <tr>\n",
       "      <th>-9221440087801565316</th>\n",
       "      <td>15200000.0</td>\n",
       "    </tr>\n",
       "    <tr>\n",
       "      <th>...</th>\n",
       "      <th>...</th>\n",
       "      <td>...</td>\n",
       "    </tr>\n",
       "    <tr>\n",
       "      <th rowspan=\"5\" valign=\"top\">Đông Nam Bộ</th>\n",
       "      <th>9222961926295084185</th>\n",
       "      <td>7250000.0</td>\n",
       "    </tr>\n",
       "    <tr>\n",
       "      <th>9223211030031331234</th>\n",
       "      <td>700000.0</td>\n",
       "    </tr>\n",
       "    <tr>\n",
       "      <th>9223283460874998808</th>\n",
       "      <td>3500000.0</td>\n",
       "    </tr>\n",
       "    <tr>\n",
       "      <th>9223298048998548035</th>\n",
       "      <td>1800000.0</td>\n",
       "    </tr>\n",
       "    <tr>\n",
       "      <th>9223358638847625643</th>\n",
       "      <td>12345000.0</td>\n",
       "    </tr>\n",
       "  </tbody>\n",
       "</table>\n",
       "<p>3678082 rows × 1 columns</p>\n",
       "</div>"
      ],
      "text/plain": [
       "                                              average_price\n",
       "region_name             ad_id                              \n",
       "Bình Trị Thừa Thiên Huế -9223210020812554718      1500000.0\n",
       "                        -9223021154882804676      3300000.0\n",
       "                        -9222427810124298511      2400000.0\n",
       "                        -9221930762195792095       399000.0\n",
       "                        -9221440087801565316     15200000.0\n",
       "...                                                     ...\n",
       "Đông Nam Bộ              9222961926295084185      7250000.0\n",
       "                         9223211030031331234       700000.0\n",
       "                         9223283460874998808      3500000.0\n",
       "                         9223298048998548035      1800000.0\n",
       "                         9223358638847625643     12345000.0\n",
       "\n",
       "[3678082 rows x 1 columns]"
      ]
     },
     "execution_count": 44,
     "metadata": {},
     "output_type": "execute_result"
    }
   ],
   "source": [
    "sample.groupby(['region_name', 'ad_id']).agg(average_price = ('price', 'mean'))"
   ]
  },
  {
   "cell_type": "markdown",
   "id": "ea35537e-891f-4d2b-a0b1-cdbaac70d603",
   "metadata": {},
   "source": [
    "# 8- Give details of condition_ad_name for all ads within each category? For example, for category cars, how may ads is 'Moi', 'Da su dung', and 'NaN'\n"
   ]
  },
  {
   "cell_type": "code",
   "execution_count": 40,
   "id": "7728b8a9-694c-49bd-bae6-30c659cd4ae8",
   "metadata": {},
   "outputs": [
    {
     "data": {
      "text/html": [
       "<div>\n",
       "<style scoped>\n",
       "    .dataframe tbody tr th:only-of-type {\n",
       "        vertical-align: middle;\n",
       "    }\n",
       "\n",
       "    .dataframe tbody tr th {\n",
       "        vertical-align: top;\n",
       "    }\n",
       "\n",
       "    .dataframe thead th {\n",
       "        text-align: right;\n",
       "    }\n",
       "</style>\n",
       "<table border=\"1\" class=\"dataframe\">\n",
       "  <thead>\n",
       "    <tr style=\"text-align: right;\">\n",
       "      <th></th>\n",
       "      <th></th>\n",
       "      <th>number_of_ads</th>\n",
       "    </tr>\n",
       "    <tr>\n",
       "      <th>category_name</th>\n",
       "      <th>condition_ad_name</th>\n",
       "      <th></th>\n",
       "    </tr>\n",
       "  </thead>\n",
       "  <tbody>\n",
       "    <tr>\n",
       "      <th rowspan=\"2\" valign=\"top\">Accessories</th>\n",
       "      <th>Mới</th>\n",
       "      <td>2412</td>\n",
       "    </tr>\n",
       "    <tr>\n",
       "      <th>Đã sử dụng</th>\n",
       "      <td>23379</td>\n",
       "    </tr>\n",
       "    <tr>\n",
       "      <th rowspan=\"2\" valign=\"top\">Aircon</th>\n",
       "      <th>Mới</th>\n",
       "      <td>6</td>\n",
       "    </tr>\n",
       "    <tr>\n",
       "      <th>Đã sử dụng</th>\n",
       "      <td>269</td>\n",
       "    </tr>\n",
       "    <tr>\n",
       "      <th>Bags</th>\n",
       "      <th>Mới</th>\n",
       "      <td>6635</td>\n",
       "    </tr>\n",
       "    <tr>\n",
       "      <th>...</th>\n",
       "      <th>...</th>\n",
       "      <td>...</td>\n",
       "    </tr>\n",
       "    <tr>\n",
       "      <th rowspan=\"2\" valign=\"top\">Video games</th>\n",
       "      <th>Mới</th>\n",
       "      <td>85</td>\n",
       "    </tr>\n",
       "    <tr>\n",
       "      <th>Đã sử dụng</th>\n",
       "      <td>330</td>\n",
       "    </tr>\n",
       "    <tr>\n",
       "      <th>Washing machine</th>\n",
       "      <th>Đã sử dụng</th>\n",
       "      <td>202</td>\n",
       "    </tr>\n",
       "    <tr>\n",
       "      <th rowspan=\"2\" valign=\"top\">Watch</th>\n",
       "      <th>Mới</th>\n",
       "      <td>27039</td>\n",
       "    </tr>\n",
       "    <tr>\n",
       "      <th>Đã sử dụng</th>\n",
       "      <td>47584</td>\n",
       "    </tr>\n",
       "  </tbody>\n",
       "</table>\n",
       "<p>106 rows × 1 columns</p>\n",
       "</div>"
      ],
      "text/plain": [
       "                                   number_of_ads\n",
       "category_name   condition_ad_name               \n",
       "Accessories     Mới                         2412\n",
       "                Đã sử dụng                 23379\n",
       "Aircon          Mới                            6\n",
       "                Đã sử dụng                   269\n",
       "Bags            Mới                         6635\n",
       "...                                          ...\n",
       "Video games     Mới                           85\n",
       "                Đã sử dụng                   330\n",
       "Washing machine Đã sử dụng                   202\n",
       "Watch           Mới                        27039\n",
       "                Đã sử dụng                 47584\n",
       "\n",
       "[106 rows x 1 columns]"
      ]
     },
     "execution_count": 40,
     "metadata": {},
     "output_type": "execute_result"
    }
   ],
   "source": [
    "sample.groupby(['category_name', 'condition_ad_name']).agg(number_of_ads = ('condition_ad_name', 'count'))"
   ]
  },
  {
   "cell_type": "markdown",
   "id": "8df2598e-0686-4df9-b814-5eac2d1a7499",
   "metadata": {},
   "source": [
    "# 9 - Which month in 2018 we see the highest number of (distinct ads)?"
   ]
  },
  {
   "cell_type": "code",
   "execution_count": 58,
   "id": "d3ee769d-c5d2-4fea-a204-42965d332b81",
   "metadata": {},
   "outputs": [],
   "source": [
    "# Dùng hàm DatetimeIndex để trích xuất ra ngày, tháng, năm\n",
    "sample['year'] = pd.DatetimeIndex(sample['timestamp']).year \n",
    "sample['month'] = pd.DatetimeIndex(sample['timestamp']).month\n",
    "sample['hour'] = pd.DatetimeIndex(sample['timestamp']).hour"
   ]
  },
  {
   "cell_type": "code",
   "execution_count": 72,
   "id": "94ff6488-de96-4db1-b64e-9e025c34b2bd",
   "metadata": {},
   "outputs": [
    {
     "data": {
      "text/html": [
       "<div>\n",
       "<style scoped>\n",
       "    .dataframe tbody tr th:only-of-type {\n",
       "        vertical-align: middle;\n",
       "    }\n",
       "\n",
       "    .dataframe tbody tr th {\n",
       "        vertical-align: top;\n",
       "    }\n",
       "\n",
       "    .dataframe thead th {\n",
       "        text-align: right;\n",
       "    }\n",
       "</style>\n",
       "<table border=\"1\" class=\"dataframe\">\n",
       "  <thead>\n",
       "    <tr style=\"text-align: right;\">\n",
       "      <th></th>\n",
       "      <th></th>\n",
       "      <th>number_of_ads</th>\n",
       "    </tr>\n",
       "    <tr>\n",
       "      <th>year</th>\n",
       "      <th>month</th>\n",
       "      <th></th>\n",
       "    </tr>\n",
       "  </thead>\n",
       "  <tbody>\n",
       "    <tr>\n",
       "      <th>2018</th>\n",
       "      <th>1</th>\n",
       "      <td>753773</td>\n",
       "    </tr>\n",
       "  </tbody>\n",
       "</table>\n",
       "</div>"
      ],
      "text/plain": [
       "            number_of_ads\n",
       "year month               \n",
       "2018 1             753773"
      ]
     },
     "execution_count": 72,
     "metadata": {},
     "output_type": "execute_result"
    }
   ],
   "source": [
    " sample.groupby(['year', 'month']).agg(number_of_ads = ('ad_id', 'nunique')).sort_values('number_of_ads', ascending = False).head(1)"
   ]
  },
  {
   "cell_type": "markdown",
   "id": "0377e2bb-301f-4396-9fd9-1978040a7ff4",
   "metadata": {},
   "source": [
    "# 10- Compare the distinct ads per hour in September, October, and November? Which month and which hour has top ads?"
   ]
  },
  {
   "cell_type": "code",
   "execution_count": 105,
   "id": "51fcc489-f99d-43b0-afbe-d27a6b639e0f",
   "metadata": {},
   "outputs": [],
   "source": [
    "sample_1 = sample.query(\"month >8 & month<12\") # nếu muốn lọc tháng = 9,10,11 thì viết query ntn?"
   ]
  },
  {
   "cell_type": "code",
   "execution_count": 110,
   "id": "0754ea8c-574a-45cb-a195-268542af17bb",
   "metadata": {},
   "outputs": [
    {
     "data": {
      "text/html": [
       "<div>\n",
       "<style scoped>\n",
       "    .dataframe tbody tr th:only-of-type {\n",
       "        vertical-align: middle;\n",
       "    }\n",
       "\n",
       "    .dataframe tbody tr th {\n",
       "        vertical-align: top;\n",
       "    }\n",
       "\n",
       "    .dataframe thead th {\n",
       "        text-align: right;\n",
       "    }\n",
       "</style>\n",
       "<table border=\"1\" class=\"dataframe\">\n",
       "  <thead>\n",
       "    <tr style=\"text-align: right;\">\n",
       "      <th></th>\n",
       "      <th></th>\n",
       "      <th>number_of_ads</th>\n",
       "    </tr>\n",
       "    <tr>\n",
       "      <th>hour</th>\n",
       "      <th>month</th>\n",
       "      <th></th>\n",
       "    </tr>\n",
       "  </thead>\n",
       "  <tbody>\n",
       "    <tr>\n",
       "      <th rowspan=\"3\" valign=\"top\">23</th>\n",
       "      <th>10</th>\n",
       "      <td>2958</td>\n",
       "    </tr>\n",
       "    <tr>\n",
       "      <th>9</th>\n",
       "      <td>2837</td>\n",
       "    </tr>\n",
       "    <tr>\n",
       "      <th>11</th>\n",
       "      <td>2830</td>\n",
       "    </tr>\n",
       "    <tr>\n",
       "      <th rowspan=\"2\" valign=\"top\">22</th>\n",
       "      <th>10</th>\n",
       "      <td>5311</td>\n",
       "    </tr>\n",
       "    <tr>\n",
       "      <th>9</th>\n",
       "      <td>5264</td>\n",
       "    </tr>\n",
       "    <tr>\n",
       "      <th>...</th>\n",
       "      <th>...</th>\n",
       "      <td>...</td>\n",
       "    </tr>\n",
       "    <tr>\n",
       "      <th rowspan=\"2\" valign=\"top\">1</th>\n",
       "      <th>9</th>\n",
       "      <td>616</td>\n",
       "    </tr>\n",
       "    <tr>\n",
       "      <th>11</th>\n",
       "      <td>565</td>\n",
       "    </tr>\n",
       "    <tr>\n",
       "      <th rowspan=\"3\" valign=\"top\">0</th>\n",
       "      <th>10</th>\n",
       "      <td>1459</td>\n",
       "    </tr>\n",
       "    <tr>\n",
       "      <th>9</th>\n",
       "      <td>1343</td>\n",
       "    </tr>\n",
       "    <tr>\n",
       "      <th>11</th>\n",
       "      <td>1310</td>\n",
       "    </tr>\n",
       "  </tbody>\n",
       "</table>\n",
       "<p>72 rows × 1 columns</p>\n",
       "</div>"
      ],
      "text/plain": [
       "            number_of_ads\n",
       "hour month               \n",
       "23   10              2958\n",
       "     9               2837\n",
       "     11              2830\n",
       "22   10              5311\n",
       "     9               5264\n",
       "...                   ...\n",
       "1    9                616\n",
       "     11               565\n",
       "0    10              1459\n",
       "     9               1343\n",
       "     11              1310\n",
       "\n",
       "[72 rows x 1 columns]"
      ]
     },
     "execution_count": 110,
     "metadata": {},
     "output_type": "execute_result"
    }
   ],
   "source": [
    "# Compare\n",
    "compare = sample_1.groupby(['hour', 'month']).agg(number_of_ads = ('ad_id', 'nunique')).sort_values(['hour', 'number_of_ads'], ascending = False)\n",
    "pd.options.display.max_rows = 10\n",
    "compare"
   ]
  },
  {
   "cell_type": "code",
   "execution_count": 118,
   "id": "461860f6-4c62-41df-a518-c1a551b74e50",
   "metadata": {},
   "outputs": [
    {
     "data": {
      "text/html": [
       "<div>\n",
       "<style scoped>\n",
       "    .dataframe tbody tr th:only-of-type {\n",
       "        vertical-align: middle;\n",
       "    }\n",
       "\n",
       "    .dataframe tbody tr th {\n",
       "        vertical-align: top;\n",
       "    }\n",
       "\n",
       "    .dataframe thead th {\n",
       "        text-align: right;\n",
       "    }\n",
       "</style>\n",
       "<table border=\"1\" class=\"dataframe\">\n",
       "  <thead>\n",
       "    <tr style=\"text-align: right;\">\n",
       "      <th></th>\n",
       "      <th>number_of_ads</th>\n",
       "    </tr>\n",
       "    <tr>\n",
       "      <th>month</th>\n",
       "      <th></th>\n",
       "    </tr>\n",
       "  </thead>\n",
       "  <tbody>\n",
       "    <tr>\n",
       "      <th>10</th>\n",
       "      <td>246541</td>\n",
       "    </tr>\n",
       "  </tbody>\n",
       "</table>\n",
       "</div>"
      ],
      "text/plain": [
       "       number_of_ads\n",
       "month               \n",
       "10            246541"
      ]
     },
     "execution_count": 118,
     "metadata": {},
     "output_type": "execute_result"
    }
   ],
   "source": [
    "# Month\n",
    "sample_1.groupby('month').agg(number_of_ads = ('ad_id', 'nunique')).sort_values('number_of_ads', ascending = False).head(1)"
   ]
  },
  {
   "cell_type": "code",
   "execution_count": 114,
   "id": "12db6c97-24fe-4969-904b-bdbaaa47e610",
   "metadata": {},
   "outputs": [
    {
     "data": {
      "text/html": [
       "<div>\n",
       "<style scoped>\n",
       "    .dataframe tbody tr th:only-of-type {\n",
       "        vertical-align: middle;\n",
       "    }\n",
       "\n",
       "    .dataframe tbody tr th {\n",
       "        vertical-align: top;\n",
       "    }\n",
       "\n",
       "    .dataframe thead th {\n",
       "        text-align: right;\n",
       "    }\n",
       "</style>\n",
       "<table border=\"1\" class=\"dataframe\">\n",
       "  <thead>\n",
       "    <tr style=\"text-align: right;\">\n",
       "      <th></th>\n",
       "      <th>number_of_ads</th>\n",
       "    </tr>\n",
       "    <tr>\n",
       "      <th>hour</th>\n",
       "      <th></th>\n",
       "    </tr>\n",
       "  </thead>\n",
       "  <tbody>\n",
       "    <tr>\n",
       "      <th>9</th>\n",
       "      <td>91100</td>\n",
       "    </tr>\n",
       "  </tbody>\n",
       "</table>\n",
       "</div>"
      ],
      "text/plain": [
       "      number_of_ads\n",
       "hour               \n",
       "9             91100"
      ]
     },
     "execution_count": 114,
     "metadata": {},
     "output_type": "execute_result"
    }
   ],
   "source": [
    "# Hour: tổng số lượng quảng cáo theo từng giờ trong cả 3 tháng\n",
    "sample_1.groupby('hour').agg(number_of_ads = ('ad_id', 'nunique')).sort_values('number_of_ads', ascending = False).head(1)"
   ]
  },
  {
   "cell_type": "code",
   "execution_count": 120,
   "id": "f580274d-167b-4c43-9341-c547ddcac87f",
   "metadata": {},
   "outputs": [
    {
     "data": {
      "text/html": [
       "<div>\n",
       "<style scoped>\n",
       "    .dataframe tbody tr th:only-of-type {\n",
       "        vertical-align: middle;\n",
       "    }\n",
       "\n",
       "    .dataframe tbody tr th {\n",
       "        vertical-align: top;\n",
       "    }\n",
       "\n",
       "    .dataframe thead th {\n",
       "        text-align: right;\n",
       "    }\n",
       "</style>\n",
       "<table border=\"1\" class=\"dataframe\">\n",
       "  <thead>\n",
       "    <tr style=\"text-align: right;\">\n",
       "      <th></th>\n",
       "      <th></th>\n",
       "      <th>number_of_ads</th>\n",
       "    </tr>\n",
       "    <tr>\n",
       "      <th>hour</th>\n",
       "      <th>month</th>\n",
       "      <th></th>\n",
       "    </tr>\n",
       "  </thead>\n",
       "  <tbody>\n",
       "    <tr>\n",
       "      <th>9</th>\n",
       "      <th>10</th>\n",
       "      <td>33858</td>\n",
       "    </tr>\n",
       "  </tbody>\n",
       "</table>\n",
       "</div>"
      ],
      "text/plain": [
       "            number_of_ads\n",
       "hour month               \n",
       "9    10             33858"
      ]
     },
     "execution_count": 120,
     "metadata": {},
     "output_type": "execute_result"
    }
   ],
   "source": [
    "# Hour: tổng số lượng quảng cáo theo từng giờ trong từng tháng\n",
    "# Đề yêu cầu số liệu nào????\n",
    "compare.sort_values('number_of_ads', ascending = False).head(1)"
   ]
  }
 ],
 "metadata": {
  "kernelspec": {
   "display_name": "Python 3",
   "language": "python",
   "name": "python3"
  },
  "language_info": {
   "codemirror_mode": {
    "name": "ipython",
    "version": 3
   },
   "file_extension": ".py",
   "mimetype": "text/x-python",
   "name": "python",
   "nbconvert_exporter": "python",
   "pygments_lexer": "ipython3",
   "version": "3.7.10"
  }
 },
 "nbformat": 4,
 "nbformat_minor": 5
}
