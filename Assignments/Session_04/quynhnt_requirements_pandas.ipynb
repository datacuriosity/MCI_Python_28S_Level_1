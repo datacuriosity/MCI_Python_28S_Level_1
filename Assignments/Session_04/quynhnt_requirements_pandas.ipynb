{
 "cells": [
  {
   "cell_type": "code",
   "execution_count": 1,
   "id": "e1e52056-44b3-4400-af6a-c0e01e5afb02",
   "metadata": {},
   "outputs": [],
   "source": [
    "import numpy as np\n",
    "import pandas as pd"
   ]
  },
  {
   "cell_type": "code",
   "execution_count": 2,
   "id": "aaa9504e-86f1-453c-9554-1f37c6a607d9",
   "metadata": {},
   "outputs": [],
   "source": [
    "%config Completer.use_jedi=False"
   ]
  },
  {
   "cell_type": "code",
   "execution_count": 3,
   "id": "c49132e5-e113-4797-9fab-66b90484c656",
   "metadata": {},
   "outputs": [
    {
     "data": {
      "text/html": [
       "<div>\n",
       "<style scoped>\n",
       "    .dataframe tbody tr th:only-of-type {\n",
       "        vertical-align: middle;\n",
       "    }\n",
       "\n",
       "    .dataframe tbody tr th {\n",
       "        vertical-align: top;\n",
       "    }\n",
       "\n",
       "    .dataframe thead th {\n",
       "        text-align: right;\n",
       "    }\n",
       "</style>\n",
       "<table border=\"1\" class=\"dataframe\">\n",
       "  <thead>\n",
       "    <tr style=\"text-align: right;\">\n",
       "      <th></th>\n",
       "      <th>account_id</th>\n",
       "      <th>ad_id</th>\n",
       "      <th>event_name</th>\n",
       "      <th>timestamp</th>\n",
       "      <th>platform</th>\n",
       "      <th>category_name</th>\n",
       "      <th>region_name</th>\n",
       "      <th>condition_ad_name</th>\n",
       "      <th>price</th>\n",
       "    </tr>\n",
       "  </thead>\n",
       "  <tbody>\n",
       "    <tr>\n",
       "      <th>0</th>\n",
       "      <td>249683985899310273</td>\n",
       "      <td>-159265360436186278</td>\n",
       "      <td>order</td>\n",
       "      <td>2018-05-16 17:33:18.350333</td>\n",
       "      <td>on_behalf</td>\n",
       "      <td>Cars</td>\n",
       "      <td>Đông Bắc Bộ</td>\n",
       "      <td>Mới</td>\n",
       "      <td>267000000.0</td>\n",
       "    </tr>\n",
       "    <tr>\n",
       "      <th>1</th>\n",
       "      <td>2753457128963724056</td>\n",
       "      <td>-6487219347028929285</td>\n",
       "      <td>order</td>\n",
       "      <td>2018-05-04 16:03:08.099983</td>\n",
       "      <td>on_behalf</td>\n",
       "      <td>Cars</td>\n",
       "      <td>Đông Bắc Bộ</td>\n",
       "      <td>Mới</td>\n",
       "      <td>399000000.0</td>\n",
       "    </tr>\n",
       "    <tr>\n",
       "      <th>2</th>\n",
       "      <td>2753457128963724056</td>\n",
       "      <td>-6487219347028929285</td>\n",
       "      <td>order</td>\n",
       "      <td>2018-05-03 15:13:42.447070</td>\n",
       "      <td>on_behalf</td>\n",
       "      <td>Cars</td>\n",
       "      <td>Đông Bắc Bộ</td>\n",
       "      <td>Mới</td>\n",
       "      <td>399000000.0</td>\n",
       "    </tr>\n",
       "    <tr>\n",
       "      <th>3</th>\n",
       "      <td>-4397739266189556976</td>\n",
       "      <td>4054922453976773054</td>\n",
       "      <td>order</td>\n",
       "      <td>2018-05-23 11:15:25.932663</td>\n",
       "      <td>on_behalf</td>\n",
       "      <td>Cars</td>\n",
       "      <td>Hà Nội</td>\n",
       "      <td>Mới</td>\n",
       "      <td>705000000.0</td>\n",
       "    </tr>\n",
       "    <tr>\n",
       "      <th>4</th>\n",
       "      <td>-8143274583979068266</td>\n",
       "      <td>3202538754056800998</td>\n",
       "      <td>order</td>\n",
       "      <td>2018-05-15 17:53:01.634923</td>\n",
       "      <td>on_behalf</td>\n",
       "      <td>Cars</td>\n",
       "      <td>Hà Nội</td>\n",
       "      <td>Mới</td>\n",
       "      <td>696000000.0</td>\n",
       "    </tr>\n",
       "  </tbody>\n",
       "</table>\n",
       "</div>"
      ],
      "text/plain": [
       "            account_id                ad_id event_name  \\\n",
       "0   249683985899310273  -159265360436186278      order   \n",
       "1  2753457128963724056 -6487219347028929285      order   \n",
       "2  2753457128963724056 -6487219347028929285      order   \n",
       "3 -4397739266189556976  4054922453976773054      order   \n",
       "4 -8143274583979068266  3202538754056800998      order   \n",
       "\n",
       "                    timestamp   platform category_name  region_name  \\\n",
       "0  2018-05-16 17:33:18.350333  on_behalf          Cars  Đông Bắc Bộ   \n",
       "1  2018-05-04 16:03:08.099983  on_behalf          Cars  Đông Bắc Bộ   \n",
       "2  2018-05-03 15:13:42.447070  on_behalf          Cars  Đông Bắc Bộ   \n",
       "3  2018-05-23 11:15:25.932663  on_behalf          Cars       Hà Nội   \n",
       "4  2018-05-15 17:53:01.634923  on_behalf          Cars       Hà Nội   \n",
       "\n",
       "  condition_ad_name        price  \n",
       "0               Mới  267000000.0  \n",
       "1               Mới  399000000.0  \n",
       "2               Mới  399000000.0  \n",
       "3               Mới  705000000.0  \n",
       "4               Mới  696000000.0  "
      ]
     },
     "execution_count": 3,
     "metadata": {},
     "output_type": "execute_result"
    }
   ],
   "source": [
    "sample=pd.read_csv(r'C:\\Users\\Laptop EDG\\Downloads\\HW_4\\sample_data.csv')\n",
    "sample.head(5)"
   ]
  },
  {
   "cell_type": "markdown",
   "id": "1ab3b55e-ad45-446b-b3a3-84306435e979",
   "metadata": {},
   "source": [
    "### 1- How many distinct account_id on each platform?"
   ]
  },
  {
   "cell_type": "code",
   "execution_count": 4,
   "id": "47c7638f-ae82-4975-9433-e1acf81508ef",
   "metadata": {},
   "outputs": [
    {
     "data": {
      "text/plain": [
       "108990"
      ]
     },
     "execution_count": 4,
     "metadata": {},
     "output_type": "execute_result"
    }
   ],
   "source": [
    "sample.account_id.nunique()"
   ]
  },
  {
   "cell_type": "code",
   "execution_count": 5,
   "id": "31064795-99cf-4416-9588-68753a92fa44",
   "metadata": {},
   "outputs": [
    {
     "data": {
      "text/plain": [
       "platform\n",
       "android         10789\n",
       "desktop_web     11910\n",
       "ios             10773\n",
       "mobile_web       6154\n",
       "on_behalf          36\n",
       "unknown        108990\n",
       "Name: account_id, dtype: int64"
      ]
     },
     "execution_count": 5,
     "metadata": {},
     "output_type": "execute_result"
    }
   ],
   "source": [
    "sample.groupby('platform').account_id.nunique()"
   ]
  },
  {
   "cell_type": "markdown",
   "id": "0dba42dc-501e-44fc-be54-6e8953b5c5ea",
   "metadata": {},
   "source": [
    "### 2- How many distinct ad_id on each platform?"
   ]
  },
  {
   "cell_type": "code",
   "execution_count": 6,
   "id": "88ff0345-33cc-41e6-b97d-f87a0164d7a9",
   "metadata": {},
   "outputs": [
    {
     "data": {
      "text/plain": [
       "platform\n",
       "android         130551\n",
       "desktop_web     144673\n",
       "ios             144161\n",
       "mobile_web       40165\n",
       "on_behalf           82\n",
       "unknown        3669226\n",
       "Name: ad_id, dtype: int64"
      ]
     },
     "execution_count": 6,
     "metadata": {},
     "output_type": "execute_result"
    }
   ],
   "source": [
    "sample.groupby('platform').ad_id.nunique()"
   ]
  },
  {
   "cell_type": "markdown",
   "id": "5ac43a1f-b99f-4094-bdeb-e0d58bf7816b",
   "metadata": {},
   "source": [
    "### 3- For each category_name how many ad is advertised?"
   ]
  },
  {
   "cell_type": "code",
   "execution_count": 7,
   "id": "6fde0b7f-e116-487a-be1e-f01d71636572",
   "metadata": {},
   "outputs": [
    {
     "data": {
      "text/plain": [
       "category_name\n",
       "Accessories                    121942\n",
       "Aircon                            275\n",
       "Bags                            10470\n",
       "Bed & bedding                     453\n",
       "Bicycles                        23474\n",
       "                                ...  \n",
       "Trucks                          52772\n",
       "Vehicles parts, Accessories     56459\n",
       "Video games                       662\n",
       "Washing machine                   202\n",
       "Watch                           74707\n",
       "Name: ad_id, Length: 64, dtype: int64"
      ]
     },
     "execution_count": 7,
     "metadata": {},
     "output_type": "execute_result"
    }
   ],
   "source": [
    "#C1:\n",
    "sample.groupby('category_name').ad_id.count()"
   ]
  },
  {
   "cell_type": "code",
   "execution_count": 8,
   "id": "6c17e444-8f7a-4a4b-94f9-aae705073d5d",
   "metadata": {},
   "outputs": [
    {
     "data": {
      "text/plain": [
       "PTY-Houses                       842357\n",
       "Mobile Phones                    781435\n",
       "Motorbikes                       528333\n",
       "PTY-Land                         415120\n",
       "Computers, Laptops               351123\n",
       "                                  ...  \n",
       "Other household items 14110         139\n",
       "Ornamental plant & decoration        41\n",
       "Other pet                            36\n",
       "Fan                                  12\n",
       "Lighting                              9\n",
       "Name: category_name, Length: 64, dtype: int64"
      ]
     },
     "execution_count": 8,
     "metadata": {},
     "output_type": "execute_result"
    }
   ],
   "source": [
    "#C2:\n",
    "sample.category_name.value_counts()"
   ]
  },
  {
   "cell_type": "markdown",
   "id": "ce8e82ec-cf3f-44a6-9b11-cce5fa056c61",
   "metadata": {},
   "source": [
    "### 4- Give me top 5 category_name having the highest number of ads?"
   ]
  },
  {
   "cell_type": "code",
   "execution_count": 9,
   "id": "55e59298-73e9-4eaf-8f47-0acdda4ea4e5",
   "metadata": {},
   "outputs": [
    {
     "data": {
      "text/plain": [
       "PTY-Houses            842357\n",
       "Mobile Phones         781435\n",
       "Motorbikes            528333\n",
       "PTY-Land              415120\n",
       "Computers, Laptops    351123\n",
       "Name: category_name, dtype: int64"
      ]
     },
     "execution_count": 9,
     "metadata": {},
     "output_type": "execute_result"
    }
   ],
   "source": [
    "sample.category_name.value_counts().head(5)"
   ]
  },
  {
   "cell_type": "markdown",
   "id": "a890ae68-2b46-4509-909e-68414e75ce2a",
   "metadata": {},
   "source": [
    "### 5- Give me top 5 category_name having lowest number of ads?"
   ]
  },
  {
   "cell_type": "code",
   "execution_count": 10,
   "id": "6e90d4ff-a215-4254-8cf6-a1389c103ecf",
   "metadata": {},
   "outputs": [
    {
     "data": {
      "text/plain": [
       "Other household items 14110      139\n",
       "Ornamental plant & decoration     41\n",
       "Other pet                         36\n",
       "Fan                               12\n",
       "Lighting                           9\n",
       "Name: category_name, dtype: int64"
      ]
     },
     "execution_count": 10,
     "metadata": {},
     "output_type": "execute_result"
    }
   ],
   "source": [
    "sample.category_name.value_counts().tail(5)"
   ]
  },
  {
   "cell_type": "markdown",
   "id": "472341fa-6457-4bfd-831e-63b8203b508e",
   "metadata": {},
   "source": [
    "### 6- Give me the average price for all distinct ads within each category?"
   ]
  },
  {
   "cell_type": "code",
   "execution_count": 11,
   "id": "4857e98c-e72b-4945-8d87-a7126fbbc514",
   "metadata": {},
   "outputs": [],
   "source": [
    "# sao 2 cách ra 2 đáp án khác nhau?"
   ]
  },
  {
   "cell_type": "code",
   "execution_count": 12,
   "id": "80dc9d27-ac62-4146-9d73-87a6d98ae8ec",
   "metadata": {},
   "outputs": [
    {
     "data": {
      "text/html": [
       "<div>\n",
       "<style scoped>\n",
       "    .dataframe tbody tr th:only-of-type {\n",
       "        vertical-align: middle;\n",
       "    }\n",
       "\n",
       "    .dataframe tbody tr th {\n",
       "        vertical-align: top;\n",
       "    }\n",
       "\n",
       "    .dataframe thead th {\n",
       "        text-align: right;\n",
       "    }\n",
       "</style>\n",
       "<table border=\"1\" class=\"dataframe\">\n",
       "  <thead>\n",
       "    <tr style=\"text-align: right;\">\n",
       "      <th></th>\n",
       "      <th>count_ad</th>\n",
       "      <th>sum_price</th>\n",
       "      <th>average_price</th>\n",
       "    </tr>\n",
       "    <tr>\n",
       "      <th>category_name</th>\n",
       "      <th></th>\n",
       "      <th></th>\n",
       "      <th></th>\n",
       "    </tr>\n",
       "  </thead>\n",
       "  <tbody>\n",
       "    <tr>\n",
       "      <th>Accessories</th>\n",
       "      <td>121942</td>\n",
       "      <td>1.039012e+12</td>\n",
       "      <td>8.520539e+06</td>\n",
       "    </tr>\n",
       "    <tr>\n",
       "      <th>Aircon</th>\n",
       "      <td>275</td>\n",
       "      <td>1.626300e+09</td>\n",
       "      <td>5.913818e+06</td>\n",
       "    </tr>\n",
       "    <tr>\n",
       "      <th>Bags</th>\n",
       "      <td>10470</td>\n",
       "      <td>8.102638e+11</td>\n",
       "      <td>7.738909e+07</td>\n",
       "    </tr>\n",
       "    <tr>\n",
       "      <th>Bed &amp; bedding</th>\n",
       "      <td>453</td>\n",
       "      <td>6.717700e+08</td>\n",
       "      <td>1.482936e+06</td>\n",
       "    </tr>\n",
       "    <tr>\n",
       "      <th>Bicycles</th>\n",
       "      <td>23474</td>\n",
       "      <td>7.625969e+10</td>\n",
       "      <td>3.248688e+06</td>\n",
       "    </tr>\n",
       "    <tr>\n",
       "      <th>...</th>\n",
       "      <td>...</td>\n",
       "      <td>...</td>\n",
       "      <td>...</td>\n",
       "    </tr>\n",
       "    <tr>\n",
       "      <th>Trucks</th>\n",
       "      <td>52772</td>\n",
       "      <td>3.464918e+13</td>\n",
       "      <td>6.565826e+08</td>\n",
       "    </tr>\n",
       "    <tr>\n",
       "      <th>Vehicles parts, Accessories</th>\n",
       "      <td>56459</td>\n",
       "      <td>6.275824e+12</td>\n",
       "      <td>1.111572e+08</td>\n",
       "    </tr>\n",
       "    <tr>\n",
       "      <th>Video games</th>\n",
       "      <td>662</td>\n",
       "      <td>1.438970e+09</td>\n",
       "      <td>2.173671e+06</td>\n",
       "    </tr>\n",
       "    <tr>\n",
       "      <th>Washing machine</th>\n",
       "      <td>202</td>\n",
       "      <td>2.725600e+09</td>\n",
       "      <td>1.349307e+07</td>\n",
       "    </tr>\n",
       "    <tr>\n",
       "      <th>Watch</th>\n",
       "      <td>74707</td>\n",
       "      <td>2.662310e+12</td>\n",
       "      <td>3.563669e+07</td>\n",
       "    </tr>\n",
       "  </tbody>\n",
       "</table>\n",
       "<p>64 rows × 3 columns</p>\n",
       "</div>"
      ],
      "text/plain": [
       "                             count_ad     sum_price  average_price\n",
       "category_name                                                     \n",
       "Accessories                    121942  1.039012e+12   8.520539e+06\n",
       "Aircon                            275  1.626300e+09   5.913818e+06\n",
       "Bags                            10470  8.102638e+11   7.738909e+07\n",
       "Bed & bedding                     453  6.717700e+08   1.482936e+06\n",
       "Bicycles                        23474  7.625969e+10   3.248688e+06\n",
       "...                               ...           ...            ...\n",
       "Trucks                          52772  3.464918e+13   6.565826e+08\n",
       "Vehicles parts, Accessories     56459  6.275824e+12   1.111572e+08\n",
       "Video games                       662  1.438970e+09   2.173671e+06\n",
       "Washing machine                   202  2.725600e+09   1.349307e+07\n",
       "Watch                           74707  2.662310e+12   3.563669e+07\n",
       "\n",
       "[64 rows x 3 columns]"
      ]
     },
     "execution_count": 12,
     "metadata": {},
     "output_type": "execute_result"
    }
   ],
   "source": [
    "sp=sample.groupby('category_name').agg(count_ad=('category_name','count'), sum_price=('price','sum'))\n",
    "sp['average_price']=sp['sum_price']/sp['count_ad']\n",
    "sp"
   ]
  },
  {
   "cell_type": "code",
   "execution_count": 13,
   "id": "8dda4944-a5b8-4c02-bcaa-b27d385faa9e",
   "metadata": {},
   "outputs": [
    {
     "data": {
      "text/html": [
       "<div>\n",
       "<style scoped>\n",
       "    .dataframe tbody tr th:only-of-type {\n",
       "        vertical-align: middle;\n",
       "    }\n",
       "\n",
       "    .dataframe tbody tr th {\n",
       "        vertical-align: top;\n",
       "    }\n",
       "\n",
       "    .dataframe thead th {\n",
       "        text-align: right;\n",
       "    }\n",
       "</style>\n",
       "<table border=\"1\" class=\"dataframe\">\n",
       "  <thead>\n",
       "    <tr style=\"text-align: right;\">\n",
       "      <th></th>\n",
       "      <th>price</th>\n",
       "    </tr>\n",
       "    <tr>\n",
       "      <th>category_name</th>\n",
       "      <th></th>\n",
       "    </tr>\n",
       "  </thead>\n",
       "  <tbody>\n",
       "    <tr>\n",
       "      <th>Accessories</th>\n",
       "      <td>8.808542e+06</td>\n",
       "    </tr>\n",
       "    <tr>\n",
       "      <th>Aircon</th>\n",
       "      <td>5.913818e+06</td>\n",
       "    </tr>\n",
       "    <tr>\n",
       "      <th>Bags</th>\n",
       "      <td>8.026387e+07</td>\n",
       "    </tr>\n",
       "    <tr>\n",
       "      <th>Bed &amp; bedding</th>\n",
       "      <td>1.482936e+06</td>\n",
       "    </tr>\n",
       "    <tr>\n",
       "      <th>Bicycles</th>\n",
       "      <td>3.262726e+06</td>\n",
       "    </tr>\n",
       "    <tr>\n",
       "      <th>...</th>\n",
       "      <td>...</td>\n",
       "    </tr>\n",
       "    <tr>\n",
       "      <th>Trucks</th>\n",
       "      <td>6.693941e+08</td>\n",
       "    </tr>\n",
       "    <tr>\n",
       "      <th>Vehicles parts, Accessories</th>\n",
       "      <td>1.141225e+08</td>\n",
       "    </tr>\n",
       "    <tr>\n",
       "      <th>Video games</th>\n",
       "      <td>2.210399e+06</td>\n",
       "    </tr>\n",
       "    <tr>\n",
       "      <th>Washing machine</th>\n",
       "      <td>1.349307e+07</td>\n",
       "    </tr>\n",
       "    <tr>\n",
       "      <th>Watch</th>\n",
       "      <td>3.596161e+07</td>\n",
       "    </tr>\n",
       "  </tbody>\n",
       "</table>\n",
       "<p>64 rows × 1 columns</p>\n",
       "</div>"
      ],
      "text/plain": [
       "                                    price\n",
       "category_name                            \n",
       "Accessories                  8.808542e+06\n",
       "Aircon                       5.913818e+06\n",
       "Bags                         8.026387e+07\n",
       "Bed & bedding                1.482936e+06\n",
       "Bicycles                     3.262726e+06\n",
       "...                                   ...\n",
       "Trucks                       6.693941e+08\n",
       "Vehicles parts, Accessories  1.141225e+08\n",
       "Video games                  2.210399e+06\n",
       "Washing machine              1.349307e+07\n",
       "Watch                        3.596161e+07\n",
       "\n",
       "[64 rows x 1 columns]"
      ]
     },
     "execution_count": 13,
     "metadata": {},
     "output_type": "execute_result"
    }
   ],
   "source": [
    "sample.groupby('category_name')[['price']].mean()"
   ]
  },
  {
   "cell_type": "markdown",
   "id": "350ce8c5-d983-4a67-9ef2-f7eba1cc4af1",
   "metadata": {},
   "source": [
    "### 7- Give me the average price for all distinct ads within each region_name?"
   ]
  },
  {
   "cell_type": "code",
   "execution_count": 14,
   "id": "6339bab2-cf23-4aa9-8fcc-8a281ca728cc",
   "metadata": {},
   "outputs": [
    {
     "data": {
      "text/html": [
       "<div>\n",
       "<style scoped>\n",
       "    .dataframe tbody tr th:only-of-type {\n",
       "        vertical-align: middle;\n",
       "    }\n",
       "\n",
       "    .dataframe tbody tr th {\n",
       "        vertical-align: top;\n",
       "    }\n",
       "\n",
       "    .dataframe thead th {\n",
       "        text-align: right;\n",
       "    }\n",
       "</style>\n",
       "<table border=\"1\" class=\"dataframe\">\n",
       "  <thead>\n",
       "    <tr style=\"text-align: right;\">\n",
       "      <th></th>\n",
       "      <th>price</th>\n",
       "    </tr>\n",
       "    <tr>\n",
       "      <th>region_name</th>\n",
       "      <th></th>\n",
       "    </tr>\n",
       "  </thead>\n",
       "  <tbody>\n",
       "    <tr>\n",
       "      <th>Bình Trị Thừa Thiên Huế</th>\n",
       "      <td>4.143188e+08</td>\n",
       "    </tr>\n",
       "    <tr>\n",
       "      <th>Các tỉnh lân cận Hà Nội</th>\n",
       "      <td>3.186963e+08</td>\n",
       "    </tr>\n",
       "    <tr>\n",
       "      <th>Cần Thơ - Tây Nam Bộ</th>\n",
       "      <td>4.101916e+08</td>\n",
       "    </tr>\n",
       "    <tr>\n",
       "      <th>Hà Nội</th>\n",
       "      <td>6.645161e+08</td>\n",
       "    </tr>\n",
       "    <tr>\n",
       "      <th>Hải Phòng Nam Định Thái Bình</th>\n",
       "      <td>1.573403e+08</td>\n",
       "    </tr>\n",
       "    <tr>\n",
       "      <th>Nam Trung Bộ</th>\n",
       "      <td>9.059112e+08</td>\n",
       "    </tr>\n",
       "    <tr>\n",
       "      <th>Quảng Nam Đà Nẵng</th>\n",
       "      <td>9.412990e+08</td>\n",
       "    </tr>\n",
       "    <tr>\n",
       "      <th>Thanh Nghệ Tĩnh</th>\n",
       "      <td>2.442715e+08</td>\n",
       "    </tr>\n",
       "    <tr>\n",
       "      <th>Tp Hồ Chí Minh</th>\n",
       "      <td>1.302872e+09</td>\n",
       "    </tr>\n",
       "    <tr>\n",
       "      <th>Tây Bắc Bộ</th>\n",
       "      <td>3.616878e+08</td>\n",
       "    </tr>\n",
       "    <tr>\n",
       "      <th>Tây Nguyên</th>\n",
       "      <td>6.075989e+08</td>\n",
       "    </tr>\n",
       "    <tr>\n",
       "      <th>Đông Bắc Bộ</th>\n",
       "      <td>2.312546e+08</td>\n",
       "    </tr>\n",
       "    <tr>\n",
       "      <th>Đông Nam Bộ</th>\n",
       "      <td>7.097406e+08</td>\n",
       "    </tr>\n",
       "  </tbody>\n",
       "</table>\n",
       "</div>"
      ],
      "text/plain": [
       "                                     price\n",
       "region_name                               \n",
       "Bình Trị Thừa Thiên Huế       4.143188e+08\n",
       "Các tỉnh lân cận Hà Nội       3.186963e+08\n",
       "Cần Thơ - Tây Nam Bộ          4.101916e+08\n",
       "Hà Nội                        6.645161e+08\n",
       "Hải Phòng Nam Định Thái Bình  1.573403e+08\n",
       "Nam Trung Bộ                  9.059112e+08\n",
       "Quảng Nam Đà Nẵng             9.412990e+08\n",
       "Thanh Nghệ Tĩnh               2.442715e+08\n",
       "Tp Hồ Chí Minh                1.302872e+09\n",
       "Tây Bắc Bộ                    3.616878e+08\n",
       "Tây Nguyên                    6.075989e+08\n",
       "Đông Bắc Bộ                   2.312546e+08\n",
       "Đông Nam Bộ                   7.097406e+08"
      ]
     },
     "execution_count": 14,
     "metadata": {},
     "output_type": "execute_result"
    }
   ],
   "source": [
    "sample.groupby('region_name')[['price']].mean()"
   ]
  },
  {
   "cell_type": "markdown",
   "id": "a461f22e-10ca-4691-b2c8-5b80e8f3109f",
   "metadata": {},
   "source": [
    "### 8- Give details of condition_ad_name for all ads within each category? For example, for category cars, how may ads is 'Moi', 'Da su dung', and 'NaN'"
   ]
  },
  {
   "cell_type": "code",
   "execution_count": 15,
   "id": "3af38bf9-dd07-4d19-8daa-e58259be6b5a",
   "metadata": {},
   "outputs": [],
   "source": [
    "# sao output1 chỉ có 57 dòng?"
   ]
  },
  {
   "cell_type": "code",
   "execution_count": 72,
   "id": "0f9e6bf6-9fb6-4b31-9eb5-43b81222fcef",
   "metadata": {},
   "outputs": [
    {
     "data": {
      "text/html": [
       "<div>\n",
       "<style scoped>\n",
       "    .dataframe tbody tr th:only-of-type {\n",
       "        vertical-align: middle;\n",
       "    }\n",
       "\n",
       "    .dataframe tbody tr th {\n",
       "        vertical-align: top;\n",
       "    }\n",
       "\n",
       "    .dataframe thead th {\n",
       "        text-align: right;\n",
       "    }\n",
       "</style>\n",
       "<table border=\"1\" class=\"dataframe\">\n",
       "  <thead>\n",
       "    <tr style=\"text-align: right;\">\n",
       "      <th>condition_ad_name</th>\n",
       "      <th>Mới</th>\n",
       "      <th>Đã sử dụng</th>\n",
       "    </tr>\n",
       "    <tr>\n",
       "      <th>category_name</th>\n",
       "      <th></th>\n",
       "      <th></th>\n",
       "    </tr>\n",
       "  </thead>\n",
       "  <tbody>\n",
       "    <tr>\n",
       "      <th>Accessories</th>\n",
       "      <td>2412</td>\n",
       "      <td>23379</td>\n",
       "    </tr>\n",
       "    <tr>\n",
       "      <th>Aircon</th>\n",
       "      <td>6</td>\n",
       "      <td>269</td>\n",
       "    </tr>\n",
       "    <tr>\n",
       "      <th>Bags</th>\n",
       "      <td>6635</td>\n",
       "      <td>3816</td>\n",
       "    </tr>\n",
       "    <tr>\n",
       "      <th>Bed &amp; bedding</th>\n",
       "      <td>453</td>\n",
       "      <td>0</td>\n",
       "    </tr>\n",
       "    <tr>\n",
       "      <th>Bicycles</th>\n",
       "      <td>2901</td>\n",
       "      <td>20507</td>\n",
       "    </tr>\n",
       "    <tr>\n",
       "      <th>...</th>\n",
       "      <td>...</td>\n",
       "      <td>...</td>\n",
       "    </tr>\n",
       "    <tr>\n",
       "      <th>Trucks</th>\n",
       "      <td>15688</td>\n",
       "      <td>37043</td>\n",
       "    </tr>\n",
       "    <tr>\n",
       "      <th>Vehicles parts, Accessories</th>\n",
       "      <td>17202</td>\n",
       "      <td>38963</td>\n",
       "    </tr>\n",
       "    <tr>\n",
       "      <th>Video games</th>\n",
       "      <td>85</td>\n",
       "      <td>330</td>\n",
       "    </tr>\n",
       "    <tr>\n",
       "      <th>Washing machine</th>\n",
       "      <td>0</td>\n",
       "      <td>202</td>\n",
       "    </tr>\n",
       "    <tr>\n",
       "      <th>Watch</th>\n",
       "      <td>27039</td>\n",
       "      <td>47584</td>\n",
       "    </tr>\n",
       "  </tbody>\n",
       "</table>\n",
       "<p>57 rows × 2 columns</p>\n",
       "</div>"
      ],
      "text/plain": [
       "condition_ad_name              Mới  Đã sử dụng\n",
       "category_name                                 \n",
       "Accessories                   2412       23379\n",
       "Aircon                           6         269\n",
       "Bags                          6635        3816\n",
       "Bed & bedding                  453           0\n",
       "Bicycles                      2901       20507\n",
       "...                            ...         ...\n",
       "Trucks                       15688       37043\n",
       "Vehicles parts, Accessories  17202       38963\n",
       "Video games                     85         330\n",
       "Washing machine                  0         202\n",
       "Watch                        27039       47584\n",
       "\n",
       "[57 rows x 2 columns]"
      ]
     },
     "execution_count": 72,
     "metadata": {},
     "output_type": "execute_result"
    }
   ],
   "source": [
    "pd.options.display.max_rows=10\n",
    "sample.pivot_table(values='ad_id',index='category_name',\n",
    "                   columns='condition_ad_name',aggfunc='count',\n",
    "                   fill_value=0)"
   ]
  },
  {
   "cell_type": "code",
   "execution_count": 17,
   "id": "04cd888b-db40-41e6-8860-b2a1246c05d0",
   "metadata": {},
   "outputs": [
    {
     "data": {
      "text/html": [
       "<div>\n",
       "<style scoped>\n",
       "    .dataframe tbody tr th:only-of-type {\n",
       "        vertical-align: middle;\n",
       "    }\n",
       "\n",
       "    .dataframe tbody tr th {\n",
       "        vertical-align: top;\n",
       "    }\n",
       "\n",
       "    .dataframe thead th {\n",
       "        text-align: right;\n",
       "    }\n",
       "</style>\n",
       "<table border=\"1\" class=\"dataframe\">\n",
       "  <thead>\n",
       "    <tr style=\"text-align: right;\">\n",
       "      <th></th>\n",
       "      <th>NaN_condition</th>\n",
       "    </tr>\n",
       "    <tr>\n",
       "      <th>category_name</th>\n",
       "      <th></th>\n",
       "    </tr>\n",
       "  </thead>\n",
       "  <tbody>\n",
       "    <tr>\n",
       "      <th>Accessories</th>\n",
       "      <td>96151</td>\n",
       "    </tr>\n",
       "    <tr>\n",
       "      <th>Aircon</th>\n",
       "      <td>0</td>\n",
       "    </tr>\n",
       "    <tr>\n",
       "      <th>Bags</th>\n",
       "      <td>19</td>\n",
       "    </tr>\n",
       "    <tr>\n",
       "      <th>Bed &amp; bedding</th>\n",
       "      <td>0</td>\n",
       "    </tr>\n",
       "    <tr>\n",
       "      <th>Bicycles</th>\n",
       "      <td>66</td>\n",
       "    </tr>\n",
       "    <tr>\n",
       "      <th>...</th>\n",
       "      <td>...</td>\n",
       "    </tr>\n",
       "    <tr>\n",
       "      <th>Trucks</th>\n",
       "      <td>41</td>\n",
       "    </tr>\n",
       "    <tr>\n",
       "      <th>Vehicles parts, Accessories</th>\n",
       "      <td>294</td>\n",
       "    </tr>\n",
       "    <tr>\n",
       "      <th>Video games</th>\n",
       "      <td>247</td>\n",
       "    </tr>\n",
       "    <tr>\n",
       "      <th>Washing machine</th>\n",
       "      <td>0</td>\n",
       "    </tr>\n",
       "    <tr>\n",
       "      <th>Watch</th>\n",
       "      <td>84</td>\n",
       "    </tr>\n",
       "  </tbody>\n",
       "</table>\n",
       "<p>64 rows × 1 columns</p>\n",
       "</div>"
      ],
      "text/plain": [
       "                             NaN_condition\n",
       "category_name                             \n",
       "Accessories                          96151\n",
       "Aircon                                   0\n",
       "Bags                                    19\n",
       "Bed & bedding                            0\n",
       "Bicycles                                66\n",
       "...                                    ...\n",
       "Trucks                                  41\n",
       "Vehicles parts, Accessories            294\n",
       "Video games                            247\n",
       "Washing machine                          0\n",
       "Watch                                   84\n",
       "\n",
       "[64 rows x 1 columns]"
      ]
     },
     "execution_count": 17,
     "metadata": {},
     "output_type": "execute_result"
    }
   ],
   "source": [
    "sp2=sample.groupby(['category_name'])\n",
    "def countna(x):\n",
    "    return(x.isna().sum())\n",
    "sp2.agg(NaN_condition=('condition_ad_name',countna))"
   ]
  },
  {
   "cell_type": "markdown",
   "id": "6df47385-e88f-478f-a741-307f937530b1",
   "metadata": {},
   "source": [
    "### 9 - Which month in 2018 we see the highest number of (distinct ads)?"
   ]
  },
  {
   "cell_type": "code",
   "execution_count": 18,
   "id": "bd2d4edb-17c4-4d06-85a7-aaf6afae58e3",
   "metadata": {},
   "outputs": [],
   "source": [
    "import datetime as dt"
   ]
  },
  {
   "cell_type": "code",
   "execution_count": 19,
   "id": "85434a43-c457-4415-98e6-d4d559946400",
   "metadata": {},
   "outputs": [
    {
     "data": {
      "text/plain": [
       "1    874485\n",
       "Name: timestamp, dtype: int64"
      ]
     },
     "execution_count": 19,
     "metadata": {},
     "output_type": "execute_result"
    }
   ],
   "source": [
    "sample['timestamp']=pd.to_datetime(sample['timestamp'])\n",
    "sample['timestamp'].dt.month.value_counts().head(1)"
   ]
  },
  {
   "cell_type": "markdown",
   "id": "da4f68ab-b628-46b2-ae2a-3e9ed3c535ee",
   "metadata": {},
   "source": [
    "### 10- Compare the distinct ads per hour in September, October, and November? Which month and which hour has top ads?"
   ]
  },
  {
   "cell_type": "code",
   "execution_count": 20,
   "id": "2e93a7dd-3ed7-4ed6-bc69-b40e185822fe",
   "metadata": {
    "tags": []
   },
   "outputs": [],
   "source": [
    "sample['month_timestamp']=sample['timestamp'].dt.month\n",
    "sample['hour_timestamp']=sample['timestamp'].dt.hour"
   ]
  },
  {
   "cell_type": "code",
   "execution_count": 21,
   "id": "dc123b1f-ad38-4c7b-9768-4d8be7845760",
   "metadata": {},
   "outputs": [],
   "source": [
    "sp10=sample[(sample.month_timestamp>8)&(sample.month_timestamp<12)]"
   ]
  },
  {
   "cell_type": "code",
   "execution_count": 32,
   "id": "cbaa085c-9e75-4bc5-94e2-51778a557897",
   "metadata": {},
   "outputs": [
    {
     "data": {
      "text/html": [
       "<div>\n",
       "<style scoped>\n",
       "    .dataframe tbody tr th:only-of-type {\n",
       "        vertical-align: middle;\n",
       "    }\n",
       "\n",
       "    .dataframe tbody tr th {\n",
       "        vertical-align: top;\n",
       "    }\n",
       "\n",
       "    .dataframe thead th {\n",
       "        text-align: right;\n",
       "    }\n",
       "</style>\n",
       "<table border=\"1\" class=\"dataframe\">\n",
       "  <thead>\n",
       "    <tr style=\"text-align: right;\">\n",
       "      <th>hour_timestamp</th>\n",
       "      <th>0</th>\n",
       "      <th>1</th>\n",
       "      <th>2</th>\n",
       "      <th>3</th>\n",
       "      <th>4</th>\n",
       "      <th>5</th>\n",
       "      <th>6</th>\n",
       "      <th>7</th>\n",
       "      <th>8</th>\n",
       "      <th>9</th>\n",
       "      <th>...</th>\n",
       "      <th>15</th>\n",
       "      <th>16</th>\n",
       "      <th>17</th>\n",
       "      <th>18</th>\n",
       "      <th>19</th>\n",
       "      <th>20</th>\n",
       "      <th>21</th>\n",
       "      <th>22</th>\n",
       "      <th>23</th>\n",
       "      <th>All</th>\n",
       "    </tr>\n",
       "    <tr>\n",
       "      <th>month_timestamp</th>\n",
       "      <th></th>\n",
       "      <th></th>\n",
       "      <th></th>\n",
       "      <th></th>\n",
       "      <th></th>\n",
       "      <th></th>\n",
       "      <th></th>\n",
       "      <th></th>\n",
       "      <th></th>\n",
       "      <th></th>\n",
       "      <th></th>\n",
       "      <th></th>\n",
       "      <th></th>\n",
       "      <th></th>\n",
       "      <th></th>\n",
       "      <th></th>\n",
       "      <th></th>\n",
       "      <th></th>\n",
       "      <th></th>\n",
       "      <th></th>\n",
       "      <th></th>\n",
       "    </tr>\n",
       "  </thead>\n",
       "  <tbody>\n",
       "    <tr>\n",
       "      <th>9</th>\n",
       "      <td>1453</td>\n",
       "      <td>641</td>\n",
       "      <td>378</td>\n",
       "      <td>278</td>\n",
       "      <td>324</td>\n",
       "      <td>1423</td>\n",
       "      <td>5105</td>\n",
       "      <td>15948</td>\n",
       "      <td>34236</td>\n",
       "      <td>40947</td>\n",
       "      <td>...</td>\n",
       "      <td>24225</td>\n",
       "      <td>21324</td>\n",
       "      <td>17154</td>\n",
       "      <td>13350</td>\n",
       "      <td>11341</td>\n",
       "      <td>9876</td>\n",
       "      <td>7966</td>\n",
       "      <td>5815</td>\n",
       "      <td>3099</td>\n",
       "      <td>351418</td>\n",
       "    </tr>\n",
       "    <tr>\n",
       "      <th>10</th>\n",
       "      <td>1571</td>\n",
       "      <td>746</td>\n",
       "      <td>379</td>\n",
       "      <td>264</td>\n",
       "      <td>331</td>\n",
       "      <td>1214</td>\n",
       "      <td>5602</td>\n",
       "      <td>16854</td>\n",
       "      <td>35585</td>\n",
       "      <td>43892</td>\n",
       "      <td>...</td>\n",
       "      <td>25678</td>\n",
       "      <td>22618</td>\n",
       "      <td>18299</td>\n",
       "      <td>13499</td>\n",
       "      <td>12360</td>\n",
       "      <td>10568</td>\n",
       "      <td>8438</td>\n",
       "      <td>5804</td>\n",
       "      <td>3257</td>\n",
       "      <td>371341</td>\n",
       "    </tr>\n",
       "    <tr>\n",
       "      <th>11</th>\n",
       "      <td>1441</td>\n",
       "      <td>601</td>\n",
       "      <td>332</td>\n",
       "      <td>203</td>\n",
       "      <td>604</td>\n",
       "      <td>1160</td>\n",
       "      <td>4731</td>\n",
       "      <td>15674</td>\n",
       "      <td>34282</td>\n",
       "      <td>40891</td>\n",
       "      <td>...</td>\n",
       "      <td>24750</td>\n",
       "      <td>21369</td>\n",
       "      <td>17230</td>\n",
       "      <td>12910</td>\n",
       "      <td>11323</td>\n",
       "      <td>9931</td>\n",
       "      <td>7856</td>\n",
       "      <td>5527</td>\n",
       "      <td>3137</td>\n",
       "      <td>351869</td>\n",
       "    </tr>\n",
       "    <tr>\n",
       "      <th>All</th>\n",
       "      <td>4465</td>\n",
       "      <td>1988</td>\n",
       "      <td>1089</td>\n",
       "      <td>745</td>\n",
       "      <td>1259</td>\n",
       "      <td>3797</td>\n",
       "      <td>15438</td>\n",
       "      <td>48476</td>\n",
       "      <td>104103</td>\n",
       "      <td>125730</td>\n",
       "      <td>...</td>\n",
       "      <td>74653</td>\n",
       "      <td>65311</td>\n",
       "      <td>52683</td>\n",
       "      <td>39759</td>\n",
       "      <td>35024</td>\n",
       "      <td>30375</td>\n",
       "      <td>24260</td>\n",
       "      <td>17146</td>\n",
       "      <td>9493</td>\n",
       "      <td>1074628</td>\n",
       "    </tr>\n",
       "  </tbody>\n",
       "</table>\n",
       "<p>4 rows × 25 columns</p>\n",
       "</div>"
      ],
      "text/plain": [
       "hour_timestamp      0     1     2    3     4     5      6      7       8  \\\n",
       "month_timestamp                                                            \n",
       "9                1453   641   378  278   324  1423   5105  15948   34236   \n",
       "10               1571   746   379  264   331  1214   5602  16854   35585   \n",
       "11               1441   601   332  203   604  1160   4731  15674   34282   \n",
       "All              4465  1988  1089  745  1259  3797  15438  48476  104103   \n",
       "\n",
       "hour_timestamp        9  ...     15     16     17     18     19     20     21  \\\n",
       "month_timestamp          ...                                                    \n",
       "9                 40947  ...  24225  21324  17154  13350  11341   9876   7966   \n",
       "10                43892  ...  25678  22618  18299  13499  12360  10568   8438   \n",
       "11                40891  ...  24750  21369  17230  12910  11323   9931   7856   \n",
       "All              125730  ...  74653  65311  52683  39759  35024  30375  24260   \n",
       "\n",
       "hour_timestamp      22    23      All  \n",
       "month_timestamp                        \n",
       "9                 5815  3099   351418  \n",
       "10                5804  3257   371341  \n",
       "11                5527  3137   351869  \n",
       "All              17146  9493  1074628  \n",
       "\n",
       "[4 rows x 25 columns]"
      ]
     },
     "execution_count": 32,
     "metadata": {},
     "output_type": "execute_result"
    }
   ],
   "source": [
    "#Compare:\n",
    "sp10_2=sp10.pivot_table(values='ad_id',\n",
    "                        index='month_timestamp', columns='hour_timestamp',\n",
    "                        aggfunc='count', fill_value=0,\n",
    "                        margins=True)\n",
    "sp10_2"
   ]
  },
  {
   "cell_type": "code",
   "execution_count": 67,
   "id": "16af15e7-02a1-4d4f-8997-ae2185e83257",
   "metadata": {},
   "outputs": [
    {
     "data": {
      "text/html": [
       "<div>\n",
       "<style scoped>\n",
       "    .dataframe tbody tr th:only-of-type {\n",
       "        vertical-align: middle;\n",
       "    }\n",
       "\n",
       "    .dataframe tbody tr th {\n",
       "        vertical-align: top;\n",
       "    }\n",
       "\n",
       "    .dataframe thead th {\n",
       "        text-align: right;\n",
       "    }\n",
       "</style>\n",
       "<table border=\"1\" class=\"dataframe\">\n",
       "  <thead>\n",
       "    <tr style=\"text-align: right;\">\n",
       "      <th></th>\n",
       "      <th>all_ad_count</th>\n",
       "    </tr>\n",
       "    <tr>\n",
       "      <th>month_timestamp</th>\n",
       "      <th></th>\n",
       "    </tr>\n",
       "  </thead>\n",
       "  <tbody>\n",
       "    <tr>\n",
       "      <th>10</th>\n",
       "      <td>371341</td>\n",
       "    </tr>\n",
       "  </tbody>\n",
       "</table>\n",
       "</div>"
      ],
      "text/plain": [
       "                 all_ad_count\n",
       "month_timestamp              \n",
       "10                     371341"
      ]
     },
     "execution_count": 67,
     "metadata": {},
     "output_type": "execute_result"
    }
   ],
   "source": [
    "#Which month?\n",
    "sp10_3=sp10.groupby('month_timestamp').agg(all_ad_count=('ad_id','count'))\n",
    "a=sp10_3.max()\n",
    "sp10_3[sp10_3.all_ad_count==int(a)]"
   ]
  },
  {
   "cell_type": "code",
   "execution_count": 68,
   "id": "23aaa280-5e58-491b-b3b6-6f465912bef6",
   "metadata": {},
   "outputs": [
    {
     "data": {
      "text/html": [
       "<div>\n",
       "<style scoped>\n",
       "    .dataframe tbody tr th:only-of-type {\n",
       "        vertical-align: middle;\n",
       "    }\n",
       "\n",
       "    .dataframe tbody tr th {\n",
       "        vertical-align: top;\n",
       "    }\n",
       "\n",
       "    .dataframe thead th {\n",
       "        text-align: right;\n",
       "    }\n",
       "</style>\n",
       "<table border=\"1\" class=\"dataframe\">\n",
       "  <thead>\n",
       "    <tr style=\"text-align: right;\">\n",
       "      <th></th>\n",
       "      <th>all_ad_count</th>\n",
       "    </tr>\n",
       "    <tr>\n",
       "      <th>hour_timestamp</th>\n",
       "      <th></th>\n",
       "    </tr>\n",
       "  </thead>\n",
       "  <tbody>\n",
       "    <tr>\n",
       "      <th>9</th>\n",
       "      <td>125730</td>\n",
       "    </tr>\n",
       "  </tbody>\n",
       "</table>\n",
       "</div>"
      ],
      "text/plain": [
       "                all_ad_count\n",
       "hour_timestamp              \n",
       "9                     125730"
      ]
     },
     "execution_count": 68,
     "metadata": {},
     "output_type": "execute_result"
    }
   ],
   "source": [
    "#Which hour?\n",
    "sp10_4=sp10.groupby('hour_timestamp').agg(all_ad_count=('ad_id','count'))\n",
    "b=sp10_4.max()\n",
    "sp10_4[sp10_4.all_ad_count==int(b)]"
   ]
  }
 ],
 "metadata": {
  "kernelspec": {
   "display_name": "Python 3",
   "language": "python",
   "name": "python3"
  },
  "language_info": {
   "codemirror_mode": {
    "name": "ipython",
    "version": 3
   },
   "file_extension": ".py",
   "mimetype": "text/x-python",
   "name": "python",
   "nbconvert_exporter": "python",
   "pygments_lexer": "ipython3",
   "version": "3.7.10"
  }
 },
 "nbformat": 4,
 "nbformat_minor": 5
}
