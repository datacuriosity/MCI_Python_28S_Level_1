{
 "cells": [
  {
   "cell_type": "code",
   "execution_count": 2,
   "id": "e1e52056-44b3-4400-af6a-c0e01e5afb02",
   "metadata": {},
   "outputs": [],
   "source": [
    "import numpy as np\n",
    "import pandas as pd"
   ]
  },
  {
   "cell_type": "code",
   "execution_count": 3,
   "id": "aaa9504e-86f1-453c-9554-1f37c6a607d9",
   "metadata": {},
   "outputs": [],
   "source": [
    "%config Completer.use_jedi=False"
   ]
  },
  {
   "cell_type": "code",
   "execution_count": 4,
   "id": "c49132e5-e113-4797-9fab-66b90484c656",
   "metadata": {},
   "outputs": [
    {
     "data": {
      "text/html": [
       "<div>\n",
       "<style scoped>\n",
       "    .dataframe tbody tr th:only-of-type {\n",
       "        vertical-align: middle;\n",
       "    }\n",
       "\n",
       "    .dataframe tbody tr th {\n",
       "        vertical-align: top;\n",
       "    }\n",
       "\n",
       "    .dataframe thead th {\n",
       "        text-align: right;\n",
       "    }\n",
       "</style>\n",
       "<table border=\"1\" class=\"dataframe\">\n",
       "  <thead>\n",
       "    <tr style=\"text-align: right;\">\n",
       "      <th></th>\n",
       "      <th>account_id</th>\n",
       "      <th>ad_id</th>\n",
       "      <th>event_name</th>\n",
       "      <th>timestamp</th>\n",
       "      <th>platform</th>\n",
       "      <th>category_name</th>\n",
       "      <th>region_name</th>\n",
       "      <th>condition_ad_name</th>\n",
       "      <th>price</th>\n",
       "    </tr>\n",
       "  </thead>\n",
       "  <tbody>\n",
       "    <tr>\n",
       "      <th>0</th>\n",
       "      <td>249683985899310273</td>\n",
       "      <td>-159265360436186278</td>\n",
       "      <td>order</td>\n",
       "      <td>2018-05-16 17:33:18.350333</td>\n",
       "      <td>on_behalf</td>\n",
       "      <td>Cars</td>\n",
       "      <td>Đông Bắc Bộ</td>\n",
       "      <td>Mới</td>\n",
       "      <td>267000000.0</td>\n",
       "    </tr>\n",
       "    <tr>\n",
       "      <th>1</th>\n",
       "      <td>2753457128963724056</td>\n",
       "      <td>-6487219347028929285</td>\n",
       "      <td>order</td>\n",
       "      <td>2018-05-04 16:03:08.099983</td>\n",
       "      <td>on_behalf</td>\n",
       "      <td>Cars</td>\n",
       "      <td>Đông Bắc Bộ</td>\n",
       "      <td>Mới</td>\n",
       "      <td>399000000.0</td>\n",
       "    </tr>\n",
       "    <tr>\n",
       "      <th>2</th>\n",
       "      <td>2753457128963724056</td>\n",
       "      <td>-6487219347028929285</td>\n",
       "      <td>order</td>\n",
       "      <td>2018-05-03 15:13:42.447070</td>\n",
       "      <td>on_behalf</td>\n",
       "      <td>Cars</td>\n",
       "      <td>Đông Bắc Bộ</td>\n",
       "      <td>Mới</td>\n",
       "      <td>399000000.0</td>\n",
       "    </tr>\n",
       "    <tr>\n",
       "      <th>3</th>\n",
       "      <td>-4397739266189556976</td>\n",
       "      <td>4054922453976773054</td>\n",
       "      <td>order</td>\n",
       "      <td>2018-05-23 11:15:25.932663</td>\n",
       "      <td>on_behalf</td>\n",
       "      <td>Cars</td>\n",
       "      <td>Hà Nội</td>\n",
       "      <td>Mới</td>\n",
       "      <td>705000000.0</td>\n",
       "    </tr>\n",
       "    <tr>\n",
       "      <th>4</th>\n",
       "      <td>-8143274583979068266</td>\n",
       "      <td>3202538754056800998</td>\n",
       "      <td>order</td>\n",
       "      <td>2018-05-15 17:53:01.634923</td>\n",
       "      <td>on_behalf</td>\n",
       "      <td>Cars</td>\n",
       "      <td>Hà Nội</td>\n",
       "      <td>Mới</td>\n",
       "      <td>696000000.0</td>\n",
       "    </tr>\n",
       "  </tbody>\n",
       "</table>\n",
       "</div>"
      ],
      "text/plain": [
       "            account_id                ad_id event_name  \\\n",
       "0   249683985899310273  -159265360436186278      order   \n",
       "1  2753457128963724056 -6487219347028929285      order   \n",
       "2  2753457128963724056 -6487219347028929285      order   \n",
       "3 -4397739266189556976  4054922453976773054      order   \n",
       "4 -8143274583979068266  3202538754056800998      order   \n",
       "\n",
       "                    timestamp   platform category_name  region_name  \\\n",
       "0  2018-05-16 17:33:18.350333  on_behalf          Cars  Đông Bắc Bộ   \n",
       "1  2018-05-04 16:03:08.099983  on_behalf          Cars  Đông Bắc Bộ   \n",
       "2  2018-05-03 15:13:42.447070  on_behalf          Cars  Đông Bắc Bộ   \n",
       "3  2018-05-23 11:15:25.932663  on_behalf          Cars       Hà Nội   \n",
       "4  2018-05-15 17:53:01.634923  on_behalf          Cars       Hà Nội   \n",
       "\n",
       "  condition_ad_name        price  \n",
       "0               Mới  267000000.0  \n",
       "1               Mới  399000000.0  \n",
       "2               Mới  399000000.0  \n",
       "3               Mới  705000000.0  \n",
       "4               Mới  696000000.0  "
      ]
     },
     "execution_count": 4,
     "metadata": {},
     "output_type": "execute_result"
    }
   ],
   "source": [
    "sample=pd.read_csv(r'C:\\Users\\Laptop EDG\\Downloads\\HW_4\\sample_data.csv')\n",
    "sample.head(5)"
   ]
  },
  {
   "cell_type": "markdown",
   "id": "1ab3b55e-ad45-446b-b3a3-84306435e979",
   "metadata": {},
   "source": [
    "### 1- How many distinct account_id on each platform?"
   ]
  },
  {
   "cell_type": "code",
   "execution_count": 6,
   "id": "47c7638f-ae82-4975-9433-e1acf81508ef",
   "metadata": {},
   "outputs": [
    {
     "data": {
      "text/plain": [
       "108990"
      ]
     },
     "execution_count": 6,
     "metadata": {},
     "output_type": "execute_result"
    }
   ],
   "source": [
    "sample.account_id.nunique()"
   ]
  },
  {
   "cell_type": "code",
   "execution_count": 7,
   "id": "31064795-99cf-4416-9588-68753a92fa44",
   "metadata": {},
   "outputs": [
    {
     "data": {
      "text/plain": [
       "platform\n",
       "android         10789\n",
       "desktop_web     11910\n",
       "ios             10773\n",
       "mobile_web       6154\n",
       "on_behalf          36\n",
       "unknown        108990\n",
       "Name: account_id, dtype: int64"
      ]
     },
     "execution_count": 7,
     "metadata": {},
     "output_type": "execute_result"
    }
   ],
   "source": [
    "sample.groupby('platform').account_id.nunique()"
   ]
  },
  {
   "cell_type": "markdown",
   "id": "0dba42dc-501e-44fc-be54-6e8953b5c5ea",
   "metadata": {},
   "source": [
    "### 2- How many distinct ad_id on each platform?"
   ]
  },
  {
   "cell_type": "code",
   "execution_count": 8,
   "id": "88ff0345-33cc-41e6-b97d-f87a0164d7a9",
   "metadata": {},
   "outputs": [
    {
     "data": {
      "text/plain": [
       "platform\n",
       "android         130551\n",
       "desktop_web     144673\n",
       "ios             144161\n",
       "mobile_web       40165\n",
       "on_behalf           82\n",
       "unknown        3669226\n",
       "Name: ad_id, dtype: int64"
      ]
     },
     "execution_count": 8,
     "metadata": {},
     "output_type": "execute_result"
    }
   ],
   "source": [
    "sample.groupby('platform').ad_id.nunique()"
   ]
  },
  {
   "cell_type": "markdown",
   "id": "5ac43a1f-b99f-4094-bdeb-e0d58bf7816b",
   "metadata": {},
   "source": [
    "### 3- For each category_name how many ad is advertised?"
   ]
  },
  {
   "cell_type": "code",
   "execution_count": 9,
   "id": "6fde0b7f-e116-487a-be1e-f01d71636572",
   "metadata": {},
   "outputs": [
    {
     "data": {
      "text/plain": [
       "category_name\n",
       "Accessories                    121942\n",
       "Aircon                            275\n",
       "Bags                            10470\n",
       "Bed & bedding                     453\n",
       "Bicycles                        23474\n",
       "                                ...  \n",
       "Trucks                          52772\n",
       "Vehicles parts, Accessories     56459\n",
       "Video games                       662\n",
       "Washing machine                   202\n",
       "Watch                           74707\n",
       "Name: ad_id, Length: 64, dtype: int64"
      ]
     },
     "execution_count": 9,
     "metadata": {},
     "output_type": "execute_result"
    }
   ],
   "source": [
    "sample.groupby('category_name').ad_id.count()"
   ]
  },
  {
   "cell_type": "code",
   "execution_count": 10,
   "id": "6c17e444-8f7a-4a4b-94f9-aae705073d5d",
   "metadata": {},
   "outputs": [
    {
     "data": {
      "text/plain": [
       "PTY-Houses                       842357\n",
       "Mobile Phones                    781435\n",
       "Motorbikes                       528333\n",
       "PTY-Land                         415120\n",
       "Computers, Laptops               351123\n",
       "                                  ...  \n",
       "Other household items 14110         139\n",
       "Ornamental plant & decoration        41\n",
       "Other pet                            36\n",
       "Fan                                  12\n",
       "Lighting                              9\n",
       "Name: category_name, Length: 64, dtype: int64"
      ]
     },
     "execution_count": 10,
     "metadata": {},
     "output_type": "execute_result"
    }
   ],
   "source": [
    "sample.category_name.value_counts()"
   ]
  },
  {
   "cell_type": "markdown",
   "id": "ce8e82ec-cf3f-44a6-9b11-cce5fa056c61",
   "metadata": {},
   "source": [
    "### 4- Give me top 5 category_name having the highest number of ads?"
   ]
  },
  {
   "cell_type": "code",
   "execution_count": 11,
   "id": "55e59298-73e9-4eaf-8f47-0acdda4ea4e5",
   "metadata": {},
   "outputs": [
    {
     "data": {
      "text/plain": [
       "PTY-Houses            842357\n",
       "Mobile Phones         781435\n",
       "Motorbikes            528333\n",
       "PTY-Land              415120\n",
       "Computers, Laptops    351123\n",
       "Name: category_name, dtype: int64"
      ]
     },
     "execution_count": 11,
     "metadata": {},
     "output_type": "execute_result"
    }
   ],
   "source": [
    "sample.category_name.value_counts().head(5)"
   ]
  },
  {
   "cell_type": "markdown",
   "id": "a890ae68-2b46-4509-909e-68414e75ce2a",
   "metadata": {},
   "source": [
    "### 5- Give me top 5 category_name having lowest number of ads?"
   ]
  },
  {
   "cell_type": "code",
   "execution_count": 12,
   "id": "6e90d4ff-a215-4254-8cf6-a1389c103ecf",
   "metadata": {},
   "outputs": [
    {
     "data": {
      "text/plain": [
       "Other household items 14110      139\n",
       "Ornamental plant & decoration     41\n",
       "Other pet                         36\n",
       "Fan                               12\n",
       "Lighting                           9\n",
       "Name: category_name, dtype: int64"
      ]
     },
     "execution_count": 12,
     "metadata": {},
     "output_type": "execute_result"
    }
   ],
   "source": [
    "sample.category_name.value_counts().tail(5)"
   ]
  },
  {
   "cell_type": "markdown",
   "id": "472341fa-6457-4bfd-831e-63b8203b508e",
   "metadata": {},
   "source": [
    "### 6- Give me the average price for all distinct ads within each category?"
   ]
  },
  {
   "cell_type": "markdown",
   "id": "350ce8c5-d983-4a67-9ef2-f7eba1cc4af1",
   "metadata": {},
   "source": [
    "### 7- Give me the average price for all distinct ads within each region_name?"
   ]
  },
  {
   "cell_type": "markdown",
   "id": "a461f22e-10ca-4691-b2c8-5b80e8f3109f",
   "metadata": {},
   "source": [
    "### 8- Give details of condition_ad_name for all ads within each category? For example, for category cars, how may ads is 'Moi', 'Da su dung', and 'NaN'"
   ]
  },
  {
   "cell_type": "markdown",
   "id": "6df47385-e88f-478f-a741-307f937530b1",
   "metadata": {},
   "source": [
    "### 9 - Which month in 2018 we see the highest number of (distinct ads)?"
   ]
  },
  {
   "cell_type": "markdown",
   "id": "da4f68ab-b628-46b2-ae2a-3e9ed3c535ee",
   "metadata": {},
   "source": [
    "### 10- Compare the distinct ads per hour in September, October, and November? Which month and which hour has top ads?"
   ]
  },
  {
   "cell_type": "code",
   "execution_count": null,
   "id": "2e93a7dd-3ed7-4ed6-bc69-b40e185822fe",
   "metadata": {},
   "outputs": [],
   "source": []
  }
 ],
 "metadata": {
  "kernelspec": {
   "display_name": "Python 3",
   "language": "python",
   "name": "python3"
  },
  "language_info": {
   "codemirror_mode": {
    "name": "ipython",
    "version": 3
   },
   "file_extension": ".py",
   "mimetype": "text/x-python",
   "name": "python",
   "nbconvert_exporter": "python",
   "pygments_lexer": "ipython3",
   "version": "3.7.10"
  }
 },
 "nbformat": 4,
 "nbformat_minor": 5
}
