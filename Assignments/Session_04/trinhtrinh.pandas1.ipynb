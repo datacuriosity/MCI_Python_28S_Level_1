{
 "cells": [
  {
   "cell_type": "code",
   "execution_count": 1,
   "id": "fundamental-branch",
   "metadata": {},
   "outputs": [
    {
     "data": {
      "text/html": [
       "<div>\n",
       "<style scoped>\n",
       "    .dataframe tbody tr th:only-of-type {\n",
       "        vertical-align: middle;\n",
       "    }\n",
       "\n",
       "    .dataframe tbody tr th {\n",
       "        vertical-align: top;\n",
       "    }\n",
       "\n",
       "    .dataframe thead th {\n",
       "        text-align: right;\n",
       "    }\n",
       "</style>\n",
       "<table border=\"1\" class=\"dataframe\">\n",
       "  <thead>\n",
       "    <tr style=\"text-align: right;\">\n",
       "      <th></th>\n",
       "      <th>account_id</th>\n",
       "      <th>ad_id</th>\n",
       "      <th>event_name</th>\n",
       "      <th>timestamp</th>\n",
       "      <th>platform</th>\n",
       "      <th>category_name</th>\n",
       "      <th>region_name</th>\n",
       "      <th>condition_ad_name</th>\n",
       "      <th>price</th>\n",
       "    </tr>\n",
       "  </thead>\n",
       "  <tbody>\n",
       "    <tr>\n",
       "      <th>0</th>\n",
       "      <td>249683985899310273</td>\n",
       "      <td>-159265360436186278</td>\n",
       "      <td>order</td>\n",
       "      <td>2018-05-16 17:33:18.350333</td>\n",
       "      <td>on_behalf</td>\n",
       "      <td>Cars</td>\n",
       "      <td>Đông Bắc Bộ</td>\n",
       "      <td>Mới</td>\n",
       "      <td>2.670000e+08</td>\n",
       "    </tr>\n",
       "    <tr>\n",
       "      <th>1</th>\n",
       "      <td>2753457128963724056</td>\n",
       "      <td>-6487219347028929285</td>\n",
       "      <td>order</td>\n",
       "      <td>2018-05-04 16:03:08.099983</td>\n",
       "      <td>on_behalf</td>\n",
       "      <td>Cars</td>\n",
       "      <td>Đông Bắc Bộ</td>\n",
       "      <td>Mới</td>\n",
       "      <td>3.990000e+08</td>\n",
       "    </tr>\n",
       "    <tr>\n",
       "      <th>2</th>\n",
       "      <td>2753457128963724056</td>\n",
       "      <td>-6487219347028929285</td>\n",
       "      <td>order</td>\n",
       "      <td>2018-05-03 15:13:42.447070</td>\n",
       "      <td>on_behalf</td>\n",
       "      <td>Cars</td>\n",
       "      <td>Đông Bắc Bộ</td>\n",
       "      <td>Mới</td>\n",
       "      <td>3.990000e+08</td>\n",
       "    </tr>\n",
       "    <tr>\n",
       "      <th>3</th>\n",
       "      <td>-4397739266189556976</td>\n",
       "      <td>4054922453976773054</td>\n",
       "      <td>order</td>\n",
       "      <td>2018-05-23 11:15:25.932663</td>\n",
       "      <td>on_behalf</td>\n",
       "      <td>Cars</td>\n",
       "      <td>Hà Nội</td>\n",
       "      <td>Mới</td>\n",
       "      <td>7.050000e+08</td>\n",
       "    </tr>\n",
       "    <tr>\n",
       "      <th>4</th>\n",
       "      <td>-8143274583979068266</td>\n",
       "      <td>3202538754056800998</td>\n",
       "      <td>order</td>\n",
       "      <td>2018-05-15 17:53:01.634923</td>\n",
       "      <td>on_behalf</td>\n",
       "      <td>Cars</td>\n",
       "      <td>Hà Nội</td>\n",
       "      <td>Mới</td>\n",
       "      <td>6.960000e+08</td>\n",
       "    </tr>\n",
       "    <tr>\n",
       "      <th>...</th>\n",
       "      <td>...</td>\n",
       "      <td>...</td>\n",
       "      <td>...</td>\n",
       "      <td>...</td>\n",
       "      <td>...</td>\n",
       "      <td>...</td>\n",
       "      <td>...</td>\n",
       "      <td>...</td>\n",
       "      <td>...</td>\n",
       "    </tr>\n",
       "    <tr>\n",
       "      <th>5263293</th>\n",
       "      <td>8737775832852367074</td>\n",
       "      <td>7558913848295455813</td>\n",
       "      <td>order</td>\n",
       "      <td>2018-04-07 10:19:17.128546</td>\n",
       "      <td>desktop_web</td>\n",
       "      <td>TV, Speakers, MP3 players</td>\n",
       "      <td>Hải Phòng Nam Định Thái Bình</td>\n",
       "      <td>NaN</td>\n",
       "      <td>1.200000e+06</td>\n",
       "    </tr>\n",
       "    <tr>\n",
       "      <th>5263294</th>\n",
       "      <td>7673426593582018549</td>\n",
       "      <td>-713616185282621843</td>\n",
       "      <td>order</td>\n",
       "      <td>2018-03-16 19:04:23.470079</td>\n",
       "      <td>desktop_web</td>\n",
       "      <td>TV, Speakers, MP3 players</td>\n",
       "      <td>Hải Phòng Nam Định Thái Bình</td>\n",
       "      <td>NaN</td>\n",
       "      <td>2.300000e+05</td>\n",
       "    </tr>\n",
       "    <tr>\n",
       "      <th>5263295</th>\n",
       "      <td>-1208871471016587299</td>\n",
       "      <td>-4114509068740860568</td>\n",
       "      <td>order</td>\n",
       "      <td>2018-02-21 17:03:44.234105</td>\n",
       "      <td>desktop_web</td>\n",
       "      <td>TV, Speakers, MP3 players</td>\n",
       "      <td>Hải Phòng Nam Định Thái Bình</td>\n",
       "      <td>NaN</td>\n",
       "      <td>5.500000e+05</td>\n",
       "    </tr>\n",
       "    <tr>\n",
       "      <th>5263296</th>\n",
       "      <td>9118532601929018655</td>\n",
       "      <td>2103537130174281429</td>\n",
       "      <td>order</td>\n",
       "      <td>2018-12-06 14:22:24.461284</td>\n",
       "      <td>desktop_web</td>\n",
       "      <td>PTY-Houses</td>\n",
       "      <td>Hải Phòng Nam Định Thái Bình</td>\n",
       "      <td>NaN</td>\n",
       "      <td>1.800000e+09</td>\n",
       "    </tr>\n",
       "    <tr>\n",
       "      <th>5263297</th>\n",
       "      <td>1718507954172257075</td>\n",
       "      <td>-1564016634442824415</td>\n",
       "      <td>order</td>\n",
       "      <td>2018-04-07 09:22:23.395420</td>\n",
       "      <td>desktop_web</td>\n",
       "      <td>Specialized equipments, Agricultural breeds</td>\n",
       "      <td>Hải Phòng Nam Định Thái Bình</td>\n",
       "      <td>Mới</td>\n",
       "      <td>4.900000e+05</td>\n",
       "    </tr>\n",
       "  </tbody>\n",
       "</table>\n",
       "<p>5263298 rows × 9 columns</p>\n",
       "</div>"
      ],
      "text/plain": [
       "                  account_id                ad_id event_name  \\\n",
       "0         249683985899310273  -159265360436186278      order   \n",
       "1        2753457128963724056 -6487219347028929285      order   \n",
       "2        2753457128963724056 -6487219347028929285      order   \n",
       "3       -4397739266189556976  4054922453976773054      order   \n",
       "4       -8143274583979068266  3202538754056800998      order   \n",
       "...                      ...                  ...        ...   \n",
       "5263293  8737775832852367074  7558913848295455813      order   \n",
       "5263294  7673426593582018549  -713616185282621843      order   \n",
       "5263295 -1208871471016587299 -4114509068740860568      order   \n",
       "5263296  9118532601929018655  2103537130174281429      order   \n",
       "5263297  1718507954172257075 -1564016634442824415      order   \n",
       "\n",
       "                          timestamp     platform  \\\n",
       "0        2018-05-16 17:33:18.350333    on_behalf   \n",
       "1        2018-05-04 16:03:08.099983    on_behalf   \n",
       "2        2018-05-03 15:13:42.447070    on_behalf   \n",
       "3        2018-05-23 11:15:25.932663    on_behalf   \n",
       "4        2018-05-15 17:53:01.634923    on_behalf   \n",
       "...                             ...          ...   \n",
       "5263293  2018-04-07 10:19:17.128546  desktop_web   \n",
       "5263294  2018-03-16 19:04:23.470079  desktop_web   \n",
       "5263295  2018-02-21 17:03:44.234105  desktop_web   \n",
       "5263296  2018-12-06 14:22:24.461284  desktop_web   \n",
       "5263297  2018-04-07 09:22:23.395420  desktop_web   \n",
       "\n",
       "                                       category_name  \\\n",
       "0                                               Cars   \n",
       "1                                               Cars   \n",
       "2                                               Cars   \n",
       "3                                               Cars   \n",
       "4                                               Cars   \n",
       "...                                              ...   \n",
       "5263293                    TV, Speakers, MP3 players   \n",
       "5263294                    TV, Speakers, MP3 players   \n",
       "5263295                    TV, Speakers, MP3 players   \n",
       "5263296                                   PTY-Houses   \n",
       "5263297  Specialized equipments, Agricultural breeds   \n",
       "\n",
       "                          region_name condition_ad_name         price  \n",
       "0                         Đông Bắc Bộ               Mới  2.670000e+08  \n",
       "1                         Đông Bắc Bộ               Mới  3.990000e+08  \n",
       "2                         Đông Bắc Bộ               Mới  3.990000e+08  \n",
       "3                              Hà Nội               Mới  7.050000e+08  \n",
       "4                              Hà Nội               Mới  6.960000e+08  \n",
       "...                               ...               ...           ...  \n",
       "5263293  Hải Phòng Nam Định Thái Bình               NaN  1.200000e+06  \n",
       "5263294  Hải Phòng Nam Định Thái Bình               NaN  2.300000e+05  \n",
       "5263295  Hải Phòng Nam Định Thái Bình               NaN  5.500000e+05  \n",
       "5263296  Hải Phòng Nam Định Thái Bình               NaN  1.800000e+09  \n",
       "5263297  Hải Phòng Nam Định Thái Bình               Mới  4.900000e+05  \n",
       "\n",
       "[5263298 rows x 9 columns]"
      ]
     },
     "execution_count": 1,
     "metadata": {},
     "output_type": "execute_result"
    }
   ],
   "source": [
    "import pandas as pd\n",
    "attention_df=pd.read_csv(r'C:\\Users\\MCBB\\Documents\\GitHub\\MCI_Python_28S_Level_1\\Assignments\\Session_04\\sample_data.csv')\n",
    "attention_df"
   ]
  },
  {
   "cell_type": "markdown",
   "id": "driven-hughes",
   "metadata": {},
   "source": [
    "### 1. How many distinct account_id on each platform?"
   ]
  },
  {
   "cell_type": "code",
   "execution_count": 20,
   "id": "informative-barrier",
   "metadata": {},
   "outputs": [
    {
     "data": {
      "text/plain": [
       "platform\n",
       "android         10789\n",
       "desktop_web     11910\n",
       "ios             10773\n",
       "mobile_web       6154\n",
       "on_behalf          36\n",
       "unknown        108990\n",
       "Name: account_id, dtype: int64"
      ]
     },
     "execution_count": 20,
     "metadata": {},
     "output_type": "execute_result"
    }
   ],
   "source": [
    "attention_df.groupby('platform').account_id.nunique()\n"
   ]
  },
  {
   "cell_type": "code",
   "execution_count": 21,
   "id": "informational-microphone",
   "metadata": {},
   "outputs": [
    {
     "data": {
      "text/plain": [
       "108990"
      ]
     },
     "execution_count": 21,
     "metadata": {},
     "output_type": "execute_result"
    }
   ],
   "source": [
    "attention_df.account_id.nunique()"
   ]
  },
  {
   "cell_type": "code",
   "execution_count": 53,
   "id": "lucky-pension",
   "metadata": {},
   "outputs": [
    {
     "data": {
      "text/plain": [
       "platform\n",
       "android         10789\n",
       "desktop_web     11910\n",
       "ios             10773\n",
       "mobile_web       6154\n",
       "on_behalf          36\n",
       "unknown        108990\n",
       "Name: account_id, dtype: int64"
      ]
     },
     "execution_count": 53,
     "metadata": {},
     "output_type": "execute_result"
    }
   ],
   "source": [
    "attention_df.groupby('platform')['account_id'].nunique()"
   ]
  },
  {
   "cell_type": "markdown",
   "id": "accompanied-corpus",
   "metadata": {},
   "source": [
    "### 2. How many distinct ad_id on each platform?"
   ]
  },
  {
   "cell_type": "code",
   "execution_count": 5,
   "id": "spatial-forest",
   "metadata": {},
   "outputs": [
    {
     "data": {
      "text/plain": [
       "3678082"
      ]
     },
     "execution_count": 5,
     "metadata": {},
     "output_type": "execute_result"
    }
   ],
   "source": [
    "attention_df.ad_id.nunique()"
   ]
  },
  {
   "cell_type": "code",
   "execution_count": 22,
   "id": "damaged-taxation",
   "metadata": {},
   "outputs": [
    {
     "data": {
      "text/plain": [
       "platform\n",
       "android         130551\n",
       "desktop_web     144673\n",
       "ios             144161\n",
       "mobile_web       40165\n",
       "on_behalf           82\n",
       "unknown        3669226\n",
       "Name: ad_id, dtype: int64"
      ]
     },
     "execution_count": 22,
     "metadata": {},
     "output_type": "execute_result"
    }
   ],
   "source": [
    "attention_df.groupby('platform').ad_id.nunique()\n"
   ]
  },
  {
   "cell_type": "markdown",
   "id": "compliant-arlington",
   "metadata": {},
   "source": [
    "### 3. For each category_name how many ad is advertised?"
   ]
  },
  {
   "cell_type": "code",
   "execution_count": 7,
   "id": "indie-relaxation",
   "metadata": {},
   "outputs": [
    {
     "data": {
      "text/plain": [
       "PTY-Houses                       842357\n",
       "Mobile Phones                    781435\n",
       "Motorbikes                       528333\n",
       "PTY-Land                         415120\n",
       "Computers, Laptops               351123\n",
       "                                  ...  \n",
       "Other household items 14110         139\n",
       "Ornamental plant & decoration        41\n",
       "Other pet                            36\n",
       "Fan                                  12\n",
       "Lighting                              9\n",
       "Name: category_name, Length: 64, dtype: int64"
      ]
     },
     "execution_count": 7,
     "metadata": {},
     "output_type": "execute_result"
    }
   ],
   "source": [
    "attention_df.category_name.value_counts()"
   ]
  },
  {
   "cell_type": "code",
   "execution_count": 9,
   "id": "equipped-domain",
   "metadata": {},
   "outputs": [
    {
     "data": {
      "text/plain": [
       "64"
      ]
     },
     "execution_count": 9,
     "metadata": {},
     "output_type": "execute_result"
    }
   ],
   "source": [
    "attention_df.category_name.nunique()"
   ]
  },
  {
   "cell_type": "markdown",
   "id": "original-tackle",
   "metadata": {},
   "source": [
    "### 4. Give me top 5 category_name how having the highest number of ads?"
   ]
  },
  {
   "cell_type": "code",
   "execution_count": 30,
   "id": "german-restoration",
   "metadata": {},
   "outputs": [
    {
     "data": {
      "text/plain": [
       "category_name\n",
       "Accessories                    121942\n",
       "Aircon                            275\n",
       "Bags                            10470\n",
       "Bed & bedding                     453\n",
       "Bicycles                        23474\n",
       "                                ...  \n",
       "Trucks                          52772\n",
       "Vehicles parts, Accessories     56459\n",
       "Video games                       662\n",
       "Washing machine                   202\n",
       "Watch                           74707\n",
       "Name: ad_id, Length: 64, dtype: int64"
      ]
     },
     "execution_count": 30,
     "metadata": {},
     "output_type": "execute_result"
    }
   ],
   "source": [
    "att=attention_df.groupby('category_name').ad_id.count()\n",
    "att\n"
   ]
  },
  {
   "cell_type": "code",
   "execution_count": 35,
   "id": "everyday-legend",
   "metadata": {},
   "outputs": [
    {
     "data": {
      "text/plain": [
       "category_name\n",
       "PTY-Houses            842357\n",
       "Mobile Phones         781435\n",
       "Motorbikes            528333\n",
       "PTY-Land              415120\n",
       "Computers, Laptops    351123\n",
       "Name: ad_id, dtype: int64"
      ]
     },
     "execution_count": 35,
     "metadata": {},
     "output_type": "execute_result"
    }
   ],
   "source": [
    "att2=att.sort_values(ascending=False)\n",
    "att2.head(5)"
   ]
  },
  {
   "cell_type": "markdown",
   "id": "subjective-thanksgiving",
   "metadata": {},
   "source": [
    "### 5.Give me top 5 category_name how having the lowest number of ads?"
   ]
  },
  {
   "cell_type": "code",
   "execution_count": 39,
   "id": "silver-geometry",
   "metadata": {},
   "outputs": [
    {
     "data": {
      "text/plain": [
       "category_name\n",
       "Lighting                           9\n",
       "Fan                               12\n",
       "Other pet                         36\n",
       "Ornamental plant & decoration     41\n",
       "Other household items 14110      139\n",
       "Name: ad_id, dtype: int64"
      ]
     },
     "execution_count": 39,
     "metadata": {},
     "output_type": "execute_result"
    }
   ],
   "source": [
    "att3=att.sort_values(ascending=True)\n",
    "att3.head(5)"
   ]
  },
  {
   "cell_type": "markdown",
   "id": "annual-refund",
   "metadata": {},
   "source": [
    "### 6. Give me the average price for all distinct ads within each category?"
   ]
  },
  {
   "cell_type": "code",
   "execution_count": 40,
   "id": "guided-asset",
   "metadata": {},
   "outputs": [
    {
     "data": {
      "text/plain": [
       "category_name\n",
       "Accessories                    8.808542e+06\n",
       "Aircon                         5.913818e+06\n",
       "Bags                           8.026387e+07\n",
       "Bed & bedding                  1.482936e+06\n",
       "Bicycles                       3.262726e+06\n",
       "                                   ...     \n",
       "Trucks                         6.693941e+08\n",
       "Vehicles parts, Accessories    1.141225e+08\n",
       "Video games                    2.210399e+06\n",
       "Washing machine                1.349307e+07\n",
       "Watch                          3.596161e+07\n",
       "Name: price, Length: 64, dtype: float64"
      ]
     },
     "execution_count": 40,
     "metadata": {},
     "output_type": "execute_result"
    }
   ],
   "source": [
    "attention_df.groupby('category_name').price.mean()"
   ]
  },
  {
   "cell_type": "code",
   "execution_count": 45,
   "id": "burning-africa",
   "metadata": {},
   "outputs": [
    {
     "data": {
      "text/html": [
       "<div>\n",
       "<style scoped>\n",
       "    .dataframe tbody tr th:only-of-type {\n",
       "        vertical-align: middle;\n",
       "    }\n",
       "\n",
       "    .dataframe tbody tr th {\n",
       "        vertical-align: top;\n",
       "    }\n",
       "\n",
       "    .dataframe thead th {\n",
       "        text-align: right;\n",
       "    }\n",
       "</style>\n",
       "<table border=\"1\" class=\"dataframe\">\n",
       "  <thead>\n",
       "    <tr style=\"text-align: right;\">\n",
       "      <th></th>\n",
       "      <th>mean_price</th>\n",
       "    </tr>\n",
       "    <tr>\n",
       "      <th>category_name</th>\n",
       "      <th></th>\n",
       "    </tr>\n",
       "  </thead>\n",
       "  <tbody>\n",
       "    <tr>\n",
       "      <th>Accessories</th>\n",
       "      <td>8.808542e+06</td>\n",
       "    </tr>\n",
       "    <tr>\n",
       "      <th>Aircon</th>\n",
       "      <td>5.913818e+06</td>\n",
       "    </tr>\n",
       "    <tr>\n",
       "      <th>Bags</th>\n",
       "      <td>8.026387e+07</td>\n",
       "    </tr>\n",
       "    <tr>\n",
       "      <th>Bed &amp; bedding</th>\n",
       "      <td>1.482936e+06</td>\n",
       "    </tr>\n",
       "    <tr>\n",
       "      <th>Bicycles</th>\n",
       "      <td>3.262726e+06</td>\n",
       "    </tr>\n",
       "    <tr>\n",
       "      <th>...</th>\n",
       "      <td>...</td>\n",
       "    </tr>\n",
       "    <tr>\n",
       "      <th>Trucks</th>\n",
       "      <td>6.693941e+08</td>\n",
       "    </tr>\n",
       "    <tr>\n",
       "      <th>Vehicles parts, Accessories</th>\n",
       "      <td>1.141225e+08</td>\n",
       "    </tr>\n",
       "    <tr>\n",
       "      <th>Video games</th>\n",
       "      <td>2.210399e+06</td>\n",
       "    </tr>\n",
       "    <tr>\n",
       "      <th>Washing machine</th>\n",
       "      <td>1.349307e+07</td>\n",
       "    </tr>\n",
       "    <tr>\n",
       "      <th>Watch</th>\n",
       "      <td>3.596161e+07</td>\n",
       "    </tr>\n",
       "  </tbody>\n",
       "</table>\n",
       "<p>64 rows × 1 columns</p>\n",
       "</div>"
      ],
      "text/plain": [
       "                               mean_price\n",
       "category_name                            \n",
       "Accessories                  8.808542e+06\n",
       "Aircon                       5.913818e+06\n",
       "Bags                         8.026387e+07\n",
       "Bed & bedding                1.482936e+06\n",
       "Bicycles                     3.262726e+06\n",
       "...                                   ...\n",
       "Trucks                       6.693941e+08\n",
       "Vehicles parts, Accessories  1.141225e+08\n",
       "Video games                  2.210399e+06\n",
       "Washing machine              1.349307e+07\n",
       "Watch                        3.596161e+07\n",
       "\n",
       "[64 rows x 1 columns]"
      ]
     },
     "execution_count": 45,
     "metadata": {},
     "output_type": "execute_result"
    }
   ],
   "source": [
    "attention_df.groupby('category_name').agg(mean_price=('price', 'mean'))\n",
    "                          "
   ]
  },
  {
   "cell_type": "code",
   "execution_count": 51,
   "id": "charming-classification",
   "metadata": {},
   "outputs": [
    {
     "data": {
      "text/plain": [
       "category_name\n",
       "Accessories                    106074\n",
       "Aircon                              9\n",
       "Bags                             8510\n",
       "Bed & bedding                      19\n",
       "Bicycles                        18087\n",
       "                                ...  \n",
       "Trucks                          10970\n",
       "Vehicles parts, Accessories     50158\n",
       "Video games                       516\n",
       "Washing machine                     5\n",
       "Watch                           51624\n",
       "Name: ad_id, Length: 64, dtype: int64"
      ]
     },
     "execution_count": 51,
     "metadata": {},
     "output_type": "execute_result"
    }
   ],
   "source": [
    "att4=attention_df.groupby('category_name')['ad_id'].nunique()\n",
    "att4"
   ]
  },
  {
   "cell_type": "markdown",
   "id": "pacific-shelf",
   "metadata": {},
   "source": [
    "### 7. Give me the average price for all distinct ads within each region_name?"
   ]
  },
  {
   "cell_type": "code",
   "execution_count": 54,
   "id": "laden-manhattan",
   "metadata": {
    "collapsed": true,
    "jupyter": {
     "outputs_hidden": true
    }
   },
   "outputs": [
    {
     "data": {
      "text/html": [
       "<div>\n",
       "<style scoped>\n",
       "    .dataframe tbody tr th:only-of-type {\n",
       "        vertical-align: middle;\n",
       "    }\n",
       "\n",
       "    .dataframe tbody tr th {\n",
       "        vertical-align: top;\n",
       "    }\n",
       "\n",
       "    .dataframe thead th {\n",
       "        text-align: right;\n",
       "    }\n",
       "</style>\n",
       "<table border=\"1\" class=\"dataframe\">\n",
       "  <thead>\n",
       "    <tr style=\"text-align: right;\">\n",
       "      <th></th>\n",
       "      <th>mean_price</th>\n",
       "    </tr>\n",
       "    <tr>\n",
       "      <th>region_name</th>\n",
       "      <th></th>\n",
       "    </tr>\n",
       "  </thead>\n",
       "  <tbody>\n",
       "    <tr>\n",
       "      <th>Bình Trị Thừa Thiên Huế</th>\n",
       "      <td>4.143188e+08</td>\n",
       "    </tr>\n",
       "    <tr>\n",
       "      <th>Các tỉnh lân cận Hà Nội</th>\n",
       "      <td>3.186963e+08</td>\n",
       "    </tr>\n",
       "    <tr>\n",
       "      <th>Cần Thơ - Tây Nam Bộ</th>\n",
       "      <td>4.101916e+08</td>\n",
       "    </tr>\n",
       "    <tr>\n",
       "      <th>Hà Nội</th>\n",
       "      <td>6.645161e+08</td>\n",
       "    </tr>\n",
       "    <tr>\n",
       "      <th>Hải Phòng Nam Định Thái Bình</th>\n",
       "      <td>1.573403e+08</td>\n",
       "    </tr>\n",
       "    <tr>\n",
       "      <th>Nam Trung Bộ</th>\n",
       "      <td>9.059112e+08</td>\n",
       "    </tr>\n",
       "    <tr>\n",
       "      <th>Quảng Nam Đà Nẵng</th>\n",
       "      <td>9.412990e+08</td>\n",
       "    </tr>\n",
       "    <tr>\n",
       "      <th>Thanh Nghệ Tĩnh</th>\n",
       "      <td>2.442715e+08</td>\n",
       "    </tr>\n",
       "    <tr>\n",
       "      <th>Tp Hồ Chí Minh</th>\n",
       "      <td>1.302872e+09</td>\n",
       "    </tr>\n",
       "    <tr>\n",
       "      <th>Tây Bắc Bộ</th>\n",
       "      <td>3.616878e+08</td>\n",
       "    </tr>\n",
       "    <tr>\n",
       "      <th>Tây Nguyên</th>\n",
       "      <td>6.075989e+08</td>\n",
       "    </tr>\n",
       "    <tr>\n",
       "      <th>Đông Bắc Bộ</th>\n",
       "      <td>2.312546e+08</td>\n",
       "    </tr>\n",
       "    <tr>\n",
       "      <th>Đông Nam Bộ</th>\n",
       "      <td>7.097406e+08</td>\n",
       "    </tr>\n",
       "  </tbody>\n",
       "</table>\n",
       "</div>"
      ],
      "text/plain": [
       "                                mean_price\n",
       "region_name                               \n",
       "Bình Trị Thừa Thiên Huế       4.143188e+08\n",
       "Các tỉnh lân cận Hà Nội       3.186963e+08\n",
       "Cần Thơ - Tây Nam Bộ          4.101916e+08\n",
       "Hà Nội                        6.645161e+08\n",
       "Hải Phòng Nam Định Thái Bình  1.573403e+08\n",
       "Nam Trung Bộ                  9.059112e+08\n",
       "Quảng Nam Đà Nẵng             9.412990e+08\n",
       "Thanh Nghệ Tĩnh               2.442715e+08\n",
       "Tp Hồ Chí Minh                1.302872e+09\n",
       "Tây Bắc Bộ                    3.616878e+08\n",
       "Tây Nguyên                    6.075989e+08\n",
       "Đông Bắc Bộ                   2.312546e+08\n",
       "Đông Nam Bộ                   7.097406e+08"
      ]
     },
     "execution_count": 54,
     "metadata": {},
     "output_type": "execute_result"
    }
   ],
   "source": [
    "attention_df.groupby('region_name').agg(mean_price=('price', 'mean'))"
   ]
  },
  {
   "cell_type": "markdown",
   "id": "catholic-panel",
   "metadata": {},
   "source": [
    "### 8. Give details of condition_ad_name for all ads within each category? For example, for category cars, how many ads is\" Moi\", \" Da su dung\", and \"NaN\""
   ]
  },
  {
   "cell_type": "code",
   "execution_count": 57,
   "id": "secret-poverty",
   "metadata": {},
   "outputs": [
    {
     "ename": "SyntaxError",
     "evalue": "invalid syntax (<ipython-input-57-807916109570>, line 1)",
     "output_type": "error",
     "traceback": [
      "\u001b[1;36m  File \u001b[1;32m\"<ipython-input-57-807916109570>\"\u001b[1;36m, line \u001b[1;32m1\u001b[0m\n\u001b[1;33m    attention_df.groupby(['category_name', 'condition_ad_name']).agg(count_ads=('ad_id', 'count', fill_value=0))\u001b[0m\n\u001b[1;37m                                                                                                            ^\u001b[0m\n\u001b[1;31mSyntaxError\u001b[0m\u001b[1;31m:\u001b[0m invalid syntax\n"
     ]
    }
   ],
   "source": [
    "attention_df.groupby(['category_name', 'condition_ad_name']).agg(count_ads=('ad_id', 'count', fill_value=0)) \n",
    "                        "
   ]
  },
  {
   "cell_type": "code",
   "execution_count": null,
   "id": "consistent-salon",
   "metadata": {},
   "outputs": [],
   "source": []
  }
 ],
 "metadata": {
  "kernelspec": {
   "display_name": "Python 3",
   "language": "python",
   "name": "python3"
  },
  "language_info": {
   "codemirror_mode": {
    "name": "ipython",
    "version": 3
   },
   "file_extension": ".py",
   "mimetype": "text/x-python",
   "name": "python",
   "nbconvert_exporter": "python",
   "pygments_lexer": "ipython3",
   "version": "3.7.10"
  }
 },
 "nbformat": 4,
 "nbformat_minor": 5
}
