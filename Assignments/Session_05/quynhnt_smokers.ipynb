{
 "cells": [
  {
   "cell_type": "code",
   "execution_count": 1,
   "id": "ecc448ef-756d-4a0f-bcba-22afaa7664cb",
   "metadata": {},
   "outputs": [],
   "source": [
    "import numpy as np\n",
    "import pandas as pd\n",
    "import matplotlib.pyplot as plt"
   ]
  },
  {
   "cell_type": "code",
   "execution_count": 2,
   "id": "24b19a45-00c8-4012-bed6-1dc6f91d54df",
   "metadata": {},
   "outputs": [
    {
     "data": {
      "text/html": [
       "<div>\n",
       "<style scoped>\n",
       "    .dataframe tbody tr th:only-of-type {\n",
       "        vertical-align: middle;\n",
       "    }\n",
       "\n",
       "    .dataframe tbody tr th {\n",
       "        vertical-align: top;\n",
       "    }\n",
       "\n",
       "    .dataframe thead th {\n",
       "        text-align: right;\n",
       "    }\n",
       "</style>\n",
       "<table border=\"1\" class=\"dataframe\">\n",
       "  <thead>\n",
       "    <tr style=\"text-align: right;\">\n",
       "      <th></th>\n",
       "      <th>Year</th>\n",
       "      <th>State</th>\n",
       "      <th>Value</th>\n",
       "    </tr>\n",
       "  </thead>\n",
       "  <tbody>\n",
       "    <tr>\n",
       "      <th>0</th>\n",
       "      <td>2015</td>\n",
       "      <td>RI</td>\n",
       "      <td>0.2</td>\n",
       "    </tr>\n",
       "    <tr>\n",
       "      <th>1</th>\n",
       "      <td>2015</td>\n",
       "      <td>VT</td>\n",
       "      <td>0.3</td>\n",
       "    </tr>\n",
       "    <tr>\n",
       "      <th>2</th>\n",
       "      <td>2017</td>\n",
       "      <td>VA</td>\n",
       "      <td>0.3</td>\n",
       "    </tr>\n",
       "    <tr>\n",
       "      <th>3</th>\n",
       "      <td>2017</td>\n",
       "      <td>DE</td>\n",
       "      <td>0.4</td>\n",
       "    </tr>\n",
       "    <tr>\n",
       "      <th>4</th>\n",
       "      <td>2015</td>\n",
       "      <td>RI</td>\n",
       "      <td>0.4</td>\n",
       "    </tr>\n",
       "    <tr>\n",
       "      <th>...</th>\n",
       "      <td>...</td>\n",
       "      <td>...</td>\n",
       "      <td>...</td>\n",
       "    </tr>\n",
       "    <tr>\n",
       "      <th>3514</th>\n",
       "      <td>2001</td>\n",
       "      <td>MT</td>\n",
       "      <td>57.2</td>\n",
       "    </tr>\n",
       "    <tr>\n",
       "      <th>3515</th>\n",
       "      <td>2001</td>\n",
       "      <td>SD</td>\n",
       "      <td>59.2</td>\n",
       "    </tr>\n",
       "    <tr>\n",
       "      <th>3516</th>\n",
       "      <td>1999</td>\n",
       "      <td>MT</td>\n",
       "      <td>61.7</td>\n",
       "    </tr>\n",
       "    <tr>\n",
       "      <th>3517</th>\n",
       "      <td>1995</td>\n",
       "      <td>AK</td>\n",
       "      <td>61.9</td>\n",
       "    </tr>\n",
       "    <tr>\n",
       "      <th>3518</th>\n",
       "      <td>2003</td>\n",
       "      <td>SD</td>\n",
       "      <td>62.3</td>\n",
       "    </tr>\n",
       "  </tbody>\n",
       "</table>\n",
       "<p>3519 rows × 3 columns</p>\n",
       "</div>"
      ],
      "text/plain": [
       "      Year State  Value\n",
       "0     2015    RI    0.2\n",
       "1     2015    VT    0.3\n",
       "2     2017    VA    0.3\n",
       "3     2017    DE    0.4\n",
       "4     2015    RI    0.4\n",
       "...    ...   ...    ...\n",
       "3514  2001    MT   57.2\n",
       "3515  2001    SD   59.2\n",
       "3516  1999    MT   61.7\n",
       "3517  1995    AK   61.9\n",
       "3518  2003    SD   62.3\n",
       "\n",
       "[3519 rows x 3 columns]"
      ]
     },
     "execution_count": 2,
     "metadata": {},
     "output_type": "execute_result"
    }
   ],
   "source": [
    "smokers=pd.read_csv(r'C:\\Users\\Laptop EDG\\Downloads\\smokers\\smokers.csv')\n",
    "smokers"
   ]
  },
  {
   "cell_type": "code",
   "execution_count": 3,
   "id": "bec226ab-02dc-4ae5-8947-662db5d5f1c4",
   "metadata": {},
   "outputs": [
    {
     "data": {
      "text/plain": [
       "3519"
      ]
     },
     "execution_count": 3,
     "metadata": {},
     "output_type": "execute_result"
    }
   ],
   "source": [
    "len(smokers)"
   ]
  },
  {
   "cell_type": "code",
   "execution_count": 4,
   "id": "98274c6c-2e84-45d1-82a0-584e7c76a638",
   "metadata": {},
   "outputs": [
    {
     "data": {
      "text/plain": [
       "3519"
      ]
     },
     "execution_count": 4,
     "metadata": {},
     "output_type": "execute_result"
    }
   ],
   "source": [
    "smokers.shape[0]"
   ]
  },
  {
   "cell_type": "code",
   "execution_count": 12,
   "id": "2a8c97d0-ba41-4fc6-98a5-7051d285b03c",
   "metadata": {},
   "outputs": [
    {
     "data": {
      "text/plain": [
       "51"
      ]
     },
     "execution_count": 12,
     "metadata": {},
     "output_type": "execute_result"
    }
   ],
   "source": [
    "smokers.State.nunique()"
   ]
  },
  {
   "cell_type": "code",
   "execution_count": 15,
   "id": "56793f5e-b5ea-42dc-9a5a-51fd89cfb75b",
   "metadata": {},
   "outputs": [
    {
     "data": {
      "text/plain": [
       "69.0"
      ]
     },
     "execution_count": 15,
     "metadata": {},
     "output_type": "execute_result"
    }
   ],
   "source": [
    "smokers.State.value_counts().mean()"
   ]
  },
  {
   "cell_type": "code",
   "execution_count": 16,
   "id": "fe50e838-c27c-4ddf-83d0-56d6662dcd44",
   "metadata": {},
   "outputs": [
    {
     "data": {
      "text/plain": [
       "62.3"
      ]
     },
     "execution_count": 16,
     "metadata": {},
     "output_type": "execute_result"
    }
   ],
   "source": [
    "smokers.Value.max()"
   ]
  },
  {
   "cell_type": "code",
   "execution_count": 17,
   "id": "dc98b963-1e4c-47df-966b-91df71e0b065",
   "metadata": {},
   "outputs": [
    {
     "data": {
      "text/plain": [
       "0.2"
      ]
     },
     "execution_count": 17,
     "metadata": {},
     "output_type": "execute_result"
    }
   ],
   "source": [
    "smokers.Value.min()"
   ]
  },
  {
   "cell_type": "code",
   "execution_count": 18,
   "id": "79cf9890-0d38-4138-9929-554b3225bd6d",
   "metadata": {},
   "outputs": [
    {
     "data": {
      "text/plain": [
       "State\n",
       "AK    17.380392\n",
       "AL    22.815714\n",
       "AR    23.433871\n",
       "AZ    17.867347\n",
       "CA     5.992857\n",
       "CO    10.883333\n",
       "CT    15.445283\n",
       "DC     6.135897\n",
       "DE    12.853153\n",
       "FL    10.482222\n",
       "GA    12.198684\n",
       "GU    18.717722\n",
       "HI    12.697297\n",
       "IA    19.483333\n",
       "ID    16.100000\n",
       "IL    16.787500\n",
       "IN    18.572222\n",
       "KS    14.481579\n",
       "KY    17.031169\n",
       "LA    19.669697\n",
       "MA    18.138000\n",
       "MD     8.934118\n",
       "ME    13.868992\n",
       "MI    18.565385\n",
       "MO    22.193103\n",
       "MS    20.545455\n",
       "MT    25.753947\n",
       "NC    16.260000\n",
       "ND    16.656250\n",
       "NE    18.168293\n",
       "NH    18.076471\n",
       "NJ    17.467647\n",
       "NM    12.930682\n",
       "NV    15.613684\n",
       "NY    15.556989\n",
       "OH    24.541463\n",
       "OK    20.953448\n",
       "PA    11.385714\n",
       "PR    10.772727\n",
       "RI     9.326364\n",
       "SC    18.084337\n",
       "SD    30.221154\n",
       "TN    17.721311\n",
       "TX    18.114894\n",
       "US    21.502542\n",
       "UT    10.710526\n",
       "VA     6.257407\n",
       "VT    16.875455\n",
       "WI    20.590476\n",
       "WV    20.045882\n",
       "WY    19.770370\n",
       "Name: Value, dtype: float64"
      ]
     },
     "execution_count": 18,
     "metadata": {},
     "output_type": "execute_result"
    }
   ],
   "source": [
    "smokers.groupby('State').Value.mean( )"
   ]
  },
  {
   "cell_type": "code",
   "execution_count": 19,
   "id": "7f7d70ba-2a1a-4381-8b5f-de6953fb7e0b",
   "metadata": {},
   "outputs": [
    {
     "data": {
      "text/plain": [
       "30.221153846153843"
      ]
     },
     "execution_count": 19,
     "metadata": {},
     "output_type": "execute_result"
    }
   ],
   "source": [
    "smokers.groupby('State').Value.mean().max()"
   ]
  },
  {
   "cell_type": "code",
   "execution_count": 20,
   "id": "7a2c87de-1162-4e18-bb29-7f86eccf923d",
   "metadata": {},
   "outputs": [
    {
     "data": {
      "text/plain": [
       "5.992857142857143"
      ]
     },
     "execution_count": 20,
     "metadata": {},
     "output_type": "execute_result"
    }
   ],
   "source": [
    "smokers.groupby('State').Value.mean().min()"
   ]
  },
  {
   "cell_type": "code",
   "execution_count": 21,
   "id": "ad00fb5a-3092-4204-959f-821dd271dae5",
   "metadata": {},
   "outputs": [
    {
     "data": {
      "text/plain": [
       "State\n",
       "SD    30.221154\n",
       "MT    25.753947\n",
       "OH    24.541463\n",
       "AR    23.433871\n",
       "AL    22.815714\n",
       "MO    22.193103\n",
       "US    21.502542\n",
       "OK    20.953448\n",
       "WI    20.590476\n",
       "MS    20.545455\n",
       "Name: Value, dtype: float64"
      ]
     },
     "execution_count": 21,
     "metadata": {},
     "output_type": "execute_result"
    }
   ],
   "source": [
    "smokers.groupby('State').Value.mean().sort_values(ascending=False).head(10)"
   ]
  },
  {
   "cell_type": "code",
   "execution_count": 23,
   "id": "2dd92e31-3d83-4beb-a477-007794cf72e7",
   "metadata": {},
   "outputs": [
    {
     "data": {
      "text/html": [
       "<div>\n",
       "<style scoped>\n",
       "    .dataframe tbody tr th:only-of-type {\n",
       "        vertical-align: middle;\n",
       "    }\n",
       "\n",
       "    .dataframe tbody tr th {\n",
       "        vertical-align: top;\n",
       "    }\n",
       "\n",
       "    .dataframe thead th {\n",
       "        text-align: right;\n",
       "    }\n",
       "</style>\n",
       "<table border=\"1\" class=\"dataframe\">\n",
       "  <thead>\n",
       "    <tr style=\"text-align: right;\">\n",
       "      <th></th>\n",
       "      <th></th>\n",
       "      <th>Value</th>\n",
       "    </tr>\n",
       "    <tr>\n",
       "      <th>State</th>\n",
       "      <th>Year</th>\n",
       "      <th></th>\n",
       "    </tr>\n",
       "  </thead>\n",
       "  <tbody>\n",
       "    <tr>\n",
       "      <th rowspan=\"5\" valign=\"top\">AK</th>\n",
       "      <th>1995</th>\n",
       "      <td>5</td>\n",
       "    </tr>\n",
       "    <tr>\n",
       "      <th>2003</th>\n",
       "      <td>5</td>\n",
       "    </tr>\n",
       "    <tr>\n",
       "      <th>2007</th>\n",
       "      <td>5</td>\n",
       "    </tr>\n",
       "    <tr>\n",
       "      <th>2009</th>\n",
       "      <td>7</td>\n",
       "    </tr>\n",
       "    <tr>\n",
       "      <th>2011</th>\n",
       "      <td>7</td>\n",
       "    </tr>\n",
       "    <tr>\n",
       "      <th>...</th>\n",
       "      <th>...</th>\n",
       "      <td>...</td>\n",
       "    </tr>\n",
       "    <tr>\n",
       "      <th rowspan=\"5\" valign=\"top\">WY</th>\n",
       "      <th>2007</th>\n",
       "      <td>12</td>\n",
       "    </tr>\n",
       "    <tr>\n",
       "      <th>2009</th>\n",
       "      <td>13</td>\n",
       "    </tr>\n",
       "    <tr>\n",
       "      <th>2011</th>\n",
       "      <td>12</td>\n",
       "    </tr>\n",
       "    <tr>\n",
       "      <th>2013</th>\n",
       "      <td>13</td>\n",
       "    </tr>\n",
       "    <tr>\n",
       "      <th>2015</th>\n",
       "      <td>7</td>\n",
       "    </tr>\n",
       "  </tbody>\n",
       "</table>\n",
       "<p>456 rows × 1 columns</p>\n",
       "</div>"
      ],
      "text/plain": [
       "            Value\n",
       "State Year       \n",
       "AK    1995      5\n",
       "      2003      5\n",
       "      2007      5\n",
       "      2009      7\n",
       "      2011      7\n",
       "...           ...\n",
       "WY    2007     12\n",
       "      2009     13\n",
       "      2011     12\n",
       "      2013     13\n",
       "      2015      7\n",
       "\n",
       "[456 rows x 1 columns]"
      ]
     },
     "execution_count": 23,
     "metadata": {},
     "output_type": "execute_result"
    }
   ],
   "source": [
    "smokers.groupby(['State','Year']).count()"
   ]
  },
  {
   "cell_type": "code",
   "execution_count": 28,
   "id": "36e8932f-5627-47fa-9745-4d49a4ce48f9",
   "metadata": {},
   "outputs": [
    {
     "name": "stdin",
     "output_type": "stream",
     "text": [
      "State: OH\n"
     ]
    },
    {
     "name": "stdout",
     "output_type": "stream",
     "text": [
      "AxesSubplot(0.125,0.125;0.775x0.755)\n"
     ]
    },
    {
     "data": {
      "image/png": "[encoded data removed]",
      "text/plain": [
       "<Figure size 432x288 with 1 Axes>"
      ]
     },
     "metadata": {
      "needs_background": "light"
     },
     "output_type": "display_data"
    }
   ],
   "source": [
    "x=input('State:')\n",
    "print(smokers[smokers.State==x].groupby('Year').Value.mean().plot(kind='line'))"
   ]
  },
  {
   "cell_type": "code",
   "execution_count": null,
   "id": "37384cdc-b85e-4f78-9ac2-3250858d6662",
   "metadata": {},
   "outputs": [],
   "source": []
  },
  {
   "cell_type": "code",
   "execution_count": null,
   "id": "64d38a4b-0054-437c-a3cc-31e55f6fe895",
   "metadata": {},
   "outputs": [],
   "source": []
  },
  {
   "cell_type": "code",
   "execution_count": null,
   "id": "ada3e996-93b4-437d-b711-4d63bdf8f009",
   "metadata": {},
   "outputs": [],
   "source": []
  },
  {
   "cell_type": "code",
   "execution_count": null,
   "id": "00b0e7b1-a948-4adb-a2d3-1e07da1d9a02",
   "metadata": {},
   "outputs": [],
   "source": []
  },
  {
   "cell_type": "code",
   "execution_count": null,
   "id": "7079644a-a2c8-4211-81d3-118431f6e276",
   "metadata": {},
   "outputs": [],
   "source": []
  },
  {
   "cell_type": "code",
   "execution_count": null,
   "id": "b3e21d8a-6c00-48f3-a6a2-9fe9858990fa",
   "metadata": {},
   "outputs": [],
   "source": []
  },
  {
   "cell_type": "code",
   "execution_count": null,
   "id": "d1cef890-9d82-46ec-b53d-080f293fd40c",
   "metadata": {},
   "outputs": [],
   "source": []
  },
  {
   "cell_type": "code",
   "execution_count": null,
   "id": "42c918b0-7d1f-44f1-a53e-0ee147cbcb23",
   "metadata": {},
   "outputs": [],
   "source": []
  },
  {
   "cell_type": "code",
   "execution_count": null,
   "id": "7fed3a4a-dc5f-45ba-b50f-66b1117bb0fb",
   "metadata": {},
   "outputs": [],
   "source": []
  }
 ],
 "metadata": {
  "kernelspec": {
   "display_name": "Python 3",
   "language": "python",
   "name": "python3"
  },
  "language_info": {
   "codemirror_mode": {
    "name": "ipython",
    "version": 3
   },
   "file_extension": ".py",
   "mimetype": "text/x-python",
   "name": "python",
   "nbconvert_exporter": "python",
   "pygments_lexer": "ipython3",
   "version": "3.7.10"
  }
 },
 "nbformat": 4,
 "nbformat_minor": 5
}
