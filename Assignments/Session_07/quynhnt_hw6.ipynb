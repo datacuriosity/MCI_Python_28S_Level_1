{
 "cells": [
  {
   "cell_type": "code",
   "execution_count": 7,
   "id": "bcbf5946-29aa-4164-922a-5647bf1915b4",
   "metadata": {},
   "outputs": [],
   "source": [
    "import pandas as pd\n",
    "import numpy as np\n",
    "import matplotlib.pyplot as plt"
   ]
  },
  {
   "cell_type": "markdown",
   "id": "bf147bb8-179e-4bb3-945e-4785489c7b2d",
   "metadata": {},
   "source": [
    "### Data từ Section 4:"
   ]
  },
  {
   "cell_type": "code",
   "execution_count": 8,
   "id": "6bb5d060-aac8-4082-a965-d6e1b919e1b7",
   "metadata": {},
   "outputs": [
    {
     "data": {
      "text/html": [
       "<div>\n",
       "<style scoped>\n",
       "    .dataframe tbody tr th:only-of-type {\n",
       "        vertical-align: middle;\n",
       "    }\n",
       "\n",
       "    .dataframe tbody tr th {\n",
       "        vertical-align: top;\n",
       "    }\n",
       "\n",
       "    .dataframe thead th {\n",
       "        text-align: right;\n",
       "    }\n",
       "</style>\n",
       "<table border=\"1\" class=\"dataframe\">\n",
       "  <thead>\n",
       "    <tr style=\"text-align: right;\">\n",
       "      <th></th>\n",
       "      <th>account_id</th>\n",
       "      <th>ad_id</th>\n",
       "      <th>event_name</th>\n",
       "      <th>timestamp</th>\n",
       "      <th>platform</th>\n",
       "      <th>category_name</th>\n",
       "      <th>region_name</th>\n",
       "      <th>condition_ad_name</th>\n",
       "      <th>price</th>\n",
       "    </tr>\n",
       "  </thead>\n",
       "  <tbody>\n",
       "    <tr>\n",
       "      <th>0</th>\n",
       "      <td>249683985899310273</td>\n",
       "      <td>-159265360436186278</td>\n",
       "      <td>order</td>\n",
       "      <td>2018-05-16 17:33:18.350333</td>\n",
       "      <td>on_behalf</td>\n",
       "      <td>Cars</td>\n",
       "      <td>Đông Bắc Bộ</td>\n",
       "      <td>Mới</td>\n",
       "      <td>267000000.0</td>\n",
       "    </tr>\n",
       "    <tr>\n",
       "      <th>1</th>\n",
       "      <td>2753457128963724056</td>\n",
       "      <td>-6487219347028929285</td>\n",
       "      <td>order</td>\n",
       "      <td>2018-05-04 16:03:08.099983</td>\n",
       "      <td>on_behalf</td>\n",
       "      <td>Cars</td>\n",
       "      <td>Đông Bắc Bộ</td>\n",
       "      <td>Mới</td>\n",
       "      <td>399000000.0</td>\n",
       "    </tr>\n",
       "    <tr>\n",
       "      <th>2</th>\n",
       "      <td>2753457128963724056</td>\n",
       "      <td>-6487219347028929285</td>\n",
       "      <td>order</td>\n",
       "      <td>2018-05-03 15:13:42.447070</td>\n",
       "      <td>on_behalf</td>\n",
       "      <td>Cars</td>\n",
       "      <td>Đông Bắc Bộ</td>\n",
       "      <td>Mới</td>\n",
       "      <td>399000000.0</td>\n",
       "    </tr>\n",
       "    <tr>\n",
       "      <th>3</th>\n",
       "      <td>-4397739266189556976</td>\n",
       "      <td>4054922453976773054</td>\n",
       "      <td>order</td>\n",
       "      <td>2018-05-23 11:15:25.932663</td>\n",
       "      <td>on_behalf</td>\n",
       "      <td>Cars</td>\n",
       "      <td>Hà Nội</td>\n",
       "      <td>Mới</td>\n",
       "      <td>705000000.0</td>\n",
       "    </tr>\n",
       "    <tr>\n",
       "      <th>4</th>\n",
       "      <td>-8143274583979068266</td>\n",
       "      <td>3202538754056800998</td>\n",
       "      <td>order</td>\n",
       "      <td>2018-05-15 17:53:01.634923</td>\n",
       "      <td>on_behalf</td>\n",
       "      <td>Cars</td>\n",
       "      <td>Hà Nội</td>\n",
       "      <td>Mới</td>\n",
       "      <td>696000000.0</td>\n",
       "    </tr>\n",
       "  </tbody>\n",
       "</table>\n",
       "</div>"
      ],
      "text/plain": [
       "            account_id                ad_id event_name  \\\n",
       "0   249683985899310273  -159265360436186278      order   \n",
       "1  2753457128963724056 -6487219347028929285      order   \n",
       "2  2753457128963724056 -6487219347028929285      order   \n",
       "3 -4397739266189556976  4054922453976773054      order   \n",
       "4 -8143274583979068266  3202538754056800998      order   \n",
       "\n",
       "                    timestamp   platform category_name  region_name  \\\n",
       "0  2018-05-16 17:33:18.350333  on_behalf          Cars  Đông Bắc Bộ   \n",
       "1  2018-05-04 16:03:08.099983  on_behalf          Cars  Đông Bắc Bộ   \n",
       "2  2018-05-03 15:13:42.447070  on_behalf          Cars  Đông Bắc Bộ   \n",
       "3  2018-05-23 11:15:25.932663  on_behalf          Cars       Hà Nội   \n",
       "4  2018-05-15 17:53:01.634923  on_behalf          Cars       Hà Nội   \n",
       "\n",
       "  condition_ad_name        price  \n",
       "0               Mới  267000000.0  \n",
       "1               Mới  399000000.0  \n",
       "2               Mới  399000000.0  \n",
       "3               Mới  705000000.0  \n",
       "4               Mới  696000000.0  "
      ]
     },
     "execution_count": 8,
     "metadata": {},
     "output_type": "execute_result"
    }
   ],
   "source": [
    "data = pd.read_csv(r'C:\\Users\\Laptop EDG\\Downloads\\HW_4\\sample_data.csv')\n",
    "data.head(5)"
   ]
  },
  {
   "cell_type": "code",
   "execution_count": 9,
   "id": "117b115e-10b6-4825-b892-9d9e761e9d90",
   "metadata": {},
   "outputs": [
    {
     "data": {
      "text/plain": [
       "dtype('O')"
      ]
     },
     "execution_count": 9,
     "metadata": {},
     "output_type": "execute_result"
    }
   ],
   "source": [
    "data.timestamp.dtype"
   ]
  },
  {
   "cell_type": "code",
   "execution_count": 12,
   "id": "c107ef07-052a-4127-98c5-1c4f6fa2e601",
   "metadata": {},
   "outputs": [],
   "source": [
    "data.timestamp=pd.to_datetime(data.timestamp)"
   ]
  },
  {
   "cell_type": "code",
   "execution_count": 13,
   "id": "96f81954-b9a8-4312-a404-fc7ecbd72d29",
   "metadata": {},
   "outputs": [
    {
     "data": {
      "text/plain": [
       "2018"
      ]
     },
     "execution_count": 13,
     "metadata": {},
     "output_type": "execute_result"
    }
   ],
   "source": [
    "data.timestamp.dt.year.max()"
   ]
  },
  {
   "cell_type": "code",
   "execution_count": null,
   "id": "13726aa3-5e0b-45e9-afdd-1994d6c34c59",
   "metadata": {},
   "outputs": [],
   "source": []
  },
  {
   "cell_type": "code",
   "execution_count": null,
   "id": "0c671200-891c-4e4a-9647-112f7c249244",
   "metadata": {},
   "outputs": [],
   "source": []
  },
  {
   "cell_type": "code",
   "execution_count": null,
   "id": "b03565dd-8e36-4513-9dd0-13bdf0a5aacb",
   "metadata": {},
   "outputs": [],
   "source": []
  },
  {
   "cell_type": "code",
   "execution_count": null,
   "id": "8cbaaa50-fa03-4470-a223-db9dc9efebf2",
   "metadata": {},
   "outputs": [],
   "source": []
  }
 ],
 "metadata": {
  "kernelspec": {
   "display_name": "Python 3",
   "language": "python",
   "name": "python3"
  },
  "language_info": {
   "codemirror_mode": {
    "name": "ipython",
    "version": 3
   },
   "file_extension": ".py",
   "mimetype": "text/x-python",
   "name": "python",
   "nbconvert_exporter": "python",
   "pygments_lexer": "ipython3",
   "version": "3.7.10"
  }
 },
 "nbformat": 4,
 "nbformat_minor": 5
}
