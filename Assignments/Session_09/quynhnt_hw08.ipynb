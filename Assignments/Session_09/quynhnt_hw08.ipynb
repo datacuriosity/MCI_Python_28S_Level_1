{
 "cells": [
  {
   "cell_type": "code",
   "execution_count": null,
   "id": "42a52173-0b12-4054-8577-9cd18d6d05d8",
   "metadata": {},
   "outputs": [],
   "source": [
    "import pandas as pd\n",
    "import numpy as np\n",
    "import matplotlib.pyplot as plt"
   ]
  },
  {
   "cell_type": "code",
   "execution_count": null,
   "id": "15999979-ec06-4f90-92a4-6cb1b4049dab",
   "metadata": {},
   "outputs": [],
   "source": [
    "data = pd.read_csv(r'C:\\Users\\Laptop EDG\\Downloads\\HW08\\data_hw08.csv')\n",
    "data.head(4)"
   ]
  },
  {
   "cell_type": "markdown",
   "id": "c47bd541-2631-473f-9da6-5c020ba113c8",
   "metadata": {},
   "source": [
    "### Bài 1:"
   ]
  },
  {
   "cell_type": "code",
   "execution_count": null,
   "id": "a34ff515-318f-4b6f-83b9-3fb98be9c41e",
   "metadata": {},
   "outputs": [],
   "source": [
    "data.columns"
   ]
  },
  {
   "cell_type": "code",
   "execution_count": null,
   "id": "a990eda6-b864-4191-bd85-5e565254a693",
   "metadata": {},
   "outputs": [],
   "source": [
    "data.dtypes"
   ]
  },
  {
   "cell_type": "code",
   "execution_count": null,
   "id": "30bd0a4a-9c3a-4441-907c-0eadd5486834",
   "metadata": {},
   "outputs": [],
   "source": [
    "data.dtypes[data.dtypes.values=='object']"
   ]
  },
  {
   "cell_type": "code",
   "execution_count": null,
   "id": "cb6a4e8a-8f62-4aa1-9bf9-1a1736b465d9",
   "metadata": {},
   "outputs": [],
   "source": [
    "data.dtypes[data.dtypes.values=='int64']"
   ]
  },
  {
   "cell_type": "markdown",
   "id": "a3a6fc48-dd77-4f1a-8972-172606093f8f",
   "metadata": {},
   "source": [
    "### Bài 2:"
   ]
  },
  {
   "cell_type": "code",
   "execution_count": null,
   "id": "7b8d8874-9fa0-48cc-9ef2-f7b92a578b7f",
   "metadata": {},
   "outputs": [],
   "source": [
    "df=pd.DataFrame({'Pandas_Dtype':list(data.dtypes),\n",
    "             'python_type':np.random.choice(['a','b','c'],size=15),\n",
    "             'Missing_value':np.linspace(1,15,15),\n",
    "             '% Missing_value':np.linspace(1,15,15)})\n",
    "df"
   ]
  },
  {
   "cell_type": "code",
   "execution_count": null,
   "id": "1334a4e3-e402-49da-aec3-741362c6e7ba",
   "metadata": {},
   "outputs": [],
   "source": [
    "df.index=data.columns\n",
    "df"
   ]
  },
  {
   "cell_type": "code",
   "execution_count": null,
   "id": "dde471ee-7ff9-4412-95e0-10c02e2819f1",
   "metadata": {},
   "outputs": [],
   "source": [
    "df.python_type=[type(i) for i in data.loc[1,:]]\n",
    "df"
   ]
  },
  {
   "cell_type": "code",
   "execution_count": null,
   "id": "842e0b20-ba76-448a-ab89-4bdf74293b5e",
   "metadata": {},
   "outputs": [],
   "source": [
    "df.Missing_value=[data[i].isna().sum() for i in data.columns]\n",
    "df"
   ]
  },
  {
   "cell_type": "code",
   "execution_count": null,
   "id": "6aed158d-8bb6-4530-abe5-eec02caa3b31",
   "metadata": {},
   "outputs": [],
   "source": [
    "df['% Missing_value']=[data[i].isna().sum()/data.shape[0] * 100 for i in data.columns]\n",
    "df"
   ]
  },
  {
   "cell_type": "markdown",
   "id": "10c3a677-f91b-4524-92d6-593ac1e23f76",
   "metadata": {},
   "source": [
    "### Bài 3:"
   ]
  },
  {
   "cell_type": "code",
   "execution_count": null,
   "id": "629eab4a-6df5-4842-811c-dc1e75efb610",
   "metadata": {},
   "outputs": [],
   "source": [
    "# transpose: chuyển hàng thành cột, cột thành hàng\n",
    "df3=data.describe().transpose()\n",
    "df3"
   ]
  },
  {
   "cell_type": "code",
   "execution_count": null,
   "id": "579ef1ae-5ebc-44b5-a7f3-68d4d309d3a9",
   "metadata": {},
   "outputs": [],
   "source": [
    "df3['range']=df3['max']-df3['min']\n",
    "df3"
   ]
  },
  {
   "cell_type": "code",
   "execution_count": null,
   "id": "1fb15ad3-0273-4a02-8a25-0ddc424cd38d",
   "metadata": {},
   "outputs": [],
   "source": [
    "df3['IQR']=df3['75%']-df3['25%']\n",
    "df3"
   ]
  },
  {
   "cell_type": "code",
   "execution_count": null,
   "id": "dcd10fd8-6335-499d-89a0-1d80d21a51fa",
   "metadata": {},
   "outputs": [],
   "source": [
    "data.age.value_counts().index[0]"
   ]
  },
  {
   "cell_type": "code",
   "execution_count": null,
   "id": "3b5c3585-ee3e-4a74-ae9f-a0793836d845",
   "metadata": {},
   "outputs": [],
   "source": [
    "data.fnlwgt.value_counts()"
   ]
  },
  {
   "cell_type": "code",
   "execution_count": null,
   "id": "f1c6ead2-88ec-40ba-b153-8142995a88b7",
   "metadata": {},
   "outputs": [],
   "source": [
    "df3['Mode']=[data[i].value_counts().index[0] for i in df3.index]\n",
    "df3"
   ]
  },
  {
   "cell_type": "code",
   "execution_count": null,
   "id": "65feab8b-92b4-4f8c-a6a5-4c9c1ca07ca2",
   "metadata": {},
   "outputs": [],
   "source": [
    "def mad(x):\n",
    "    total=0\n",
    "    count=0\n",
    "    for i in x:\n",
    "        j=abs(i-x.mean())\n",
    "        total+=j\n",
    "        count+=1\n",
    "        result=total/count\n",
    "    return result\n",
    "df3['MAD']=[mad(data[i]) for i in df3.index]\n",
    "df3\n",
    "## df3['MAD']=data.mad()"
   ]
  },
  {
   "cell_type": "code",
   "execution_count": null,
   "id": "e0ebf7cd-7634-4b0b-83fa-0ece40e84ed8",
   "metadata": {},
   "outputs": [],
   "source": [
    "df3['kurtosis']=data.kurt()\n",
    "df3"
   ]
  },
  {
   "cell_type": "code",
   "execution_count": null,
   "id": "81f3352a-7a5b-4707-b219-68c7e36f6bcf",
   "metadata": {},
   "outputs": [],
   "source": [
    "df3['skewness']=data.skew()\n",
    "df3"
   ]
  },
  {
   "cell_type": "markdown",
   "id": "fe2a1347-ea78-4691-ba84-f439878d2277",
   "metadata": {},
   "source": [
    "### Bài 4:"
   ]
  },
  {
   "cell_type": "code",
   "execution_count": null,
   "id": "b9893602-5f8b-43b6-bc48-939591e06957",
   "metadata": {},
   "outputs": [],
   "source": [
    "import seaborn as sns"
   ]
  },
  {
   "cell_type": "code",
   "execution_count": null,
   "id": "f2c4444e-3c7c-4ae9-bfab-96f85ec8501a",
   "metadata": {},
   "outputs": [],
   "source": [
    "sns.displot(data=data,x='age')"
   ]
  },
  {
   "cell_type": "code",
   "execution_count": null,
   "id": "ffcdd2fe-daa4-45e9-a656-937b6357c189",
   "metadata": {},
   "outputs": [],
   "source": []
  }
 ],
 "metadata": {
  "kernelspec": {
   "display_name": "Python 3",
   "language": "python",
   "name": "python3"
  },
  "language_info": {
   "codemirror_mode": {
    "name": "ipython",
    "version": 3
   },
   "file_extension": ".py",
   "mimetype": "text/x-python",
   "name": "python",
   "nbconvert_exporter": "python",
   "pygments_lexer": "ipython3",
   "version": "3.7.10"
  }
 },
 "nbformat": 4,
 "nbformat_minor": 5
}
