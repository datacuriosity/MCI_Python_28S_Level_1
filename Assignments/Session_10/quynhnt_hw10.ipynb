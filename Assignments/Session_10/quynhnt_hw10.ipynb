{
 "cells": [
  {
   "cell_type": "code",
   "execution_count": null,
   "id": "7a28e912-ffeb-48e5-8964-0c245bf1b987",
   "metadata": {},
   "outputs": [],
   "source": [
    "import pandas as pd\n",
    "import numpy as np\n",
    "import matplotlib.pyplot as plt\n",
    "import seaborn as sns"
   ]
  },
  {
   "cell_type": "markdown",
   "id": "bd0b4b14-49e0-49ba-8114-ab3288bfad5f",
   "metadata": {},
   "source": [
    "### Bài 1:"
   ]
  },
  {
   "cell_type": "code",
   "execution_count": null,
   "id": "7f6c6592-e023-4256-a8fa-1efc3d145619",
   "metadata": {},
   "outputs": [],
   "source": [
    "def show_stars(n):\n",
    "    str=\"\"\n",
    "    for i in range(1,n+1):\n",
    "        str+=\"*\"\n",
    "        print(str)"
   ]
  },
  {
   "cell_type": "code",
   "execution_count": null,
   "id": "27208dba-6f1a-47cf-8c4b-015684bce152",
   "metadata": {},
   "outputs": [],
   "source": [
    "show_stars(2)"
   ]
  },
  {
   "cell_type": "code",
   "execution_count": null,
   "id": "cdbc3388-2b18-4894-bb9f-455d91631de3",
   "metadata": {},
   "outputs": [],
   "source": [
    "show_stars(5)"
   ]
  },
  {
   "cell_type": "markdown",
   "id": "3b314d1d-1351-4dac-8b52-b92d0b3390b7",
   "metadata": {},
   "source": [
    "### Bài 2"
   ]
  },
  {
   "cell_type": "markdown",
   "id": "59076de7-90cc-49cc-ad67-b8523b35e598",
   "metadata": {},
   "source": [
    "### Bài 3"
   ]
  },
  {
   "cell_type": "markdown",
   "id": "0c71c826-9ad2-4b8c-a68b-267371b5a054",
   "metadata": {},
   "source": [
    "### 1. Dùng Pandas đọc và tổng hợp dữ liệu của các năm"
   ]
  },
  {
   "cell_type": "code",
   "execution_count": null,
   "id": "e42e45c7-1a80-401f-b147-e8ce3c0883e9",
   "metadata": {},
   "outputs": [],
   "source": [
    "%config Completer.use_jedi = False"
   ]
  },
  {
   "cell_type": "code",
   "execution_count": null,
   "id": "c97d0b9b-6b2e-4d30-bcb8-52ca86364ea1",
   "metadata": {},
   "outputs": [],
   "source": [
    "df1=pd.read_csv(r'C:\\Users\\Laptop EDG\\Downloads\\Names\\Names\\yob1880.txt', header=None).head(5)\n",
    "df1"
   ]
  },
  {
   "cell_type": "code",
   "execution_count": null,
   "id": "4581e000-f12d-49bb-a982-bd77be02736b",
   "metadata": {},
   "outputs": [],
   "source": [
    "def process_data():\n",
    "    alldata=pd.DataFrame(columns=['Name','Sex','Quantity','Year'])\n",
    "    for year in range(1880,2019):\n",
    "        url='C:/Users/Laptop EDG/Downloads/Names/Names/yob'+str(year)+'.txt'\n",
    "        df=pd.read_csv(url, header=None)\n",
    "        df.columns=['Name','Sex','Quantity']\n",
    "        df['Year']=year\n",
    "        alldata=pd.concat([alldata,df],ignore_index=True)\n",
    "    return alldata"
   ]
  },
  {
   "cell_type": "code",
   "execution_count": null,
   "id": "5c2a9dcc-3fca-4e94-8f9a-2dfe24e16c8f",
   "metadata": {},
   "outputs": [],
   "source": [
    "data=process_data()\n",
    "data"
   ]
  },
  {
   "cell_type": "markdown",
   "id": "375466fd-9cb3-425d-8323-42452c80e768",
   "metadata": {},
   "source": [
    "### 2. Vẽ biểu đồ tổng số trẻ em sinh ra theo giới tính và năm (Total births by sex and year)"
   ]
  },
  {
   "cell_type": "code",
   "execution_count": null,
   "id": "6480d186-538b-44f3-afee-00238546dd1a",
   "metadata": {},
   "outputs": [],
   "source": [
    "data.Quantity=data.Quantity.apply(lambda x:int(x))"
   ]
  },
  {
   "cell_type": "code",
   "execution_count": null,
   "id": "5f1b1b3b-5954-4aba-9dd6-8337085b4729",
   "metadata": {},
   "outputs": [],
   "source": [
    "data.dtypes"
   ]
  },
  {
   "cell_type": "code",
   "execution_count": null,
   "id": "80747631-cbc2-4738-9477-d1ef08e57cd9",
   "metadata": {},
   "outputs": [],
   "source": [
    "# Cách 1:\n",
    "data_f=data[data.Sex=='F'].groupby('Year').Quantity.sum()\n",
    "data_f.tail(3)"
   ]
  },
  {
   "cell_type": "code",
   "execution_count": null,
   "id": "24619fec-880c-4405-a5c9-1a6b9d3a1988",
   "metadata": {},
   "outputs": [],
   "source": [
    "data_m=data[data.Sex=='M'].groupby('Year').Quantity.sum()\n",
    "data_m.tail(3)"
   ]
  },
  {
   "cell_type": "code",
   "execution_count": null,
   "id": "0c41f94a-159a-4f66-a281-c9007da8146c",
   "metadata": {},
   "outputs": [],
   "source": [
    "plt.stackplot(data_f.index,data_f.values,data_m.values,labels=['Female','Male'])\n",
    "plt.xlabel('Year')\n",
    "plt.ylabel('Population')\n",
    "plt.title('Total births by sex and year')\n",
    "plt.legend(loc='upper left');"
   ]
  },
  {
   "cell_type": "code",
   "execution_count": null,
   "id": "976d5c5a-c6cd-4a8d-bf71-28c1014780ea",
   "metadata": {},
   "outputs": [],
   "source": [
    "# Cách 2: (k ổn lắm)\n",
    "data.groupby(['Year','Sex']).Quantity.sum().plot(kind='area',stacked=False,xlabel='Year')"
   ]
  },
  {
   "cell_type": "markdown",
   "id": "6f1f124b-9212-4d44-8ead-67a48c736da5",
   "metadata": {},
   "source": [
    "### 3. Tạo subset gồm top 1000 cái tên phổ biến mỗi năm theo từng loại giới tính"
   ]
  },
  {
   "cell_type": "code",
   "execution_count": null,
   "id": "7456b6d7-ea67-418b-96d8-3369b975e4e0",
   "metadata": {},
   "outputs": [],
   "source": [
    "data.groupby(['Year','Sex']).Quantity.nlargest(1000)"
   ]
  },
  {
   "cell_type": "markdown",
   "id": "d2282d32-592b-4393-a8fd-266882d83118",
   "metadata": {},
   "source": [
    "### 4. Vẽ biểu đồ số lượng các bé sinh theo năm có các tên sau: Philip, Harry, Elizabeth, Marilyn"
   ]
  },
  {
   "cell_type": "code",
   "execution_count": null,
   "id": "b3c59728-41d1-4d8d-b3aa-ca2fe31631f7",
   "metadata": {},
   "outputs": [],
   "source": [
    "data_Phillip=data[data.Name=='Philip'].groupby('Year').Id.count()\n",
    "data_Harry=data[data.Name=='Harry'].groupby('Year').Id.count()\n",
    "data_Elizabeth=data[data.Name=='Elizabeth'].groupby('Year').Id.count()\n",
    "data_Marilyn=data[data.Name=='Marilyn'].groupby('Year').Id.count()"
   ]
  },
  {
   "cell_type": "code",
   "execution_count": null,
   "id": "579feef2-ee61-42e1-b12e-7abefd9b0931",
   "metadata": {},
   "outputs": [],
   "source": [
    "data_combined=pd.concat([data_Phillip,data_Harry,data_Elizabeth,data_Marilyn],axis=1)\n",
    "data_combined"
   ]
  },
  {
   "cell_type": "code",
   "execution_count": null,
   "id": "d09f04ab-b680-4a07-bc73-1d171ac8e7c5",
   "metadata": {},
   "outputs": [],
   "source": [
    "data_combined.columns=['Philip', 'Harry', 'Elizabeth', 'Marilyn']"
   ]
  },
  {
   "cell_type": "code",
   "execution_count": null,
   "id": "05975a06-5650-4670-b043-318c195eaadd",
   "metadata": {},
   "outputs": [],
   "source": [
    "data_combined.Marilyn=data_combined.Marilyn.replace(np.nan,0)"
   ]
  },
  {
   "cell_type": "code",
   "execution_count": null,
   "id": "844ffdc7-9d0a-4bc3-905e-d17d1122111b",
   "metadata": {},
   "outputs": [],
   "source": [
    "data_combined"
   ]
  },
  {
   "cell_type": "code",
   "execution_count": null,
   "id": "0b1aec1a-0eda-4004-b05b-9242e9100eb4",
   "metadata": {},
   "outputs": [],
   "source": [
    "data_combined.Marilyn=data_combined.Marilyn.apply(lambda x:int(x))\n",
    "data_combined"
   ]
  },
  {
   "cell_type": "code",
   "execution_count": null,
   "id": "78c645a7-027b-43ef-9ef5-3f1d4084af9b",
   "metadata": {},
   "outputs": [],
   "source": [
    "data_combined.plot(kind='line')"
   ]
  },
  {
   "cell_type": "code",
   "execution_count": null,
   "id": "76d8ee09-9e8a-449e-99b4-b8f4ee9f6682",
   "metadata": {},
   "outputs": [],
   "source": []
  },
  {
   "cell_type": "code",
   "execution_count": null,
   "id": "1e307afc-1884-4ebe-9776-db4e92175d2b",
   "metadata": {},
   "outputs": [],
   "source": []
  },
  {
   "cell_type": "code",
   "execution_count": null,
   "id": "0f71659f-17de-485d-8e81-d117a74a5887",
   "metadata": {},
   "outputs": [],
   "source": []
  }
 ],
 "metadata": {
  "kernelspec": {
   "display_name": "Python 3",
   "language": "python",
   "name": "python3"
  },
  "language_info": {
   "codemirror_mode": {
    "name": "ipython",
    "version": 3
   },
   "file_extension": ".py",
   "mimetype": "text/x-python",
   "name": "python",
   "nbconvert_exporter": "python",
   "pygments_lexer": "ipython3",
   "version": "3.7.10"
  }
 },
 "nbformat": 4,
 "nbformat_minor": 5
}
