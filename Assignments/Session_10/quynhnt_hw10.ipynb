{
 "cells": [
  {
   "cell_type": "code",
   "execution_count": 66,
   "id": "7a28e912-ffeb-48e5-8964-0c245bf1b987",
   "metadata": {},
   "outputs": [],
   "source": [
    "import pandas as pd\n",
    "import numpy as np\n",
    "import matplotlib.pyplot as plt\n",
    "import seaborn as sns"
   ]
  },
  {
   "cell_type": "markdown",
   "id": "bd0b4b14-49e0-49ba-8114-ab3288bfad5f",
   "metadata": {},
   "source": [
    "### Bài 1:"
   ]
  },
  {
   "cell_type": "code",
   "execution_count": 67,
   "id": "7f6c6592-e023-4256-a8fa-1efc3d145619",
   "metadata": {},
   "outputs": [],
   "source": [
    "def show_stars(n):\n",
    "    str=\"\"\n",
    "    for i in range(1,n+1):\n",
    "        str+=\"*\"\n",
    "        print(str)"
   ]
  },
  {
   "cell_type": "code",
   "execution_count": 68,
   "id": "27208dba-6f1a-47cf-8c4b-015684bce152",
   "metadata": {},
   "outputs": [
    {
     "name": "stdout",
     "output_type": "stream",
     "text": [
      "*\n",
      "**\n"
     ]
    }
   ],
   "source": [
    "show_stars(2)"
   ]
  },
  {
   "cell_type": "code",
   "execution_count": 69,
   "id": "cdbc3388-2b18-4894-bb9f-455d91631de3",
   "metadata": {},
   "outputs": [
    {
     "name": "stdout",
     "output_type": "stream",
     "text": [
      "*\n",
      "**\n",
      "***\n",
      "****\n",
      "*****\n"
     ]
    }
   ],
   "source": [
    "show_stars(5)"
   ]
  },
  {
   "cell_type": "markdown",
   "id": "3b314d1d-1351-4dac-8b52-b92d0b3390b7",
   "metadata": {},
   "source": [
    "### Bài 2"
   ]
  },
  {
   "cell_type": "markdown",
   "id": "59076de7-90cc-49cc-ad67-b8523b35e598",
   "metadata": {},
   "source": [
    "### Bài 3"
   ]
  },
  {
   "cell_type": "markdown",
   "id": "0c71c826-9ad2-4b8c-a68b-267371b5a054",
   "metadata": {},
   "source": [
    "### 1. Dùng Pandas đọc và tổng hợp dữ liệu của các năm"
   ]
  },
  {
   "cell_type": "code",
   "execution_count": 70,
   "id": "e42e45c7-1a80-401f-b147-e8ce3c0883e9",
   "metadata": {},
   "outputs": [],
   "source": [
    "%config Completer.use_jedi = False"
   ]
  },
  {
   "cell_type": "code",
   "execution_count": 71,
   "id": "c97d0b9b-6b2e-4d30-bcb8-52ca86364ea1",
   "metadata": {},
   "outputs": [
    {
     "data": {
      "text/html": [
       "<div>\n",
       "<style scoped>\n",
       "    .dataframe tbody tr th:only-of-type {\n",
       "        vertical-align: middle;\n",
       "    }\n",
       "\n",
       "    .dataframe tbody tr th {\n",
       "        vertical-align: top;\n",
       "    }\n",
       "\n",
       "    .dataframe thead th {\n",
       "        text-align: right;\n",
       "    }\n",
       "</style>\n",
       "<table border=\"1\" class=\"dataframe\">\n",
       "  <thead>\n",
       "    <tr style=\"text-align: right;\">\n",
       "      <th></th>\n",
       "      <th>0</th>\n",
       "      <th>1</th>\n",
       "      <th>2</th>\n",
       "    </tr>\n",
       "  </thead>\n",
       "  <tbody>\n",
       "    <tr>\n",
       "      <th>0</th>\n",
       "      <td>Mary</td>\n",
       "      <td>F</td>\n",
       "      <td>7065</td>\n",
       "    </tr>\n",
       "    <tr>\n",
       "      <th>1</th>\n",
       "      <td>Anna</td>\n",
       "      <td>F</td>\n",
       "      <td>2604</td>\n",
       "    </tr>\n",
       "    <tr>\n",
       "      <th>2</th>\n",
       "      <td>Emma</td>\n",
       "      <td>F</td>\n",
       "      <td>2003</td>\n",
       "    </tr>\n",
       "    <tr>\n",
       "      <th>3</th>\n",
       "      <td>Elizabeth</td>\n",
       "      <td>F</td>\n",
       "      <td>1939</td>\n",
       "    </tr>\n",
       "    <tr>\n",
       "      <th>4</th>\n",
       "      <td>Minnie</td>\n",
       "      <td>F</td>\n",
       "      <td>1746</td>\n",
       "    </tr>\n",
       "  </tbody>\n",
       "</table>\n",
       "</div>"
      ],
      "text/plain": [
       "           0  1     2\n",
       "0       Mary  F  7065\n",
       "1       Anna  F  2604\n",
       "2       Emma  F  2003\n",
       "3  Elizabeth  F  1939\n",
       "4     Minnie  F  1746"
      ]
     },
     "execution_count": 71,
     "metadata": {},
     "output_type": "execute_result"
    }
   ],
   "source": [
    "df1=pd.read_csv(r'C:\\Users\\Laptop EDG\\Downloads\\Names\\Names\\yob1880.txt', header=None).head(5)\n",
    "df1"
   ]
  },
  {
   "cell_type": "code",
   "execution_count": 72,
   "id": "4581e000-f12d-49bb-a982-bd77be02736b",
   "metadata": {},
   "outputs": [],
   "source": [
    "def process_data():\n",
    "    alldata=pd.DataFrame(columns=['Name','Sex','Quantity','Year'])\n",
    "    for year in range(1880,2019):\n",
    "        url='C:/Users/Laptop EDG/Downloads/Names/Names/yob'+str(year)+'.txt'\n",
    "        df=pd.read_csv(url, header=None)\n",
    "        df.columns=['Name','Sex','Quantity']\n",
    "        df['Year']=year\n",
    "        alldata=pd.concat([alldata,df],ignore_index=True)\n",
    "    return alldata"
   ]
  },
  {
   "cell_type": "code",
   "execution_count": 73,
   "id": "5c2a9dcc-3fca-4e94-8f9a-2dfe24e16c8f",
   "metadata": {},
   "outputs": [
    {
     "data": {
      "text/html": [
       "<div>\n",
       "<style scoped>\n",
       "    .dataframe tbody tr th:only-of-type {\n",
       "        vertical-align: middle;\n",
       "    }\n",
       "\n",
       "    .dataframe tbody tr th {\n",
       "        vertical-align: top;\n",
       "    }\n",
       "\n",
       "    .dataframe thead th {\n",
       "        text-align: right;\n",
       "    }\n",
       "</style>\n",
       "<table border=\"1\" class=\"dataframe\">\n",
       "  <thead>\n",
       "    <tr style=\"text-align: right;\">\n",
       "      <th></th>\n",
       "      <th>Name</th>\n",
       "      <th>Sex</th>\n",
       "      <th>Quantity</th>\n",
       "      <th>Year</th>\n",
       "    </tr>\n",
       "  </thead>\n",
       "  <tbody>\n",
       "    <tr>\n",
       "      <th>0</th>\n",
       "      <td>Mary</td>\n",
       "      <td>F</td>\n",
       "      <td>7065</td>\n",
       "      <td>1880</td>\n",
       "    </tr>\n",
       "    <tr>\n",
       "      <th>1</th>\n",
       "      <td>Anna</td>\n",
       "      <td>F</td>\n",
       "      <td>2604</td>\n",
       "      <td>1880</td>\n",
       "    </tr>\n",
       "    <tr>\n",
       "      <th>2</th>\n",
       "      <td>Emma</td>\n",
       "      <td>F</td>\n",
       "      <td>2003</td>\n",
       "      <td>1880</td>\n",
       "    </tr>\n",
       "    <tr>\n",
       "      <th>3</th>\n",
       "      <td>Elizabeth</td>\n",
       "      <td>F</td>\n",
       "      <td>1939</td>\n",
       "      <td>1880</td>\n",
       "    </tr>\n",
       "    <tr>\n",
       "      <th>4</th>\n",
       "      <td>Minnie</td>\n",
       "      <td>F</td>\n",
       "      <td>1746</td>\n",
       "      <td>1880</td>\n",
       "    </tr>\n",
       "    <tr>\n",
       "      <th>...</th>\n",
       "      <td>...</td>\n",
       "      <td>...</td>\n",
       "      <td>...</td>\n",
       "      <td>...</td>\n",
       "    </tr>\n",
       "    <tr>\n",
       "      <th>1957041</th>\n",
       "      <td>Zylas</td>\n",
       "      <td>M</td>\n",
       "      <td>5</td>\n",
       "      <td>2018</td>\n",
       "    </tr>\n",
       "    <tr>\n",
       "      <th>1957042</th>\n",
       "      <td>Zyran</td>\n",
       "      <td>M</td>\n",
       "      <td>5</td>\n",
       "      <td>2018</td>\n",
       "    </tr>\n",
       "    <tr>\n",
       "      <th>1957043</th>\n",
       "      <td>Zyrie</td>\n",
       "      <td>M</td>\n",
       "      <td>5</td>\n",
       "      <td>2018</td>\n",
       "    </tr>\n",
       "    <tr>\n",
       "      <th>1957044</th>\n",
       "      <td>Zyron</td>\n",
       "      <td>M</td>\n",
       "      <td>5</td>\n",
       "      <td>2018</td>\n",
       "    </tr>\n",
       "    <tr>\n",
       "      <th>1957045</th>\n",
       "      <td>Zzyzx</td>\n",
       "      <td>M</td>\n",
       "      <td>5</td>\n",
       "      <td>2018</td>\n",
       "    </tr>\n",
       "  </tbody>\n",
       "</table>\n",
       "<p>1957046 rows × 4 columns</p>\n",
       "</div>"
      ],
      "text/plain": [
       "              Name Sex Quantity  Year\n",
       "0             Mary   F     7065  1880\n",
       "1             Anna   F     2604  1880\n",
       "2             Emma   F     2003  1880\n",
       "3        Elizabeth   F     1939  1880\n",
       "4           Minnie   F     1746  1880\n",
       "...            ...  ..      ...   ...\n",
       "1957041      Zylas   M        5  2018\n",
       "1957042      Zyran   M        5  2018\n",
       "1957043      Zyrie   M        5  2018\n",
       "1957044      Zyron   M        5  2018\n",
       "1957045      Zzyzx   M        5  2018\n",
       "\n",
       "[1957046 rows x 4 columns]"
      ]
     },
     "execution_count": 73,
     "metadata": {},
     "output_type": "execute_result"
    }
   ],
   "source": [
    "data=process_data()\n",
    "data"
   ]
  },
  {
   "cell_type": "markdown",
   "id": "375466fd-9cb3-425d-8323-42452c80e768",
   "metadata": {},
   "source": [
    "### 2. Vẽ biểu đồ tổng số trẻ em sinh ra theo giới tính và năm (Total births by sex and year)"
   ]
  },
  {
   "cell_type": "code",
   "execution_count": 74,
   "id": "6480d186-538b-44f3-afee-00238546dd1a",
   "metadata": {},
   "outputs": [],
   "source": [
    "data.Quantity=data.Quantity.apply(lambda x:int(x))"
   ]
  },
  {
   "cell_type": "code",
   "execution_count": 75,
   "id": "5f1b1b3b-5954-4aba-9dd6-8337085b4729",
   "metadata": {},
   "outputs": [
    {
     "data": {
      "text/plain": [
       "Name        object\n",
       "Sex         object\n",
       "Quantity     int64\n",
       "Year        object\n",
       "dtype: object"
      ]
     },
     "execution_count": 75,
     "metadata": {},
     "output_type": "execute_result"
    }
   ],
   "source": [
    "data.dtypes"
   ]
  },
  {
   "cell_type": "code",
   "execution_count": 76,
   "id": "80747631-cbc2-4738-9477-d1ef08e57cd9",
   "metadata": {},
   "outputs": [
    {
     "data": {
      "text/plain": [
       "Year\n",
       "2016    1766212\n",
       "2017    1719138\n",
       "2018    1686961\n",
       "Name: Quantity, dtype: int64"
      ]
     },
     "execution_count": 76,
     "metadata": {},
     "output_type": "execute_result"
    }
   ],
   "source": [
    "# Cách 1:\n",
    "data_f=data[data.Sex=='F'].groupby('Year').Quantity.sum()\n",
    "data_f.tail(3)"
   ]
  },
  {
   "cell_type": "code",
   "execution_count": 77,
   "id": "24619fec-880c-4405-a5c9-1a6b9d3a1988",
   "metadata": {},
   "outputs": [
    {
     "data": {
      "text/plain": [
       "Year\n",
       "2016    1891585\n",
       "2017    1842837\n",
       "2018    1800392\n",
       "Name: Quantity, dtype: int64"
      ]
     },
     "execution_count": 77,
     "metadata": {},
     "output_type": "execute_result"
    }
   ],
   "source": [
    "data_m=data[data.Sex=='M'].groupby('Year').Quantity.sum()\n",
    "data_m.tail(3)"
   ]
  },
  {
   "cell_type": "code",
   "execution_count": 78,
   "id": "0c41f94a-159a-4f66-a281-c9007da8146c",
   "metadata": {},
   "outputs": [
    {
     "data": {
      "image/png": "[encoded data removed]",
      "text/plain": [
       "<Figure size 432x288 with 1 Axes>"
      ]
     },
     "metadata": {
      "needs_background": "light"
     },
     "output_type": "display_data"
    }
   ],
   "source": [
    "plt.stackplot(data_f.index,data_f.values,data_m.values,labels=['Female','Male'])\n",
    "plt.xlabel('Year')\n",
    "plt.ylabel('Population')\n",
    "plt.title('Total births by sex and year')\n",
    "plt.legend(loc='upper left');"
   ]
  },
  {
   "cell_type": "code",
   "execution_count": 79,
   "id": "976d5c5a-c6cd-4a8d-bf71-28c1014780ea",
   "metadata": {},
   "outputs": [
    {
     "data": {
      "text/plain": [
       "<AxesSubplot:xlabel='Year'>"
      ]
     },
     "execution_count": 79,
     "metadata": {},
     "output_type": "execute_result"
    },
    {
     "data": {
      "image/png": "[encoded data removed]",
      "text/plain": [
       "<Figure size 432x288 with 1 Axes>"
      ]
     },
     "metadata": {
      "needs_background": "light"
     },
     "output_type": "display_data"
    }
   ],
   "source": [
    "# Cách: (k ổn lắm)\n",
    "data.groupby(['Year','Sex']).Quantity.sum().plot(kind='area',stacked=False,xlabel='Year')"
   ]
  },
  {
   "cell_type": "markdown",
   "id": "6f1f124b-9212-4d44-8ead-67a48c736da5",
   "metadata": {},
   "source": [
    "### 3. Tạo subset gồm top 1000 cái tên phổ biến mỗi năm theo từng loại giới tính"
   ]
  },
  {
   "cell_type": "code",
   "execution_count": 80,
   "id": "7456b6d7-ea67-418b-96d8-3369b975e4e0",
   "metadata": {},
   "outputs": [
    {
     "data": {
      "text/plain": [
       "Year  Sex  Name     \n",
       "1880  F    Mary         7065\n",
       "           Anna         2604\n",
       "           Emma         2003\n",
       "           Elizabeth    1939\n",
       "           Minnie       1746\n",
       "                        ... \n",
       "2018  M    Korbyn        207\n",
       "           Randall       207\n",
       "           Benton        206\n",
       "           Coleman       206\n",
       "           Markus        206\n",
       "Name: Quantity, Length: 277877, dtype: int64"
      ]
     },
     "execution_count": 80,
     "metadata": {},
     "output_type": "execute_result"
    }
   ],
   "source": [
    "data_name=data.set_index('Name')\n",
    "data_name.groupby(['Year','Sex']).Quantity.nlargest(1000)"
   ]
  },
  {
   "cell_type": "markdown",
   "id": "d2282d32-592b-4393-a8fd-266882d83118",
   "metadata": {},
   "source": [
    "### 4. Vẽ biểu đồ số lượng các bé sinh theo năm có các tên sau: Philip, Harry, Elizabeth, Marilyn"
   ]
  },
  {
   "cell_type": "code",
   "execution_count": 86,
   "id": "b3c59728-41d1-4d8d-b3aa-ca2fe31631f7",
   "metadata": {},
   "outputs": [],
   "source": [
    "data_Philip=data[data.Name=='Philip'].groupby('Year').Quantity.sum()\n",
    "data_Harry=data[data.Name=='Harry'].groupby('Year').Quantity.sum()\n",
    "data_Elizabeth=data[data.Name=='Elizabeth'].groupby('Year').Quantity.sum()\n",
    "data_Marilyn=data[data.Name=='Marilyn'].groupby('Year').Quantity.sum()"
   ]
  },
  {
   "cell_type": "code",
   "execution_count": 87,
   "id": "579feef2-ee61-42e1-b12e-7abefd9b0931",
   "metadata": {},
   "outputs": [
    {
     "data": {
      "text/html": [
       "<div>\n",
       "<style scoped>\n",
       "    .dataframe tbody tr th:only-of-type {\n",
       "        vertical-align: middle;\n",
       "    }\n",
       "\n",
       "    .dataframe tbody tr th {\n",
       "        vertical-align: top;\n",
       "    }\n",
       "\n",
       "    .dataframe thead th {\n",
       "        text-align: right;\n",
       "    }\n",
       "</style>\n",
       "<table border=\"1\" class=\"dataframe\">\n",
       "  <thead>\n",
       "    <tr style=\"text-align: right;\">\n",
       "      <th></th>\n",
       "      <th>Quantity</th>\n",
       "      <th>Quantity</th>\n",
       "      <th>Quantity</th>\n",
       "      <th>Quantity</th>\n",
       "    </tr>\n",
       "    <tr>\n",
       "      <th>Year</th>\n",
       "      <th></th>\n",
       "      <th></th>\n",
       "      <th></th>\n",
       "      <th></th>\n",
       "    </tr>\n",
       "  </thead>\n",
       "  <tbody>\n",
       "    <tr>\n",
       "      <th>1880</th>\n",
       "      <td>186</td>\n",
       "      <td>2158</td>\n",
       "      <td>1948</td>\n",
       "      <td>NaN</td>\n",
       "    </tr>\n",
       "    <tr>\n",
       "      <th>1881</th>\n",
       "      <td>156</td>\n",
       "      <td>2002</td>\n",
       "      <td>1852</td>\n",
       "      <td>NaN</td>\n",
       "    </tr>\n",
       "    <tr>\n",
       "      <th>1882</th>\n",
       "      <td>182</td>\n",
       "      <td>2246</td>\n",
       "      <td>2193</td>\n",
       "      <td>NaN</td>\n",
       "    </tr>\n",
       "    <tr>\n",
       "      <th>1883</th>\n",
       "      <td>166</td>\n",
       "      <td>2116</td>\n",
       "      <td>2268</td>\n",
       "      <td>NaN</td>\n",
       "    </tr>\n",
       "    <tr>\n",
       "      <th>1884</th>\n",
       "      <td>161</td>\n",
       "      <td>2338</td>\n",
       "      <td>2565</td>\n",
       "      <td>NaN</td>\n",
       "    </tr>\n",
       "    <tr>\n",
       "      <th>...</th>\n",
       "      <td>...</td>\n",
       "      <td>...</td>\n",
       "      <td>...</td>\n",
       "      <td>...</td>\n",
       "    </tr>\n",
       "    <tr>\n",
       "      <th>2014</th>\n",
       "      <td>797</td>\n",
       "      <td>336</td>\n",
       "      <td>9570</td>\n",
       "      <td>797.0</td>\n",
       "    </tr>\n",
       "    <tr>\n",
       "      <th>2015</th>\n",
       "      <td>706</td>\n",
       "      <td>301</td>\n",
       "      <td>9735</td>\n",
       "      <td>748.0</td>\n",
       "    </tr>\n",
       "    <tr>\n",
       "      <th>2016</th>\n",
       "      <td>712</td>\n",
       "      <td>375</td>\n",
       "      <td>9567</td>\n",
       "      <td>633.0</td>\n",
       "    </tr>\n",
       "    <tr>\n",
       "      <th>2017</th>\n",
       "      <td>728</td>\n",
       "      <td>399</td>\n",
       "      <td>8964</td>\n",
       "      <td>582.0</td>\n",
       "    </tr>\n",
       "    <tr>\n",
       "      <th>2018</th>\n",
       "      <td>683</td>\n",
       "      <td>427</td>\n",
       "      <td>8513</td>\n",
       "      <td>494.0</td>\n",
       "    </tr>\n",
       "  </tbody>\n",
       "</table>\n",
       "<p>139 rows × 4 columns</p>\n",
       "</div>"
      ],
      "text/plain": [
       "      Quantity  Quantity  Quantity  Quantity\n",
       "Year                                        \n",
       "1880       186      2158      1948       NaN\n",
       "1881       156      2002      1852       NaN\n",
       "1882       182      2246      2193       NaN\n",
       "1883       166      2116      2268       NaN\n",
       "1884       161      2338      2565       NaN\n",
       "...        ...       ...       ...       ...\n",
       "2014       797       336      9570     797.0\n",
       "2015       706       301      9735     748.0\n",
       "2016       712       375      9567     633.0\n",
       "2017       728       399      8964     582.0\n",
       "2018       683       427      8513     494.0\n",
       "\n",
       "[139 rows x 4 columns]"
      ]
     },
     "execution_count": 87,
     "metadata": {},
     "output_type": "execute_result"
    }
   ],
   "source": [
    "data_combined=pd.concat([data_Philip,data_Harry,data_Elizabeth,data_Marilyn],axis=1)\n",
    "data_combined"
   ]
  },
  {
   "cell_type": "code",
   "execution_count": 88,
   "id": "dff71cef-37e4-45aa-923b-220c79e44c06",
   "metadata": {},
   "outputs": [],
   "source": [
    "data_combined.columns=['Philip', 'Harry', 'Elizabeth', 'Marilyn']"
   ]
  },
  {
   "cell_type": "code",
   "execution_count": 89,
   "id": "2e74ca5f-3794-45f6-a2ab-672e0af5f034",
   "metadata": {},
   "outputs": [],
   "source": [
    "data_combined.Marilyn=data_combined.Marilyn.replace(np.nan,0)"
   ]
  },
  {
   "cell_type": "code",
   "execution_count": 90,
   "id": "b77f5146-8558-4bd9-803a-4daaa92b1560",
   "metadata": {},
   "outputs": [
    {
     "data": {
      "text/html": [
       "<div>\n",
       "<style scoped>\n",
       "    .dataframe tbody tr th:only-of-type {\n",
       "        vertical-align: middle;\n",
       "    }\n",
       "\n",
       "    .dataframe tbody tr th {\n",
       "        vertical-align: top;\n",
       "    }\n",
       "\n",
       "    .dataframe thead th {\n",
       "        text-align: right;\n",
       "    }\n",
       "</style>\n",
       "<table border=\"1\" class=\"dataframe\">\n",
       "  <thead>\n",
       "    <tr style=\"text-align: right;\">\n",
       "      <th></th>\n",
       "      <th>Philip</th>\n",
       "      <th>Harry</th>\n",
       "      <th>Elizabeth</th>\n",
       "      <th>Marilyn</th>\n",
       "    </tr>\n",
       "    <tr>\n",
       "      <th>Year</th>\n",
       "      <th></th>\n",
       "      <th></th>\n",
       "      <th></th>\n",
       "      <th></th>\n",
       "    </tr>\n",
       "  </thead>\n",
       "  <tbody>\n",
       "    <tr>\n",
       "      <th>1880</th>\n",
       "      <td>186</td>\n",
       "      <td>2158</td>\n",
       "      <td>1948</td>\n",
       "      <td>0.0</td>\n",
       "    </tr>\n",
       "    <tr>\n",
       "      <th>1881</th>\n",
       "      <td>156</td>\n",
       "      <td>2002</td>\n",
       "      <td>1852</td>\n",
       "      <td>0.0</td>\n",
       "    </tr>\n",
       "    <tr>\n",
       "      <th>1882</th>\n",
       "      <td>182</td>\n",
       "      <td>2246</td>\n",
       "      <td>2193</td>\n",
       "      <td>0.0</td>\n",
       "    </tr>\n",
       "    <tr>\n",
       "      <th>1883</th>\n",
       "      <td>166</td>\n",
       "      <td>2116</td>\n",
       "      <td>2268</td>\n",
       "      <td>0.0</td>\n",
       "    </tr>\n",
       "    <tr>\n",
       "      <th>1884</th>\n",
       "      <td>161</td>\n",
       "      <td>2338</td>\n",
       "      <td>2565</td>\n",
       "      <td>0.0</td>\n",
       "    </tr>\n",
       "    <tr>\n",
       "      <th>...</th>\n",
       "      <td>...</td>\n",
       "      <td>...</td>\n",
       "      <td>...</td>\n",
       "      <td>...</td>\n",
       "    </tr>\n",
       "    <tr>\n",
       "      <th>2014</th>\n",
       "      <td>797</td>\n",
       "      <td>336</td>\n",
       "      <td>9570</td>\n",
       "      <td>797.0</td>\n",
       "    </tr>\n",
       "    <tr>\n",
       "      <th>2015</th>\n",
       "      <td>706</td>\n",
       "      <td>301</td>\n",
       "      <td>9735</td>\n",
       "      <td>748.0</td>\n",
       "    </tr>\n",
       "    <tr>\n",
       "      <th>2016</th>\n",
       "      <td>712</td>\n",
       "      <td>375</td>\n",
       "      <td>9567</td>\n",
       "      <td>633.0</td>\n",
       "    </tr>\n",
       "    <tr>\n",
       "      <th>2017</th>\n",
       "      <td>728</td>\n",
       "      <td>399</td>\n",
       "      <td>8964</td>\n",
       "      <td>582.0</td>\n",
       "    </tr>\n",
       "    <tr>\n",
       "      <th>2018</th>\n",
       "      <td>683</td>\n",
       "      <td>427</td>\n",
       "      <td>8513</td>\n",
       "      <td>494.0</td>\n",
       "    </tr>\n",
       "  </tbody>\n",
       "</table>\n",
       "<p>139 rows × 4 columns</p>\n",
       "</div>"
      ],
      "text/plain": [
       "      Philip  Harry  Elizabeth  Marilyn\n",
       "Year                                   \n",
       "1880     186   2158       1948      0.0\n",
       "1881     156   2002       1852      0.0\n",
       "1882     182   2246       2193      0.0\n",
       "1883     166   2116       2268      0.0\n",
       "1884     161   2338       2565      0.0\n",
       "...      ...    ...        ...      ...\n",
       "2014     797    336       9570    797.0\n",
       "2015     706    301       9735    748.0\n",
       "2016     712    375       9567    633.0\n",
       "2017     728    399       8964    582.0\n",
       "2018     683    427       8513    494.0\n",
       "\n",
       "[139 rows x 4 columns]"
      ]
     },
     "execution_count": 90,
     "metadata": {},
     "output_type": "execute_result"
    }
   ],
   "source": [
    "data_combined"
   ]
  },
  {
   "cell_type": "code",
   "execution_count": 91,
   "id": "3b3bd4e9-4396-4f3e-b71b-079e6abc10c1",
   "metadata": {},
   "outputs": [
    {
     "data": {
      "text/html": [
       "<div>\n",
       "<style scoped>\n",
       "    .dataframe tbody tr th:only-of-type {\n",
       "        vertical-align: middle;\n",
       "    }\n",
       "\n",
       "    .dataframe tbody tr th {\n",
       "        vertical-align: top;\n",
       "    }\n",
       "\n",
       "    .dataframe thead th {\n",
       "        text-align: right;\n",
       "    }\n",
       "</style>\n",
       "<table border=\"1\" class=\"dataframe\">\n",
       "  <thead>\n",
       "    <tr style=\"text-align: right;\">\n",
       "      <th></th>\n",
       "      <th>Philip</th>\n",
       "      <th>Harry</th>\n",
       "      <th>Elizabeth</th>\n",
       "      <th>Marilyn</th>\n",
       "    </tr>\n",
       "    <tr>\n",
       "      <th>Year</th>\n",
       "      <th></th>\n",
       "      <th></th>\n",
       "      <th></th>\n",
       "      <th></th>\n",
       "    </tr>\n",
       "  </thead>\n",
       "  <tbody>\n",
       "    <tr>\n",
       "      <th>1880</th>\n",
       "      <td>186</td>\n",
       "      <td>2158</td>\n",
       "      <td>1948</td>\n",
       "      <td>0</td>\n",
       "    </tr>\n",
       "    <tr>\n",
       "      <th>1881</th>\n",
       "      <td>156</td>\n",
       "      <td>2002</td>\n",
       "      <td>1852</td>\n",
       "      <td>0</td>\n",
       "    </tr>\n",
       "    <tr>\n",
       "      <th>1882</th>\n",
       "      <td>182</td>\n",
       "      <td>2246</td>\n",
       "      <td>2193</td>\n",
       "      <td>0</td>\n",
       "    </tr>\n",
       "    <tr>\n",
       "      <th>1883</th>\n",
       "      <td>166</td>\n",
       "      <td>2116</td>\n",
       "      <td>2268</td>\n",
       "      <td>0</td>\n",
       "    </tr>\n",
       "    <tr>\n",
       "      <th>1884</th>\n",
       "      <td>161</td>\n",
       "      <td>2338</td>\n",
       "      <td>2565</td>\n",
       "      <td>0</td>\n",
       "    </tr>\n",
       "    <tr>\n",
       "      <th>...</th>\n",
       "      <td>...</td>\n",
       "      <td>...</td>\n",
       "      <td>...</td>\n",
       "      <td>...</td>\n",
       "    </tr>\n",
       "    <tr>\n",
       "      <th>2014</th>\n",
       "      <td>797</td>\n",
       "      <td>336</td>\n",
       "      <td>9570</td>\n",
       "      <td>797</td>\n",
       "    </tr>\n",
       "    <tr>\n",
       "      <th>2015</th>\n",
       "      <td>706</td>\n",
       "      <td>301</td>\n",
       "      <td>9735</td>\n",
       "      <td>748</td>\n",
       "    </tr>\n",
       "    <tr>\n",
       "      <th>2016</th>\n",
       "      <td>712</td>\n",
       "      <td>375</td>\n",
       "      <td>9567</td>\n",
       "      <td>633</td>\n",
       "    </tr>\n",
       "    <tr>\n",
       "      <th>2017</th>\n",
       "      <td>728</td>\n",
       "      <td>399</td>\n",
       "      <td>8964</td>\n",
       "      <td>582</td>\n",
       "    </tr>\n",
       "    <tr>\n",
       "      <th>2018</th>\n",
       "      <td>683</td>\n",
       "      <td>427</td>\n",
       "      <td>8513</td>\n",
       "      <td>494</td>\n",
       "    </tr>\n",
       "  </tbody>\n",
       "</table>\n",
       "<p>139 rows × 4 columns</p>\n",
       "</div>"
      ],
      "text/plain": [
       "      Philip  Harry  Elizabeth  Marilyn\n",
       "Year                                   \n",
       "1880     186   2158       1948        0\n",
       "1881     156   2002       1852        0\n",
       "1882     182   2246       2193        0\n",
       "1883     166   2116       2268        0\n",
       "1884     161   2338       2565        0\n",
       "...      ...    ...        ...      ...\n",
       "2014     797    336       9570      797\n",
       "2015     706    301       9735      748\n",
       "2016     712    375       9567      633\n",
       "2017     728    399       8964      582\n",
       "2018     683    427       8513      494\n",
       "\n",
       "[139 rows x 4 columns]"
      ]
     },
     "execution_count": 91,
     "metadata": {},
     "output_type": "execute_result"
    }
   ],
   "source": [
    "data_combined.Marilyn=data_combined.Marilyn.apply(lambda x:int(x))\n",
    "data_combined"
   ]
  },
  {
   "cell_type": "code",
   "execution_count": 94,
   "id": "d1b89498-3308-40c0-811d-012056e67308",
   "metadata": {
    "tags": []
   },
   "outputs": [
    {
     "data": {
      "image/png": "[encoded data removed]",
      "text/plain": [
       "<Figure size 432x288 with 1 Axes>"
      ]
     },
     "metadata": {
      "needs_background": "light"
     },
     "output_type": "display_data"
    }
   ],
   "source": [
    "data_combined.plot(kind='line')\n",
    "plt.title('Số lượng Tên theo năm')\n",
    "plt.ylabel('Số lượng');"
   ]
  },
  {
   "cell_type": "markdown",
   "id": "e40e5ec4-f1f7-41e6-bfb6-ec0a1bce3923",
   "metadata": {},
   "source": [
    "### 5. Vẽ biểu đồ thể hiện sự đa dạng trong việc đặt tên qua các năm theo từng giới tính (thể hiện bằng xu hướng giảm dần từng năm của tổng tỷ lệ % của top 1000 tên phổ biến)"
   ]
  },
  {
   "cell_type": "code",
   "execution_count": 103,
   "id": "1e307afc-1884-4ebe-9776-db4e92175d2b",
   "metadata": {},
   "outputs": [
    {
     "data": {
      "text/plain": [
       "Year  Sex\n",
       "1880  F        90994\n",
       "      M       110490\n",
       "1881  F        91953\n",
       "      M       100743\n",
       "1882  F       107847\n",
       "              ...   \n",
       "2016  M      1891585\n",
       "2017  F      1719138\n",
       "      M      1842837\n",
       "2018  F      1686961\n",
       "      M      1800392\n",
       "Name: Quantity, Length: 278, dtype: int64"
      ]
     },
     "execution_count": 103,
     "metadata": {},
     "output_type": "execute_result"
    }
   ],
   "source": [
    "data.groupby(['Year','Sex']).Quantity.sum()"
   ]
  },
  {
   "cell_type": "code",
   "execution_count": null,
   "id": "12ef8c48-61dc-4aaa-a93a-a6248dd23750",
   "metadata": {},
   "outputs": [],
   "source": []
  },
  {
   "cell_type": "markdown",
   "id": "3c241f32-9746-4a53-94d9-b205d957169a",
   "metadata": {},
   "source": [
    "### 6. Vẽ biểu đồ thể hiện sự thay đổi trong cách đặt chữ cái đầu tiên trong tên của nam và nữ qua các năm 1900, 1960 và 2018"
   ]
  },
  {
   "cell_type": "markdown",
   "id": "2fba93ec-60de-4100-8d01-45cbc35778c5",
   "metadata": {},
   "source": [
    "### 7. Xác định xu hướng tên con trai biến thành tên con gái và ngược lại. Lấy ví dụ tên có chữ “Lesl…” Ban đầu nam đặt nhiều sau đó giảm, nữ ngược lại."
   ]
  }
 ],
 "metadata": {
  "kernelspec": {
   "display_name": "Python 3",
   "language": "python",
   "name": "python3"
  },
  "language_info": {
   "codemirror_mode": {
    "name": "ipython",
    "version": 3
   },
   "file_extension": ".py",
   "mimetype": "text/x-python",
   "name": "python",
   "nbconvert_exporter": "python",
   "pygments_lexer": "ipython3",
   "version": "3.7.10"
  }
 },
 "nbformat": 4,
 "nbformat_minor": 5
}
