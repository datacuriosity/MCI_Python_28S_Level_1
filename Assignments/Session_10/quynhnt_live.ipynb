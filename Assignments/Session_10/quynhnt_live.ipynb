{
 "cells": [
  {
   "cell_type": "code",
   "execution_count": 4,
   "id": "ad44a933-ed4d-4bd0-81e7-9d36ce1841b3",
   "metadata": {},
   "outputs": [
    {
     "ename": "ModuleNotFoundError",
     "evalue": "No module named 'tqdm'",
     "output_type": "error",
     "traceback": [
      "\u001b[1;31m---------------------------------------------------------------------------\u001b[0m",
      "\u001b[1;31mModuleNotFoundError\u001b[0m                       Traceback (most recent call last)",
      "\u001b[1;32m<ipython-input-4-dbe6a1133df1>\u001b[0m in \u001b[0;36m<module>\u001b[1;34m\u001b[0m\n\u001b[0;32m      4\u001b[0m \u001b[1;32mimport\u001b[0m \u001b[0mseaborn\u001b[0m \u001b[1;32mas\u001b[0m \u001b[0msns\u001b[0m\u001b[1;33m\u001b[0m\u001b[1;33m\u001b[0m\u001b[0m\n\u001b[0;32m      5\u001b[0m \u001b[1;32mfrom\u001b[0m \u001b[0mglob\u001b[0m \u001b[1;32mimport\u001b[0m \u001b[0mglob\u001b[0m \u001b[1;31m#import các file\u001b[0m\u001b[1;33m\u001b[0m\u001b[1;33m\u001b[0m\u001b[0m\n\u001b[1;32m----> 6\u001b[1;33m \u001b[1;32mfrom\u001b[0m \u001b[0mtqdm\u001b[0m \u001b[1;32mimport\u001b[0m \u001b[0mtqdm\u001b[0m\u001b[1;33m\u001b[0m\u001b[1;33m\u001b[0m\u001b[0m\n\u001b[0m",
      "\u001b[1;31mModuleNotFoundError\u001b[0m: No module named 'tqdm'"
     ]
    }
   ],
   "source": [
    "import numpy as np\n",
    "import pandas as pd\n",
    "import matplotlib.pyplot as plt\n",
    "import seaborn as sns\n",
    "from glob import glob #import các file\n",
    "from tqdm import tqdm"
   ]
  },
  {
   "cell_type": "code",
   "execution_count": 5,
   "id": "e8eb0a08-eef2-425c-bb18-e8c211faafbb",
   "metadata": {},
   "outputs": [
    {
     "name": "stdout",
     "output_type": "stream",
     "text": [
      "Collecting tqdm\n",
      "  Downloading tqdm-4.61.0-py2.py3-none-any.whl (75 kB)\n",
      "Installing collected packages: tqdm\n",
      "Successfully installed tqdm-4.61.0\n"
     ]
    }
   ],
   "source": [
    "!pip install tqdm"
   ]
  },
  {
   "cell_type": "code",
   "execution_count": 6,
   "id": "fbd07196-e3ee-49a8-90c9-4576256bac91",
   "metadata": {},
   "outputs": [],
   "source": [
    "import gc"
   ]
  },
  {
   "cell_type": "code",
   "execution_count": 7,
   "id": "9167de3c-6ede-45f1-a1d1-be0e95cad89c",
   "metadata": {},
   "outputs": [
    {
     "data": {
      "text/plain": [
       "0"
      ]
     },
     "execution_count": 7,
     "metadata": {},
     "output_type": "execute_result"
    }
   ],
   "source": [
    "paths = glob('./Names_1/*.txt')\n",
    "li_df=[]\n",
    "for path in paths:\n",
    "    df = pd.read_csv(path, names=['name','gender','occurence'])\n",
    "    df['year'] = path[-8:-4]\n",
    "    li_df.append(df)\n",
    "    \n",
    "df = pd.concat(li_df, ignore_index=True)\n",
    "del li_df\n",
    "gc.collect()"
   ]
  },
  {
   "cell_type": "code",
   "execution_count": 9,
   "id": "cb01d812-39e0-4aa6-84d7-510f3ce616cb",
   "metadata": {},
   "outputs": [
    {
     "data": {
      "text/plain": [
       "22"
      ]
     },
     "execution_count": 9,
     "metadata": {},
     "output_type": "execute_result"
    }
   ],
   "source": [
    "df = df.set_index('year').reset_index()\n",
    "gc.collect()"
   ]
  },
  {
   "cell_type": "code",
   "execution_count": 10,
   "id": "34c39854-3eef-4d45-8d8f-69c6024b4a4c",
   "metadata": {},
   "outputs": [
    {
     "data": {
      "text/html": [
       "<div>\n",
       "<style scoped>\n",
       "    .dataframe tbody tr th:only-of-type {\n",
       "        vertical-align: middle;\n",
       "    }\n",
       "\n",
       "    .dataframe tbody tr th {\n",
       "        vertical-align: top;\n",
       "    }\n",
       "\n",
       "    .dataframe thead th {\n",
       "        text-align: right;\n",
       "    }\n",
       "</style>\n",
       "<table border=\"1\" class=\"dataframe\">\n",
       "  <thead>\n",
       "    <tr style=\"text-align: right;\">\n",
       "      <th></th>\n",
       "      <th>year</th>\n",
       "      <th>name</th>\n",
       "      <th>gender</th>\n",
       "      <th>occurence</th>\n",
       "    </tr>\n",
       "  </thead>\n",
       "  <tbody>\n",
       "    <tr>\n",
       "      <th>0</th>\n",
       "      <td>1880</td>\n",
       "      <td>Mary</td>\n",
       "      <td>F</td>\n",
       "      <td>7065</td>\n",
       "    </tr>\n",
       "    <tr>\n",
       "      <th>1</th>\n",
       "      <td>1880</td>\n",
       "      <td>Anna</td>\n",
       "      <td>F</td>\n",
       "      <td>2604</td>\n",
       "    </tr>\n",
       "  </tbody>\n",
       "</table>\n",
       "</div>"
      ],
      "text/plain": [
       "   year  name gender  occurence\n",
       "0  1880  Mary      F       7065\n",
       "1  1880  Anna      F       2604"
      ]
     },
     "execution_count": 10,
     "metadata": {},
     "output_type": "execute_result"
    }
   ],
   "source": [
    "df.head(2)"
   ]
  },
  {
   "cell_type": "markdown",
   "id": "86b002c2-faa5-4547-babd-f828bd77ba15",
   "metadata": {},
   "source": [
    "#### Vẽ biểu đồ tổng số trẻ em sinh ra theo giới tính và năm (Total births by sex and year)"
   ]
  },
  {
   "cell_type": "code",
   "execution_count": 11,
   "id": "0576fa9e-97ec-4a35-957d-271b412fec8d",
   "metadata": {},
   "outputs": [
    {
     "data": {
      "text/plain": [
       "gender  year\n",
       "F       1880      90994\n",
       "        1881      91953\n",
       "        1882     107847\n",
       "        1883     112319\n",
       "        1884     129019\n",
       "                 ...   \n",
       "M       2014    1916564\n",
       "        2015    1911537\n",
       "        2016    1891585\n",
       "        2017    1842837\n",
       "        2018    1800392\n",
       "Name: occurence, Length: 278, dtype: int64"
      ]
     },
     "execution_count": 11,
     "metadata": {},
     "output_type": "execute_result"
    }
   ],
   "source": [
    "df.groupby(['gender','year']).occurence.sum()"
   ]
  },
  {
   "cell_type": "code",
   "execution_count": null,
   "id": "3e98dc72-7299-42e6-bce7-4d996f718276",
   "metadata": {},
   "outputs": [],
   "source": [
    "# Chuyển sang dạng df:\n",
    "df.groupby(['gender','year']).occurence.sum().to_frame()\n",
    "or df.groupby(['gender','year']).sum()"
   ]
  },
  {
   "cell_type": "code",
   "execution_count": 12,
   "id": "974465d6-4ff7-434b-9d83-79ad4aed1a94",
   "metadata": {},
   "outputs": [
    {
     "data": {
      "text/html": [
       "<div>\n",
       "<style scoped>\n",
       "    .dataframe tbody tr th:only-of-type {\n",
       "        vertical-align: middle;\n",
       "    }\n",
       "\n",
       "    .dataframe tbody tr th {\n",
       "        vertical-align: top;\n",
       "    }\n",
       "\n",
       "    .dataframe thead th {\n",
       "        text-align: right;\n",
       "    }\n",
       "</style>\n",
       "<table border=\"1\" class=\"dataframe\">\n",
       "  <thead>\n",
       "    <tr style=\"text-align: right;\">\n",
       "      <th></th>\n",
       "      <th></th>\n",
       "      <th>occurence</th>\n",
       "    </tr>\n",
       "    <tr>\n",
       "      <th>gender</th>\n",
       "      <th>year</th>\n",
       "      <th></th>\n",
       "    </tr>\n",
       "  </thead>\n",
       "  <tbody>\n",
       "    <tr>\n",
       "      <th rowspan=\"5\" valign=\"top\">F</th>\n",
       "      <th>1880</th>\n",
       "      <td>90994</td>\n",
       "    </tr>\n",
       "    <tr>\n",
       "      <th>1881</th>\n",
       "      <td>91953</td>\n",
       "    </tr>\n",
       "    <tr>\n",
       "      <th>1882</th>\n",
       "      <td>107847</td>\n",
       "    </tr>\n",
       "    <tr>\n",
       "      <th>1883</th>\n",
       "      <td>112319</td>\n",
       "    </tr>\n",
       "    <tr>\n",
       "      <th>1884</th>\n",
       "      <td>129019</td>\n",
       "    </tr>\n",
       "    <tr>\n",
       "      <th>...</th>\n",
       "      <th>...</th>\n",
       "      <td>...</td>\n",
       "    </tr>\n",
       "    <tr>\n",
       "      <th rowspan=\"5\" valign=\"top\">M</th>\n",
       "      <th>2014</th>\n",
       "      <td>1916564</td>\n",
       "    </tr>\n",
       "    <tr>\n",
       "      <th>2015</th>\n",
       "      <td>1911537</td>\n",
       "    </tr>\n",
       "    <tr>\n",
       "      <th>2016</th>\n",
       "      <td>1891585</td>\n",
       "    </tr>\n",
       "    <tr>\n",
       "      <th>2017</th>\n",
       "      <td>1842837</td>\n",
       "    </tr>\n",
       "    <tr>\n",
       "      <th>2018</th>\n",
       "      <td>1800392</td>\n",
       "    </tr>\n",
       "  </tbody>\n",
       "</table>\n",
       "<p>278 rows × 1 columns</p>\n",
       "</div>"
      ],
      "text/plain": [
       "             occurence\n",
       "gender year           \n",
       "F      1880      90994\n",
       "       1881      91953\n",
       "       1882     107847\n",
       "       1883     112319\n",
       "       1884     129019\n",
       "...                ...\n",
       "M      2014    1916564\n",
       "       2015    1911537\n",
       "       2016    1891585\n",
       "       2017    1842837\n",
       "       2018    1800392\n",
       "\n",
       "[278 rows x 1 columns]"
      ]
     },
     "execution_count": 12,
     "metadata": {},
     "output_type": "execute_result"
    }
   ],
   "source": [
    "# MultiIndex:\n",
    "df.groupby(['gender','year']).sum()"
   ]
  },
  {
   "cell_type": "code",
   "execution_count": 13,
   "id": "f949ca79-3324-4642-b16f-ff54e8b3c674",
   "metadata": {},
   "outputs": [
    {
     "data": {
      "text/html": [
       "<div>\n",
       "<style scoped>\n",
       "    .dataframe tbody tr th:only-of-type {\n",
       "        vertical-align: middle;\n",
       "    }\n",
       "\n",
       "    .dataframe tbody tr th {\n",
       "        vertical-align: top;\n",
       "    }\n",
       "\n",
       "    .dataframe thead th {\n",
       "        text-align: right;\n",
       "    }\n",
       "</style>\n",
       "<table border=\"1\" class=\"dataframe\">\n",
       "  <thead>\n",
       "    <tr style=\"text-align: right;\">\n",
       "      <th></th>\n",
       "      <th>gender</th>\n",
       "      <th>year</th>\n",
       "      <th>occurence</th>\n",
       "    </tr>\n",
       "  </thead>\n",
       "  <tbody>\n",
       "    <tr>\n",
       "      <th>0</th>\n",
       "      <td>F</td>\n",
       "      <td>1880</td>\n",
       "      <td>90994</td>\n",
       "    </tr>\n",
       "    <tr>\n",
       "      <th>1</th>\n",
       "      <td>F</td>\n",
       "      <td>1881</td>\n",
       "      <td>91953</td>\n",
       "    </tr>\n",
       "    <tr>\n",
       "      <th>2</th>\n",
       "      <td>F</td>\n",
       "      <td>1882</td>\n",
       "      <td>107847</td>\n",
       "    </tr>\n",
       "    <tr>\n",
       "      <th>3</th>\n",
       "      <td>F</td>\n",
       "      <td>1883</td>\n",
       "      <td>112319</td>\n",
       "    </tr>\n",
       "    <tr>\n",
       "      <th>4</th>\n",
       "      <td>F</td>\n",
       "      <td>1884</td>\n",
       "      <td>129019</td>\n",
       "    </tr>\n",
       "    <tr>\n",
       "      <th>...</th>\n",
       "      <td>...</td>\n",
       "      <td>...</td>\n",
       "      <td>...</td>\n",
       "    </tr>\n",
       "    <tr>\n",
       "      <th>273</th>\n",
       "      <td>M</td>\n",
       "      <td>2014</td>\n",
       "      <td>1916564</td>\n",
       "    </tr>\n",
       "    <tr>\n",
       "      <th>274</th>\n",
       "      <td>M</td>\n",
       "      <td>2015</td>\n",
       "      <td>1911537</td>\n",
       "    </tr>\n",
       "    <tr>\n",
       "      <th>275</th>\n",
       "      <td>M</td>\n",
       "      <td>2016</td>\n",
       "      <td>1891585</td>\n",
       "    </tr>\n",
       "    <tr>\n",
       "      <th>276</th>\n",
       "      <td>M</td>\n",
       "      <td>2017</td>\n",
       "      <td>1842837</td>\n",
       "    </tr>\n",
       "    <tr>\n",
       "      <th>277</th>\n",
       "      <td>M</td>\n",
       "      <td>2018</td>\n",
       "      <td>1800392</td>\n",
       "    </tr>\n",
       "  </tbody>\n",
       "</table>\n",
       "<p>278 rows × 3 columns</p>\n",
       "</div>"
      ],
      "text/plain": [
       "    gender  year  occurence\n",
       "0        F  1880      90994\n",
       "1        F  1881      91953\n",
       "2        F  1882     107847\n",
       "3        F  1883     112319\n",
       "4        F  1884     129019\n",
       "..     ...   ...        ...\n",
       "273      M  2014    1916564\n",
       "274      M  2015    1911537\n",
       "275      M  2016    1891585\n",
       "276      M  2017    1842837\n",
       "277      M  2018    1800392\n",
       "\n",
       "[278 rows x 3 columns]"
      ]
     },
     "execution_count": 13,
     "metadata": {},
     "output_type": "execute_result"
    }
   ],
   "source": [
    "df.groupby(['gender','year']).sum().reset_index()"
   ]
  },
  {
   "cell_type": "code",
   "execution_count": 16,
   "id": "75e42812-1a16-4626-8f5b-fb247c84ea00",
   "metadata": {},
   "outputs": [
    {
     "data": {
      "image/png": "[encoded data removed]",
      "text/plain": [
       "<Figure size 720x360 with 1 Axes>"
      ]
     },
     "metadata": {
      "needs_background": "light"
     },
     "output_type": "display_data"
    }
   ],
   "source": [
    "# vô hiệu hóa MultiIndex (đưa lên values)\n",
    "df.groupby(['gender','year']).sum().reset_index().\\\n",
    "pivot(index='year',columns='gender',values='occurence').\\\n",
    "plot(figsize=(10,5), ylabel='Sum occurence');"
   ]
  },
  {
   "cell_type": "code",
   "execution_count": 19,
   "id": "67674893-f489-488c-83bd-cbbc8433ef53",
   "metadata": {},
   "outputs": [
    {
     "data": {
      "image/png": "[encoded data removed]",
      "text/plain": [
       "<Figure size 1800x360 with 1 Axes>"
      ]
     },
     "metadata": {
      "needs_background": "light"
     },
     "output_type": "display_data"
    }
   ],
   "source": [
    "# dạng bar:\n",
    "df.groupby(['gender','year']).sum().reset_index().\\\n",
    "pivot(index='year',columns='gender',values='occurence').\\\n",
    "plot(kind='bar',figsize=(25,5), ylabel='Sum occurence',width=1);"
   ]
  },
  {
   "cell_type": "code",
   "execution_count": 22,
   "id": "c5e01725-4b81-40ce-998f-79951e62f186",
   "metadata": {},
   "outputs": [],
   "source": [
    "from matplotlib.ticker import (MultipleLocator, AutoMinorLocator)"
   ]
  },
  {
   "cell_type": "code",
   "execution_count": 23,
   "id": "b489896e-326c-4877-9241-02318ec81428",
   "metadata": {},
   "outputs": [
    {
     "data": {
      "image/png": "[encoded data removed]",
      "text/plain": [
       "<Figure size 1800x360 with 1 Axes>"
      ]
     },
     "metadata": {
      "needs_background": "light"
     },
     "output_type": "display_data"
    }
   ],
   "source": [
    "# Sửa dấu tick:\n",
    "ax = df.groupby(['gender','year']).sum().reset_index().\\\n",
    "    pivot(index='year',columns='gender',values='occurence').\\\n",
    "    plot(kind='bar',figsize=(25,5), ylabel='Sum occurence',width=1)\n",
    "ax.xaxis.set_major_locator(MultipleLocator(10));"
   ]
  },
  {
   "cell_type": "markdown",
   "id": "2d5012b6-4630-4daf-957e-1e71c8ec58be",
   "metadata": {},
   "source": [
    "#### Tạo subset gồm top 1000 cái tên phổ biến mỗi năm theo từng loại giới tính"
   ]
  },
  {
   "cell_type": "code",
   "execution_count": 27,
   "id": "dfb0be0b-9e36-4071-b3ca-9def099e96f1",
   "metadata": {},
   "outputs": [
    {
     "data": {
      "text/html": [
       "<div>\n",
       "<style scoped>\n",
       "    .dataframe tbody tr th:only-of-type {\n",
       "        vertical-align: middle;\n",
       "    }\n",
       "\n",
       "    .dataframe tbody tr th {\n",
       "        vertical-align: top;\n",
       "    }\n",
       "\n",
       "    .dataframe thead th {\n",
       "        text-align: right;\n",
       "    }\n",
       "</style>\n",
       "<table border=\"1\" class=\"dataframe\">\n",
       "  <thead>\n",
       "    <tr style=\"text-align: right;\">\n",
       "      <th></th>\n",
       "      <th></th>\n",
       "      <th></th>\n",
       "      <th>name</th>\n",
       "      <th>occurence</th>\n",
       "    </tr>\n",
       "    <tr>\n",
       "      <th>year</th>\n",
       "      <th>gender</th>\n",
       "      <th></th>\n",
       "      <th></th>\n",
       "      <th></th>\n",
       "    </tr>\n",
       "  </thead>\n",
       "  <tbody>\n",
       "    <tr>\n",
       "      <th rowspan=\"5\" valign=\"top\">1880</th>\n",
       "      <th rowspan=\"5\" valign=\"top\">F</th>\n",
       "      <th>0</th>\n",
       "      <td>Mary</td>\n",
       "      <td>7065</td>\n",
       "    </tr>\n",
       "    <tr>\n",
       "      <th>1</th>\n",
       "      <td>Anna</td>\n",
       "      <td>2604</td>\n",
       "    </tr>\n",
       "    <tr>\n",
       "      <th>2</th>\n",
       "      <td>Emma</td>\n",
       "      <td>2003</td>\n",
       "    </tr>\n",
       "    <tr>\n",
       "      <th>3</th>\n",
       "      <td>Elizabeth</td>\n",
       "      <td>1939</td>\n",
       "    </tr>\n",
       "    <tr>\n",
       "      <th>4</th>\n",
       "      <td>Minnie</td>\n",
       "      <td>1746</td>\n",
       "    </tr>\n",
       "    <tr>\n",
       "      <th>...</th>\n",
       "      <th>...</th>\n",
       "      <th>...</th>\n",
       "      <td>...</td>\n",
       "      <td>...</td>\n",
       "    </tr>\n",
       "    <tr>\n",
       "      <th rowspan=\"5\" valign=\"top\">2018</th>\n",
       "      <th rowspan=\"5\" valign=\"top\">M</th>\n",
       "      <th>1944037</th>\n",
       "      <td>Korbyn</td>\n",
       "      <td>207</td>\n",
       "    </tr>\n",
       "    <tr>\n",
       "      <th>1944038</th>\n",
       "      <td>Randall</td>\n",
       "      <td>207</td>\n",
       "    </tr>\n",
       "    <tr>\n",
       "      <th>1944039</th>\n",
       "      <td>Benton</td>\n",
       "      <td>206</td>\n",
       "    </tr>\n",
       "    <tr>\n",
       "      <th>1944040</th>\n",
       "      <td>Coleman</td>\n",
       "      <td>206</td>\n",
       "    </tr>\n",
       "    <tr>\n",
       "      <th>1944041</th>\n",
       "      <td>Markus</td>\n",
       "      <td>206</td>\n",
       "    </tr>\n",
       "  </tbody>\n",
       "</table>\n",
       "<p>277877 rows × 2 columns</p>\n",
       "</div>"
      ],
      "text/plain": [
       "                          name  occurence\n",
       "year gender                              \n",
       "1880 F      0             Mary       7065\n",
       "            1             Anna       2604\n",
       "            2             Emma       2003\n",
       "            3        Elizabeth       1939\n",
       "            4           Minnie       1746\n",
       "...                        ...        ...\n",
       "2018 M      1944037     Korbyn        207\n",
       "            1944038    Randall        207\n",
       "            1944039     Benton        206\n",
       "            1944040    Coleman        206\n",
       "            1944041     Markus        206\n",
       "\n",
       "[277877 rows x 2 columns]"
      ]
     },
     "execution_count": 27,
     "metadata": {},
     "output_type": "execute_result"
    }
   ],
   "source": [
    "df.groupby(['year','gender']).apply(lambda x: x.nlargest(1000,'occurence'))[['name','occurence']]"
   ]
  },
  {
   "cell_type": "code",
   "execution_count": 28,
   "id": "dd50fd63-8e15-4556-af55-a193e7a0e55f",
   "metadata": {},
   "outputs": [
    {
     "data": {
      "text/html": [
       "<div>\n",
       "<style scoped>\n",
       "    .dataframe tbody tr th:only-of-type {\n",
       "        vertical-align: middle;\n",
       "    }\n",
       "\n",
       "    .dataframe tbody tr th {\n",
       "        vertical-align: top;\n",
       "    }\n",
       "\n",
       "    .dataframe thead th {\n",
       "        text-align: right;\n",
       "    }\n",
       "</style>\n",
       "<table border=\"1\" class=\"dataframe\">\n",
       "  <thead>\n",
       "    <tr style=\"text-align: right;\">\n",
       "      <th></th>\n",
       "      <th></th>\n",
       "      <th>name</th>\n",
       "      <th>occurence</th>\n",
       "    </tr>\n",
       "    <tr>\n",
       "      <th>year</th>\n",
       "      <th>gender</th>\n",
       "      <th></th>\n",
       "      <th></th>\n",
       "    </tr>\n",
       "  </thead>\n",
       "  <tbody>\n",
       "    <tr>\n",
       "      <th rowspan=\"5\" valign=\"top\">1880</th>\n",
       "      <th>F</th>\n",
       "      <td>Mary</td>\n",
       "      <td>7065</td>\n",
       "    </tr>\n",
       "    <tr>\n",
       "      <th>F</th>\n",
       "      <td>Anna</td>\n",
       "      <td>2604</td>\n",
       "    </tr>\n",
       "    <tr>\n",
       "      <th>F</th>\n",
       "      <td>Emma</td>\n",
       "      <td>2003</td>\n",
       "    </tr>\n",
       "    <tr>\n",
       "      <th>F</th>\n",
       "      <td>Elizabeth</td>\n",
       "      <td>1939</td>\n",
       "    </tr>\n",
       "    <tr>\n",
       "      <th>F</th>\n",
       "      <td>Minnie</td>\n",
       "      <td>1746</td>\n",
       "    </tr>\n",
       "    <tr>\n",
       "      <th>...</th>\n",
       "      <th>...</th>\n",
       "      <td>...</td>\n",
       "      <td>...</td>\n",
       "    </tr>\n",
       "    <tr>\n",
       "      <th rowspan=\"5\" valign=\"top\">2018</th>\n",
       "      <th>M</th>\n",
       "      <td>Korbyn</td>\n",
       "      <td>207</td>\n",
       "    </tr>\n",
       "    <tr>\n",
       "      <th>M</th>\n",
       "      <td>Randall</td>\n",
       "      <td>207</td>\n",
       "    </tr>\n",
       "    <tr>\n",
       "      <th>M</th>\n",
       "      <td>Benton</td>\n",
       "      <td>206</td>\n",
       "    </tr>\n",
       "    <tr>\n",
       "      <th>M</th>\n",
       "      <td>Coleman</td>\n",
       "      <td>206</td>\n",
       "    </tr>\n",
       "    <tr>\n",
       "      <th>M</th>\n",
       "      <td>Markus</td>\n",
       "      <td>206</td>\n",
       "    </tr>\n",
       "  </tbody>\n",
       "</table>\n",
       "<p>281378 rows × 2 columns</p>\n",
       "</div>"
      ],
      "text/plain": [
       "                  name  occurence\n",
       "year gender                      \n",
       "1880 F            Mary       7065\n",
       "     F            Anna       2604\n",
       "     F            Emma       2003\n",
       "     F       Elizabeth       1939\n",
       "     F          Minnie       1746\n",
       "...                ...        ...\n",
       "2018 M          Korbyn        207\n",
       "     M         Randall        207\n",
       "     M          Benton        206\n",
       "     M         Coleman        206\n",
       "     M          Markus        206\n",
       "\n",
       "[281378 rows x 2 columns]"
      ]
     },
     "execution_count": 28,
     "metadata": {},
     "output_type": "execute_result"
    }
   ],
   "source": [
    "df.groupby(['year','gender']).apply(lambda x: x.nlargest(1000,'occurence',keep='all'))[['name','occurence']].\\\n",
    "droplevel(2)"
   ]
  },
  {
   "cell_type": "code",
   "execution_count": 29,
   "id": "61d5f9bb-0655-4888-8774-5f34198ac982",
   "metadata": {},
   "outputs": [
    {
     "data": {
      "text/html": [
       "<div>\n",
       "<style scoped>\n",
       "    .dataframe tbody tr th:only-of-type {\n",
       "        vertical-align: middle;\n",
       "    }\n",
       "\n",
       "    .dataframe tbody tr th {\n",
       "        vertical-align: top;\n",
       "    }\n",
       "\n",
       "    .dataframe thead th {\n",
       "        text-align: right;\n",
       "    }\n",
       "</style>\n",
       "<table border=\"1\" class=\"dataframe\">\n",
       "  <thead>\n",
       "    <tr style=\"text-align: right;\">\n",
       "      <th></th>\n",
       "      <th>year</th>\n",
       "      <th>gender</th>\n",
       "      <th>name</th>\n",
       "      <th>occurence</th>\n",
       "    </tr>\n",
       "  </thead>\n",
       "  <tbody>\n",
       "    <tr>\n",
       "      <th>0</th>\n",
       "      <td>1880</td>\n",
       "      <td>F</td>\n",
       "      <td>Mary</td>\n",
       "      <td>7065</td>\n",
       "    </tr>\n",
       "    <tr>\n",
       "      <th>1</th>\n",
       "      <td>1880</td>\n",
       "      <td>F</td>\n",
       "      <td>Anna</td>\n",
       "      <td>2604</td>\n",
       "    </tr>\n",
       "    <tr>\n",
       "      <th>2</th>\n",
       "      <td>1880</td>\n",
       "      <td>F</td>\n",
       "      <td>Emma</td>\n",
       "      <td>2003</td>\n",
       "    </tr>\n",
       "    <tr>\n",
       "      <th>3</th>\n",
       "      <td>1880</td>\n",
       "      <td>F</td>\n",
       "      <td>Elizabeth</td>\n",
       "      <td>1939</td>\n",
       "    </tr>\n",
       "    <tr>\n",
       "      <th>4</th>\n",
       "      <td>1880</td>\n",
       "      <td>F</td>\n",
       "      <td>Minnie</td>\n",
       "      <td>1746</td>\n",
       "    </tr>\n",
       "    <tr>\n",
       "      <th>...</th>\n",
       "      <td>...</td>\n",
       "      <td>...</td>\n",
       "      <td>...</td>\n",
       "      <td>...</td>\n",
       "    </tr>\n",
       "    <tr>\n",
       "      <th>281373</th>\n",
       "      <td>2018</td>\n",
       "      <td>M</td>\n",
       "      <td>Korbyn</td>\n",
       "      <td>207</td>\n",
       "    </tr>\n",
       "    <tr>\n",
       "      <th>281374</th>\n",
       "      <td>2018</td>\n",
       "      <td>M</td>\n",
       "      <td>Randall</td>\n",
       "      <td>207</td>\n",
       "    </tr>\n",
       "    <tr>\n",
       "      <th>281375</th>\n",
       "      <td>2018</td>\n",
       "      <td>M</td>\n",
       "      <td>Benton</td>\n",
       "      <td>206</td>\n",
       "    </tr>\n",
       "    <tr>\n",
       "      <th>281376</th>\n",
       "      <td>2018</td>\n",
       "      <td>M</td>\n",
       "      <td>Coleman</td>\n",
       "      <td>206</td>\n",
       "    </tr>\n",
       "    <tr>\n",
       "      <th>281377</th>\n",
       "      <td>2018</td>\n",
       "      <td>M</td>\n",
       "      <td>Markus</td>\n",
       "      <td>206</td>\n",
       "    </tr>\n",
       "  </tbody>\n",
       "</table>\n",
       "<p>281378 rows × 4 columns</p>\n",
       "</div>"
      ],
      "text/plain": [
       "        year gender       name  occurence\n",
       "0       1880      F       Mary       7065\n",
       "1       1880      F       Anna       2604\n",
       "2       1880      F       Emma       2003\n",
       "3       1880      F  Elizabeth       1939\n",
       "4       1880      F     Minnie       1746\n",
       "...      ...    ...        ...        ...\n",
       "281373  2018      M     Korbyn        207\n",
       "281374  2018      M    Randall        207\n",
       "281375  2018      M     Benton        206\n",
       "281376  2018      M    Coleman        206\n",
       "281377  2018      M     Markus        206\n",
       "\n",
       "[281378 rows x 4 columns]"
      ]
     },
     "execution_count": 29,
     "metadata": {},
     "output_type": "execute_result"
    }
   ],
   "source": [
    "data_name=df.set_index('name')\n",
    "data_name.groupby(['year','gender']).occurence.nlargest(1000, keep = 'all').reset_index()"
   ]
  },
  {
   "cell_type": "markdown",
   "id": "8aabf122-382d-4ac4-ab0b-65cc484c6ca7",
   "metadata": {},
   "source": [
    "### 4. Vẽ biểu đồ số lượng các bé sinh theo năm có các tên sau: Philip, Harry, Elizabeth, Marilyn"
   ]
  },
  {
   "cell_type": "code",
   "execution_count": 36,
   "id": "5bd4a0f4-dffc-4046-a162-6f579b19a2b7",
   "metadata": {},
   "outputs": [
    {
     "data": {
      "image/png": "[encoded data removed]",
      "text/plain": [
       "<Figure size 432x288 with 1 Axes>"
      ]
     },
     "metadata": {
      "needs_background": "light"
     },
     "output_type": "display_data"
    }
   ],
   "source": [
    "df_4 = df[df.name.isin (['Philip', 'Harry', 'Elizabeth', 'Marilyn'])]\n",
    "df_4.pivot_table(values='occurence', index = 'year', columns='name',aggfunc='sum').\\\n",
    "plot(ylabel='sum occurence');"
   ]
  },
  {
   "cell_type": "code",
   "execution_count": 37,
   "id": "4fb1dc9e-b738-4924-af4a-4c37cf45f1a1",
   "metadata": {},
   "outputs": [
    {
     "data": {
      "text/plain": [
       "<AxesSubplot:xlabel='year'>"
      ]
     },
     "execution_count": 37,
     "metadata": {},
     "output_type": "execute_result"
    },
    {
     "data": {
      "image/png": "[encoded data removed]",
      "text/plain": [
       "<Figure size 432x288 with 1 Axes>"
      ]
     },
     "metadata": {
      "needs_background": "light"
     },
     "output_type": "display_data"
    }
   ],
   "source": [
    "names = ['Philip','Harry','Elizabeth','Marilyn']\n",
    "df.query('name in @names').groupby(['year','name']).sum().reset_index().\\\n",
    "pivot(index='year',columns='name',values='occurence').plot()"
   ]
  },
  {
   "cell_type": "code",
   "execution_count": 39,
   "id": "9b20caa7-a9de-42f0-b238-36d89fc1e80e",
   "metadata": {},
   "outputs": [
    {
     "data": {
      "image/png": "[encoded data removed]",
      "text/plain": [
       "<Figure size 432x288 with 1 Axes>"
      ]
     },
     "metadata": {
      "needs_background": "light"
     },
     "output_type": "display_data"
    }
   ],
   "source": [
    "names = ['Philip','Harry','Elizabeth','Marilyn']\n",
    "df.query('name in @names').groupby(['year','name']).sum().reset_index().\\\n",
    "pivot(index='year',columns='name',values='occurence').fillna(0).plot();"
   ]
  },
  {
   "cell_type": "markdown",
   "id": "1de74ca9-d349-465e-856e-bb30f04c75fb",
   "metadata": {},
   "source": [
    "#### Vẽ biểu đồ thể hiện sự đa dạng trong việc đặt tên qua các năm theo từng giới tính (thể hiện bằng xu hướng giảm dần từng năm của tổng tỷ lệ % của top 1000 tên phổ biến)"
   ]
  },
  {
   "cell_type": "code",
   "execution_count": 65,
   "id": "690a1185-060f-456c-8aef-49a69779ff6d",
   "metadata": {},
   "outputs": [],
   "source": [
    "top_1000=df.groupby(['year','gender']).apply(lambda x: x.nlargest(1000,'occurence',keep='all'))[['name','occurence']].\\\n",
    "droplevel(2).reset_index().groupby(['year','gender']).occurence.sum()\n",
    "\n",
    "all_df=df.groupby(['year','gender']).occurence.sum()"
   ]
  },
  {
   "cell_type": "code",
   "execution_count": 70,
   "id": "5706af78-4200-455d-afd4-7f25b523781c",
   "metadata": {
    "collapsed": true,
    "jupyter": {
     "outputs_hidden": true
    },
    "tags": []
   },
   "outputs": [
    {
     "data": {
      "text/plain": [
       "year  gender\n",
       "1880  F           90994\n",
       "      M          110490\n",
       "1881  F           91953\n",
       "      M          100743\n",
       "1882  F          107847\n",
       "                 ...   \n",
       "2016  M         1584754\n",
       "2017  F         1274098\n",
       "      M         1536814\n",
       "2018  F         1251608\n",
       "      M         1493831\n",
       "Name: occurence, Length: 278, dtype: int64"
      ]
     },
     "execution_count": 70,
     "metadata": {},
     "output_type": "execute_result"
    }
   ],
   "source": [
    "top_1000"
   ]
  },
  {
   "cell_type": "code",
   "execution_count": 68,
   "id": "47e7e51b-e398-4363-b384-5f871c13817a",
   "metadata": {},
   "outputs": [
    {
     "data": {
      "image/png": "[encoded data removed]",
      "text/plain": [
       "<Figure size 432x288 with 1 Axes>"
      ]
     },
     "metadata": {
      "needs_background": "light"
     },
     "output_type": "display_data"
    }
   ],
   "source": [
    "(top_1000 / all_df).to_frame().reset_index().pivot(index='year', columns='gender',values='occurence').plot();"
   ]
  },
  {
   "cell_type": "markdown",
   "id": "70780ad8-0496-4007-b774-9e7f8d3e311a",
   "metadata": {},
   "source": [
    "#### Vẽ biểu đồ thể hiện sự thay đổi trong cách đặt chữ cái đầu tiên trong tên của nam và nữ qua các năm 1900, 1960 và 2018"
   ]
  },
  {
   "cell_type": "code",
   "execution_count": 71,
   "id": "88431325-360b-48f0-bb84-e1673bfe299c",
   "metadata": {},
   "outputs": [
    {
     "data": {
      "text/html": [
       "<div>\n",
       "<style scoped>\n",
       "    .dataframe tbody tr th:only-of-type {\n",
       "        vertical-align: middle;\n",
       "    }\n",
       "\n",
       "    .dataframe tbody tr th {\n",
       "        vertical-align: top;\n",
       "    }\n",
       "\n",
       "    .dataframe thead th {\n",
       "        text-align: right;\n",
       "    }\n",
       "</style>\n",
       "<table border=\"1\" class=\"dataframe\">\n",
       "  <thead>\n",
       "    <tr style=\"text-align: right;\">\n",
       "      <th></th>\n",
       "      <th>year</th>\n",
       "      <th>name</th>\n",
       "      <th>gender</th>\n",
       "      <th>occurence</th>\n",
       "    </tr>\n",
       "  </thead>\n",
       "  <tbody>\n",
       "    <tr>\n",
       "      <th>52265</th>\n",
       "      <td>1900</td>\n",
       "      <td>Mary</td>\n",
       "      <td>F</td>\n",
       "      <td>16706</td>\n",
       "    </tr>\n",
       "    <tr>\n",
       "      <th>52266</th>\n",
       "      <td>1900</td>\n",
       "      <td>Helen</td>\n",
       "      <td>F</td>\n",
       "      <td>6343</td>\n",
       "    </tr>\n",
       "  </tbody>\n",
       "</table>\n",
       "</div>"
      ],
      "text/plain": [
       "       year   name gender  occurence\n",
       "52265  1900   Mary      F      16706\n",
       "52266  1900  Helen      F       6343"
      ]
     },
     "execution_count": 71,
     "metadata": {},
     "output_type": "execute_result"
    }
   ],
   "source": [
    "years = ['1900', '1960', '2018']\n",
    "df_3_years = df.query('year in @years')\n",
    "df_3_years.head(2)"
   ]
  },
  {
   "cell_type": "code",
   "execution_count": 72,
   "id": "5e712bb6-aea3-4ef7-ad6f-e546b9f3dca5",
   "metadata": {},
   "outputs": [
    {
     "name": "stderr",
     "output_type": "stream",
     "text": [
      "C:\\Users\\Laptop EDG\\anaconda3\\envs\\quynh\\lib\\site-packages\\ipykernel_launcher.py:1: SettingWithCopyWarning: \n",
      "A value is trying to be set on a copy of a slice from a DataFrame.\n",
      "Try using .loc[row_indexer,col_indexer] = value instead\n",
      "\n",
      "See the caveats in the documentation: https://pandas.pydata.org/pandas-docs/stable/user_guide/indexing.html#returning-a-view-versus-a-copy\n",
      "  \"\"\"Entry point for launching an IPython kernel.\n"
     ]
    },
    {
     "data": {
      "text/html": [
       "<div>\n",
       "<style scoped>\n",
       "    .dataframe tbody tr th:only-of-type {\n",
       "        vertical-align: middle;\n",
       "    }\n",
       "\n",
       "    .dataframe tbody tr th {\n",
       "        vertical-align: top;\n",
       "    }\n",
       "\n",
       "    .dataframe thead th {\n",
       "        text-align: right;\n",
       "    }\n",
       "</style>\n",
       "<table border=\"1\" class=\"dataframe\">\n",
       "  <thead>\n",
       "    <tr style=\"text-align: right;\">\n",
       "      <th></th>\n",
       "      <th>year</th>\n",
       "      <th>name</th>\n",
       "      <th>gender</th>\n",
       "      <th>occurence</th>\n",
       "      <th>first_letter</th>\n",
       "    </tr>\n",
       "  </thead>\n",
       "  <tbody>\n",
       "    <tr>\n",
       "      <th>52265</th>\n",
       "      <td>1900</td>\n",
       "      <td>Mary</td>\n",
       "      <td>F</td>\n",
       "      <td>16706</td>\n",
       "      <td>M</td>\n",
       "    </tr>\n",
       "    <tr>\n",
       "      <th>52266</th>\n",
       "      <td>1900</td>\n",
       "      <td>Helen</td>\n",
       "      <td>F</td>\n",
       "      <td>6343</td>\n",
       "      <td>H</td>\n",
       "    </tr>\n",
       "    <tr>\n",
       "      <th>52267</th>\n",
       "      <td>1900</td>\n",
       "      <td>Anna</td>\n",
       "      <td>F</td>\n",
       "      <td>6114</td>\n",
       "      <td>A</td>\n",
       "    </tr>\n",
       "    <tr>\n",
       "      <th>52268</th>\n",
       "      <td>1900</td>\n",
       "      <td>Margaret</td>\n",
       "      <td>F</td>\n",
       "      <td>5304</td>\n",
       "      <td>M</td>\n",
       "    </tr>\n",
       "    <tr>\n",
       "      <th>52269</th>\n",
       "      <td>1900</td>\n",
       "      <td>Ruth</td>\n",
       "      <td>F</td>\n",
       "      <td>4765</td>\n",
       "      <td>R</td>\n",
       "    </tr>\n",
       "    <tr>\n",
       "      <th>...</th>\n",
       "      <td>...</td>\n",
       "      <td>...</td>\n",
       "      <td>...</td>\n",
       "      <td>...</td>\n",
       "      <td>...</td>\n",
       "    </tr>\n",
       "    <tr>\n",
       "      <th>1957041</th>\n",
       "      <td>2018</td>\n",
       "      <td>Zylas</td>\n",
       "      <td>M</td>\n",
       "      <td>5</td>\n",
       "      <td>Z</td>\n",
       "    </tr>\n",
       "    <tr>\n",
       "      <th>1957042</th>\n",
       "      <td>2018</td>\n",
       "      <td>Zyran</td>\n",
       "      <td>M</td>\n",
       "      <td>5</td>\n",
       "      <td>Z</td>\n",
       "    </tr>\n",
       "    <tr>\n",
       "      <th>1957043</th>\n",
       "      <td>2018</td>\n",
       "      <td>Zyrie</td>\n",
       "      <td>M</td>\n",
       "      <td>5</td>\n",
       "      <td>Z</td>\n",
       "    </tr>\n",
       "    <tr>\n",
       "      <th>1957044</th>\n",
       "      <td>2018</td>\n",
       "      <td>Zyron</td>\n",
       "      <td>M</td>\n",
       "      <td>5</td>\n",
       "      <td>Z</td>\n",
       "    </tr>\n",
       "    <tr>\n",
       "      <th>1957045</th>\n",
       "      <td>2018</td>\n",
       "      <td>Zzyzx</td>\n",
       "      <td>M</td>\n",
       "      <td>5</td>\n",
       "      <td>Z</td>\n",
       "    </tr>\n",
       "  </tbody>\n",
       "</table>\n",
       "<p>47684 rows × 5 columns</p>\n",
       "</div>"
      ],
      "text/plain": [
       "         year      name gender  occurence first_letter\n",
       "52265    1900      Mary      F      16706            M\n",
       "52266    1900     Helen      F       6343            H\n",
       "52267    1900      Anna      F       6114            A\n",
       "52268    1900  Margaret      F       5304            M\n",
       "52269    1900      Ruth      F       4765            R\n",
       "...       ...       ...    ...        ...          ...\n",
       "1957041  2018     Zylas      M          5            Z\n",
       "1957042  2018     Zyran      M          5            Z\n",
       "1957043  2018     Zyrie      M          5            Z\n",
       "1957044  2018     Zyron      M          5            Z\n",
       "1957045  2018     Zzyzx      M          5            Z\n",
       "\n",
       "[47684 rows x 5 columns]"
      ]
     },
     "execution_count": 72,
     "metadata": {},
     "output_type": "execute_result"
    }
   ],
   "source": [
    "df_3_years['first_letter'] = df_3_years.name.apply(lambda x: x[0])\n",
    "df_3_years"
   ]
  },
  {
   "cell_type": "code",
   "execution_count": null,
   "id": "33a64bfe-e842-4efe-8de3-ac18de4d8d70",
   "metadata": {
    "jupyter": {
     "source_hidden": true
    },
    "tags": []
   },
   "outputs": [],
   "source": [
    "male_df=df_3_years.query('gender=\"M\"').groupby('first_letter').occurence.sum()\n",
    "female_df=df_3_years.query('gender=\"F\"').groupby('first_letter').occurence.sum()"
   ]
  },
  {
   "cell_type": "code",
   "execution_count": 77,
   "id": "f9099495-68a6-4499-9d06-e2e91a3386c1",
   "metadata": {},
   "outputs": [
    {
     "data": {
      "image/png": "[encoded data removed]",
      "text/plain": [
       "<Figure size 1440x864 with 2 Axes>"
      ]
     },
     "metadata": {
      "needs_background": "light"
     },
     "output_type": "display_data"
    }
   ],
   "source": [
    "gender_df=df_3_years.groupby(['year','gender','first_letter']).occurence.sum().to_frame().reset_index()\n",
    "male_df = gender_df.query('gender == \"M\"')\n",
    "female_df = gender_df.query('gender == \"F\"')\n",
    "\n",
    "fig,ax = plt.subplots(2,1,figsize = (20,12))\n",
    "male_df.pivot(index='first_letter',columns='year', values='occurence').plot(kind='bar',ax=ax[0],width=1)\n",
    "female_df.pivot(index='first_letter',columns='year', values='occurence').plot(kind='bar',ax=ax[1],width=1);"
   ]
  },
  {
   "cell_type": "markdown",
   "id": "bf20ea71-5f63-4157-a98b-93b709792177",
   "metadata": {},
   "source": [
    "#### Xác định xu hướng tên con trai biến thành tên con gái và ngược lại. Lấy ví dụ tên có chữ “Lesl…” Ban đầu nam đặt nhiều sau đó giảm, nữ ngược lại."
   ]
  },
  {
   "cell_type": "code",
   "execution_count": 78,
   "id": "df8da7b8-ed8a-409e-9461-5f2b80572dfb",
   "metadata": {},
   "outputs": [],
   "source": [
    "male_df = df.query('gender == \"M\"')\n",
    "female_df = df.query('gender == \"F\"')\n",
    "\n",
    "male_to_female = male_df.query('name in @female_df.name')\n",
    "female_to_male = female_df.query('name in @male_df.name')"
   ]
  },
  {
   "cell_type": "code",
   "execution_count": 82,
   "id": "d5fa7d3c-b695-482b-89a1-7f510b8cd607",
   "metadata": {},
   "outputs": [
    {
     "data": {
      "image/png": "[encoded data removed]",
      "text/plain": [
       "<Figure size 432x288 with 1 Axes>"
      ]
     },
     "metadata": {
      "needs_background": "light"
     },
     "output_type": "display_data"
    }
   ],
   "source": [
    "male_to_female.groupby('year').occurence.sum().plot(label='Male to Female')\n",
    "female_to_male.groupby('year').occurence.sum().plot(label='Female to Male')\n",
    "plt.legend();"
   ]
  },
  {
   "cell_type": "code",
   "execution_count": 83,
   "id": "8d9d7c57-cb95-4c23-90a9-8b20fe984c97",
   "metadata": {},
   "outputs": [],
   "source": [
    "floor = 0"
   ]
  },
  {
   "cell_type": "code",
   "execution_count": 84,
   "id": "944b01df-e462-475f-b588-ca447f5f2209",
   "metadata": {},
   "outputs": [
    {
     "data": {
      "text/plain": [
       "0"
      ]
     },
     "execution_count": 84,
     "metadata": {},
     "output_type": "execute_result"
    }
   ],
   "source": [
    "floor"
   ]
  },
  {
   "cell_type": "code",
   "execution_count": 140,
   "id": "8e047583-537d-4ab6-b9b8-bad5797cbd17",
   "metadata": {},
   "outputs": [],
   "source": [
    "def is_win():\n",
    "    \n",
    "    floor = 0\n",
    "    num_up = 0\n",
    "    \n",
    "    while (num_up <= 100) and (floor < 60):\n",
    "        \n",
    "        if np.random.uniform() < 0.001:\n",
    "            floor = 0\n",
    "        dice = np.random.randint(1, 7)\n",
    "        \n",
    "        if dice <= 2:\n",
    "            floor = max(0, floor-1)\n",
    "        elif 2 < dice <=5:\n",
    "            floor += 1\n",
    "            num_up += 1\n",
    "        else:\n",
    "            floor += np.random.randint(1,7)\n",
    "            num_up += 1\n",
    "                  \n",
    "    return floor >= 60"
   ]
  },
  {
   "cell_type": "code",
   "execution_count": 141,
   "id": "ecd476bb-2f22-4b62-b727-0ceac8efd86b",
   "metadata": {},
   "outputs": [
    {
     "data": {
      "text/plain": [
       "True"
      ]
     },
     "execution_count": 141,
     "metadata": {},
     "output_type": "execute_result"
    }
   ],
   "source": [
    "is_win()"
   ]
  },
  {
   "cell_type": "code",
   "execution_count": 142,
   "id": "d2eba1ac-b7b7-40d0-a772-9233da85cd2c",
   "metadata": {},
   "outputs": [
    {
     "data": {
      "text/plain": [
       "0.9853"
      ]
     },
     "execution_count": 142,
     "metadata": {},
     "output_type": "execute_result"
    }
   ],
   "source": [
    "num_plays = 10000\n",
    "results = []\n",
    "for _ in range(num_plays):\n",
    "    results.append(is_win())\n",
    "    \n",
    "sum(results)/num_plays"
   ]
  }
 ],
 "metadata": {
  "kernelspec": {
   "display_name": "Python 3",
   "language": "python",
   "name": "python3"
  },
  "language_info": {
   "codemirror_mode": {
    "name": "ipython",
    "version": 3
   },
   "file_extension": ".py",
   "mimetype": "text/x-python",
   "name": "python",
   "nbconvert_exporter": "python",
   "pygments_lexer": "ipython3",
   "version": "3.7.10"
  }
 },
 "nbformat": 4,
 "nbformat_minor": 5
}
