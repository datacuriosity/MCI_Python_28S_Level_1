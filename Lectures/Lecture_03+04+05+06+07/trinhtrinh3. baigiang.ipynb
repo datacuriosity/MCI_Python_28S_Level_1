{
 "cells": [
  {
   "cell_type": "markdown",
   "id": "severe-container",
   "metadata": {},
   "source": [
    "## 2.2.1 List\n",
    "- Mix datatype\n",
    "- index --> ordered"
   ]
  },
  {
   "cell_type": "markdown",
   "id": "careful-beauty",
   "metadata": {},
   "source": [
    "# Variable:\n",
    "- A name contains value and assigned memory address\n",
    "- reusable\n",
    "- No capital ---> lower case\n",
    "- Meaning\n",
    "- Meaning word:'_'"
   ]
  },
  {
   "cell_type": "code",
   "execution_count": 2,
   "id": "stunning-combining",
   "metadata": {},
   "outputs": [],
   "source": [
    "li = [1, 2, 3, 4, 'Trường', True, 'Nam', 1+2j]"
   ]
  },
  {
   "cell_type": "code",
   "execution_count": 10,
   "id": "placed-method",
   "metadata": {},
   "outputs": [],
   "source": [
    "li.append(5)"
   ]
  },
  {
   "cell_type": "code",
   "execution_count": 8,
   "id": "jewish-intro",
   "metadata": {},
   "outputs": [],
   "source": [
    "li.append(['Toi', 'di', 'hoc'])"
   ]
  },
  {
   "cell_type": "code",
   "execution_count": 4,
   "id": "approved-voluntary",
   "metadata": {},
   "outputs": [
    {
     "data": {
      "text/plain": [
       "['append',\n",
       " 'clear',\n",
       " 'copy',\n",
       " 'count',\n",
       " 'extend',\n",
       " 'index',\n",
       " 'insert',\n",
       " 'pop',\n",
       " 'remove',\n",
       " 'reverse',\n",
       " 'sort']"
      ]
     },
     "execution_count": 4,
     "metadata": {},
     "output_type": "execute_result"
    }
   ],
   "source": [
    "[method for method in dir(li) if not method.startswith('_')]"
   ]
  },
  {
   "cell_type": "code",
   "execution_count": 11,
   "id": "informed-bible",
   "metadata": {},
   "outputs": [
    {
     "data": {
      "text/plain": [
       "[1, 2, 3, 4, 'Trường', True, 'Nam', (1+2j), ['Toi', 'di', 'hoc'], 5]"
      ]
     },
     "execution_count": 11,
     "metadata": {},
     "output_type": "execute_result"
    }
   ],
   "source": [
    "li"
   ]
  },
  {
   "cell_type": "code",
   "execution_count": 12,
   "id": "abroad-collect",
   "metadata": {},
   "outputs": [],
   "source": [
    "li.append(True)"
   ]
  },
  {
   "cell_type": "code",
   "execution_count": 19,
   "id": "suffering-castle",
   "metadata": {},
   "outputs": [
    {
     "data": {
      "text/plain": [
       "[]"
      ]
     },
     "execution_count": 19,
     "metadata": {},
     "output_type": "execute_result"
    }
   ],
   "source": [
    "li"
   ]
  },
  {
   "cell_type": "code",
   "execution_count": 20,
   "id": "blocked-subscriber",
   "metadata": {},
   "outputs": [],
   "source": [
    "# extend and append\n",
    "# pop and remove"
   ]
  },
  {
   "cell_type": "code",
   "execution_count": null,
   "id": "psychological-beginning",
   "metadata": {},
   "outputs": [],
   "source": []
  },
  {
   "cell_type": "code",
   "execution_count": 22,
   "id": "known-bruce",
   "metadata": {},
   "outputs": [],
   "source": [
    "ti = [1, 2, 3, 4, 'trinh']"
   ]
  },
  {
   "cell_type": "code",
   "execution_count": 33,
   "id": "adult-cooper",
   "metadata": {},
   "outputs": [],
   "source": [
    "ti.append('trinh')"
   ]
  },
  {
   "cell_type": "code",
   "execution_count": 34,
   "id": "unsigned-portugal",
   "metadata": {},
   "outputs": [
    {
     "data": {
      "text/plain": [
       "[1, 2, 3, 4, 'trinh', '1', 't', 'r', 'i', 'n', 'h', 'trinh']"
      ]
     },
     "execution_count": 34,
     "metadata": {},
     "output_type": "execute_result"
    }
   ],
   "source": [
    "ti.ex"
   ]
  },
  {
   "cell_type": "code",
   "execution_count": null,
   "id": "enormous-posting",
   "metadata": {},
   "outputs": [],
   "source": []
  },
  {
   "cell_type": "markdown",
   "id": "raising-proposal",
   "metadata": {},
   "source": [
    "# iteralble là một list có thể chứa nhiều hơn 1 phần tử, ví dụ như list, set, tuple, dict có khả năng lặp lại\n",
    "- append thì đưa vào 1 object liền nhau\n",
    "- còn extend mở rộng list bằng cách thêm các phần tử rời nhau cũng được"
   ]
  },
  {
   "cell_type": "code",
   "execution_count": 35,
   "id": "after-answer",
   "metadata": {},
   "outputs": [
    {
     "data": {
      "text/plain": [
       "[1, 2, 3, 4, 'trinh', '1', 't', 'r', 'i', 'n', 'h', 'trinh', 5, 6, 7, 8]"
      ]
     },
     "execution_count": 35,
     "metadata": {},
     "output_type": "execute_result"
    }
   ],
   "source": [
    "ti.extend([5, 6, 7, 8])\n",
    "ti"
   ]
  },
  {
   "cell_type": "code",
   "execution_count": 36,
   "id": "greater-tunisia",
   "metadata": {},
   "outputs": [
    {
     "data": {
      "text/plain": [
       "[1, 2, 3, 4, 4, 5, 6, 7]"
      ]
     },
     "execution_count": 36,
     "metadata": {},
     "output_type": "execute_result"
    }
   ],
   "source": [
    "[1, 2, 3, 4]+[4, 5, 6, 7]"
   ]
  },
  {
   "cell_type": "code",
   "execution_count": 40,
   "id": "thousand-sapphire",
   "metadata": {},
   "outputs": [
    {
     "data": {
      "text/plain": [
       "[1, 2, 3, 4, 'trinh', '1', 't', 'r', 'i', 'n', 'h', 'trinh', 5, 6, 7, 8, 1, 1]"
      ]
     },
     "execution_count": 40,
     "metadata": {},
     "output_type": "execute_result"
    }
   ],
   "source": [
    "ti.extend([1])\n",
    "ti"
   ]
  },
  {
   "cell_type": "code",
   "execution_count": 42,
   "id": "continuous-secret",
   "metadata": {},
   "outputs": [
    {
     "data": {
      "text/plain": [
       "[2, 3, 4, 'trinh', '1', 't', 'r', 'i', 'n', 'h', 'trinh', 5, 6, 7, 8, 1]"
      ]
     },
     "execution_count": 42,
     "metadata": {},
     "output_type": "execute_result"
    }
   ],
   "source": [
    "ti.remove(1)\n",
    "ti"
   ]
  },
  {
   "cell_type": "code",
   "execution_count": 43,
   "id": "sporting-stream",
   "metadata": {},
   "outputs": [
    {
     "data": {
      "text/plain": [
       "4"
      ]
     },
     "execution_count": 43,
     "metadata": {},
     "output_type": "execute_result"
    }
   ],
   "source": [
    "ti.pop(2)"
   ]
  },
  {
   "cell_type": "code",
   "execution_count": 44,
   "id": "harmful-windsor",
   "metadata": {},
   "outputs": [],
   "source": [
    "# ti.pop(vị trí số đó) lấy ra giá trị ở vị trí đó\n",
    "# ti. remove(giá trị cần bỏ luôn)"
   ]
  },
  {
   "cell_type": "markdown",
   "id": "veterinary-possibility",
   "metadata": {},
   "source": [
    "# Những hàm không trả ra giá trị thì ko nên gán vì nó sẽ ra lỗi, do loại là nonetype, ví dụ như hàm remove sẽ ko gán được"
   ]
  },
  {
   "cell_type": "markdown",
   "id": "prepared-output",
   "metadata": {},
   "source": [
    "### 2.2.2. Tuple\n",
    "- (), tuple()\n",
    "- Index \n",
    "- Values\n",
    "- Immutable: no change values # mutable"
   ]
  },
  {
   "cell_type": "markdown",
   "id": "varied-exhibit",
   "metadata": {},
   "source": [
    "![](https://i.stack.imgur.com/M3iZD.png)"
   ]
  },
  {
   "cell_type": "code",
   "execution_count": 46,
   "id": "literary-integration",
   "metadata": {},
   "outputs": [
    {
     "data": {
      "text/plain": [
       "140704106520992"
      ]
     },
     "execution_count": 46,
     "metadata": {},
     "output_type": "execute_result"
    }
   ],
   "source": [
    "a = 1\n",
    "id(a)"
   ]
  },
  {
   "cell_type": "code",
   "execution_count": 47,
   "id": "relevant-douglas",
   "metadata": {},
   "outputs": [
    {
     "data": {
      "text/plain": [
       "140704106521024"
      ]
     },
     "execution_count": 47,
     "metadata": {},
     "output_type": "execute_result"
    }
   ],
   "source": [
    "a = 2\n",
    "id(a)"
   ]
  },
  {
   "cell_type": "code",
   "execution_count": 49,
   "id": "recreational-uncertainty",
   "metadata": {},
   "outputs": [],
   "source": [
    "li.extend([1, 2, 3, 4])"
   ]
  },
  {
   "cell_type": "code",
   "execution_count": 50,
   "id": "cooked-wound",
   "metadata": {},
   "outputs": [
    {
     "data": {
      "text/plain": [
       "[1, 2, 3, 4]"
      ]
     },
     "execution_count": 50,
     "metadata": {},
     "output_type": "execute_result"
    }
   ],
   "source": [
    "li"
   ]
  },
  {
   "cell_type": "code",
   "execution_count": 51,
   "id": "industrial-family",
   "metadata": {},
   "outputs": [
    {
     "data": {
      "text/plain": [
       "[1, 2, 4]"
      ]
     },
     "execution_count": 51,
     "metadata": {},
     "output_type": "execute_result"
    }
   ],
   "source": [
    "del li[2]\n",
    "li"
   ]
  },
  {
   "cell_type": "code",
   "execution_count": 52,
   "id": "applicable-shirt",
   "metadata": {},
   "outputs": [],
   "source": [
    "import gc"
   ]
  },
  {
   "cell_type": "code",
   "execution_count": 53,
   "id": "smooth-crest",
   "metadata": {},
   "outputs": [
    {
     "data": {
      "text/plain": [
       "1311"
      ]
     },
     "execution_count": 53,
     "metadata": {},
     "output_type": "execute_result"
    }
   ],
   "source": [
    "gc.collect()"
   ]
  },
  {
   "cell_type": "code",
   "execution_count": 56,
   "id": "hollywood-johnson",
   "metadata": {},
   "outputs": [
    {
     "data": {
      "text/plain": [
       "2"
      ]
     },
     "execution_count": 56,
     "metadata": {},
     "output_type": "execute_result"
    }
   ],
   "source": [
    "tup = (1, 2, 3, 4, 4)\n",
    "tup[1]"
   ]
  },
  {
   "cell_type": "code",
   "execution_count": 55,
   "id": "secure-drinking",
   "metadata": {},
   "outputs": [
    {
     "data": {
      "text/plain": [
       "['count', 'index']"
      ]
     },
     "execution_count": 55,
     "metadata": {},
     "output_type": "execute_result"
    }
   ],
   "source": [
    "[method for method in dir(tup) if not method.startswith('_')]"
   ]
  },
  {
   "cell_type": "code",
   "execution_count": 58,
   "id": "upset-anthony",
   "metadata": {},
   "outputs": [
    {
     "data": {
      "text/plain": [
       "2"
      ]
     },
     "execution_count": 58,
     "metadata": {},
     "output_type": "execute_result"
    }
   ],
   "source": [
    "tup.count(4)"
   ]
  },
  {
   "cell_type": "code",
   "execution_count": 59,
   "id": "anticipated-graphics",
   "metadata": {},
   "outputs": [
    {
     "data": {
      "text/plain": [
       "4"
      ]
     },
     "execution_count": 59,
     "metadata": {},
     "output_type": "execute_result"
    }
   ],
   "source": [
    "tup.index(4, 4)"
   ]
  },
  {
   "cell_type": "markdown",
   "id": "lesbian-force",
   "metadata": {},
   "source": [
    "### 2.3. Set\n",
    "- {}, set()\n",
    "- non-index--> ordered\n",
    "-non duplicated value "
   ]
  },
  {
   "cell_type": "code",
   "execution_count": 60,
   "id": "treated-committee",
   "metadata": {},
   "outputs": [
    {
     "data": {
      "text/plain": [
       "{1, 2, 'Trinh'}"
      ]
     },
     "execution_count": 60,
     "metadata": {},
     "output_type": "execute_result"
    }
   ],
   "source": [
    "set_1 ={1, 1, 2, 2, 'Trinh'}\n",
    "set_1"
   ]
  },
  {
   "cell_type": "code",
   "execution_count": 61,
   "id": "marine-charm",
   "metadata": {},
   "outputs": [
    {
     "ename": "TypeError",
     "evalue": "'set' object is not subscriptable",
     "output_type": "error",
     "traceback": [
      "\u001b[1;31m---------------------------------------------------------------------------\u001b[0m",
      "\u001b[1;31mTypeError\u001b[0m                                 Traceback (most recent call last)",
      "\u001b[1;32m<ipython-input-61-6b41bb15677b>\u001b[0m in \u001b[0;36m<module>\u001b[1;34m\u001b[0m\n\u001b[1;32m----> 1\u001b[1;33m \u001b[0mset_1\u001b[0m\u001b[1;33m[\u001b[0m\u001b[1;36m2\u001b[0m\u001b[1;33m]\u001b[0m\u001b[1;33m\u001b[0m\u001b[1;33m\u001b[0m\u001b[0m\n\u001b[0m",
      "\u001b[1;31mTypeError\u001b[0m: 'set' object is not subscriptable"
     ]
    }
   ],
   "source": [
    "set_1[2]"
   ]
  },
  {
   "cell_type": "markdown",
   "id": "focal-appreciation",
   "metadata": {},
   "source": [
    "![](https://www.learnbyexample.org/wp-content/uploads/python/Python-Set-Operatioons.png)"
   ]
  },
  {
   "cell_type": "code",
   "execution_count": 75,
   "id": "acute-problem",
   "metadata": {},
   "outputs": [
    {
     "data": {
      "text/plain": [
       "({1, 2, 3, 4, 5}, {4, 5, 6, 7})"
      ]
     },
     "execution_count": 75,
     "metadata": {},
     "output_type": "execute_result"
    }
   ],
   "source": [
    "set_1 = {1, 2, 3, 4, 4, 5, 5}\n",
    "set_2 = {4, 5, 6, 7}\n",
    "set_1, set_2"
   ]
  },
  {
   "cell_type": "code",
   "execution_count": 73,
   "id": "geological-interstate",
   "metadata": {},
   "outputs": [
    {
     "data": {
      "text/plain": [
       "{4, 5}"
      ]
     },
     "execution_count": 73,
     "metadata": {},
     "output_type": "execute_result"
    }
   ],
   "source": [
    "set_1.intersection(set_2)"
   ]
  },
  {
   "cell_type": "code",
   "execution_count": 74,
   "id": "fatty-tampa",
   "metadata": {},
   "outputs": [
    {
     "data": {
      "text/plain": [
       "{4, 5}"
      ]
     },
     "execution_count": 74,
     "metadata": {},
     "output_type": "execute_result"
    }
   ],
   "source": [
    "set_1.intersection_update(set_2)\n",
    "set_1"
   ]
  },
  {
   "cell_type": "code",
   "execution_count": 76,
   "id": "preliminary-african",
   "metadata": {},
   "outputs": [
    {
     "data": {
      "text/plain": [
       "({1, 2, 3, 4, 5}, {4, 5, 6, 7})"
      ]
     },
     "execution_count": 76,
     "metadata": {},
     "output_type": "execute_result"
    }
   ],
   "source": [
    "set_1 = {1, 2, 3, 4, 4, 5, 5}\n",
    "set_2 = {4, 5, 6, 7}\n",
    "set_1, set_2"
   ]
  },
  {
   "cell_type": "code",
   "execution_count": 77,
   "id": "digital-mystery",
   "metadata": {},
   "outputs": [
    {
     "data": {
      "text/plain": [
       "{1, 2, 3}"
      ]
     },
     "execution_count": 77,
     "metadata": {},
     "output_type": "execute_result"
    }
   ],
   "source": [
    "set_1.difference(set_2)"
   ]
  },
  {
   "cell_type": "code",
   "execution_count": 78,
   "id": "possible-alabama",
   "metadata": {},
   "outputs": [
    {
     "data": {
      "text/plain": [
       "{1, 2, 3}"
      ]
     },
     "execution_count": 78,
     "metadata": {},
     "output_type": "execute_result"
    }
   ],
   "source": [
    "set_1.difference_update(set_2)\n",
    "set_1"
   ]
  },
  {
   "cell_type": "code",
   "execution_count": 81,
   "id": "successful-electricity",
   "metadata": {},
   "outputs": [
    {
     "data": {
      "text/plain": [
       "{1, 2, 3}"
      ]
     },
     "execution_count": 81,
     "metadata": {},
     "output_type": "execute_result"
    }
   ],
   "source": [
    "set_1.discard(set_2)\n",
    "set_1"
   ]
  },
  {
   "cell_type": "code",
   "execution_count": 82,
   "id": "exposed-filter",
   "metadata": {},
   "outputs": [
    {
     "data": {
      "text/plain": [
       "({1, 2, 3, 4, 5}, {4, 5, 6, 7})"
      ]
     },
     "execution_count": 82,
     "metadata": {},
     "output_type": "execute_result"
    }
   ],
   "source": [
    "set_1 = {1, 2, 3, 4, 4, 5, 5}\n",
    "set_2 = {4, 5, 6, 7}\n",
    "set_1, set_2"
   ]
  },
  {
   "cell_type": "code",
   "execution_count": 83,
   "id": "whole-consortium",
   "metadata": {},
   "outputs": [
    {
     "data": {
      "text/plain": [
       "False"
      ]
     },
     "execution_count": 83,
     "metadata": {},
     "output_type": "execute_result"
    }
   ],
   "source": [
    "set_1.isdisjoint(set_2)"
   ]
  },
  {
   "cell_type": "code",
   "execution_count": 84,
   "id": "described-safety",
   "metadata": {},
   "outputs": [
    {
     "data": {
      "text/plain": [
       "{1, 2, 3, 6, 7}"
      ]
     },
     "execution_count": 84,
     "metadata": {},
     "output_type": "execute_result"
    }
   ],
   "source": [
    "set_1.symmetric_difference(set_2)"
   ]
  },
  {
   "cell_type": "code",
   "execution_count": 85,
   "id": "arbitrary-architecture",
   "metadata": {},
   "outputs": [
    {
     "data": {
      "text/plain": [
       "{1, 2, 3, 6, 7}"
      ]
     },
     "execution_count": 85,
     "metadata": {},
     "output_type": "execute_result"
    }
   ],
   "source": [
    "set_1.symmetric_difference_update(set_2)\n",
    "set_1"
   ]
  },
  {
   "cell_type": "code",
   "execution_count": 86,
   "id": "chemical-pledge",
   "metadata": {},
   "outputs": [
    {
     "data": {
      "text/plain": [
       "{1, 2, 3, 4, 5, 6, 7}"
      ]
     },
     "execution_count": 86,
     "metadata": {},
     "output_type": "execute_result"
    }
   ],
   "source": [
    "set_1.union(set_2)"
   ]
  },
  {
   "cell_type": "code",
   "execution_count": 88,
   "id": "legitimate-sheep",
   "metadata": {},
   "outputs": [
    {
     "data": {
      "text/plain": [
       "{1, 2, 3, 4, 5, 6, 7}"
      ]
     },
     "execution_count": 88,
     "metadata": {},
     "output_type": "execute_result"
    }
   ],
   "source": [
    "set_1.update(set_2)\n",
    "set_1"
   ]
  },
  {
   "cell_type": "code",
   "execution_count": 89,
   "id": "major-certification",
   "metadata": {},
   "outputs": [],
   "source": [
    "# discard chi cho phep discard mot phan tu"
   ]
  },
  {
   "cell_type": "markdown",
   "id": "indian-complex",
   "metadata": {},
   "source": [
    "## 2.4. Dictionary\n",
    "- {key:value}\n",
    "- key: not duplicated\n",
    "- key dong vai tro quan ly nhu mot index"
   ]
  },
  {
   "cell_type": "code",
   "execution_count": 92,
   "id": "settled-illinois",
   "metadata": {},
   "outputs": [
    {
     "data": {
      "text/plain": [
       "{'name': ['Trinh', 'Long', 'Thanh'],\n",
       " 'age': [1, 2, 3],\n",
       " 'university': ['SG', 'HN', 'ND']}"
      ]
     },
     "execution_count": 92,
     "metadata": {},
     "output_type": "execute_result"
    }
   ],
   "source": [
    "dict_1 = {'name':['Trinh', 'Long', 'Thanh'],'age': [1, 2, 3], 'university': ['SG', 'HN', 'ND']}\n",
    "dict_1"
   ]
  },
  {
   "cell_type": "code",
   "execution_count": 93,
   "id": "sexual-palestine",
   "metadata": {},
   "outputs": [
    {
     "data": {
      "text/plain": [
       "['clear',\n",
       " 'copy',\n",
       " 'fromkeys',\n",
       " 'get',\n",
       " 'items',\n",
       " 'keys',\n",
       " 'pop',\n",
       " 'popitem',\n",
       " 'setdefault',\n",
       " 'update',\n",
       " 'values']"
      ]
     },
     "execution_count": 93,
     "metadata": {},
     "output_type": "execute_result"
    }
   ],
   "source": [
    "[method for method in dir(dict_1) if not method.startswith('_')]"
   ]
  },
  {
   "cell_type": "code",
   "execution_count": 94,
   "id": "western-ethnic",
   "metadata": {},
   "outputs": [
    {
     "data": {
      "text/plain": [
       "['Trinh', 'Long', 'Thanh']"
      ]
     },
     "execution_count": 94,
     "metadata": {},
     "output_type": "execute_result"
    }
   ],
   "source": [
    "dict_1['name']"
   ]
  },
  {
   "cell_type": "markdown",
   "id": "incorrect-today",
   "metadata": {},
   "source": [
    "- get vs set default"
   ]
  },
  {
   "cell_type": "code",
   "execution_count": 97,
   "id": "unlimited-austria",
   "metadata": {},
   "outputs": [
    {
     "data": {
      "text/plain": [
       "{'name': [['Name'], 'Long', 'Thanh'],\n",
       " 'age': [1, 2, 3],\n",
       " 'university': ['SG', 'HN', 'ND']}"
      ]
     },
     "execution_count": 97,
     "metadata": {},
     "output_type": "execute_result"
    }
   ],
   "source": [
    "dict_1['name'][0] = ['Name']\n",
    "dict_1"
   ]
  },
  {
   "cell_type": "code",
   "execution_count": 98,
   "id": "august-joyce",
   "metadata": {},
   "outputs": [
    {
     "data": {
      "text/plain": [
       "{'name': ('Nu', 'Trinh', 'Phuong'),\n",
       " 'age': [1, 2, 3],\n",
       " 'university': ['SG', 'HN', 'ND']}"
      ]
     },
     "execution_count": 98,
     "metadata": {},
     "output_type": "execute_result"
    }
   ],
   "source": [
    "dict_1['name'] = ('Nu', 'Trinh', 'Phuong', 'Thanh')\n",
    "dict_1"
   ]
  },
  {
   "cell_type": "code",
   "execution_count": 99,
   "id": "hidden-geology",
   "metadata": {},
   "outputs": [
    {
     "data": {
      "text/plain": [
       "{'name': ['Nu', 'Trinh', 'Phuong', 'Thanh'],\n",
       " 'age': [1, 2, 3],\n",
       " 'university': ['SG', 'HN', 'ND']}"
      ]
     },
     "execution_count": 99,
     "metadata": {},
     "output_type": "execute_result"
    }
   ],
   "source": [
    "dict_1['name'] = ['Nu', 'Trinh', 'Phuong', 'Thanh']\n",
    "dict_1"
   ]
  },
  {
   "cell_type": "code",
   "execution_count": 100,
   "id": "civic-myrtle",
   "metadata": {},
   "outputs": [
    {
     "data": {
      "text/plain": [
       "['clear',\n",
       " 'copy',\n",
       " 'fromkeys',\n",
       " 'get',\n",
       " 'items',\n",
       " 'keys',\n",
       " 'pop',\n",
       " 'popitem',\n",
       " 'setdefault',\n",
       " 'update',\n",
       " 'values']"
      ]
     },
     "execution_count": 100,
     "metadata": {},
     "output_type": "execute_result"
    }
   ],
   "source": [
    "[method for method in dir(dict) if not method.startswith('_')]"
   ]
  },
  {
   "cell_type": "code",
   "execution_count": 101,
   "id": "romantic-computer",
   "metadata": {},
   "outputs": [
    {
     "data": {
      "text/plain": [
       "{'name': None, 'age': None, 'university': None}"
      ]
     },
     "execution_count": 101,
     "metadata": {},
     "output_type": "execute_result"
    }
   ],
   "source": [
    "dict.fromkeys(['name', 'age', 'university'])"
   ]
  },
  {
   "cell_type": "code",
   "execution_count": 102,
   "id": "tight-distance",
   "metadata": {},
   "outputs": [
    {
     "data": {
      "text/plain": [
       "['Nu', 'Trinh', 'Phuong', 'Thanh']"
      ]
     },
     "execution_count": 102,
     "metadata": {},
     "output_type": "execute_result"
    }
   ],
   "source": [
    "dict_1['name']"
   ]
  },
  {
   "cell_type": "code",
   "execution_count": 103,
   "id": "elegant-bryan",
   "metadata": {},
   "outputs": [
    {
     "data": {
      "text/plain": [
       "['Nu', 'Trinh', 'Phuong', 'Thanh']"
      ]
     },
     "execution_count": 103,
     "metadata": {},
     "output_type": "execute_result"
    }
   ],
   "source": [
    "dict_1.get('name')"
   ]
  },
  {
   "cell_type": "code",
   "execution_count": 104,
   "id": "appropriate-finder",
   "metadata": {},
   "outputs": [
    {
     "data": {
      "text/plain": [
       "['Nu', 'Trinh', 'Phuong', 'Thanh']"
      ]
     },
     "execution_count": 104,
     "metadata": {},
     "output_type": "execute_result"
    }
   ],
   "source": [
    "dict_1.setdefault('name')"
   ]
  },
  {
   "cell_type": "code",
   "execution_count": 106,
   "id": "awful-phenomenon",
   "metadata": {},
   "outputs": [
    {
     "data": {
      "text/plain": [
       "{'name': ['Nu', 'Trinh', 'Phuong', 'Thanh'],\n",
       " 'age': [1, 2, 3],\n",
       " 'university': ['SG', 'HN', 'ND']}"
      ]
     },
     "execution_count": 106,
     "metadata": {},
     "output_type": "execute_result"
    }
   ],
   "source": [
    "dict_1.get('meo')\n",
    "dict_1"
   ]
  },
  {
   "cell_type": "code",
   "execution_count": 107,
   "id": "starting-choice",
   "metadata": {},
   "outputs": [],
   "source": [
    "dict_1.setdefault('meo')"
   ]
  },
  {
   "cell_type": "markdown",
   "id": "plain-market",
   "metadata": {},
   "source": [
    "neu dung dict neu ko co se dung chuong trinh, neu get ma ko co key do thi no ko ra kqua va giu nguyen, con vs setdefault no conf them vao dict_1"
   ]
  },
  {
   "cell_type": "code",
   "execution_count": 109,
   "id": "practical-messaging",
   "metadata": {},
   "outputs": [
    {
     "data": {
      "text/plain": [
       "['Nu', 'Trinh', 'Phuong', 'Thanh']"
      ]
     },
     "execution_count": 109,
     "metadata": {},
     "output_type": "execute_result"
    }
   ],
   "source": [
    "dict_1.get('name','no value')"
   ]
  },
  {
   "cell_type": "code",
   "execution_count": 114,
   "id": "synthetic-cradle",
   "metadata": {},
   "outputs": [],
   "source": [
    "dict_1['name']=['Nu', 'Trinh', 'Thanh']"
   ]
  },
  {
   "cell_type": "code",
   "execution_count": 115,
   "id": "rotary-clark",
   "metadata": {},
   "outputs": [
    {
     "data": {
      "text/html": [
       "<div>\n",
       "<style scoped>\n",
       "    .dataframe tbody tr th:only-of-type {\n",
       "        vertical-align: middle;\n",
       "    }\n",
       "\n",
       "    .dataframe tbody tr th {\n",
       "        vertical-align: top;\n",
       "    }\n",
       "\n",
       "    .dataframe thead th {\n",
       "        text-align: right;\n",
       "    }\n",
       "</style>\n",
       "<table border=\"1\" class=\"dataframe\">\n",
       "  <thead>\n",
       "    <tr style=\"text-align: right;\">\n",
       "      <th></th>\n",
       "      <th>name</th>\n",
       "      <th>age</th>\n",
       "      <th>university</th>\n",
       "      <th>meo</th>\n",
       "    </tr>\n",
       "  </thead>\n",
       "  <tbody>\n",
       "    <tr>\n",
       "      <th>0</th>\n",
       "      <td>Nu</td>\n",
       "      <td>1</td>\n",
       "      <td>SG</td>\n",
       "      <td>None</td>\n",
       "    </tr>\n",
       "    <tr>\n",
       "      <th>1</th>\n",
       "      <td>Trinh</td>\n",
       "      <td>2</td>\n",
       "      <td>HN</td>\n",
       "      <td>None</td>\n",
       "    </tr>\n",
       "    <tr>\n",
       "      <th>2</th>\n",
       "      <td>Thanh</td>\n",
       "      <td>3</td>\n",
       "      <td>ND</td>\n",
       "      <td>None</td>\n",
       "    </tr>\n",
       "  </tbody>\n",
       "</table>\n",
       "</div>"
      ],
      "text/plain": [
       "    name  age university   meo\n",
       "0     Nu    1         SG  None\n",
       "1  Trinh    2         HN  None\n",
       "2  Thanh    3         ND  None"
      ]
     },
     "execution_count": 115,
     "metadata": {},
     "output_type": "execute_result"
    }
   ],
   "source": [
    "import pandas as pd\n",
    "pd.DataFrame(dict_1)"
   ]
  },
  {
   "cell_type": "markdown",
   "id": "tired-humanity",
   "metadata": {},
   "source": [
    "### 3. Progaming Flow\n",
    "- Sequential: Tuan tu\n",
    "- Loop: lap\n",
    "- Condition: Re nhanh"
   ]
  },
  {
   "cell_type": "markdown",
   "id": "welcome-highway",
   "metadata": {},
   "source": [
    "### 3.1 Sequential: Tuan tu"
   ]
  },
  {
   "cell_type": "code",
   "execution_count": 118,
   "id": "brave-norway",
   "metadata": {},
   "outputs": [
    {
     "name": "stdout",
     "output_type": "stream",
     "text": [
      "2\n",
      "trinhtrinh\n"
     ]
    }
   ],
   "source": [
    "print(1+1)\n",
    "print('trinhtrinh')"
   ]
  },
  {
   "cell_type": "markdown",
   "id": "smaller-ability",
   "metadata": {},
   "source": [
    "### 3.2. Loop: Lap"
   ]
  },
  {
   "cell_type": "markdown",
   "id": "unavailable-wagon",
   "metadata": {},
   "source": [
    "### 3.2.1 For\n",
    "for value in iterable:\n",
    "    business logic\n",
    "    \n",
    "for index in range(len[iterable]):\n",
    "    business logic"
   ]
  },
  {
   "cell_type": "code",
   "execution_count": 120,
   "id": "legendary-silver",
   "metadata": {},
   "outputs": [
    {
     "data": {
      "text/plain": [
       "[0, 1, 2, 3, 4, 5, 6, 7, 8, 9]"
      ]
     },
     "execution_count": 120,
     "metadata": {},
     "output_type": "execute_result"
    }
   ],
   "source": [
    "list(range(10))"
   ]
  },
  {
   "cell_type": "code",
   "execution_count": 122,
   "id": "athletic-vancouver",
   "metadata": {},
   "outputs": [
    {
     "data": {
      "text/plain": [
       "[0, 2, 4, 6, 8]"
      ]
     },
     "execution_count": 122,
     "metadata": {},
     "output_type": "execute_result"
    }
   ],
   "source": [
    "#castinhg--> ep kieu\n",
    "list(range(0,10,2))"
   ]
  },
  {
   "cell_type": "code",
   "execution_count": 124,
   "id": "muslim-assurance",
   "metadata": {},
   "outputs": [
    {
     "data": {
      "text/plain": [
       "str"
      ]
     },
     "execution_count": 124,
     "metadata": {},
     "output_type": "execute_result"
    }
   ],
   "source": [
    "a = '1'\n",
    "type(a)"
   ]
  },
  {
   "cell_type": "code",
   "execution_count": 125,
   "id": "binding-freight",
   "metadata": {},
   "outputs": [
    {
     "data": {
      "text/plain": [
       "2"
      ]
     },
     "execution_count": 125,
     "metadata": {},
     "output_type": "execute_result"
    }
   ],
   "source": [
    "int(a) * 2"
   ]
  },
  {
   "cell_type": "code",
   "execution_count": 126,
   "id": "french-jamaica",
   "metadata": {},
   "outputs": [
    {
     "data": {
      "text/plain": [
       "1"
      ]
     },
     "execution_count": 126,
     "metadata": {},
     "output_type": "execute_result"
    }
   ],
   "source": [
    "int(1.9)"
   ]
  },
  {
   "cell_type": "code",
   "execution_count": 147,
   "id": "horizontal-organization",
   "metadata": {},
   "outputs": [
    {
     "data": {
      "text/plain": [
       "[0, 1, 2, 3, 4, 5, 6, 7, 8, 9]"
      ]
     },
     "execution_count": 147,
     "metadata": {},
     "output_type": "execute_result"
    }
   ],
   "source": [
    "li = list(range(0,10))\n",
    "li"
   ]
  },
  {
   "cell_type": "code",
   "execution_count": 144,
   "id": "ambient-queens",
   "metadata": {},
   "outputs": [],
   "source": [
    "li_2 = []\n",
    "for val in li:\n",
    "    li_2.append(val ** 2)\n",
    "li_3 = []\n",
    "for index in range(len(li)):\n",
    "    value=li[index] ** 2\n",
    "    li_3.append(value)"
   ]
  },
  {
   "cell_type": "code",
   "execution_count": 148,
   "id": "complex-turtle",
   "metadata": {},
   "outputs": [
    {
     "data": {
      "text/plain": [
       "[0, 1, 4, 9, 16, 25, 36, 49, 64, 81]"
      ]
     },
     "execution_count": 148,
     "metadata": {},
     "output_type": "execute_result"
    }
   ],
   "source": [
    "li_2 = []\n",
    "for val in li:\n",
    "    li_2.append(val ** 2)\n",
    "li_2"
   ]
  },
  {
   "cell_type": "code",
   "execution_count": 150,
   "id": "electrical-banner",
   "metadata": {},
   "outputs": [
    {
     "data": {
      "text/plain": [
       "[0, 1, 4, 9, 16, 25, 36, 49, 64, 81]"
      ]
     },
     "execution_count": 150,
     "metadata": {},
     "output_type": "execute_result"
    }
   ],
   "source": [
    "li_3 = []\n",
    "for index in range(len(li)):\n",
    "    value=li[index] ** 2\n",
    "    li_3.append(value)\n",
    "li_3"
   ]
  },
  {
   "cell_type": "code",
   "execution_count": null,
   "id": "impressed-significance",
   "metadata": {},
   "outputs": [],
   "source": []
  },
  {
   "cell_type": "markdown",
   "id": "boolean-stanley",
   "metadata": {},
   "source": [
    "# 3.2.2. While\n",
    "while conditon(True/Fale):\n",
    "    business logic"
   ]
  },
  {
   "cell_type": "code",
   "execution_count": null,
   "id": "pharmaceutical-soccer",
   "metadata": {},
   "outputs": [],
   "source": []
  }
 ],
 "metadata": {
  "kernelspec": {
   "display_name": "Python 3",
   "language": "python",
   "name": "python3"
  },
  "language_info": {
   "codemirror_mode": {
    "name": "ipython",
    "version": 3
   },
   "file_extension": ".py",
   "mimetype": "text/x-python",
   "name": "python",
   "nbconvert_exporter": "python",
   "pygments_lexer": "ipython3",
   "version": "3.7.10"
  }
 },
 "nbformat": 4,
 "nbformat_minor": 5
}
