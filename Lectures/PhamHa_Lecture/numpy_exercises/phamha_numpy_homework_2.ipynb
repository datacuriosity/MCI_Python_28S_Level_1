{
 "cells": [
  {
   "cell_type": "markdown",
   "metadata": {},
   "source": [
    "# Mathematical functions"
   ]
  },
  {
   "cell_type": "code",
   "execution_count": 23,
   "metadata": {},
   "outputs": [],
   "source": [
    "import numpy as np\n",
    "import math"
   ]
  },
  {
   "cell_type": "code",
   "execution_count": 3,
   "metadata": {},
   "outputs": [
    {
     "data": {
      "text/plain": [
       "'1.19.2'"
      ]
     },
     "execution_count": 3,
     "metadata": {},
     "output_type": "execute_result"
    }
   ],
   "source": [
    "np.__version__"
   ]
  },
  {
   "cell_type": "markdown",
   "metadata": {},
   "source": [
    "## Trigonometric functions"
   ]
  },
  {
   "cell_type": "markdown",
   "metadata": {},
   "source": [
    "Calculate sine, cosine, and tangent of x, element-wise.  \n",
    "Hint: use np.sin(), np.cos(), np.tan()"
   ]
  },
  {
   "cell_type": "code",
   "execution_count": 27,
   "metadata": {},
   "outputs": [
    {
     "name": "stdout",
     "output_type": "stream",
     "text": [
      "Sin: [0.    0.017 0.5   0.866 1.   ]\n",
      "Cosin: [1.    1.    0.866 0.5   0.   ]\n",
      "Tan: [0.00000000e+00 1.70000000e-02 5.77000000e-01 1.73200000e+00\n",
      " 1.63312394e+16]\n",
      "Tan=Sin/Cos: [0.00000000e+00 1.70000000e-02 5.77000000e-01 1.73200000e+00\n",
      " 1.63312394e+16]\n"
     ]
    }
   ],
   "source": [
    "# Đáp án thầy sai?!\n",
    "x = np.array([0., 1., 30,60,90])\n",
    "print('Sin:',np.round(np.sin(x*np.pi/180),3))\n",
    "print('Cosin:', np.round(np.cos(x*np.pi/180),3))\n",
    "print('Tan:',np.round(np.tan(x*np.pi/180 ),3))\n",
    "print('Tan=Sin/Cos:',np.round(np.sin(x*np.pi/180)/np.cos(x*np.pi/180),3))"
   ]
  },
  {
   "cell_type": "markdown",
   "metadata": {},
   "source": [
    "Calculate inverse sine, inverse cosine, and inverse tangent of x, element-wise.  \n",
    "Hint: use np.arcsin(), np.arccos(), np.arctan()"
   ]
  },
  {
   "cell_type": "code",
   "execution_count": 37,
   "metadata": {},
   "outputs": [
    {
     "name": "stdout",
     "output_type": "stream",
     "text": [
      "arcsin: [-90. -30.   0.  30.  90.]\n",
      "arccos: [180. 120.  90.  60.   0.]\n",
      "arctan: [-45.    -26.565   0.     26.565  45.   ]\n"
     ]
    }
   ],
   "source": [
    "x = np.array([-1.,-0.5, 0,0.5, 1.])\n",
    "print('arcsin:',np.round(np.arcsin(x)*180/np.pi,3))\n",
    "print('arccos:',np.round(np.arccos(x)*180/np.pi,3))\n",
    "print('arctan:',np.round(np.arctan(x)*180/np.pi,3))"
   ]
  },
  {
   "cell_type": "markdown",
   "metadata": {},
   "source": [
    "Convert angles from radians to degrees.  \n",
    "Hint: use np.degrees() or np.rad2deg()"
   ]
  },
  {
   "cell_type": "code",
   "execution_count": 46,
   "metadata": {},
   "outputs": [
    {
     "name": "stdout",
     "output_type": "stream",
     "text": [
      "[-180.  -90.   90.  180.]\n",
      "[-180.  -90.   90.  180.]\n"
     ]
    }
   ],
   "source": [
    "x = np.array([-np.pi, -np.pi/2, np.pi/2, np.pi])\n",
    "print(np.degrees(x))\n",
    "print(np.rad2deg(x))"
   ]
  },
  {
   "cell_type": "markdown",
   "metadata": {},
   "source": [
    "Convert angles from degrees to radians.  \n",
    "Hint: use np.radians() or np.deg2rad()"
   ]
  },
  {
   "cell_type": "code",
   "execution_count": 47,
   "metadata": {},
   "outputs": [
    {
     "name": "stdout",
     "output_type": "stream",
     "text": [
      "[-3.14159265 -1.57079633  1.57079633  3.14159265]\n",
      "[-3.14159265 -1.57079633  1.57079633  3.14159265]\n"
     ]
    }
   ],
   "source": [
    "x = np.array([-180.,  -90.,   90.,  180.])\n",
    "print(np.radians(x))\n",
    "print(np.deg2rad(x))"
   ]
  },
  {
   "cell_type": "markdown",
   "metadata": {},
   "source": [
    "## Hyperbolic functions"
   ]
  },
  {
   "cell_type": "markdown",
   "metadata": {},
   "source": [
    "Calculate hyperbolic sine, hyperbolic cosine, and hyperbolic tangent of x, element-wise.  \n",
    "Hint: use np.sinh(), np.cosh(), np.tanh()"
   ]
  },
  {
   "cell_type": "code",
   "execution_count": 49,
   "metadata": {},
   "outputs": [
    {
     "name": "stdout",
     "output_type": "stream",
     "text": [
      "hyperbolic sine: [-1.17520119  0.          1.17520119]\n",
      "hyperbolic cosine: [1.54308063 1.         1.54308063]\n",
      "hyperbolic tangent: [-0.76159416  0.          0.76159416]\n"
     ]
    }
   ],
   "source": [
    "x = np.array([-1., 0, 1.])\n",
    "print('hyperbolic sine:',np.sinh(x))\n",
    "print('hyperbolic cosine:',np.cosh(x))\n",
    "print('hyperbolic tangent:',np.tanh(x))"
   ]
  },
  {
   "cell_type": "markdown",
   "metadata": {},
   "source": [
    "## Rounding"
   ]
  },
  {
   "cell_type": "markdown",
   "metadata": {},
   "source": [
    "Round x element-wise  \n",
    "Hint: use np.around(x) or np.floor(x) or np.ceil(x) or np.trunc(x)"
   ]
  },
  {
   "cell_type": "code",
   "execution_count": 60,
   "metadata": {},
   "outputs": [
    {
     "name": "stdout",
     "output_type": "stream",
     "text": [
      "[ 2.1  1.5  2.5  2.9 -2.1 -2.5 -2.9]\n",
      "[ 2.1  1.5  2.5  2.9 -2.1 -2.5 -2.9]\n",
      "[ 2.  1.  2.  2. -3. -3. -3.]\n",
      "[ 3.  2.  3.  3. -2. -2. -2.]\n",
      "[ 2.  1.  2.  2. -2. -2. -2.]\n"
     ]
    }
   ],
   "source": [
    "x = np.array([2.1, 1.5, 2.5, 2.9, -2.1, -2.5, -2.9])\n",
    "print(np.around(x,2))\n",
    "print(np.round(x,2))\n",
    "print(np.floor(x))\n",
    "print(np.ceil(x))\n",
    "print(np.trunc(x))"
   ]
  },
  {
   "cell_type": "markdown",
   "metadata": {},
   "source": [
    "## Sums, products, differences"
   ]
  },
  {
   "cell_type": "markdown",
   "metadata": {},
   "source": [
    "Calculate the difference between neighboring elements, element-wise.  \n",
    "Hint: use np.diff()"
   ]
  },
  {
   "cell_type": "code",
   "execution_count": 63,
   "metadata": {},
   "outputs": [
    {
     "name": "stdout",
     "output_type": "stream",
     "text": [
      "[ 1  2  3 -7]\n"
     ]
    }
   ],
   "source": [
    "x = np.array([1, 2, 4, 7, 0])\n",
    "print(np.diff(x))"
   ]
  },
  {
   "cell_type": "markdown",
   "metadata": {},
   "source": [
    "- Return the cross product of x and y.  (Tích chéo của x và y)\n",
    "- Hint: use np.cross()"
   ]
  },
  {
   "cell_type": "code",
   "execution_count": 66,
   "metadata": {},
   "outputs": [
    {
     "name": "stdout",
     "output_type": "stream",
     "text": [
      "[-3  6 -3]\n"
     ]
    }
   ],
   "source": [
    "# Xem lại về tích chéo?!\n",
    "x = np.array([1, 2, 3])\n",
    "y = np.array([4, 5, 6])\n",
    "print(np.cross(x,y))"
   ]
  },
  {
   "cell_type": "markdown",
   "metadata": {},
   "source": [
    "## Exponents and logarithms"
   ]
  },
  {
   "cell_type": "markdown",
   "metadata": {},
   "source": [
    "Compute $e^x$, element-wise.  \n",
    "Hint: use np.exp()"
   ]
  },
  {
   "cell_type": "code",
   "execution_count": 69,
   "metadata": {},
   "outputs": [
    {
     "name": "stdout",
     "output_type": "stream",
     "text": [
      "[ 0.36787945  1.          2.7182817   7.389056   20.085537  ]\n"
     ]
    }
   ],
   "source": [
    "x = np.array([-1.,0.,1., 2., 3.], np.float32)\n",
    "print(np.exp(x))"
   ]
  },
  {
   "cell_type": "markdown",
   "metadata": {},
   "source": [
    "Calculate exp(x) - 1 for all elements in x.  \n",
    "Hint: there are np.expm1() and np.exp(), make your own choice and use it properly"
   ]
  },
  {
   "cell_type": "code",
   "execution_count": 70,
   "metadata": {},
   "outputs": [
    {
     "name": "stdout",
     "output_type": "stream",
     "text": [
      "[ 1.7182817  6.389056  19.085537 ]\n"
     ]
    }
   ],
   "source": [
    "x = np.array([1., 2., 3.], np.float32)\n",
    "print(np.expm1(x))"
   ]
  },
  {
   "cell_type": "markdown",
   "metadata": {},
   "source": [
    "Calculate $2^p$ for all p in x.  \n",
    "Hint: Refer to the lecture. np.exp2() will help, too."
   ]
  },
  {
   "cell_type": "code",
   "execution_count": 80,
   "metadata": {},
   "outputs": [
    {
     "name": "stdout",
     "output_type": "stream",
     "text": [
      "[ 0.25        0.5         1.          1.41421356  2.          4.\n",
      "  8.         16.         32.        ]\n"
     ]
    }
   ],
   "source": [
    "x = np.array([-2,-1,0,0.5,1., 2., 3.,4,5.], np.float64)\n",
    "print(np.exp2(x))"
   ]
  },
  {
   "cell_type": "code",
   "execution_count": 77,
   "metadata": {},
   "outputs": [
    {
     "name": "stdout",
     "output_type": "stream",
     "text": [
      "1.4142135623730951\n"
     ]
    }
   ],
   "source": [
    "print(np.sqrt(2))"
   ]
  },
  {
   "cell_type": "markdown",
   "metadata": {},
   "source": [
    "Compute natural, base 10, and base 2 logarithms of x element-wise.  \n",
    "Hint: use np.log(), np.log10(), np.log2()"
   ]
  },
  {
   "cell_type": "code",
   "execution_count": 81,
   "metadata": {},
   "outputs": [
    {
     "name": "stdout",
     "output_type": "stream",
     "text": [
      "natural log:  [0. 1. 2.]\n",
      "common log:  [0.         0.43429448 0.86858896]\n",
      "base 2 log:  [0.         1.44269504 2.88539008]\n"
     ]
    }
   ],
   "source": [
    "x = np.array([1, np.e, np.e**2])\n",
    "print('natural log: ',np.log(x))\n",
    "print('common log: ',np.log10(x))\n",
    "print('base 2 log: ',np.log2(x))"
   ]
  },
  {
   "cell_type": "markdown",
   "metadata": {},
   "source": [
    "## Arithmetic operations"
   ]
  },
  {
   "cell_type": "markdown",
   "metadata": {},
   "source": [
    "Add x and y element-wise."
   ]
  },
  {
   "cell_type": "code",
   "execution_count": 99,
   "metadata": {},
   "outputs": [
    {
     "name": "stdout",
     "output_type": "stream",
     "text": [
      "[0 0 0 1]\n",
      "[0 0 0 1]\n",
      "1\n"
     ]
    }
   ],
   "source": [
    "x = np.array([1, 2, 3,5])\n",
    "y = np.array([-1, -2, -3,-4])\n",
    "print(np.add(x,y))\n",
    "print(x+y)\n",
    "print((x+y)[3])"
   ]
  },
  {
   "cell_type": "markdown",
   "metadata": {},
   "source": [
    "Subtract y from x element-wise. (Các phần tử trong mảng x trừ giá trị y)"
   ]
  },
  {
   "cell_type": "code",
   "execution_count": 98,
   "metadata": {},
   "outputs": [
    {
     "name": "stdout",
     "output_type": "stream",
     "text": [
      "[ 0  1  2 10]\n",
      "[ 0  1  2 10]\n"
     ]
    }
   ],
   "source": [
    "x = np.array([3, 4, 5,13])\n",
    "y = np.array(3)\n",
    "print(np.subtract(x,y))\n",
    "print(x-y)\n"
   ]
  },
  {
   "cell_type": "markdown",
   "metadata": {},
   "source": [
    "Multiply x by y or x by z element-wise."
   ]
  },
  {
   "cell_type": "code",
   "execution_count": 97,
   "metadata": {},
   "outputs": [
    {
     "name": "stdout",
     "output_type": "stream",
     "text": [
      "[ 3  0 -5]\n",
      "[ 3  0 -5]\n",
      "[ 9 12 15]\n"
     ]
    }
   ],
   "source": [
    "x = np.array([3, 4, 5])\n",
    "y = np.array([1, 0, -1])\n",
    "z=np.array(3)\n",
    "print(np.multiply(x,y))\n",
    "print(x*y)\n",
    "print(np.multiply(x,z))"
   ]
  },
  {
   "cell_type": "markdown",
   "metadata": {},
   "source": [
    "Divide x by y element-wise"
   ]
  },
  {
   "cell_type": "code",
   "execution_count": 96,
   "metadata": {},
   "outputs": [
    {
     "name": "stdout",
     "output_type": "stream",
     "text": [
      "[3.         2.         1.66666667]\n",
      "[3.         2.         1.66666667]\n",
      "[1.         1.33333333 1.66666667]\n"
     ]
    }
   ],
   "source": [
    "x = np.array([3., 4., 5.])\n",
    "y = np.array([1., 2., 3.])\n",
    "z=np.array(3)\n",
    "print(np.divide(x,y))\n",
    "print(x/y)\n",
    "print(np.divide(x,z))"
   ]
  },
  {
   "cell_type": "markdown",
   "metadata": {},
   "source": [
    "Compute numerical negative value of x, element-wise."
   ]
  },
  {
   "cell_type": "code",
   "execution_count": 91,
   "metadata": {},
   "outputs": [
    {
     "name": "stdout",
     "output_type": "stream",
     "text": [
      "[-1  1]\n"
     ]
    }
   ],
   "source": [
    "x = np.array([1, -1])\n",
    "print(np.negative(x))"
   ]
  },
  {
   "cell_type": "markdown",
   "metadata": {},
   "source": [
    "Compute the reciprocal of x, element-wise."
   ]
  },
  {
   "cell_type": "code",
   "execution_count": 92,
   "metadata": {},
   "outputs": [
    {
     "name": "stdout",
     "output_type": "stream",
     "text": [
      "[1.  0.5 5. ]\n"
     ]
    }
   ],
   "source": [
    "x = np.array([1., 2., .2])\n",
    "print(np.reciprocal(x))"
   ]
  },
  {
   "cell_type": "markdown",
   "metadata": {},
   "source": [
    "Compute $x^y$, element-wise."
   ]
  },
  {
   "cell_type": "code",
   "execution_count": 95,
   "metadata": {},
   "outputs": [
    {
     "name": "stdout",
     "output_type": "stream",
     "text": [
      "[[ 1  4]\n",
      " [ 3 16]]\n",
      "[[ 1  4]\n",
      " [ 3 16]]\n",
      "[[ 1  8]\n",
      " [27 64]]\n"
     ]
    }
   ],
   "source": [
    "x = np.array([[1, 2], [3, 4]])\n",
    "y = np.array([[1, 2], [1, 2]])\n",
    "z=np.array(3)\n",
    "print(np.power(x,y))\n",
    "print(x**y)\n",
    "print(np.power(x,z))"
   ]
  },
  {
   "cell_type": "markdown",
   "metadata": {},
   "source": [
    "Compute the remainder of x / y element-wise in two different ways.  \n",
    "Hint: use np.mod() or `%` operator"
   ]
  },
  {
   "cell_type": "code",
   "execution_count": 100,
   "metadata": {},
   "outputs": [
    {
     "name": "stdout",
     "output_type": "stream",
     "text": [
      "[1 0 1 1 0 1]\n",
      "[1 0 1 1 0 1]\n"
     ]
    }
   ],
   "source": [
    "x = np.array([-3, -2, -1, 1, 2, 3])\n",
    "y = 2\n",
    "print(np.mod(x,y))\n",
    "print(x%y)"
   ]
  },
  {
   "cell_type": "markdown",
   "metadata": {},
   "source": [
    "## Miscellaneous"
   ]
  },
  {
   "cell_type": "markdown",
   "metadata": {},
   "source": [
    "If an element of x is smaller than 3, replace it with 3.  \n",
    "And if an element of x is bigger than 7, replace it with 7.  \n",
    "Hint: use array masking"
   ]
  },
  {
   "cell_type": "code",
   "execution_count": 102,
   "metadata": {},
   "outputs": [
    {
     "name": "stdout",
     "output_type": "stream",
     "text": [
      "x before: [0 1 2 3 4 5 6 7 8 9]\n",
      "x after replace: [3 3 3 3 4 5 6 7 7 7]\n"
     ]
    }
   ],
   "source": [
    "x = np.arange(10)\n",
    "print('x before:',x)\n",
    "x[x<3]=3\n",
    "x[x>7]=7\n",
    "print('x after replace:',x)"
   ]
  },
  {
   "cell_type": "code",
   "execution_count": 116,
   "metadata": {},
   "outputs": [
    {
     "name": "stdout",
     "output_type": "stream",
     "text": [
      "y before:\n",
      " [44 58 95 50 79 46 53 43 30 47 71 49 80 45 20 66 34 75 56 92 76  1 29 61\n",
      " 91 66 64 71 79 25 99 36 85 92 84 52 97 79  6 27 85 31 17 62 10 37 28 11\n",
      " 19 46 71  0 43 94 88 43 81  0 48 16 28 44  6 26 14 72 27 71 56 80  6 83\n",
      " 26 91 48 42 47 46 18 61 16 18 93 40 20 71 40 15 17 87 81 62 65 84 14 44\n",
      " 41 18 77]\n",
      "y after replace:\n",
      " [ 0  0 95  0 79  0 53 43  0 47 71 49  0 45  0  0  0 75  0  0  0  1 29 61\n",
      " 91  0  0 71 79 25 99  0 85  0  0  0 97 79  0 27 85 31 17  0  0 37  0 11\n",
      " 19  0 71  0 43  0  0 43 81  0  0  0  0  0  0  0  0  0 27 71  0  0  0 83\n",
      "  0 91  0  0 47  0  0 61  0  0 93  0  0 71  0 15 17 87 81  0 65  0  0  0\n",
      " 41  0 77]\n"
     ]
    }
   ],
   "source": [
    "y=np.array([np.int(np.random.rand()*100) for i in range(1,100)])\n",
    "print('y before:\\n',y)\n",
    "y[y%2==0]=0\n",
    "print('y after replace:\\n',y)\n"
   ]
  },
  {
   "cell_type": "markdown",
   "metadata": {},
   "source": [
    "Compute the square of x, element-wise."
   ]
  },
  {
   "cell_type": "code",
   "execution_count": 119,
   "metadata": {},
   "outputs": [
    {
     "name": "stdout",
     "output_type": "stream",
     "text": [
      "[ 1  4  1 25]\n",
      "[ 1  4  1 25]\n"
     ]
    }
   ],
   "source": [
    "x = np.array([1, 2, -1,5])\n",
    "print(np.square(x))\n",
    "print(x**2)"
   ]
  },
  {
   "cell_type": "markdown",
   "metadata": {},
   "source": [
    "Compute square root of x element-wise."
   ]
  },
  {
   "cell_type": "code",
   "execution_count": 120,
   "metadata": {},
   "outputs": [
    {
     "name": "stdout",
     "output_type": "stream",
     "text": [
      "[1. 2. 3.]\n",
      "[1. 2. 3.]\n"
     ]
    }
   ],
   "source": [
    "x = np.array([1., 4., 9.])\n",
    "print(np.sqrt(x))\n",
    "print(x**(1/2))"
   ]
  },
  {
   "cell_type": "markdown",
   "metadata": {},
   "source": [
    "Compute the absolute value of x."
   ]
  },
  {
   "cell_type": "code",
   "execution_count": 11,
   "metadata": {},
   "outputs": [
    {
     "data": {
      "text/plain": [
       "array([[1, 1],\n",
       "       [3, 3]])"
      ]
     },
     "execution_count": 11,
     "metadata": {},
     "output_type": "execute_result"
    }
   ],
   "source": [
    "x = np.array([[1, -1], [3, -3]])\n",
    "x=np.abs(x)\n",
    "x"
   ]
  },
  {
   "cell_type": "markdown",
   "metadata": {},
   "source": [
    "Compute an element-wise indication of the sign of x, element-wise."
   ]
  },
  {
   "cell_type": "code",
   "execution_count": 27,
   "metadata": {},
   "outputs": [
    {
     "name": "stdout",
     "output_type": "stream",
     "text": [
      "[ 1  1  0 -1 -1]\n"
     ]
    }
   ],
   "source": [
    "x = np.array([1, 3, 0, -1, -3])\n",
    "x=np.indices()"
   ]
  }
 ],
 "metadata": {
  "kernelspec": {
   "display_name": "Python 3",
   "language": "python",
   "name": "python3"
  },
  "language_info": {
   "codemirror_mode": {
    "name": "ipython",
    "version": 3
   },
   "file_extension": ".py",
   "mimetype": "text/x-python",
   "name": "python",
   "nbconvert_exporter": "python",
   "pygments_lexer": "ipython3",
   "version": "3.8.5"
  }
 },
 "nbformat": 4,
 "nbformat_minor": 1
}
