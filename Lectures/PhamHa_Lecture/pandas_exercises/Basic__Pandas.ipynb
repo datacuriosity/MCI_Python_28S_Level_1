{
 "cells": [
  {
   "cell_type": "markdown",
   "metadata": {},
   "source": [
    "# Pandas basic practice"
   ]
  },
  {
   "cell_type": "code",
   "execution_count": 2,
   "metadata": {
    "jupyter": {
     "outputs_hidden": false
    }
   },
   "outputs": [],
   "source": [
    "import numpy as np\n",
    "import pandas as pd"
   ]
  },
  {
   "cell_type": "code",
   "execution_count": 3,
   "metadata": {
    "jupyter": {
     "outputs_hidden": false
    }
   },
   "outputs": [
    {
     "data": {
      "text/plain": [
       "<bound method NDFrame.head of                                        <!DOCTYPE HTML>\n",
       "0                                               <html>\n",
       "1                                               <head>\n",
       "2                               <meta charset=\"utf-8\">\n",
       "3                      <title>Jupyter Notebook</title>\n",
       "4        <link id=\"favicon\" rel=\"shortcut icon\" typ...\n",
       "..                                                 ...\n",
       "211                                                  }\n",
       "212                          _remove_token_from_url();\n",
       "213                                          </script>\n",
       "214                                            </body>\n",
       "215                                            </html>\n",
       "\n",
       "[216 rows x 1 columns]>"
      ]
     },
     "execution_count": 3,
     "metadata": {},
     "output_type": "execute_result"
    }
   ],
   "source": [
    "chipo=pd.read_csv('http://localhost:8888/edit/Desktop/GitHub/GitHub_Desktop/MCI_Python_28S_Level_1/Lectures/PhamHa_Lecture/chipotle.tsv', delimiter='\\t')\n",
    "chipo.head"
   ]
  },
  {
   "cell_type": "code",
   "execution_count": 4,
   "metadata": {},
   "outputs": [
    {
     "data": {
      "text/html": [
       "<div>\n",
       "<style scoped>\n",
       "    .dataframe tbody tr th:only-of-type {\n",
       "        vertical-align: middle;\n",
       "    }\n",
       "\n",
       "    .dataframe tbody tr th {\n",
       "        vertical-align: top;\n",
       "    }\n",
       "\n",
       "    .dataframe thead th {\n",
       "        text-align: right;\n",
       "    }\n",
       "</style>\n",
       "<table border=\"1\" class=\"dataframe\">\n",
       "  <thead>\n",
       "    <tr style=\"text-align: right;\">\n",
       "      <th></th>\n",
       "      <th>&lt;!DOCTYPE HTML&gt;</th>\n",
       "    </tr>\n",
       "  </thead>\n",
       "  <tbody>\n",
       "    <tr>\n",
       "      <th>0</th>\n",
       "      <td>&lt;html&gt;</td>\n",
       "    </tr>\n",
       "    <tr>\n",
       "      <th>1</th>\n",
       "      <td>&lt;head&gt;</td>\n",
       "    </tr>\n",
       "    <tr>\n",
       "      <th>2</th>\n",
       "      <td>&lt;meta charset=\"utf-8\"&gt;</td>\n",
       "    </tr>\n",
       "    <tr>\n",
       "      <th>3</th>\n",
       "      <td>&lt;title&gt;Jupyter Notebook&lt;/title&gt;</td>\n",
       "    </tr>\n",
       "    <tr>\n",
       "      <th>4</th>\n",
       "      <td>&lt;link id=\"favicon\" rel=\"shortcut icon\" typ...</td>\n",
       "    </tr>\n",
       "    <tr>\n",
       "      <th>5</th>\n",
       "      <td>&lt;meta http-equiv=\"X-UA-Compatible\" content...</td>\n",
       "    </tr>\n",
       "    <tr>\n",
       "      <th>6</th>\n",
       "      <td>&lt;link rel=\"stylesheet\" href=\"/static/compo...</td>\n",
       "    </tr>\n",
       "    <tr>\n",
       "      <th>7</th>\n",
       "      <td>&lt;link rel=\"stylesheet\" href=\"/static/compo...</td>\n",
       "    </tr>\n",
       "    <tr>\n",
       "      <th>8</th>\n",
       "      <td>&lt;meta name=\"viewport\" content=\"width=devic...</td>\n",
       "    </tr>\n",
       "    <tr>\n",
       "      <th>9</th>\n",
       "      <td>&lt;link rel=\"stylesheet\" href=\"/static/style...</td>\n",
       "    </tr>\n",
       "  </tbody>\n",
       "</table>\n",
       "</div>"
      ],
      "text/plain": [
       "                                     <!DOCTYPE HTML>\n",
       "0                                             <html>\n",
       "1                                             <head>\n",
       "2                             <meta charset=\"utf-8\">\n",
       "3                    <title>Jupyter Notebook</title>\n",
       "4      <link id=\"favicon\" rel=\"shortcut icon\" typ...\n",
       "5      <meta http-equiv=\"X-UA-Compatible\" content...\n",
       "6      <link rel=\"stylesheet\" href=\"/static/compo...\n",
       "7      <link rel=\"stylesheet\" href=\"/static/compo...\n",
       "8      <meta name=\"viewport\" content=\"width=devic...\n",
       "9      <link rel=\"stylesheet\" href=\"/static/style..."
      ]
     },
     "execution_count": 4,
     "metadata": {},
     "output_type": "execute_result"
    }
   ],
   "source": [
    "chipo"
   ]
  }
 ],
 "metadata": {
  "anaconda-cloud": {},
  "kernelspec": {
   "display_name": "Python 3",
   "language": "python",
   "name": "python3"
  },
  "language_info": {
   "codemirror_mode": {
    "name": "ipython",
    "version": 3
   },
   "file_extension": ".py",
   "mimetype": "text/x-python",
   "name": "python",
   "nbconvert_exporter": "python",
   "pygments_lexer": "ipython3",
   "version": "3.8.5"
  }
 },
 "nbformat": 4,
 "nbformat_minor": 4
}
