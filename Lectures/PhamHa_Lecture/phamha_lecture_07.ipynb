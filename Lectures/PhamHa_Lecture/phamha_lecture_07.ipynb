{
 "cells": [
  {
   "cell_type": "markdown",
   "metadata": {},
   "source": [
    "## Bài 07: \n",
    "(Ngày 27/5/2021)\n",
    "\n",
    "Pandas: Không đáp ứng được dữ lớn vì nó sẽ nạp cả bảng dữ liệu vào bộ nhớ \n",
    "PyS: Dùng cho Dữ liệu lớn.\n",
    "\n",
    "Chữa bài tập: \n",
    "D:\\Users\\Administrator\\Desktop\\GitHub\\GitHub_Desktop\\MCI_Python_28S_Level_1\\Lectures\\PhamHa_Lecture\\pandas_exercises\\01_Getting_&_Knowing_Your_Data\\Chipotle\\Exercises"
   ]
  },
  {
   "cell_type": "code",
   "execution_count": 2,
   "metadata": {},
   "outputs": [],
   "source": [
    "import numpy as np\n",
    "import pandas as pd"
   ]
  },
  {
   "cell_type": "code",
   "execution_count": null,
   "metadata": {},
   "outputs": [],
   "source": []
  }
 ],
 "metadata": {
  "kernelspec": {
   "display_name": "Python 3",
   "language": "python",
   "name": "python3"
  },
  "language_info": {
   "codemirror_mode": {
    "name": "ipython",
    "version": 3
   },
   "file_extension": ".py",
   "mimetype": "text/x-python",
   "name": "python",
   "nbconvert_exporter": "python",
   "pygments_lexer": "ipython3",
   "version": "3.8.5"
  }
 },
 "nbformat": 4,
 "nbformat_minor": 5
}
