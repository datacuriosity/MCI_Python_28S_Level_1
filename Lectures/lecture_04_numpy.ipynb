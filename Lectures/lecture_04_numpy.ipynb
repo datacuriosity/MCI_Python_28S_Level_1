{
 "cells": [
  {
   "cell_type": "code",
   "execution_count": 1,
   "id": "2a98c634-fdf8-47be-b691-8e0ffa5cd49f",
   "metadata": {},
   "outputs": [],
   "source": [
    "import numpy as np"
   ]
  },
  {
   "cell_type": "markdown",
   "id": "6dd10483-c6bc-4127-a64e-933b04dc5212",
   "metadata": {},
   "source": [
    "![](https://i.stack.imgur.com/NWTQH.png)"
   ]
  },
  {
   "cell_type": "markdown",
   "id": "d18b8a07-d0b3-4349-948a-4b1d925e8e8a",
   "metadata": {},
   "source": [
    "#### 1. Create array"
   ]
  },
  {
   "cell_type": "code",
   "execution_count": 2,
   "id": "1438fac8-712f-47a1-9779-e77c3135de68",
   "metadata": {},
   "outputs": [
    {
     "data": {
      "text/plain": [
       "array([1, 2, 3])"
      ]
     },
     "execution_count": 2,
     "metadata": {},
     "output_type": "execute_result"
    }
   ],
   "source": [
    "arr = np.array([1, 2, 3])\n",
    "arr"
   ]
  },
  {
   "cell_type": "code",
   "execution_count": 3,
   "id": "7dd0347f-ad2b-43c8-b349-445e79dff95e",
   "metadata": {},
   "outputs": [
    {
     "data": {
      "text/plain": [
       "numpy.ndarray"
      ]
     },
     "execution_count": 3,
     "metadata": {},
     "output_type": "execute_result"
    }
   ],
   "source": [
    "type(arr)"
   ]
  },
  {
   "cell_type": "code",
   "execution_count": 4,
   "id": "13a31239-7a0b-43b2-97be-a56df5334e15",
   "metadata": {},
   "outputs": [
    {
     "data": {
      "text/plain": [
       "array(['1', '2', '3', 'Truong'], dtype='<U21')"
      ]
     },
     "execution_count": 4,
     "metadata": {},
     "output_type": "execute_result"
    }
   ],
   "source": [
    "arr = np.array([1, 2, 3, 'Truong'])\n",
    "arr"
   ]
  },
  {
   "cell_type": "code",
   "execution_count": 5,
   "id": "6a42a925-7b50-44c3-bca7-4811cd824c4b",
   "metadata": {},
   "outputs": [
    {
     "data": {
      "text/plain": [
       "array([1., 2., 3.])"
      ]
     },
     "execution_count": 5,
     "metadata": {},
     "output_type": "execute_result"
    }
   ],
   "source": [
    "arr = np.array([1, 2, 3], dtype='float')\n",
    "arr"
   ]
  },
  {
   "cell_type": "code",
   "execution_count": 6,
   "id": "391f2171-57d1-4f56-89ad-dde843b2132c",
   "metadata": {},
   "outputs": [
    {
     "data": {
      "text/plain": [
       "(3,)"
      ]
     },
     "execution_count": 6,
     "metadata": {},
     "output_type": "execute_result"
    }
   ],
   "source": [
    "arr.shape"
   ]
  },
  {
   "cell_type": "code",
   "execution_count": 7,
   "id": "7cb2e66e-1d43-4cdd-8c03-5f6f4e2b2690",
   "metadata": {},
   "outputs": [
    {
     "data": {
      "text/plain": [
       "array([[1., 2., 3.],\n",
       "       [4., 5., 6.],\n",
       "       [7., 8., 9.]])"
      ]
     },
     "execution_count": 7,
     "metadata": {},
     "output_type": "execute_result"
    }
   ],
   "source": [
    "arr = np.array([[1, 2, 3], [4, 5, 6], [7, 8, 9]], dtype='float')\n",
    "arr"
   ]
  },
  {
   "cell_type": "code",
   "execution_count": 8,
   "id": "ba11c69d-a45b-40d8-b938-2a114e155b9e",
   "metadata": {},
   "outputs": [
    {
     "data": {
      "text/plain": [
       "(3, 3)"
      ]
     },
     "execution_count": 8,
     "metadata": {},
     "output_type": "execute_result"
    }
   ],
   "source": [
    "arr.shape"
   ]
  },
  {
   "cell_type": "code",
   "execution_count": 9,
   "id": "caf485db-6b44-447d-bc0f-4ae56bd18f1d",
   "metadata": {},
   "outputs": [
    {
     "data": {
      "text/plain": [
       "array([[[ 1.,  2.],\n",
       "        [ 3.,  4.],\n",
       "        [ 5.,  6.]],\n",
       "\n",
       "       [[ 7.,  8.],\n",
       "        [ 9., 10.],\n",
       "        [11., 12.]],\n",
       "\n",
       "       [[13., 14.],\n",
       "        [15., 16.],\n",
       "        [17.,  8.]]])"
      ]
     },
     "execution_count": 9,
     "metadata": {},
     "output_type": "execute_result"
    }
   ],
   "source": [
    "arr = np.array([[[1, 2], [3, 4], [5, 6]], \n",
    "                [[7, 8], [9, 10], [11, 12]], \n",
    "                [[13, 14], [15, 16], [17, 8]]], dtype='float')\n",
    "arr"
   ]
  },
  {
   "cell_type": "code",
   "execution_count": 10,
   "id": "a7b23d9c-ac7f-44cc-8164-f6a889d5dbe3",
   "metadata": {},
   "outputs": [
    {
     "data": {
      "text/plain": [
       "(3, 3, 2)"
      ]
     },
     "execution_count": 10,
     "metadata": {},
     "output_type": "execute_result"
    }
   ],
   "source": [
    "arr.shape"
   ]
  },
  {
   "cell_type": "code",
   "execution_count": 24,
   "id": "45b18823-594e-4cf4-a4e0-032ebd2151e3",
   "metadata": {},
   "outputs": [
    {
     "data": {
      "text/plain": [
       "array([[[ 1.        ,  1.47368421,  1.94736842,  2.42105263,\n",
       "          2.89473684],\n",
       "        [ 3.36842105,  3.84210526,  4.31578947,  4.78947368,\n",
       "          5.26315789]],\n",
       "\n",
       "       [[ 5.73684211,  6.21052632,  6.68421053,  7.15789474,\n",
       "          7.63157895],\n",
       "        [ 8.10526316,  8.57894737,  9.05263158,  9.52631579,\n",
       "         10.        ]]])"
      ]
     },
     "execution_count": 24,
     "metadata": {},
     "output_type": "execute_result"
    }
   ],
   "source": [
    "np.linspace(1, 10, 20).reshape(2, 2, 5)"
   ]
  },
  {
   "cell_type": "code",
   "execution_count": 15,
   "id": "ad3b3e1e-ed7d-4f2a-8bd8-a69a99718c35",
   "metadata": {},
   "outputs": [
    {
     "data": {
      "text/plain": [
       "array([[1.000000e+00, 2.000000e+00, 3.000000e+00, ..., 1.998000e+03,\n",
       "        1.999000e+03, 2.000000e+03],\n",
       "       [2.001000e+03, 2.002000e+03, 2.003000e+03, ..., 3.998000e+03,\n",
       "        3.999000e+03, 4.000000e+03],\n",
       "       [4.001000e+03, 4.002000e+03, 4.003000e+03, ..., 5.998000e+03,\n",
       "        5.999000e+03, 6.000000e+03],\n",
       "       ...,\n",
       "       [9.994001e+06, 9.994002e+06, 9.994003e+06, ..., 9.995998e+06,\n",
       "        9.995999e+06, 9.996000e+06],\n",
       "       [9.996001e+06, 9.996002e+06, 9.996003e+06, ..., 9.997998e+06,\n",
       "        9.997999e+06, 9.998000e+06],\n",
       "       [9.998001e+06, 9.998002e+06, 9.998003e+06, ..., 9.999998e+06,\n",
       "        9.999999e+06, 1.000000e+07]])"
      ]
     },
     "execution_count": 15,
     "metadata": {},
     "output_type": "execute_result"
    }
   ],
   "source": [
    "arr = np.linspace(1, 10_000_000, 10_000_000).reshape(5000, 2000)\n",
    "arr"
   ]
  },
  {
   "cell_type": "code",
   "execution_count": 17,
   "id": "63d5ad89-0672-4ee3-bae8-1581c8710a77",
   "metadata": {},
   "outputs": [],
   "source": [
    "np.savetxt('test.txt', arr)"
   ]
  },
  {
   "cell_type": "code",
   "execution_count": 18,
   "id": "4e9360d6-30a4-4470-a6da-ac8aa8c71ddd",
   "metadata": {},
   "outputs": [
    {
     "data": {
      "text/plain": [
       "array([[1.000000e+00, 2.000000e+00, 3.000000e+00, ..., 1.998000e+03,\n",
       "        1.999000e+03, 2.000000e+03],\n",
       "       [2.001000e+03, 2.002000e+03, 2.003000e+03, ..., 3.998000e+03,\n",
       "        3.999000e+03, 4.000000e+03],\n",
       "       [4.001000e+03, 4.002000e+03, 4.003000e+03, ..., 5.998000e+03,\n",
       "        5.999000e+03, 6.000000e+03],\n",
       "       ...,\n",
       "       [9.994001e+06, 9.994002e+06, 9.994003e+06, ..., 9.995998e+06,\n",
       "        9.995999e+06, 9.996000e+06],\n",
       "       [9.996001e+06, 9.996002e+06, 9.996003e+06, ..., 9.997998e+06,\n",
       "        9.997999e+06, 9.998000e+06],\n",
       "       [9.998001e+06, 9.998002e+06, 9.998003e+06, ..., 9.999998e+06,\n",
       "        9.999999e+06, 1.000000e+07]])"
      ]
     },
     "execution_count": 18,
     "metadata": {},
     "output_type": "execute_result"
    }
   ],
   "source": [
    "arr_2 = np.loadtxt('test.txt')\n",
    "arr_2"
   ]
  },
  {
   "cell_type": "code",
   "execution_count": 19,
   "id": "570a43d0-b9c8-4da0-b86b-147b048cc67c",
   "metadata": {},
   "outputs": [
    {
     "data": {
      "text/plain": [
       "(5000, 2000)"
      ]
     },
     "execution_count": 19,
     "metadata": {},
     "output_type": "execute_result"
    }
   ],
   "source": [
    "arr_2.shape"
   ]
  },
  {
   "cell_type": "code",
   "execution_count": 25,
   "id": "cb6673bc-be81-4028-8659-7912c3453772",
   "metadata": {},
   "outputs": [
    {
     "data": {
      "text/plain": [
       "array([[[0, 0],\n",
       "        [0, 0],\n",
       "        [0, 0]],\n",
       "\n",
       "       [[0, 0],\n",
       "        [0, 0],\n",
       "        [0, 0]],\n",
       "\n",
       "       [[0, 0],\n",
       "        [0, 0],\n",
       "        [0, 0]]])"
      ]
     },
     "execution_count": 25,
     "metadata": {},
     "output_type": "execute_result"
    }
   ],
   "source": [
    "np.zeros((3, 3, 2), dtype='int')"
   ]
  },
  {
   "cell_type": "code",
   "execution_count": null,
   "id": "e5c42505-7063-4dab-8bf1-6e324881a8b2",
   "metadata": {},
   "outputs": [],
   "source": [
    "li = list(range(11))"
   ]
  },
  {
   "cell_type": "code",
   "execution_count": 28,
   "id": "ccb964a2-22c0-40d1-b918-fdadd88e4494",
   "metadata": {},
   "outputs": [
    {
     "name": "stdout",
     "output_type": "stream",
     "text": [
      "[0, 0, 0, 0, 0, 0]\n"
     ]
    },
    {
     "data": {
      "text/plain": [
       "[0, 2, 4, 6, 8, 10]"
      ]
     },
     "execution_count": 28,
     "metadata": {},
     "output_type": "execute_result"
    }
   ],
   "source": [
    "li = list(range(11))\n",
    "new_li = [0 for i in range(6)]\n",
    "print(new_li)\n",
    "\n",
    "index = 0 \n",
    "for i in li:\n",
    "    if i % 2 == 0:\n",
    "        new_li[index] = i\n",
    "        index += 1\n",
    "new_li"
   ]
  },
  {
   "cell_type": "code",
   "execution_count": null,
   "id": "b560f799-d7d9-416c-8ac3-e1407f0e88a6",
   "metadata": {},
   "outputs": [],
   "source": [
    "np.linalg."
   ]
  }
 ],
 "metadata": {
  "kernelspec": {
   "display_name": "Python 3",
   "language": "python",
   "name": "python3"
  },
  "language_info": {
   "codemirror_mode": {
    "name": "ipython",
    "version": 3
   },
   "file_extension": ".py",
   "mimetype": "text/x-python",
   "name": "python",
   "nbconvert_exporter": "python",
   "pygments_lexer": "ipython3",
   "version": "3.7.10"
  }
 },
 "nbformat": 4,
 "nbformat_minor": 5
}
