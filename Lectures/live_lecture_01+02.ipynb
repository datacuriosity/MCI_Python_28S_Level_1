{
 "cells": [
  {
   "cell_type": "markdown",
   "id": "d9d9baab-b736-4976-86ea-c381480b215b",
   "metadata": {},
   "source": [
    "### 1. Notebook tutorials"
   ]
  },
  {
   "cell_type": "markdown",
   "id": "42020f1b-14e9-441e-93fd-ee639983aad8",
   "metadata": {},
   "source": [
    "Cells:\n",
    "- Code \n",
    "- Markdown"
   ]
  },
  {
   "cell_type": "markdown",
   "id": "07c74eb1-5431-4aa8-8711-0072c5bf5195",
   "metadata": {},
   "source": [
    "![](https://arogozhnikov.github.io/images/jupyter/hotkeys.png)"
   ]
  },
  {
   "cell_type": "markdown",
   "id": "2c1bc625-ff4b-4036-b458-6ec6b43da21d",
   "metadata": {},
   "source": [
    "# Heading 1"
   ]
  },
  {
   "cell_type": "markdown",
   "id": "f5da8715-7fff-455c-99d1-6108e677fc4e",
   "metadata": {},
   "source": [
    "## Heading 2"
   ]
  },
  {
   "cell_type": "markdown",
   "id": "0851b5f7-898a-44ff-9a8c-22e8f02e456b",
   "metadata": {},
   "source": [
    "### Heading 3"
   ]
  },
  {
   "cell_type": "markdown",
   "id": "6dcdb68c-488f-4a41-ae97-99822a847d74",
   "metadata": {},
   "source": [
    "*Italic*"
   ]
  },
  {
   "cell_type": "markdown",
   "id": "9adfd431-6185-4b9a-85ce-117d18cdcf5d",
   "metadata": {},
   "source": [
    "**Bold**"
   ]
  },
  {
   "cell_type": "markdown",
   "id": "5ba8a810-545e-404b-96dc-954e516aa33e",
   "metadata": {},
   "source": [
    "```\n",
    "Block of text\n",
    "```"
   ]
  },
  {
   "cell_type": "markdown",
   "id": "09fff787-49e5-4fb8-b033-9434cea7b5ce",
   "metadata": {},
   "source": [
    "<p style=\"font-size:30px\"> I am Truong</p>"
   ]
  },
  {
   "cell_type": "markdown",
   "id": "46955cdc-a879-41fa-9408-13bcf420f0b1",
   "metadata": {},
   "source": [
    "### 1. Lession\n",
    "- Open github desktop --> Pull Origin\n",
    "Open jupyter lab:\n",
    "1. cd Documents/Github/MCI_..\n",
    "2. conda activate nmtruong\n",
    "3. jupyter lab\n",
    "\n",
    "Create virtual environment:\n",
    "\n",
    "conda create -n nmtruong python=3.7 numpy pandas seaborn matplotlib scikit-learn jupyterlab"
   ]
  },
  {
   "cell_type": "markdown",
   "id": "c5241e43-b6d6-4af7-a5a9-58c10efddb84",
   "metadata": {},
   "source": [
    "# Coding"
   ]
  },
  {
   "cell_type": "markdown",
   "id": "382d481b-64c2-42cd-b817-831555be56b1",
   "metadata": {},
   "source": [
    "### 1. Operations"
   ]
  },
  {
   "cell_type": "markdown",
   "id": "41307433-2f17-412f-a312-2215a10eb81a",
   "metadata": {},
   "source": [
    "#### 1.1. Math operations"
   ]
  },
  {
   "cell_type": "markdown",
   "id": "7d4e6d83-8afb-4ab4-903c-82a7a058c92e",
   "metadata": {},
   "source": [
    "1 + 1\n",
    "\n",
    "1: Operators\n",
    "+ : Operation"
   ]
  },
  {
   "cell_type": "code",
   "execution_count": 1,
   "id": "429b7295-20df-43ef-9410-f4ddc260dfa3",
   "metadata": {},
   "outputs": [
    {
     "data": {
      "text/plain": [
       "4"
      ]
     },
     "execution_count": 1,
     "metadata": {},
     "output_type": "execute_result"
    }
   ],
   "source": [
    "2 + 2"
   ]
  },
  {
   "cell_type": "code",
   "execution_count": 2,
   "id": "01975697-c584-4451-92b9-757ecde07f15",
   "metadata": {},
   "outputs": [
    {
     "data": {
      "text/plain": [
       "0"
      ]
     },
     "execution_count": 2,
     "metadata": {},
     "output_type": "execute_result"
    }
   ],
   "source": [
    "4-4"
   ]
  },
  {
   "cell_type": "code",
   "execution_count": 3,
   "id": "31bc42aa-ccba-482f-9239-76385d022eb8",
   "metadata": {},
   "outputs": [
    {
     "data": {
      "text/plain": [
       "32"
      ]
     },
     "execution_count": 3,
     "metadata": {},
     "output_type": "execute_result"
    }
   ],
   "source": [
    "4 * 8"
   ]
  },
  {
   "cell_type": "code",
   "execution_count": 4,
   "id": "6f548797-10c2-4f3d-b0d4-d8b16e6e9302",
   "metadata": {},
   "outputs": [
    {
     "data": {
      "text/plain": [
       "4.0"
      ]
     },
     "execution_count": 4,
     "metadata": {},
     "output_type": "execute_result"
    }
   ],
   "source": [
    "8 / 2"
   ]
  },
  {
   "cell_type": "code",
   "execution_count": 5,
   "id": "f0a08694-a2d6-4888-8bc3-72c3558f15ad",
   "metadata": {},
   "outputs": [
    {
     "data": {
      "text/plain": [
       "2"
      ]
     },
     "execution_count": 5,
     "metadata": {},
     "output_type": "execute_result"
    }
   ],
   "source": [
    "# Modulus: Lấy phần dư\n",
    "8 % 3"
   ]
  },
  {
   "cell_type": "code",
   "execution_count": 6,
   "id": "db075a25-4743-4e62-b605-084f5913cf09",
   "metadata": {},
   "outputs": [
    {
     "data": {
      "text/plain": [
       "1"
      ]
     },
     "execution_count": 6,
     "metadata": {},
     "output_type": "execute_result"
    }
   ],
   "source": [
    "# Floor division: lấy phần nguyên  8/5 = 1.6 ~ ceil: 2, floor --> 1\n",
    "8 // 5"
   ]
  },
  {
   "cell_type": "code",
   "execution_count": 7,
   "id": "f9800855-bcff-4975-bab7-20e6900ae8d3",
   "metadata": {},
   "outputs": [
    {
     "data": {
      "text/plain": [
       "16"
      ]
     },
     "execution_count": 7,
     "metadata": {},
     "output_type": "execute_result"
    }
   ],
   "source": [
    "4 ** 2"
   ]
  },
  {
   "cell_type": "code",
   "execution_count": 8,
   "id": "50d1153b-208d-4270-b217-945d1f246aa3",
   "metadata": {},
   "outputs": [
    {
     "data": {
      "text/plain": [
       "4"
      ]
     },
     "execution_count": 8,
     "metadata": {},
     "output_type": "execute_result"
    }
   ],
   "source": [
    "abs(-4)"
   ]
  },
  {
   "cell_type": "code",
   "execution_count": 9,
   "id": "95fc27f4-ac3c-4f18-99e3-e5f17a0fd824",
   "metadata": {},
   "outputs": [
    {
     "data": {
      "text/plain": [
       "4.0"
      ]
     },
     "execution_count": 9,
     "metadata": {},
     "output_type": "execute_result"
    }
   ],
   "source": [
    "16 ** (1/2)"
   ]
  },
  {
   "cell_type": "code",
   "execution_count": 10,
   "id": "ce06a097-51d3-45d9-b52f-b428d13473ac",
   "metadata": {},
   "outputs": [
    {
     "data": {
      "text/plain": [
       "4.24"
      ]
     },
     "execution_count": 10,
     "metadata": {},
     "output_type": "execute_result"
    }
   ],
   "source": [
    "round(1.2355 + 3, 2)"
   ]
  },
  {
   "cell_type": "code",
   "execution_count": 11,
   "id": "ae7a9bee-3a1b-46eb-b94f-f0ed3b6d81ff",
   "metadata": {},
   "outputs": [
    {
     "data": {
      "text/plain": [
       "7"
      ]
     },
     "execution_count": 11,
     "metadata": {},
     "output_type": "execute_result"
    }
   ],
   "source": [
    "1 + 2*3"
   ]
  },
  {
   "cell_type": "code",
   "execution_count": 12,
   "id": "6136be32-4033-45f9-9c03-14876b22b547",
   "metadata": {},
   "outputs": [],
   "source": [
    "import math"
   ]
  },
  {
   "cell_type": "code",
   "execution_count": 13,
   "id": "3f9177c9-2d22-4e71-9ff3-d92164429bf8",
   "metadata": {},
   "outputs": [
    {
     "data": {
      "text/plain": [
       "2.0"
      ]
     },
     "execution_count": 13,
     "metadata": {},
     "output_type": "execute_result"
    }
   ],
   "source": [
    "math.log10(100)"
   ]
  },
  {
   "cell_type": "markdown",
   "id": "99cbcc1e-95a4-42ed-a4f1-319a61fe63ca",
   "metadata": {},
   "source": [
    "#### 1.2. Logic Operations\n",
    "- AND: True if all true\n",
    "- OR: True if at least one true\n",
    "- NOT: True --> False, False --> True\n",
    "- XOR: Same values --> False, else --> True"
   ]
  },
  {
   "cell_type": "code",
   "execution_count": 14,
   "id": "0bd300f0-ba87-4005-85a2-d10edb6ed9ca",
   "metadata": {},
   "outputs": [
    {
     "data": {
      "text/plain": [
       "True"
      ]
     },
     "execution_count": 14,
     "metadata": {},
     "output_type": "execute_result"
    }
   ],
   "source": [
    "True and True"
   ]
  },
  {
   "cell_type": "code",
   "execution_count": 15,
   "id": "2ecfacba-8c7b-4c57-9a32-08ac255df640",
   "metadata": {},
   "outputs": [
    {
     "data": {
      "text/plain": [
       "False"
      ]
     },
     "execution_count": 15,
     "metadata": {},
     "output_type": "execute_result"
    }
   ],
   "source": [
    "True and False and True"
   ]
  },
  {
   "cell_type": "code",
   "execution_count": 16,
   "id": "618d3f51-f9f5-479d-a2c9-f10f3597cd12",
   "metadata": {},
   "outputs": [
    {
     "data": {
      "text/plain": [
       "True"
      ]
     },
     "execution_count": 16,
     "metadata": {},
     "output_type": "execute_result"
    }
   ],
   "source": [
    "True or False or False"
   ]
  },
  {
   "cell_type": "code",
   "execution_count": 17,
   "id": "b8e6ab8b-70eb-4a1e-9558-d684f95ba2de",
   "metadata": {},
   "outputs": [
    {
     "data": {
      "text/plain": [
       "False"
      ]
     },
     "execution_count": 17,
     "metadata": {},
     "output_type": "execute_result"
    }
   ],
   "source": [
    "False or False or False"
   ]
  },
  {
   "cell_type": "code",
   "execution_count": 18,
   "id": "b53ae1a9-e254-4e93-b83a-e8bc996bae44",
   "metadata": {},
   "outputs": [
    {
     "data": {
      "text/plain": [
       "True"
      ]
     },
     "execution_count": 18,
     "metadata": {},
     "output_type": "execute_result"
    }
   ],
   "source": [
    "not False"
   ]
  },
  {
   "cell_type": "code",
   "execution_count": 19,
   "id": "abfc1f5e-d9ce-4a79-9bbd-9909ae91092f",
   "metadata": {},
   "outputs": [
    {
     "data": {
      "text/plain": [
       "True"
      ]
     },
     "execution_count": 19,
     "metadata": {},
     "output_type": "execute_result"
    }
   ],
   "source": [
    "True and False or False or not False "
   ]
  },
  {
   "cell_type": "code",
   "execution_count": 20,
   "id": "d4517aea-6bf3-4c45-8146-1fc23ad64a2c",
   "metadata": {},
   "outputs": [
    {
     "data": {
      "text/plain": [
       "True"
      ]
     },
     "execution_count": 20,
     "metadata": {},
     "output_type": "execute_result"
    }
   ],
   "source": [
    "True & True # Binary operations"
   ]
  },
  {
   "cell_type": "code",
   "execution_count": 21,
   "id": "4f91f3f7-67cf-4630-b534-c69515a27f01",
   "metadata": {},
   "outputs": [
    {
     "data": {
      "text/plain": [
       "True"
      ]
     },
     "execution_count": 21,
     "metadata": {},
     "output_type": "execute_result"
    }
   ],
   "source": [
    "True | False"
   ]
  },
  {
   "cell_type": "markdown",
   "id": "8a475268-bf0c-4904-99d7-c934a5cd520d",
   "metadata": {},
   "source": [
    "#### 1.3. Conditional Operations\n",
    "```\n",
    ">\n",
    "<\n",
    "<=\n",
    ">=\n",
    "==\n",
    "!=\n",
    "```"
   ]
  },
  {
   "cell_type": "markdown",
   "id": "7f2b7948-5510-4f01-892a-b12c9579772e",
   "metadata": {},
   "source": [
    "```\n",
    "=: Asignment\n",
    "== : Comparision\n",
    "```"
   ]
  },
  {
   "cell_type": "code",
   "execution_count": 22,
   "id": "c138fa5b-4f31-4e68-88f6-0cc38ce05f28",
   "metadata": {},
   "outputs": [
    {
     "data": {
      "text/plain": [
       "True"
      ]
     },
     "execution_count": 22,
     "metadata": {},
     "output_type": "execute_result"
    }
   ],
   "source": [
    "4 > 2"
   ]
  },
  {
   "cell_type": "code",
   "execution_count": 23,
   "id": "f079514a-ae4c-4260-ac17-036a87972cbd",
   "metadata": {},
   "outputs": [
    {
     "data": {
      "text/plain": [
       "True"
      ]
     },
     "execution_count": 23,
     "metadata": {},
     "output_type": "execute_result"
    }
   ],
   "source": [
    "4 >= 4  # 4 > 4 or 4 == 4 "
   ]
  },
  {
   "cell_type": "code",
   "execution_count": 24,
   "id": "55139c56-2157-4ec6-8de0-097f39edc5d2",
   "metadata": {},
   "outputs": [
    {
     "data": {
      "text/plain": [
       "True"
      ]
     },
     "execution_count": 24,
     "metadata": {},
     "output_type": "execute_result"
    }
   ],
   "source": [
    "(4 > 4) or (4 == 4)"
   ]
  },
  {
   "cell_type": "code",
   "execution_count": 25,
   "id": "73844cdb-b84f-4c41-8b2b-2b61ee25388b",
   "metadata": {},
   "outputs": [
    {
     "data": {
      "text/plain": [
       "False"
      ]
     },
     "execution_count": 25,
     "metadata": {},
     "output_type": "execute_result"
    }
   ],
   "source": [
    "4 != 4"
   ]
  },
  {
   "cell_type": "code",
   "execution_count": 26,
   "id": "b9029631-396a-4632-889b-a59ddf72f19f",
   "metadata": {},
   "outputs": [
    {
     "data": {
      "text/plain": [
       "True"
      ]
     },
     "execution_count": 26,
     "metadata": {},
     "output_type": "execute_result"
    }
   ],
   "source": [
    "4 == 4"
   ]
  },
  {
   "cell_type": "code",
   "execution_count": 27,
   "id": "5c47ceb0-0cfc-4e8d-b888-a03b1a663791",
   "metadata": {},
   "outputs": [
    {
     "data": {
      "text/plain": [
       "False"
      ]
     },
     "execution_count": 27,
     "metadata": {},
     "output_type": "execute_result"
    }
   ],
   "source": [
    "4 == 3"
   ]
  },
  {
   "cell_type": "code",
   "execution_count": 28,
   "id": "af008333-1bcb-4fda-9fda-2d440e88dc9a",
   "metadata": {},
   "outputs": [
    {
     "data": {
      "text/plain": [
       "True"
      ]
     },
     "execution_count": 28,
     "metadata": {},
     "output_type": "execute_result"
    }
   ],
   "source": [
    "4 == 4 "
   ]
  },
  {
   "cell_type": "code",
   "execution_count": 29,
   "id": "b7920c33-4eef-4a9f-b454-9dcfac489a9f",
   "metadata": {},
   "outputs": [
    {
     "data": {
      "text/plain": [
       "True"
      ]
     },
     "execution_count": 29,
     "metadata": {},
     "output_type": "execute_result"
    }
   ],
   "source": [
    "4 is 4"
   ]
  },
  {
   "cell_type": "code",
   "execution_count": 30,
   "id": "50b78678-ff9f-4daf-8768-b41962322f2e",
   "metadata": {},
   "outputs": [],
   "source": [
    "a = 4\n",
    "b = 4"
   ]
  },
  {
   "cell_type": "code",
   "execution_count": 31,
   "id": "d28979ea-7e24-449e-8474-0ca6cfd13300",
   "metadata": {},
   "outputs": [
    {
     "data": {
      "text/plain": [
       "True"
      ]
     },
     "execution_count": 31,
     "metadata": {},
     "output_type": "execute_result"
    }
   ],
   "source": [
    "a == b"
   ]
  },
  {
   "cell_type": "code",
   "execution_count": 32,
   "id": "a62e0509-8b5e-4318-82fc-133b64ad3797",
   "metadata": {},
   "outputs": [
    {
     "data": {
      "text/plain": [
       "4387644112"
      ]
     },
     "execution_count": 32,
     "metadata": {},
     "output_type": "execute_result"
    }
   ],
   "source": [
    "id(a)"
   ]
  },
  {
   "cell_type": "code",
   "execution_count": 33,
   "id": "8cefbc9f-a3c5-4288-af78-2ee12a5e4285",
   "metadata": {},
   "outputs": [
    {
     "data": {
      "text/plain": [
       "4387644112"
      ]
     },
     "execution_count": 33,
     "metadata": {},
     "output_type": "execute_result"
    }
   ],
   "source": [
    "id(b)"
   ]
  },
  {
   "cell_type": "code",
   "execution_count": 34,
   "id": "6ff0d6dd-2b73-49f4-bb35-c664860d83cb",
   "metadata": {},
   "outputs": [
    {
     "data": {
      "text/plain": [
       "True"
      ]
     },
     "execution_count": 34,
     "metadata": {},
     "output_type": "execute_result"
    }
   ],
   "source": [
    "# == : values, is: address\n",
    "a is b"
   ]
  },
  {
   "cell_type": "code",
   "execution_count": 35,
   "id": "8afad451-cd81-4605-a313-630ffd39ea92",
   "metadata": {},
   "outputs": [],
   "source": [
    "a = 4"
   ]
  },
  {
   "cell_type": "code",
   "execution_count": 36,
   "id": "e8caf185-0d11-41df-be39-31a817927d4e",
   "metadata": {},
   "outputs": [
    {
     "data": {
      "text/plain": [
       "4387644112"
      ]
     },
     "execution_count": 36,
     "metadata": {},
     "output_type": "execute_result"
    }
   ],
   "source": [
    "id(a)"
   ]
  },
  {
   "cell_type": "code",
   "execution_count": 37,
   "id": "98bda86b-8e68-40b0-8b5f-d9933a1788e5",
   "metadata": {},
   "outputs": [
    {
     "data": {
      "text/plain": [
       "4387644112"
      ]
     },
     "execution_count": 37,
     "metadata": {},
     "output_type": "execute_result"
    }
   ],
   "source": [
    "c = 4\n",
    "id(4)"
   ]
  },
  {
   "cell_type": "code",
   "execution_count": 38,
   "id": "4ca6fcf6-e199-4910-873f-e3cdbd9b72b6",
   "metadata": {},
   "outputs": [
    {
     "data": {
      "text/plain": [
       "4387644144"
      ]
     },
     "execution_count": 38,
     "metadata": {},
     "output_type": "execute_result"
    }
   ],
   "source": [
    "a = 5\n",
    "id(a)"
   ]
  },
  {
   "cell_type": "code",
   "execution_count": 39,
   "id": "f184a3a9-3d46-4a09-b97e-693f778decae",
   "metadata": {},
   "outputs": [
    {
     "data": {
      "text/plain": [
       "140226661331248"
      ]
     },
     "execution_count": 39,
     "metadata": {},
     "output_type": "execute_result"
    }
   ],
   "source": [
    "b = 25 / 5\n",
    "id(b)"
   ]
  },
  {
   "cell_type": "code",
   "execution_count": 40,
   "id": "116c088b-9ae7-41ce-a48f-91554a4de0cb",
   "metadata": {},
   "outputs": [
    {
     "name": "stdout",
     "output_type": "stream",
     "text": [
      "4387644144\n",
      "140226661331248\n"
     ]
    }
   ],
   "source": [
    "print(id(a))\n",
    "print(id(b))"
   ]
  },
  {
   "cell_type": "code",
   "execution_count": 41,
   "id": "e9e15d58-0c3c-4d0c-bbd6-7838ba3bfd3e",
   "metadata": {},
   "outputs": [
    {
     "data": {
      "text/plain": [
       "True"
      ]
     },
     "execution_count": 41,
     "metadata": {},
     "output_type": "execute_result"
    }
   ],
   "source": [
    "a == b"
   ]
  },
  {
   "cell_type": "code",
   "execution_count": 42,
   "id": "4dd0d661-1bef-4caf-8f11-16db1a6de121",
   "metadata": {},
   "outputs": [
    {
     "data": {
      "text/plain": [
       "False"
      ]
     },
     "execution_count": 42,
     "metadata": {},
     "output_type": "execute_result"
    }
   ],
   "source": [
    "a is b"
   ]
  },
  {
   "cell_type": "markdown",
   "id": "d77e087d-f4e0-43a2-84f7-e5fdf09663e0",
   "metadata": {},
   "source": [
    "Object-oriented Programming: teacher\n",
    "- Attributes/ Properties: Thuộc tính --> Static: name, Identity, age,..\n",
    "- Methods/ Functions: Phương thức/ Hàm số --> Action, dynamic: teaching, speak,..."
   ]
  },
  {
   "cell_type": "markdown",
   "id": "26c25000-67eb-4b57-b690-a59da9c03cd7",
   "metadata": {},
   "source": [
    "### 2. Datatypes and data structures"
   ]
  },
  {
   "cell_type": "markdown",
   "id": "ed341528-a97f-4750-be52-bfa326e66110",
   "metadata": {},
   "source": [
    "Programming = data structures + algorithms\n",
    "- Data structures: What is it?\n",
    "- Algorithms: What should I do?"
   ]
  },
  {
   "cell_type": "markdown",
   "id": "3ca0fa7e-3666-480b-8364-3a70ea532137",
   "metadata": {},
   "source": [
    "#### 2.1. Datatypes"
   ]
  },
  {
   "cell_type": "markdown",
   "id": "d5c1ddb5-4c4f-4adc-9da1-5825b6f48aa2",
   "metadata": {},
   "source": [
    "- Nummerics: integer, float\n",
    "- String: text, char\n",
    "- Boolean: True/ False\n",
    "- Datetime\n",
    "- Complex: 1 + 2j\n",
    "- Nonetype"
   ]
  },
  {
   "cell_type": "code",
   "execution_count": 43,
   "id": "9209129d-5d96-4828-8e75-8e63372aa174",
   "metadata": {},
   "outputs": [
    {
     "data": {
      "text/plain": [
       "int"
      ]
     },
     "execution_count": 43,
     "metadata": {},
     "output_type": "execute_result"
    }
   ],
   "source": [
    "type(1)"
   ]
  },
  {
   "cell_type": "code",
   "execution_count": 44,
   "id": "ebd5a33b-b0c3-405d-b104-70956becf1a1",
   "metadata": {},
   "outputs": [
    {
     "data": {
      "text/plain": [
       "float"
      ]
     },
     "execution_count": 44,
     "metadata": {},
     "output_type": "execute_result"
    }
   ],
   "source": [
    "type(1.0)"
   ]
  },
  {
   "cell_type": "code",
   "execution_count": 45,
   "id": "42387528-b1a6-4a73-8b60-4405fec11f5d",
   "metadata": {},
   "outputs": [
    {
     "data": {
      "text/plain": [
       "str"
      ]
     },
     "execution_count": 45,
     "metadata": {},
     "output_type": "execute_result"
    }
   ],
   "source": [
    "# No diff between '', \"\"\n",
    "type('')"
   ]
  },
  {
   "cell_type": "code",
   "execution_count": 46,
   "id": "abd16a34-3a61-4bb1-967f-9be04968036a",
   "metadata": {},
   "outputs": [
    {
     "data": {
      "text/plain": [
       "str"
      ]
     },
     "execution_count": 46,
     "metadata": {},
     "output_type": "execute_result"
    }
   ],
   "source": [
    "type('truong')"
   ]
  },
  {
   "cell_type": "code",
   "execution_count": 47,
   "id": "9bb45c8b-36c5-428e-b964-42827ef13614",
   "metadata": {},
   "outputs": [
    {
     "data": {
      "text/plain": [
       "str"
      ]
     },
     "execution_count": 47,
     "metadata": {},
     "output_type": "execute_result"
    }
   ],
   "source": [
    "type('t')"
   ]
  },
  {
   "cell_type": "code",
   "execution_count": 48,
   "id": "a7c748ff-cd28-4e65-89d4-25ad7129f1dd",
   "metadata": {},
   "outputs": [
    {
     "data": {
      "text/plain": [
       "bool"
      ]
     },
     "execution_count": 48,
     "metadata": {},
     "output_type": "execute_result"
    }
   ],
   "source": [
    "type(True)"
   ]
  },
  {
   "cell_type": "code",
   "execution_count": 49,
   "id": "65e31dba-afe1-4aea-bb02-55287f5fef0a",
   "metadata": {},
   "outputs": [
    {
     "data": {
      "text/plain": [
       "bool"
      ]
     },
     "execution_count": 49,
     "metadata": {},
     "output_type": "execute_result"
    }
   ],
   "source": [
    "type(False)"
   ]
  },
  {
   "cell_type": "code",
   "execution_count": 50,
   "id": "c7d9c994-783b-4b9e-960b-8d011b1f8eea",
   "metadata": {},
   "outputs": [
    {
     "name": "stdout",
     "output_type": "stream",
     "text": [
      "Hello World!\n",
      "Hello World!\n"
     ]
    }
   ],
   "source": [
    "print('Hello World!')\n",
    "print(\"Hello World!\")"
   ]
  },
  {
   "cell_type": "markdown",
   "id": "a635ef22-653c-43b7-b92b-52696b99b055",
   "metadata": {},
   "source": [
    "hello worl --> translator (compiler) --> 101001010101"
   ]
  },
  {
   "cell_type": "code",
   "execution_count": 51,
   "id": "daeb7f51-b162-4f0c-8a11-173dc6442999",
   "metadata": {},
   "outputs": [
    {
     "name": "stdout",
     "output_type": "stream",
     "text": [
      "Hello world\n"
     ]
    }
   ],
   "source": [
    "print('Hello world')"
   ]
  },
  {
   "cell_type": "code",
   "execution_count": 52,
   "id": "c984242e-3c8e-45a5-b2c9-01866f30772f",
   "metadata": {},
   "outputs": [
    {
     "name": "stdout",
     "output_type": "stream",
     "text": [
      "Hello world\n"
     ]
    }
   ],
   "source": [
    "# Programming language\n",
    "print('Hello world')"
   ]
  },
  {
   "cell_type": "code",
   "execution_count": 53,
   "id": "d47d63d0-1f6b-404c-87ab-a10e6629655c",
   "metadata": {},
   "outputs": [
    {
     "data": {
      "text/plain": [
       "NoneType"
      ]
     },
     "execution_count": 53,
     "metadata": {},
     "output_type": "execute_result"
    }
   ],
   "source": [
    "# Null differ empty\n",
    "type(None)"
   ]
  },
  {
   "cell_type": "code",
   "execution_count": 54,
   "id": "a3456d99-171a-4ea1-884a-4474ae552c24",
   "metadata": {},
   "outputs": [
    {
     "data": {
      "text/plain": [
       "complex"
      ]
     },
     "execution_count": 54,
     "metadata": {},
     "output_type": "execute_result"
    }
   ],
   "source": [
    "# real + imaginary\n",
    "type(2 + 3j)"
   ]
  },
  {
   "cell_type": "code",
   "execution_count": 55,
   "id": "f0daf741-a884-4c25-a31d-e87b3cb2ed19",
   "metadata": {},
   "outputs": [
    {
     "data": {
      "text/plain": [
       "(-1+0j)"
      ]
     },
     "execution_count": 55,
     "metadata": {},
     "output_type": "execute_result"
    }
   ],
   "source": [
    "(1j)**2"
   ]
  },
  {
   "cell_type": "code",
   "execution_count": 56,
   "id": "39db0a62-701c-4f65-a5bd-797f4337f393",
   "metadata": {},
   "outputs": [],
   "source": [
    "from datetime import datetime"
   ]
  },
  {
   "cell_type": "code",
   "execution_count": 57,
   "id": "a77a422d-d370-49d4-bde7-1f9b1bb729b0",
   "metadata": {},
   "outputs": [
    {
     "data": {
      "text/plain": [
       "datetime.datetime"
      ]
     },
     "execution_count": 57,
     "metadata": {},
     "output_type": "execute_result"
    }
   ],
   "source": [
    "type(datetime.now())"
   ]
  },
  {
   "cell_type": "code",
   "execution_count": 58,
   "id": "140bbb89-5d17-4c65-8d18-59954f26c3d5",
   "metadata": {},
   "outputs": [
    {
     "data": {
      "text/plain": [
       "2021"
      ]
     },
     "execution_count": 58,
     "metadata": {},
     "output_type": "execute_result"
    }
   ],
   "source": [
    "datetime.now().year"
   ]
  },
  {
   "cell_type": "code",
   "execution_count": 59,
   "id": "841f6ef5-fc52-4fe7-8aa0-23d8894fb106",
   "metadata": {},
   "outputs": [
    {
     "data": {
      "text/plain": [
       "5"
      ]
     },
     "execution_count": 59,
     "metadata": {},
     "output_type": "execute_result"
    }
   ],
   "source": [
    "datetime.now().month"
   ]
  },
  {
   "cell_type": "code",
   "execution_count": 60,
   "id": "d2c8fdb0-1213-4d82-bc22-c91b4fbb9dbd",
   "metadata": {},
   "outputs": [
    {
     "data": {
      "text/plain": [
       "'2021-05-16 14:09:1621148968'"
      ]
     },
     "execution_count": 60,
     "metadata": {},
     "output_type": "execute_result"
    }
   ],
   "source": [
    "datetime.strftime(datetime.now(), '%Y-%m-%d %H:%M:%s')"
   ]
  },
  {
   "cell_type": "code",
   "execution_count": 61,
   "id": "bd82e569-163f-4ab8-99ba-b95a882341a0",
   "metadata": {},
   "outputs": [
    {
     "data": {
      "text/plain": [
       "str"
      ]
     },
     "execution_count": 61,
     "metadata": {},
     "output_type": "execute_result"
    }
   ],
   "source": [
    "type(\"2021-05-09 15:44:16\")"
   ]
  },
  {
   "cell_type": "code",
   "execution_count": 62,
   "id": "fe65b9fb-9689-4fba-b790-a5b6b7c0d151",
   "metadata": {},
   "outputs": [],
   "source": [
    "import datetime"
   ]
  },
  {
   "cell_type": "code",
   "execution_count": 63,
   "id": "ffd7762e-d188-47d1-85f6-ece576ee92ad",
   "metadata": {},
   "outputs": [
    {
     "data": {
      "text/plain": [
       "datetime.datetime(2021, 5, 16, 14, 9, 28, 753994)"
      ]
     },
     "execution_count": 63,
     "metadata": {},
     "output_type": "execute_result"
    }
   ],
   "source": [
    "datetime.datetime.now()"
   ]
  },
  {
   "cell_type": "code",
   "execution_count": 64,
   "id": "34bcedd8-6120-4962-a241-6dbaac61a3dd",
   "metadata": {},
   "outputs": [],
   "source": [
    "from dateutil import relativedelta"
   ]
  },
  {
   "cell_type": "code",
   "execution_count": 65,
   "id": "45367fe9-aede-416c-95d6-fd54738644b3",
   "metadata": {},
   "outputs": [
    {
     "data": {
      "text/plain": [
       "datetime.timedelta(0)"
      ]
     },
     "execution_count": 65,
     "metadata": {},
     "output_type": "execute_result"
    }
   ],
   "source": [
    "datetime.timedelta()"
   ]
  },
  {
   "cell_type": "code",
   "execution_count": 66,
   "id": "1fbb6c3e-a366-4b6b-b0c1-d8cc09cc382c",
   "metadata": {},
   "outputs": [
    {
     "data": {
      "text/plain": [
       "datetime.datetime(2021, 5, 16, 14, 9, 28, 779955)"
      ]
     },
     "execution_count": 66,
     "metadata": {},
     "output_type": "execute_result"
    }
   ],
   "source": [
    "start = datetime.datetime.now()\n",
    "start"
   ]
  },
  {
   "cell_type": "code",
   "execution_count": 67,
   "id": "60e6b280-3b8c-4cae-8c1e-b5e2944a4877",
   "metadata": {},
   "outputs": [],
   "source": [
    "previous = start - datetime.timedelta(days=30)"
   ]
  },
  {
   "cell_type": "code",
   "execution_count": 68,
   "id": "82fab2f4-8c00-458b-b12c-ab0fcd1d72e7",
   "metadata": {},
   "outputs": [
    {
     "data": {
      "text/plain": [
       "4"
      ]
     },
     "execution_count": 68,
     "metadata": {},
     "output_type": "execute_result"
    }
   ],
   "source": [
    "previous.weekday()"
   ]
  },
  {
   "cell_type": "markdown",
   "id": "7b87362f-6165-424c-8d24-3ca630bf5aff",
   "metadata": {},
   "source": [
    "#### 2.2. Data structures"
   ]
  },
  {
   "cell_type": "markdown",
   "id": "fdc4a11d-3885-49f1-96f1-018942c29049",
   "metadata": {},
   "source": [
    "- List: [], list(), index\n",
    "- Tuple: (), tuple(), index\n",
    "- Set: {}, set(), non-index, no-duplicated values\n",
    "- Dictionary: {key: value}, no-duplicated keys"
   ]
  },
  {
   "cell_type": "markdown",
   "id": "327377e0-a930-4c82-b7f7-4148dcc1b878",
   "metadata": {},
   "source": [
    "##### 2.2.1. List\n",
    "- Mix data types\n",
    "- Index --> ordered"
   ]
  },
  {
   "cell_type": "markdown",
   "id": "ea7e0207-a8ec-4776-b561-4567d65f8566",
   "metadata": {},
   "source": [
    "**Variable**\n",
    "- A name contains values and assigned memory adress\n",
    "- reusable\n",
    "- No capital --> lower case\n",
    "- Meaning\n",
    "- Meaning words: '_'"
   ]
  },
  {
   "cell_type": "code",
   "execution_count": 69,
   "id": "8c09b4fa-1803-4b7a-b47b-cad6665100d1",
   "metadata": {},
   "outputs": [],
   "source": [
    "li = [1, 2, 3, 4, 'Truong', 'Nam', True, 1 + 2j]"
   ]
  },
  {
   "cell_type": "code",
   "execution_count": 70,
   "id": "72d35a22-287a-4eae-8de4-18e8b33e64c6",
   "metadata": {},
   "outputs": [
    {
     "data": {
      "text/plain": [
       "[1, 2, 3, 4, 'Truong', 'Nam', True, (1+2j)]"
      ]
     },
     "execution_count": 70,
     "metadata": {},
     "output_type": "execute_result"
    }
   ],
   "source": [
    "li"
   ]
  },
  {
   "cell_type": "code",
   "execution_count": 71,
   "id": "af8864e6-ff98-47f5-9ebf-e9e69fa3fe8c",
   "metadata": {},
   "outputs": [
    {
     "data": {
      "text/plain": [
       "140226661228784"
      ]
     },
     "execution_count": 71,
     "metadata": {},
     "output_type": "execute_result"
    }
   ],
   "source": [
    "id(li)"
   ]
  },
  {
   "cell_type": "code",
   "execution_count": 72,
   "id": "246a3a27-4508-42c7-88a9-f6e47ea8302d",
   "metadata": {},
   "outputs": [
    {
     "data": {
      "text/plain": [
       "1"
      ]
     },
     "execution_count": 72,
     "metadata": {},
     "output_type": "execute_result"
    }
   ],
   "source": [
    "li[0]"
   ]
  },
  {
   "cell_type": "code",
   "execution_count": 73,
   "id": "43d6255d-80f5-44e4-acb5-5dd8bf8eb196",
   "metadata": {},
   "outputs": [
    {
     "data": {
      "text/plain": [
       "'Nam'"
      ]
     },
     "execution_count": 73,
     "metadata": {},
     "output_type": "execute_result"
    }
   ],
   "source": [
    "li[5]"
   ]
  },
  {
   "cell_type": "code",
   "execution_count": 74,
   "id": "e46c07fa-db04-4bf9-bf4d-73d9b2d34920",
   "metadata": {},
   "outputs": [
    {
     "data": {
      "text/plain": [
       "(1+2j)"
      ]
     },
     "execution_count": 74,
     "metadata": {},
     "output_type": "execute_result"
    }
   ],
   "source": [
    "li[-1]"
   ]
  },
  {
   "cell_type": "code",
   "execution_count": 75,
   "id": "30ad59b0-6f9c-4ea1-a126-133031eb6c72",
   "metadata": {},
   "outputs": [
    {
     "data": {
      "text/plain": [
       "True"
      ]
     },
     "execution_count": 75,
     "metadata": {},
     "output_type": "execute_result"
    }
   ],
   "source": [
    "li[-2]"
   ]
  },
  {
   "cell_type": "code",
   "execution_count": 76,
   "id": "b84a7d01-4c32-42e1-a129-7a2ff6efa685",
   "metadata": {},
   "outputs": [
    {
     "data": {
      "text/plain": [
       "[2, 3, 4]"
      ]
     },
     "execution_count": 76,
     "metadata": {},
     "output_type": "execute_result"
    }
   ],
   "source": [
    "li[1: 4]  # start: inclusive, end: exclusive"
   ]
  },
  {
   "cell_type": "code",
   "execution_count": 77,
   "id": "f2494233-4e46-4521-b1a5-3fe059787b4e",
   "metadata": {},
   "outputs": [
    {
     "data": {
      "text/plain": [
       "[1, 2, 3, 4, 'Truong', 'Nam', True, (1+2j)]"
      ]
     },
     "execution_count": 77,
     "metadata": {},
     "output_type": "execute_result"
    }
   ],
   "source": [
    "li"
   ]
  },
  {
   "cell_type": "code",
   "execution_count": 78,
   "id": "c1c26b45-8426-4dd5-a1c8-d0c73de50415",
   "metadata": {},
   "outputs": [
    {
     "data": {
      "text/plain": [
       "[1, 2, 3, 4, 'Ly', 'Nam', True, (1+2j)]"
      ]
     },
     "execution_count": 78,
     "metadata": {},
     "output_type": "execute_result"
    }
   ],
   "source": [
    "li[4] = 'Ly'\n",
    "li"
   ]
  },
  {
   "cell_type": "code",
   "execution_count": 79,
   "id": "f56d95b8-da22-45d2-b98e-673e1cc29636",
   "metadata": {},
   "outputs": [
    {
     "data": {
      "text/plain": [
       "[1, 5, 6, 7, 'Ly', 'Nam', True, (1+2j)]"
      ]
     },
     "execution_count": 79,
     "metadata": {},
     "output_type": "execute_result"
    }
   ],
   "source": [
    "li[1: 4] = [5, 6, 7]\n",
    "li"
   ]
  },
  {
   "cell_type": "code",
   "execution_count": 80,
   "id": "87229b51-9826-474d-b568-442bfa974f3a",
   "metadata": {},
   "outputs": [
    {
     "data": {
      "text/plain": [
       "[1, 5, 6, 7, 'Ly', 'Nam', (1+2j)]"
      ]
     },
     "execution_count": 80,
     "metadata": {},
     "output_type": "execute_result"
    }
   ],
   "source": [
    "del li[-2]\n",
    "li"
   ]
  },
  {
   "cell_type": "code",
   "execution_count": 81,
   "id": "b47892ff-c374-4c07-805a-8c4e4abff2df",
   "metadata": {},
   "outputs": [
    {
     "data": {
      "text/plain": [
       "[1, 6, 'Ly', (1+2j)]"
      ]
     },
     "execution_count": 81,
     "metadata": {},
     "output_type": "execute_result"
    }
   ],
   "source": [
    "li[::2]"
   ]
  },
  {
   "cell_type": "code",
   "execution_count": 82,
   "id": "490076b7-ff22-4718-9eb4-50433551cda3",
   "metadata": {},
   "outputs": [
    {
     "data": {
      "text/plain": [
       "[(1+2j), 'Nam', 'Ly', 7, 6, 5, 1]"
      ]
     },
     "execution_count": 82,
     "metadata": {},
     "output_type": "execute_result"
    }
   ],
   "source": [
    "li[::-1]"
   ]
  },
  {
   "cell_type": "code",
   "execution_count": 83,
   "id": "7eda9dde-a5a7-45e8-81f4-b3516fa29925",
   "metadata": {},
   "outputs": [
    {
     "data": {
      "text/plain": [
       "['append',\n",
       " 'clear',\n",
       " 'copy',\n",
       " 'count',\n",
       " 'extend',\n",
       " 'index',\n",
       " 'insert',\n",
       " 'pop',\n",
       " 'remove',\n",
       " 'reverse',\n",
       " 'sort']"
      ]
     },
     "execution_count": 83,
     "metadata": {},
     "output_type": "execute_result"
    }
   ],
   "source": [
    "[method for method in dir(li) if not method.startswith('_')]"
   ]
  },
  {
   "cell_type": "code",
   "execution_count": 84,
   "id": "43eff6eb-226c-457e-addc-837de4b00530",
   "metadata": {},
   "outputs": [
    {
     "data": {
      "text/plain": [
       "[1, 5, 6, 7, 'Ly', 'Nam', (1+2j)]"
      ]
     },
     "execution_count": 84,
     "metadata": {},
     "output_type": "execute_result"
    }
   ],
   "source": [
    "li"
   ]
  },
  {
   "cell_type": "code",
   "execution_count": 85,
   "id": "87ec2896-d06b-4d14-b337-a1a3de346505",
   "metadata": {},
   "outputs": [],
   "source": [
    "li.append(['Toi', 'di', 'hoc'])"
   ]
  },
  {
   "cell_type": "code",
   "execution_count": 86,
   "id": "952977b2-5731-4538-b0d2-3226b735b6c4",
   "metadata": {},
   "outputs": [
    {
     "data": {
      "text/plain": [
       "[1, 5, 6, 7, 'Ly', 'Nam', (1+2j), ['Toi', 'di', 'hoc']]"
      ]
     },
     "execution_count": 86,
     "metadata": {},
     "output_type": "execute_result"
    }
   ],
   "source": [
    "li"
   ]
  },
  {
   "cell_type": "markdown",
   "id": "39c51443-0b89-4128-9dfe-0d032d39ce78",
   "metadata": {},
   "source": [
    "Functions:\n",
    "- Edit at original address\n",
    "- Return new object and not edit at orginal address"
   ]
  },
  {
   "cell_type": "code",
   "execution_count": 87,
   "id": "97df093c-c6d3-4091-ace8-ee2eb15be629",
   "metadata": {},
   "outputs": [],
   "source": [
    "li_2 = li.append(5)"
   ]
  },
  {
   "cell_type": "code",
   "execution_count": 88,
   "id": "56501658-4f3c-4a9f-844c-4a0fa8cbd570",
   "metadata": {},
   "outputs": [],
   "source": [
    "li_2"
   ]
  },
  {
   "cell_type": "code",
   "execution_count": 89,
   "id": "093838a7-50c3-46a3-964f-27a308d02963",
   "metadata": {},
   "outputs": [],
   "source": [
    "a = li.count(5)"
   ]
  },
  {
   "cell_type": "code",
   "execution_count": 90,
   "id": "da89a4bd-4dfb-4097-ab6e-56cb437fb47d",
   "metadata": {},
   "outputs": [
    {
     "data": {
      "text/plain": [
       "[1, 5, 6, 7, 'Ly', 'Nam', (1+2j), ['Toi', 'di', 'hoc'], 5]"
      ]
     },
     "execution_count": 90,
     "metadata": {},
     "output_type": "execute_result"
    }
   ],
   "source": [
    "li"
   ]
  },
  {
   "cell_type": "code",
   "execution_count": 91,
   "id": "fbd00ba0-f245-4e8c-bc93-42c10ef59455",
   "metadata": {},
   "outputs": [
    {
     "data": {
      "text/plain": [
       "1"
      ]
     },
     "execution_count": 91,
     "metadata": {},
     "output_type": "execute_result"
    }
   ],
   "source": [
    "li_3 = li[-2]\n",
    "li_3.count('Toi')"
   ]
  },
  {
   "cell_type": "code",
   "execution_count": 92,
   "id": "b0bd855a-43c4-4fb0-807f-efb510961726",
   "metadata": {},
   "outputs": [
    {
     "data": {
      "text/plain": [
       "[1, 5, 6, 7, 'Ly', 'Nam', (1+2j), ['Toi', 'di', 'hoc'], 5]"
      ]
     },
     "execution_count": 92,
     "metadata": {},
     "output_type": "execute_result"
    }
   ],
   "source": [
    "li"
   ]
  },
  {
   "cell_type": "code",
   "execution_count": 93,
   "id": "60f2812b-c0bf-4b8b-8b90-643085324b04",
   "metadata": {},
   "outputs": [
    {
     "data": {
      "text/plain": [
       "['Toi', 'di', 'hoc']"
      ]
     },
     "execution_count": 93,
     "metadata": {},
     "output_type": "execute_result"
    }
   ],
   "source": [
    "li[-2]"
   ]
  },
  {
   "cell_type": "code",
   "execution_count": 94,
   "id": "98fe76b7-a74c-4e60-955a-48186b3e6fd7",
   "metadata": {},
   "outputs": [],
   "source": [
    "%config Completer.use_jedi = False  #auto complete"
   ]
  },
  {
   "cell_type": "code",
   "execution_count": 95,
   "id": "5782a39a-177c-45d2-9eaf-85735de62cef",
   "metadata": {},
   "outputs": [
    {
     "data": {
      "text/plain": [
       "['append',\n",
       " 'clear',\n",
       " 'copy',\n",
       " 'count',\n",
       " 'extend',\n",
       " 'index',\n",
       " 'insert',\n",
       " 'pop',\n",
       " 'remove',\n",
       " 'reverse',\n",
       " 'sort']"
      ]
     },
     "execution_count": 95,
     "metadata": {},
     "output_type": "execute_result"
    }
   ],
   "source": [
    "[method for method in dir(li) if not method.startswith('_')]"
   ]
  },
  {
   "cell_type": "code",
   "execution_count": 96,
   "id": "f62230bb-f162-42f1-877b-fe492715e497",
   "metadata": {},
   "outputs": [],
   "source": [
    "li.append(True)"
   ]
  },
  {
   "cell_type": "code",
   "execution_count": 97,
   "id": "fc02e9ef-d6b1-4e70-868f-63b700e1d076",
   "metadata": {},
   "outputs": [
    {
     "data": {
      "text/plain": [
       "[1, 5, 6, 7, 'Ly', 'Nam', (1+2j), ['Toi', 'di', 'hoc'], 5, True]"
      ]
     },
     "execution_count": 97,
     "metadata": {},
     "output_type": "execute_result"
    }
   ],
   "source": [
    "li"
   ]
  },
  {
   "cell_type": "code",
   "execution_count": 98,
   "id": "b6dc0876-0236-4be4-b0bf-25f8ad8d33ec",
   "metadata": {},
   "outputs": [],
   "source": [
    "li.clear()"
   ]
  },
  {
   "cell_type": "code",
   "execution_count": 99,
   "id": "c67869df-90dd-4336-97ac-c43899206dd4",
   "metadata": {},
   "outputs": [
    {
     "data": {
      "text/plain": [
       "[]"
      ]
     },
     "execution_count": 99,
     "metadata": {},
     "output_type": "execute_result"
    }
   ],
   "source": [
    "li"
   ]
  },
  {
   "cell_type": "code",
   "execution_count": 100,
   "id": "af9b8d61-210c-41e9-886c-b82422d18db1",
   "metadata": {},
   "outputs": [],
   "source": [
    "%config Completer.use_jedi = False"
   ]
  },
  {
   "cell_type": "code",
   "execution_count": 101,
   "id": "4883316f-cb1d-458f-9fe3-7726e8c1f55f",
   "metadata": {},
   "outputs": [
    {
     "data": {
      "text/plain": [
       "0"
      ]
     },
     "execution_count": 101,
     "metadata": {},
     "output_type": "execute_result"
    }
   ],
   "source": [
    "li.count(5)"
   ]
  },
  {
   "cell_type": "code",
   "execution_count": 102,
   "id": "db464634-a9ed-433b-a67f-15b5ebd4b96d",
   "metadata": {},
   "outputs": [
    {
     "data": {
      "text/plain": [
       "[1]"
      ]
     },
     "execution_count": 102,
     "metadata": {},
     "output_type": "execute_result"
    }
   ],
   "source": [
    "li.append(1)\n",
    "li"
   ]
  },
  {
   "cell_type": "code",
   "execution_count": 103,
   "id": "f5cd53ff-feab-4e22-bc33-c728fd62e182",
   "metadata": {
    "tags": []
   },
   "outputs": [
    {
     "ename": "TypeError",
     "evalue": "'int' object is not iterable",
     "output_type": "error",
     "traceback": [
      "\u001b[0;31m---------------------------------------------------------------------------\u001b[0m",
      "\u001b[0;31mTypeError\u001b[0m                                 Traceback (most recent call last)",
      "\u001b[0;32m<ipython-input-103-4254ab0fd531>\u001b[0m in \u001b[0;36m<module>\u001b[0;34m\u001b[0m\n\u001b[0;32m----> 1\u001b[0;31m \u001b[0mli\u001b[0m\u001b[0;34m.\u001b[0m\u001b[0mextend\u001b[0m\u001b[0;34m(\u001b[0m\u001b[0;36m2\u001b[0m\u001b[0;34m)\u001b[0m\u001b[0;34m\u001b[0m\u001b[0;34m\u001b[0m\u001b[0m\n\u001b[0m\u001b[1;32m      2\u001b[0m \u001b[0mli\u001b[0m\u001b[0;34m\u001b[0m\u001b[0;34m\u001b[0m\u001b[0m\n",
      "\u001b[0;31mTypeError\u001b[0m: 'int' object is not iterable"
     ]
    }
   ],
   "source": [
    "li.extend(2)\n",
    "li"
   ]
  },
  {
   "cell_type": "code",
   "execution_count": 104,
   "id": "5c7f5124-8b08-47d8-bc13-e9750245eb22",
   "metadata": {},
   "outputs": [
    {
     "data": {
      "text/plain": [
       "[1, 't', 'r', 'u', 'o', 'n', 'g']"
      ]
     },
     "execution_count": 104,
     "metadata": {},
     "output_type": "execute_result"
    }
   ],
   "source": [
    "li.extend('truong')\n",
    "li"
   ]
  },
  {
   "cell_type": "code",
   "execution_count": 105,
   "id": "d812dcfa-965b-4f2e-86b5-bb0b227925ed",
   "metadata": {},
   "outputs": [
    {
     "data": {
      "text/plain": [
       "[1, 't', 'r', 'u', 'o', 'n', 'g', [1, 2, 3, 4]]"
      ]
     },
     "execution_count": 105,
     "metadata": {},
     "output_type": "execute_result"
    }
   ],
   "source": [
    "li.append([1, 2, 3, 4])\n",
    "li"
   ]
  },
  {
   "cell_type": "code",
   "execution_count": 106,
   "id": "21ab9624-0faa-4607-bf8d-30d6ef5c62e0",
   "metadata": {},
   "outputs": [
    {
     "data": {
      "text/plain": [
       "[1, 't', 'r', 'u', 'o', 'n', 'g', [1, 2, 3, 4], 5, 6, 7, 7]"
      ]
     },
     "execution_count": 106,
     "metadata": {},
     "output_type": "execute_result"
    }
   ],
   "source": [
    "li.extend([5, 6, 7, 7])\n",
    "li"
   ]
  },
  {
   "cell_type": "code",
   "execution_count": 107,
   "id": "e4a855ff-abab-4bab-9dc8-21b0096bcc95",
   "metadata": {},
   "outputs": [
    {
     "data": {
      "text/plain": [
       "[1, 2, 3, 4, 4, 5, 6, 7]"
      ]
     },
     "execution_count": 107,
     "metadata": {},
     "output_type": "execute_result"
    }
   ],
   "source": [
    "[1, 2, 3, 4] + [4, 5, 6, 7]"
   ]
  },
  {
   "cell_type": "code",
   "execution_count": 108,
   "id": "94f5b18b-7617-4f69-973a-6b1b772d45a3",
   "metadata": {},
   "outputs": [
    {
     "data": {
      "text/plain": [
       "[1, 't', 'r', 'u', 'o', 'n', 'g', [1, 2, 3, 4], 5, 6, 7, 7]"
      ]
     },
     "execution_count": 108,
     "metadata": {},
     "output_type": "execute_result"
    }
   ],
   "source": [
    "li"
   ]
  },
  {
   "cell_type": "markdown",
   "id": "729d0704-d2b0-475f-95c6-e75f8792388a",
   "metadata": {},
   "source": [
    "**Iterable**: co kha nang lap duoc\n",
    "- Các cấu trúc dữ liệu có thể chứa nhiều hơn 1 phần tử\n",
    "- List, set, dict, tuple, string"
   ]
  },
  {
   "cell_type": "code",
   "execution_count": 109,
   "id": "c970bdd2-27d0-4ffa-83db-a044a4158be6",
   "metadata": {},
   "outputs": [
    {
     "data": {
      "text/plain": [
       "[1, 't', 'r', 'u', 'o', 'n', 'g', [1, 2, 3, 4], 5, 6, 7, 7]"
      ]
     },
     "execution_count": 109,
     "metadata": {},
     "output_type": "execute_result"
    }
   ],
   "source": [
    "li.extend([])\n",
    "li"
   ]
  },
  {
   "cell_type": "code",
   "execution_count": 110,
   "id": "931bf77e-aeb8-4d30-b47c-86b351806769",
   "metadata": {},
   "outputs": [
    {
     "data": {
      "text/plain": [
       "[]"
      ]
     },
     "execution_count": 110,
     "metadata": {},
     "output_type": "execute_result"
    }
   ],
   "source": [
    "[] # Iterable"
   ]
  },
  {
   "cell_type": "markdown",
   "id": "b2839873-ee61-4e27-b2c9-b9cc9033c74e",
   "metadata": {},
   "source": [
    "li.append"
   ]
  },
  {
   "cell_type": "code",
   "execution_count": 111,
   "id": "1022b906-6e92-42a4-8004-6f1e426a2639",
   "metadata": {},
   "outputs": [],
   "source": [
    "# extend vs append\n",
    "# pop vs remove"
   ]
  },
  {
   "cell_type": "code",
   "execution_count": 112,
   "id": "defc5131-79e8-4289-8080-2e43f8e5b9fd",
   "metadata": {},
   "outputs": [
    {
     "data": {
      "text/plain": [
       "[1, 't', 'r', 'u', 'o', 'n', 'g', [1, 2, 3, 4], 5, 6, 7, 7]"
      ]
     },
     "execution_count": 112,
     "metadata": {},
     "output_type": "execute_result"
    }
   ],
   "source": [
    "li"
   ]
  },
  {
   "cell_type": "code",
   "execution_count": 113,
   "id": "df3a1fbf-8988-40a6-8872-38e4632e44e4",
   "metadata": {},
   "outputs": [
    {
     "ename": "TypeError",
     "evalue": "remove() takes exactly one argument (0 given)",
     "output_type": "error",
     "traceback": [
      "\u001b[0;31m---------------------------------------------------------------------------\u001b[0m",
      "\u001b[0;31mTypeError\u001b[0m                                 Traceback (most recent call last)",
      "\u001b[0;32m<ipython-input-113-68d29377d549>\u001b[0m in \u001b[0;36m<module>\u001b[0;34m\u001b[0m\n\u001b[1;32m      1\u001b[0m \u001b[0mli\u001b[0m\u001b[0;34m.\u001b[0m\u001b[0mpop\u001b[0m\u001b[0;34m(\u001b[0m\u001b[0;34m)\u001b[0m  \u001b[0;31m# nhanh hon\u001b[0m\u001b[0;34m\u001b[0m\u001b[0;34m\u001b[0m\u001b[0m\n\u001b[0;32m----> 2\u001b[0;31m \u001b[0mli\u001b[0m\u001b[0;34m.\u001b[0m\u001b[0mremove\u001b[0m\u001b[0;34m(\u001b[0m\u001b[0;34m)\u001b[0m\u001b[0;34m\u001b[0m\u001b[0;34m\u001b[0m\u001b[0m\n\u001b[0m",
      "\u001b[0;31mTypeError\u001b[0m: remove() takes exactly one argument (0 given)"
     ]
    }
   ],
   "source": [
    "li.pop()  # nhanh hon\n",
    "li.remove()"
   ]
  },
  {
   "cell_type": "code",
   "execution_count": null,
   "id": "7c42c100-7890-4495-871c-4c4e101bd7ae",
   "metadata": {},
   "outputs": [],
   "source": [
    "removed = li.pop(3)\n",
    "removed"
   ]
  },
  {
   "cell_type": "code",
   "execution_count": null,
   "id": "177ea335-6df7-4b56-8b3b-278b7ae1f248",
   "metadata": {},
   "outputs": [],
   "source": [
    "removed_2 = li.remove('r')\n",
    "removed_2"
   ]
  },
  {
   "cell_type": "code",
   "execution_count": null,
   "id": "8e99624d-e5d2-4235-9498-0846e9c503f2",
   "metadata": {},
   "outputs": [],
   "source": [
    "type(removed_2)"
   ]
  },
  {
   "cell_type": "code",
   "execution_count": null,
   "id": "5e35015a-4fa2-4fef-a6e5-23e4efa7aee2",
   "metadata": {},
   "outputs": [],
   "source": [
    "type(removed)"
   ]
  },
  {
   "cell_type": "markdown",
   "id": "eef92a90-cdd1-419c-8363-ff8fd374e815",
   "metadata": {},
   "source": [
    "#### 2.2. Tuple\n",
    "- (), tuple()\n",
    "- Indexed\n",
    "- Values\n",
    "- Immutable: no change values # Mutable"
   ]
  },
  {
   "cell_type": "markdown",
   "id": "9fec5847-bf06-49ca-87b2-edc1611899a8",
   "metadata": {},
   "source": [
    "![](data:image/png;base64,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)"
   ]
  },
  {
   "cell_type": "code",
   "execution_count": null,
   "id": "00ad5363-a8ee-428b-a2af-9731105e2da5",
   "metadata": {},
   "outputs": [],
   "source": [
    "a = 1\n",
    "id(a)"
   ]
  },
  {
   "cell_type": "code",
   "execution_count": null,
   "id": "3959916c-3589-419a-be8a-cf2713403c89",
   "metadata": {},
   "outputs": [],
   "source": [
    "a = 2\n",
    "id(a)"
   ]
  },
  {
   "cell_type": "code",
   "execution_count": null,
   "id": "d88256f7-bdd2-4a22-9ea2-9eb268078b97",
   "metadata": {},
   "outputs": [],
   "source": [
    "li"
   ]
  },
  {
   "cell_type": "code",
   "execution_count": null,
   "id": "1acce47b-d7ed-48d9-8651-cb20998b1d9b",
   "metadata": {},
   "outputs": [],
   "source": [
    "id(li)"
   ]
  },
  {
   "cell_type": "code",
   "execution_count": null,
   "id": "a494c34f-8551-411d-96f4-08d58ad62fab",
   "metadata": {},
   "outputs": [],
   "source": [
    "del li"
   ]
  },
  {
   "cell_type": "code",
   "execution_count": null,
   "id": "ac7a121f-6d3a-494f-9108-63272f621802",
   "metadata": {},
   "outputs": [],
   "source": [
    "import gc  # gabage collection"
   ]
  },
  {
   "cell_type": "code",
   "execution_count": null,
   "id": "87e5a782-b298-446f-b5f8-9a9634100a35",
   "metadata": {},
   "outputs": [],
   "source": [
    "gc.collect()"
   ]
  },
  {
   "cell_type": "code",
   "execution_count": null,
   "id": "b71c236c-45b5-4ed6-acb4-e1ed1cbfa39f",
   "metadata": {},
   "outputs": [],
   "source": [
    "tup = (1, 2, 3, 4, 4)\n",
    "tup[1]"
   ]
  },
  {
   "cell_type": "code",
   "execution_count": null,
   "id": "3fdf77d2-9012-4552-a538-faf761c821c8",
   "metadata": {},
   "outputs": [],
   "source": [
    "[method for method in dir(tuple) if not method.startswith('_')]"
   ]
  },
  {
   "cell_type": "code",
   "execution_count": null,
   "id": "8465273e-a682-4566-847e-6962de4ccf9e",
   "metadata": {},
   "outputs": [],
   "source": [
    "tup.count(4)"
   ]
  },
  {
   "cell_type": "code",
   "execution_count": null,
   "id": "2cc20f41-0322-42fa-8257-7b291460a31c",
   "metadata": {},
   "outputs": [],
   "source": [
    "tup.index(4, 4)"
   ]
  },
  {
   "cell_type": "markdown",
   "id": "9f21e7a5-fe9c-4693-8d02-a5fac7deb32b",
   "metadata": {},
   "source": [
    "#### 2.3. Set\n",
    "- {}, set()\n",
    "- Non-indexing --> ordered\n",
    "- No duplicated values"
   ]
  },
  {
   "cell_type": "code",
   "execution_count": null,
   "id": "298b527b-7c13-4874-9fda-1e13efd77595",
   "metadata": {},
   "outputs": [],
   "source": [
    "set_1 = {1, 1, 2, 2, 'Truong', True, True}\n",
    "set_1"
   ]
  },
  {
   "cell_type": "code",
   "execution_count": null,
   "id": "ecd840aa-2fc5-4800-89ee-3b1db6faa965",
   "metadata": {},
   "outputs": [],
   "source": [
    "[method for method in dir(set) if not method.startswith('_')]"
   ]
  },
  {
   "cell_type": "markdown",
   "id": "c55413e4-a074-42f3-a912-6a7e2111c68a",
   "metadata": {},
   "source": [
    "![](https://www.learnbyexample.org/wp-content/uploads/python/Python-Set-Operatioons.png)"
   ]
  },
  {
   "cell_type": "code",
   "execution_count": null,
   "id": "c845516d-4339-45de-b521-956d367d9f08",
   "metadata": {},
   "outputs": [],
   "source": [
    "set_1 = {1, 2, 3, 4, 4, 5}\n",
    "set_2 = {4, 5, 6, 7}\n",
    "set_1, set_2"
   ]
  },
  {
   "cell_type": "code",
   "execution_count": null,
   "id": "fb78e586-3084-47ea-a17b-bc5f12f6db08",
   "metadata": {},
   "outputs": [],
   "source": [
    "set_1.intersection(set_2)"
   ]
  },
  {
   "cell_type": "code",
   "execution_count": null,
   "id": "8d3305ad-40de-4826-b56d-c3da340665dd",
   "metadata": {},
   "outputs": [],
   "source": [
    "set_1.intersection_update(set_2)"
   ]
  },
  {
   "cell_type": "code",
   "execution_count": null,
   "id": "8702c545-2187-4621-b3a7-003c1444e9e1",
   "metadata": {},
   "outputs": [],
   "source": [
    "set_1"
   ]
  },
  {
   "cell_type": "code",
   "execution_count": null,
   "id": "efa41321-aafd-417d-82ca-df580e2dc6dd",
   "metadata": {},
   "outputs": [],
   "source": [
    "set_1"
   ]
  },
  {
   "cell_type": "code",
   "execution_count": null,
   "id": "2b4aaf49-f978-4eec-bbc4-f995662b2c19",
   "metadata": {},
   "outputs": [],
   "source": [
    "set_2"
   ]
  },
  {
   "cell_type": "code",
   "execution_count": null,
   "id": "f8643ff7-4102-40de-ade4-0ba52a64afe6",
   "metadata": {},
   "outputs": [],
   "source": [
    "set_1.difference_update(set_2)"
   ]
  },
  {
   "cell_type": "code",
   "execution_count": null,
   "id": "01ced04d-48ae-491b-85cc-718129fb4a19",
   "metadata": {},
   "outputs": [],
   "source": [
    "set_1"
   ]
  },
  {
   "cell_type": "code",
   "execution_count": null,
   "id": "da433db5-6908-481d-968d-6e1a5a0311ef",
   "metadata": {},
   "outputs": [],
   "source": [
    "set_2"
   ]
  },
  {
   "cell_type": "code",
   "execution_count": null,
   "id": "c24ae557-ba28-4dd2-b0ec-a02eb8acc076",
   "metadata": {},
   "outputs": [],
   "source": [
    "set_1 ={1, 2, 3, 4}\n",
    "set_2 = {3, 4}"
   ]
  },
  {
   "cell_type": "code",
   "execution_count": null,
   "id": "84fbe409-06bc-4c01-8f06-d2ecce3f0ffb",
   "metadata": {},
   "outputs": [],
   "source": [
    "set_1.discard(set_2)"
   ]
  },
  {
   "cell_type": "code",
   "execution_count": null,
   "id": "b2385f8b-86ac-4366-88f4-5b6a5a35ecc7",
   "metadata": {},
   "outputs": [],
   "source": [
    "set_1"
   ]
  },
  {
   "cell_type": "code",
   "execution_count": null,
   "id": "de57452d-1520-4d3e-bc61-e0d5fb62c581",
   "metadata": {},
   "outputs": [],
   "source": [
    "set_2.discard(4)"
   ]
  },
  {
   "cell_type": "code",
   "execution_count": null,
   "id": "d2b2911e-3d1a-4b31-aba6-7f3fe8413ddb",
   "metadata": {},
   "outputs": [],
   "source": [
    "set_2"
   ]
  },
  {
   "cell_type": "code",
   "execution_count": null,
   "id": "2b76517a-08d4-4bbd-8e82-7d62afb0fd43",
   "metadata": {},
   "outputs": [],
   "source": [
    "set_1"
   ]
  },
  {
   "cell_type": "code",
   "execution_count": null,
   "id": "cc1a2404-b6af-43a7-81d8-e43d93ddce32",
   "metadata": {},
   "outputs": [],
   "source": [
    "li = [1, 2, 3, 4, (True, False, True, [5, 6, 7, 8])]\n",
    "li"
   ]
  },
  {
   "cell_type": "code",
   "execution_count": null,
   "id": "934dd986-9837-4c9b-b87c-2cd0ab0e4dc8",
   "metadata": {},
   "outputs": [],
   "source": [
    "[method for method in dir(li[-1]) if not method.startswith('_')]"
   ]
  },
  {
   "cell_type": "code",
   "execution_count": null,
   "id": "f644c4bd-15cb-4860-b67b-8427f0917524",
   "metadata": {},
   "outputs": [],
   "source": [
    "tup = li[-1]\n",
    "tup"
   ]
  },
  {
   "cell_type": "code",
   "execution_count": null,
   "id": "c697dfde-9b84-442f-be03-69e5d292d313",
   "metadata": {},
   "outputs": [],
   "source": [
    "[method for method in dir(tup[-1]) if not method.startswith('_')]"
   ]
  },
  {
   "cell_type": "markdown",
   "id": "29077c6b-d549-40d7-969d-7350cd86ff7e",
   "metadata": {},
   "source": [
    "#### 2.4. Dictionary\n",
    "- {key: values}\n",
    "- Key: no duplicated "
   ]
  },
  {
   "cell_type": "code",
   "execution_count": null,
   "id": "0e62f28c-b3bc-44e7-80cb-52f6ac1efb79",
   "metadata": {},
   "outputs": [],
   "source": [
    "dict_1 = {'name': ['Truong', 'Thanh', 'Long'],\n",
    "          'age': [1, 2, 3],\n",
    "          'university': ['SG', 'HN', 'DN']}\n",
    "dict_1"
   ]
  },
  {
   "cell_type": "code",
   "execution_count": null,
   "id": "0b503297-55ce-4da2-94ac-c2a2932099bc",
   "metadata": {},
   "outputs": [],
   "source": [
    "dict_1['name']"
   ]
  },
  {
   "cell_type": "code",
   "execution_count": null,
   "id": "a8f2e8dc-494a-43c7-9b81-68bf1e4c3b0c",
   "metadata": {},
   "outputs": [],
   "source": [
    "dict_1['name'][0] = 'Name'\n",
    "dict_1"
   ]
  },
  {
   "cell_type": "code",
   "execution_count": null,
   "id": "965213dc-0d30-4c0a-8f84-3e3ea7c674b4",
   "metadata": {},
   "outputs": [],
   "source": [
    "dict_1['name'] = ('Nu', 'Trinh', 'Phuong')\n",
    "dict_1"
   ]
  },
  {
   "cell_type": "code",
   "execution_count": null,
   "id": "8628e89c-3e4e-4249-a51d-f50f90d9a9de",
   "metadata": {},
   "outputs": [],
   "source": [
    "dict_1['name'] = ['Nu', 'Trinh', 'Phuong']\n",
    "dict_1"
   ]
  },
  {
   "cell_type": "code",
   "execution_count": null,
   "id": "d99df32f-3341-488b-b097-8ffd533afc93",
   "metadata": {},
   "outputs": [],
   "source": [
    "dict_1['name'].append('Long')\n",
    "dict_1"
   ]
  },
  {
   "cell_type": "code",
   "execution_count": null,
   "id": "5058a827-0338-4cf1-8a1c-3275c7955c4f",
   "metadata": {},
   "outputs": [],
   "source": [
    "dict_1['name'] = ['Nu', 'Trinh', 'Phuong', 'Long', 'Truong']\n",
    "dict_1"
   ]
  },
  {
   "cell_type": "code",
   "execution_count": null,
   "id": "f18d1d08-2730-48ba-bf8c-5e35462dfd5e",
   "metadata": {},
   "outputs": [],
   "source": [
    "[method for method in dir(dict_1) if not method.startswith('_')]"
   ]
  },
  {
   "cell_type": "code",
   "execution_count": null,
   "id": "384ff07f-ba26-4435-a71a-20cbc368f710",
   "metadata": {},
   "outputs": [],
   "source": [
    "dict.fromkeys(['name', 'age', 'university'])"
   ]
  },
  {
   "cell_type": "code",
   "execution_count": null,
   "id": "411c3035-350f-4262-8ee9-24a4f113b773",
   "metadata": {},
   "outputs": [],
   "source": [
    "dict_1"
   ]
  },
  {
   "cell_type": "code",
   "execution_count": null,
   "id": "1291c9d6-8ecd-489b-a4ce-f74343e96a6a",
   "metadata": {},
   "outputs": [],
   "source": [
    "dict_1.get('name', 'No values')"
   ]
  },
  {
   "cell_type": "code",
   "execution_count": null,
   "id": "ef3fb0f9-344a-4b7d-a694-8240c0ba142d",
   "metadata": {},
   "outputs": [],
   "source": [
    "dict_1.setdefault('salary', [2000, 3000, 4000])"
   ]
  },
  {
   "cell_type": "code",
   "execution_count": null,
   "id": "92ba50eb-d49c-4218-a719-b2deae76ac46",
   "metadata": {},
   "outputs": [],
   "source": [
    "dict_1"
   ]
  },
  {
   "cell_type": "code",
   "execution_count": null,
   "id": "1c9d9f81-96a1-4a58-bf4c-9b1b0413643c",
   "metadata": {},
   "outputs": [],
   "source": [
    "dict_1['name'] = ['Nu', 'Trinh', 'Phuong']"
   ]
  },
  {
   "cell_type": "code",
   "execution_count": null,
   "id": "32ec3038-cfa9-45d5-89f2-dba3606c23f4",
   "metadata": {},
   "outputs": [],
   "source": [
    "import pandas as pd\n",
    "    "
   ]
  },
  {
   "cell_type": "code",
   "execution_count": null,
   "id": "86860667-4433-49e2-9f37-178318422402",
   "metadata": {},
   "outputs": [],
   "source": [
    "pd.DataFrame(dict_1)"
   ]
  },
  {
   "cell_type": "markdown",
   "id": "35aba72d-ca02-47e5-b77d-2c44ad59ea6d",
   "metadata": {},
   "source": [
    "### 3. Programming Flow\n",
    "\n",
    "- Sequential: Tuần tự \n",
    "- Loop: Lặp\n",
    "- Condition: Rẽ nhánh"
   ]
  },
  {
   "cell_type": "markdown",
   "id": "7c022ab9-af57-4177-82a3-9aaabf70a1ad",
   "metadata": {},
   "source": [
    "#### 3.1. Sequential"
   ]
  },
  {
   "cell_type": "code",
   "execution_count": null,
   "id": "4f481963-ea89-4a5b-89b3-392be60d81c6",
   "metadata": {},
   "outputs": [],
   "source": [
    "print(1 + 1)\n",
    "print('Hello world')\n",
    "print('Wowwww')"
   ]
  },
  {
   "cell_type": "markdown",
   "id": "e82f4fe9-6f5f-4336-aea2-baba036858eb",
   "metadata": {},
   "source": [
    "#### 3.2. Loop"
   ]
  },
  {
   "cell_type": "markdown",
   "id": "4bfc3607-70de-41e2-9fd5-59291180862f",
   "metadata": {},
   "source": [
    "##### 3.2.1. For"
   ]
  },
  {
   "cell_type": "markdown",
   "id": "a84815ee-82a4-440a-a81a-098a41fa087c",
   "metadata": {},
   "source": [
    "```\n",
    "for value in iterable:\n",
    "    business logic\n",
    "```\n",
    "\n",
    "```\n",
    "for index in range(len(iterable)):\n",
    "    business logic\n",
    "```"
   ]
  },
  {
   "cell_type": "code",
   "execution_count": null,
   "id": "405071df-a576-4cc8-a4df-7839aaaff04f",
   "metadata": {},
   "outputs": [],
   "source": [
    "li = list(range(10))\n",
    "li"
   ]
  },
  {
   "cell_type": "code",
   "execution_count": null,
   "id": "975cfbb1-b9cc-4a57-9a83-0c71e017cfc2",
   "metadata": {},
   "outputs": [],
   "source": [
    "li_2 = []\n",
    "for val in li:\n",
    "    li_2.append(val ** 2)\n",
    "li_2"
   ]
  },
  {
   "cell_type": "code",
   "execution_count": null,
   "id": "f4c0365f-bb69-4222-9dc9-999b17e63609",
   "metadata": {},
   "outputs": [],
   "source": [
    "li_3 = []\n",
    "for index in range(len(li)):\n",
    "    value = li[index] ** 2\n",
    "    li_3.append(value)\n",
    "li_3"
   ]
  },
  {
   "cell_type": "code",
   "execution_count": null,
   "id": "5f5cce64-2b88-4ad6-8999-419563b7c83a",
   "metadata": {},
   "outputs": [],
   "source": [
    "a = '1'\n",
    "type(a)"
   ]
  },
  {
   "cell_type": "code",
   "execution_count": null,
   "id": "1a15145c-37a4-46ec-9c8b-558ca6e0055e",
   "metadata": {},
   "outputs": [],
   "source": [
    "a * 2"
   ]
  },
  {
   "cell_type": "code",
   "execution_count": null,
   "id": "8a83cea6-b78c-47ca-965c-c2618409254e",
   "metadata": {},
   "outputs": [],
   "source": [
    "b = int(a) * 2\n",
    "b"
   ]
  },
  {
   "cell_type": "code",
   "execution_count": null,
   "id": "77154212-f1b8-45ac-8306-7689212f0e19",
   "metadata": {},
   "outputs": [],
   "source": [
    "tuple(range(1, 10, 2))"
   ]
  },
  {
   "cell_type": "code",
   "execution_count": null,
   "id": "8738931c-205d-4d2f-865f-ccc6e0044885",
   "metadata": {},
   "outputs": [],
   "source": [
    "# casting --> ép kiểu\n",
    "set(tuple(list(range(1, 10, 2))))"
   ]
  },
  {
   "cell_type": "code",
   "execution_count": null,
   "id": "12410e73-2c69-4abc-a3ce-1d4eb02074e5",
   "metadata": {},
   "outputs": [],
   "source": [
    "int(3.8)"
   ]
  },
  {
   "cell_type": "code",
   "execution_count": null,
   "id": "9a428e75-b1cd-4783-a9ee-06074e88e515",
   "metadata": {},
   "outputs": [],
   "source": [
    "len(range(1, 10, 2))"
   ]
  },
  {
   "cell_type": "code",
   "execution_count": null,
   "id": "65e93592-6d29-47e3-af91-dfb7f787b6b2",
   "metadata": {},
   "outputs": [],
   "source": [
    "li = list(range(100))"
   ]
  },
  {
   "cell_type": "markdown",
   "id": "d818cdf9-3d10-4861-b3db-82124bdb3b75",
   "metadata": {},
   "source": [
    "##### 3.2.2. While\n",
    "```\n",
    "while condition (True/ False):\n",
    "    business logic\n",
    "```"
   ]
  },
  {
   "cell_type": "markdown",
   "id": "dba1d60c-6c82-4ce4-820e-9e12acb7a62c",
   "metadata": {},
   "source": [
    "##### String format"
   ]
  },
  {
   "cell_type": "code",
   "execution_count": 114,
   "id": "40e7d9ac-d5bc-4b02-a84e-7f38f62d1b8e",
   "metadata": {},
   "outputs": [
    {
     "data": {
      "text/plain": [
       "'Hello Truong'"
      ]
     },
     "execution_count": 114,
     "metadata": {},
     "output_type": "execute_result"
    }
   ],
   "source": [
    "a = 'Truong'\n",
    "'Hello {}'.format(a)"
   ]
  },
  {
   "cell_type": "code",
   "execution_count": 115,
   "id": "f98747ee-c61b-4295-8b9e-834b3c5467db",
   "metadata": {},
   "outputs": [
    {
     "data": {
      "text/plain": [
       "'Hello Truong with all my pleasures'"
      ]
     },
     "execution_count": 115,
     "metadata": {},
     "output_type": "execute_result"
    }
   ],
   "source": [
    "a, b = 'Truong', 'pleasures'\n",
    "'Hello {} with all my {}'.format(a, b)"
   ]
  },
  {
   "cell_type": "code",
   "execution_count": 116,
   "id": "eeaa7eb6-9b85-4520-b45e-38bc0e5e8e63",
   "metadata": {},
   "outputs": [
    {
     "data": {
      "text/plain": [
       "'Hello Truong with all my pleasures'"
      ]
     },
     "execution_count": 116,
     "metadata": {},
     "output_type": "execute_result"
    }
   ],
   "source": [
    "f'Hello {a} with all my {b}'"
   ]
  },
  {
   "cell_type": "code",
   "execution_count": 118,
   "id": "dec4e53f-17cd-4801-b01e-4cd0303f3fab",
   "metadata": {},
   "outputs": [
    {
     "data": {
      "text/plain": [
       "'Hello Truong with age 20'"
      ]
     },
     "execution_count": 118,
     "metadata": {},
     "output_type": "execute_result"
    }
   ],
   "source": [
    "# %s ->string, %d --> decimal, %f --> float\n",
    "'Hello %s with age %d' %('Truong', 20)"
   ]
  },
  {
   "cell_type": "code",
   "execution_count": 121,
   "id": "886fdd66-8a36-4d53-a00d-30afefae1b5b",
   "metadata": {},
   "outputs": [
    {
     "name": "stdout",
     "output_type": "stream",
     "text": [
      "Hello 0\n",
      "Hello 1\n",
      "Hello 2\n",
      "Hello 3\n",
      "Hello 4\n",
      "Hello 5\n"
     ]
    }
   ],
   "source": [
    "a = 4\n",
    "i = 0\n",
    "while True:\n",
    "    print(f'Hello {i}')\n",
    "    if i > a:\n",
    "        break\n",
    "    i += 1 # i = i+1"
   ]
  },
  {
   "cell_type": "code",
   "execution_count": null,
   "id": "e5f4f101-fa01-4925-8497-ef1eb8b8b446",
   "metadata": {},
   "outputs": [],
   "source": [
    "# For: So lan lap\n",
    "# While: Khong biet so lan lap"
   ]
  },
  {
   "cell_type": "markdown",
   "id": "5e8f0c54-f896-4f63-9fd5-18244fed6125",
   "metadata": {},
   "source": [
    "#### 3.3. Condition"
   ]
  },
  {
   "cell_type": "markdown",
   "id": "82554c0f-aa05-44c0-b594-3f6fda71f50d",
   "metadata": {},
   "source": [
    "```\n",
    "if condition(True/ False):\n",
    "    business logic\n",
    "elif condition: --> optional\n",
    "    business logic\n",
    "elif condition: --> optiional\n",
    "    business logic\n",
    "...\n",
    "\n",
    "else:  --> optional\n",
    "    business logic\n",
    "```"
   ]
  },
  {
   "cell_type": "code",
   "execution_count": 122,
   "id": "3505c06f-0066-4103-8001-679d8dfab736",
   "metadata": {},
   "outputs": [
    {
     "name": "stdout",
     "output_type": "stream",
     "text": [
      "a < b\n"
     ]
    }
   ],
   "source": [
    "a, b = 1, 3\n",
    "if a < b:\n",
    "    print(\"a < b\")"
   ]
  },
  {
   "cell_type": "code",
   "execution_count": 124,
   "id": "8e5d3701-0b6f-4937-8ccc-40aea3cb0809",
   "metadata": {},
   "outputs": [
    {
     "name": "stdout",
     "output_type": "stream",
     "text": [
      "a > b\n"
     ]
    }
   ],
   "source": [
    "a, b = 3, 1\n",
    "if a < b:\n",
    "    print(\"a < b\")\n",
    "elif a > b:\n",
    "    print(\"a > b\")\n",
    "else:\n",
    "    print(\"a = b\")"
   ]
  },
  {
   "cell_type": "markdown",
   "id": "5ab42ca8-11e2-4bda-ac2b-931faf680e16",
   "metadata": {},
   "source": [
    "### 4. Function"
   ]
  },
  {
   "cell_type": "markdown",
   "id": "3cf16921-7799-4b1c-8ed8-0322c44469d8",
   "metadata": {},
   "source": [
    "```\n",
    "def function_name(agr_1, arg_2, arg_3, ..., arg_3 - optional):\n",
    "    \n",
    "    business logic\n",
    "    \n",
    "    return results --> optional\n",
    "```"
   ]
  },
  {
   "cell_type": "code",
   "execution_count": 131,
   "id": "7f98b060-9960-4628-aecb-16d738989d77",
   "metadata": {},
   "outputs": [],
   "source": [
    "def lengh_of_list(li):\n",
    "    count = 0\n",
    "    for _ in li:\n",
    "        count += 1\n",
    "        \n",
    "    return count"
   ]
  },
  {
   "cell_type": "code",
   "execution_count": 132,
   "id": "a8cadb74-c0be-43c5-8d61-2b8b1c48bc70",
   "metadata": {},
   "outputs": [],
   "source": [
    "def sum_all(li):\n",
    "    total = 0\n",
    "    for i in li:\n",
    "        total += i\n",
    "    return total"
   ]
  },
  {
   "cell_type": "code",
   "execution_count": 133,
   "id": "eacaf765-d150-469a-b530-aa8f906f1222",
   "metadata": {},
   "outputs": [],
   "source": [
    "def average(li):\n",
    "    return sum_all(li) / lengh_of_list(li)"
   ]
  },
  {
   "cell_type": "code",
   "execution_count": 144,
   "id": "8295ce0d-17f2-4d6b-b498-51fe826d8410",
   "metadata": {},
   "outputs": [
    {
     "data": {
      "text/plain": [
       "3.0"
      ]
     },
     "execution_count": 144,
     "metadata": {},
     "output_type": "execute_result"
    }
   ],
   "source": [
    "average([1, 2, 3, 4, 4, 4])"
   ]
  },
  {
   "cell_type": "code",
   "execution_count": 168,
   "id": "b9692a43-d26d-42c2-8b24-c367def6ceec",
   "metadata": {},
   "outputs": [],
   "source": [
    "# 1 --> Not prime\n",
    "# Prime number: Only divided by 1 and itself\n",
    "def prime_number(n):\n",
    "    result = False\n",
    "    if n == 2 or n == 3:\n",
    "        return True\n",
    "    if n > 2:\n",
    "        for i in range(2, int(n**(1/2)) + 1): \n",
    "            if (n % i) == 0:\n",
    "                result = False\n",
    "                break\n",
    "            else:\n",
    "                result = True\n",
    "    else:\n",
    "        result = False\n",
    "    return result"
   ]
  },
  {
   "cell_type": "code",
   "execution_count": 169,
   "id": "e8ae310d-8989-42e0-aa42-88ef4f8e374a",
   "metadata": {},
   "outputs": [],
   "source": [
    "li = list(range(1, 101))\n",
    "prime_li = []\n",
    "for i in li:\n",
    "    if prime_number(i):\n",
    "        prime_li.append(i)"
   ]
  },
  {
   "cell_type": "code",
   "execution_count": 170,
   "id": "e230aa0e-4d51-4cf1-a01e-19a81d7aabca",
   "metadata": {},
   "outputs": [
    {
     "data": {
      "text/plain": [
       "[2,\n",
       " 5,\n",
       " 7,\n",
       " 11,\n",
       " 13,\n",
       " 17,\n",
       " 19,\n",
       " 23,\n",
       " 29,\n",
       " 31,\n",
       " 37,\n",
       " 41,\n",
       " 43,\n",
       " 47,\n",
       " 53,\n",
       " 59,\n",
       " 61,\n",
       " 67,\n",
       " 71,\n",
       " 73,\n",
       " 79,\n",
       " 83,\n",
       " 89,\n",
       " 97]"
      ]
     },
     "execution_count": 170,
     "metadata": {},
     "output_type": "execute_result"
    }
   ],
   "source": [
    "prime_li"
   ]
  },
  {
   "cell_type": "code",
   "execution_count": 171,
   "id": "1ea6d6ca-624b-4884-b0e1-c923866464d3",
   "metadata": {},
   "outputs": [],
   "source": [
    "# Anonymous functions --> Noname\n",
    "squared = lambda x : x**2"
   ]
  },
  {
   "cell_type": "code",
   "execution_count": 172,
   "id": "b8487693-1326-4dc2-8b9c-ead841396465",
   "metadata": {},
   "outputs": [
    {
     "data": {
      "text/plain": [
       "16"
      ]
     },
     "execution_count": 172,
     "metadata": {},
     "output_type": "execute_result"
    }
   ],
   "source": [
    "squared(4)"
   ]
  },
  {
   "cell_type": "code",
   "execution_count": 173,
   "id": "2a8f6d32-4651-47ef-8734-1ee01c796ba6",
   "metadata": {},
   "outputs": [],
   "source": [
    "retangle_area = lambda x, y : x * y"
   ]
  },
  {
   "cell_type": "code",
   "execution_count": 174,
   "id": "f70bf424-834d-4b06-98b8-3de0d2b92406",
   "metadata": {},
   "outputs": [
    {
     "data": {
      "text/plain": [
       "20"
      ]
     },
     "execution_count": 174,
     "metadata": {},
     "output_type": "execute_result"
    }
   ],
   "source": [
    "retangle_area(4, 5)"
   ]
  },
  {
   "cell_type": "markdown",
   "id": "c4cf6bab-43c6-40f3-9cce-a81b3677873c",
   "metadata": {},
   "source": [
    "### 5. Comprehension"
   ]
  },
  {
   "cell_type": "code",
   "execution_count": 175,
   "id": "1fc37e68-e9fa-483f-b9fb-442cb94de7de",
   "metadata": {},
   "outputs": [],
   "source": [
    "# Replace for loop"
   ]
  },
  {
   "cell_type": "code",
   "execution_count": 176,
   "id": "bf1bea20-4757-45cc-bb54-22276767a5d5",
   "metadata": {},
   "outputs": [],
   "source": [
    "li = list(range(1, 11))"
   ]
  },
  {
   "cell_type": "code",
   "execution_count": 180,
   "id": "4bd75ef6-5490-48f5-a128-c88f8df70305",
   "metadata": {},
   "outputs": [
    {
     "data": {
      "text/plain": [
       "[1, 2, 3, 4, 5, 6, 7, 8, 9, 10]"
      ]
     },
     "execution_count": 180,
     "metadata": {},
     "output_type": "execute_result"
    }
   ],
   "source": [
    "li"
   ]
  },
  {
   "cell_type": "code",
   "execution_count": 177,
   "id": "7e690a3e-c863-4483-8d55-338a774e0a07",
   "metadata": {},
   "outputs": [
    {
     "data": {
      "text/plain": [
       "[1, 4, 9, 16, 25, 36, 49, 64, 81, 100]"
      ]
     },
     "execution_count": 177,
     "metadata": {},
     "output_type": "execute_result"
    }
   ],
   "source": [
    "new_li = []\n",
    "for i in li:\n",
    "    new_li.append(i**2)\n",
    "new_li"
   ]
  },
  {
   "cell_type": "code",
   "execution_count": 179,
   "id": "ee236481-3073-48a3-a1c3-79fb114db4f7",
   "metadata": {},
   "outputs": [
    {
     "data": {
      "text/plain": [
       "[1, 4, 9, 16, 25, 36, 49, 64, 81, 100]"
      ]
     },
     "execution_count": 179,
     "metadata": {},
     "output_type": "execute_result"
    }
   ],
   "source": [
    "[i**2 for i in li]"
   ]
  },
  {
   "cell_type": "code",
   "execution_count": 182,
   "id": "5bdcfad8-e4fb-45d9-af4f-669d8ac2a9c0",
   "metadata": {},
   "outputs": [
    {
     "data": {
      "text/plain": [
       "(1, 4, 9, 16, 25, 36, 49, 64, 81, 100)"
      ]
     },
     "execution_count": 182,
     "metadata": {},
     "output_type": "execute_result"
    }
   ],
   "source": [
    "tuple(i**2 for i in li)"
   ]
  },
  {
   "cell_type": "code",
   "execution_count": 183,
   "id": "7def315f-32cd-4026-9c85-349b23b36952",
   "metadata": {},
   "outputs": [
    {
     "data": {
      "text/plain": [
       "{1, 4, 9, 16, 25, 36, 49, 64, 81, 100}"
      ]
     },
     "execution_count": 183,
     "metadata": {},
     "output_type": "execute_result"
    }
   ],
   "source": [
    "{i**2 for i in li}"
   ]
  },
  {
   "cell_type": "code",
   "execution_count": 184,
   "id": "384484a7-6d04-49e8-a3c2-44cfa6654eaf",
   "metadata": {},
   "outputs": [
    {
     "data": {
      "text/plain": [
       "[4, 16, 36, 64, 100]"
      ]
     },
     "execution_count": 184,
     "metadata": {},
     "output_type": "execute_result"
    }
   ],
   "source": [
    "[i**2 for i in li if i % 2 == 0]"
   ]
  },
  {
   "cell_type": "code",
   "execution_count": 185,
   "id": "201ed64b-6d9b-4bdf-a821-262fc6785857",
   "metadata": {},
   "outputs": [
    {
     "data": {
      "text/plain": [
       "[1, 2, 9, 4, 25, 6, 49, 8, 81, 10]"
      ]
     },
     "execution_count": 185,
     "metadata": {},
     "output_type": "execute_result"
    }
   ],
   "source": [
    "[i**2 if i % 2 != 0 else i for i in li]"
   ]
  },
  {
   "cell_type": "code",
   "execution_count": 187,
   "id": "6f55f94c-6935-4aa7-893b-910bb88257c3",
   "metadata": {},
   "outputs": [
    {
     "data": {
      "text/plain": [
       "[-5, -4, -3, -2, -1, 0, 1, 2, 3, 4]"
      ]
     },
     "execution_count": 187,
     "metadata": {},
     "output_type": "execute_result"
    }
   ],
   "source": [
    "li = list(range(-5, 5))\n",
    "li"
   ]
  },
  {
   "cell_type": "code",
   "execution_count": 190,
   "id": "c30c9b5a-591d-4032-be60-ece123ff40d8",
   "metadata": {},
   "outputs": [
    {
     "data": {
      "text/plain": [
       "[5, 4, 3, 2, 1, 0, 1, 2, 3, 4]"
      ]
     },
     "execution_count": 190,
     "metadata": {},
     "output_type": "execute_result"
    }
   ],
   "source": [
    "[abs(i) for i in li]"
   ]
  },
  {
   "cell_type": "code",
   "execution_count": 189,
   "id": "443ec34c-4fa6-42b7-bd29-ac2f222c4b6e",
   "metadata": {},
   "outputs": [
    {
     "data": {
      "text/plain": [
       "[5, 4, 3, 2, 1, 0, 1, 2, 3, 4]"
      ]
     },
     "execution_count": 189,
     "metadata": {},
     "output_type": "execute_result"
    }
   ],
   "source": [
    "[-i if i < 0 else i for i in li]  "
   ]
  },
  {
   "cell_type": "markdown",
   "id": "32202a2c-50e0-4767-b045-69824430a673",
   "metadata": {},
   "source": [
    "**Comprehension**\n",
    "- Data is small or medium\n",
    "- Large data: traditional loop"
   ]
  },
  {
   "cell_type": "code",
   "execution_count": 199,
   "id": "e1858be9-65e7-4aa2-a67a-ea2dfd6a7e91",
   "metadata": {},
   "outputs": [
    {
     "data": {
      "text/plain": [
       "[[1, 2, 3, 4], [4, 5, 6, 7], [7, 8, 9, 10]]"
      ]
     },
     "execution_count": 199,
     "metadata": {},
     "output_type": "execute_result"
    }
   ],
   "source": [
    "li = [[1, 2, 3, 4], \n",
    "      [4, 5, 6, 7], \n",
    "      [7, 8, 9, 10]]\n",
    "li"
   ]
  },
  {
   "cell_type": "code",
   "execution_count": 201,
   "id": "b413c1c2-53f5-4b09-a894-f133a3ed0af8",
   "metadata": {},
   "outputs": [
    {
     "data": {
      "text/plain": [
       "[1, 2, 3, 4, 4, 5, 6, 7, 7, 8, 9, 10]"
      ]
     },
     "execution_count": 201,
     "metadata": {},
     "output_type": "execute_result"
    }
   ],
   "source": [
    "[j for i in li for j in i]"
   ]
  },
  {
   "cell_type": "code",
   "execution_count": 197,
   "id": "ab7687e0-2cbb-4d98-99f6-518a459aa78d",
   "metadata": {},
   "outputs": [
    {
     "data": {
      "text/plain": [
       "[1, 3, 5, 7, 7, 9]"
      ]
     },
     "execution_count": 197,
     "metadata": {},
     "output_type": "execute_result"
    }
   ],
   "source": [
    "[i for sub_li in li for i in sub_li if i % 2 != 0]"
   ]
  },
  {
   "cell_type": "code",
   "execution_count": 198,
   "id": "248e4630-1bae-40bc-8e9d-4cdafe6862ce",
   "metadata": {},
   "outputs": [
    {
     "data": {
      "text/plain": [
       "[1, 2, 9, 4, 4, 25, 6, 49, 49, 8, 81, 10]"
      ]
     },
     "execution_count": 198,
     "metadata": {},
     "output_type": "execute_result"
    }
   ],
   "source": [
    "[i**2 if i % 2 != 0 else i for sub_li in li for i in sub_li]"
   ]
  },
  {
   "cell_type": "code",
   "execution_count": null,
   "id": "8e90905d-8fbd-4b2b-9a93-cf298223aa9a",
   "metadata": {},
   "outputs": [],
   "source": []
  }
 ],
 "metadata": {
  "kernelspec": {
   "display_name": "Python 3",
   "language": "python",
   "name": "python3"
  },
  "language_info": {
   "codemirror_mode": {
    "name": "ipython",
    "version": 3
   },
   "file_extension": ".py",
   "mimetype": "text/x-python",
   "name": "python",
   "nbconvert_exporter": "python",
   "pygments_lexer": "ipython3",
   "version": "3.7.10"
  }
 },
 "nbformat": 4,
 "nbformat_minor": 5
}
