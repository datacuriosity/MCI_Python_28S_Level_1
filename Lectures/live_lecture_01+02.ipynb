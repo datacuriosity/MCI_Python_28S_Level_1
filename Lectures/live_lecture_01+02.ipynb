{
 "cells": [
  {
   "cell_type": "markdown",
   "id": "d9d9baab-b736-4976-86ea-c381480b215b",
   "metadata": {},
   "source": [
    "### 1. Notebook tutorials"
   ]
  },
  {
   "cell_type": "markdown",
   "id": "42020f1b-14e9-441e-93fd-ee639983aad8",
   "metadata": {},
   "source": [
    "Cells:\n",
    "- Code \n",
    "- Markdown"
   ]
  },
  {
   "cell_type": "markdown",
   "id": "07c74eb1-5431-4aa8-8711-0072c5bf5195",
   "metadata": {},
   "source": [
    "![](https://arogozhnikov.github.io/images/jupyter/hotkeys.png)"
   ]
  },
  {
   "cell_type": "markdown",
   "id": "2c1bc625-ff4b-4036-b458-6ec6b43da21d",
   "metadata": {},
   "source": [
    "# Heading 1"
   ]
  },
  {
   "cell_type": "markdown",
   "id": "f5da8715-7fff-455c-99d1-6108e677fc4e",
   "metadata": {},
   "source": [
    "## Heading 2"
   ]
  },
  {
   "cell_type": "markdown",
   "id": "0851b5f7-898a-44ff-9a8c-22e8f02e456b",
   "metadata": {},
   "source": [
    "### Heading 3"
   ]
  },
  {
   "cell_type": "markdown",
   "id": "8abdc081-60ba-4a6d-8811-eb67e9a1e838",
   "metadata": {},
   "source": [
    "*Italic*"
   ]
  },
  {
   "cell_type": "markdown",
   "id": "9adfd431-6185-4b9a-85ce-117d18cdcf5d",
   "metadata": {},
   "source": [
    "**Bold**"
   ]
  },
  {
   "cell_type": "markdown",
   "id": "5ba8a810-545e-404b-96dc-954e516aa33e",
   "metadata": {},
   "source": [
    "```\n",
    "Block of text\n",
    "```"
   ]
  },
  {
   "cell_type": "markdown",
   "id": "09fff787-49e5-4fb8-b033-9434cea7b5ce",
   "metadata": {},
   "source": [
    "<p style=\"font-size:30px\"> I am Truong</p>"
   ]
  },
  {
   "cell_type": "markdown",
   "id": "46955cdc-a879-41fa-9408-13bcf420f0b1",
   "metadata": {},
   "source": [
    "### 1. Lession\n",
    "- Open github desktop --> Pull Origin\n",
    "Open jupyter lab:\n",
    "1. cd Documents/Github/MCI_..\n",
    "2. conda activate nmtruong\n",
    "3. jupyter lab\n",
    "\n",
    "Create virtual environment:\n",
    "\n",
    "conda create -n nmtruong python=3.7 numpy pandas seaborn matplotlib scikit-learn jupyterlab"
   ]
  },
  {
   "cell_type": "markdown",
   "id": "c5241e43-b6d6-4af7-a5a9-58c10efddb84",
   "metadata": {},
   "source": [
    "# Coding"
   ]
  },
  {
   "cell_type": "markdown",
   "id": "382d481b-64c2-42cd-b817-831555be56b1",
   "metadata": {},
   "source": [
    "### 1. Operations"
   ]
  },
  {
   "cell_type": "markdown",
   "id": "41307433-2f17-412f-a312-2215a10eb81a",
   "metadata": {},
   "source": [
    "#### 1.1. Math operations"
   ]
  },
  {
   "cell_type": "markdown",
   "id": "7d4e6d83-8afb-4ab4-903c-82a7a058c92e",
   "metadata": {},
   "source": [
    "1 + 1\n",
    "\n",
    "1: Operators\n",
    "+ : Operation"
   ]
  },
  {
   "cell_type": "code",
   "execution_count": 5,
   "id": "429b7295-20df-43ef-9410-f4ddc260dfa3",
   "metadata": {},
   "outputs": [
    {
     "data": {
      "text/plain": [
       "4"
      ]
     },
     "execution_count": 5,
     "metadata": {},
     "output_type": "execute_result"
    }
   ],
   "source": [
    "2 + 2"
   ]
  },
  {
   "cell_type": "code",
   "execution_count": 6,
   "id": "01975697-c584-4451-92b9-757ecde07f15",
   "metadata": {},
   "outputs": [
    {
     "data": {
      "text/plain": [
       "0"
      ]
     },
     "execution_count": 6,
     "metadata": {},
     "output_type": "execute_result"
    }
   ],
   "source": [
    "4-4"
   ]
  },
  {
   "cell_type": "code",
   "execution_count": 8,
   "id": "31bc42aa-ccba-482f-9239-76385d022eb8",
   "metadata": {},
   "outputs": [
    {
     "data": {
      "text/plain": [
       "32"
      ]
     },
     "execution_count": 8,
     "metadata": {},
     "output_type": "execute_result"
    }
   ],
   "source": [
    "4 * 8"
   ]
  },
  {
   "cell_type": "code",
   "execution_count": 9,
   "id": "6f548797-10c2-4f3d-b0d4-d8b16e6e9302",
   "metadata": {},
   "outputs": [
    {
     "data": {
      "text/plain": [
       "4.0"
      ]
     },
     "execution_count": 9,
     "metadata": {},
     "output_type": "execute_result"
    }
   ],
   "source": [
    "8 / 2"
   ]
  },
  {
   "cell_type": "code",
   "execution_count": 10,
   "id": "f0a08694-a2d6-4888-8bc3-72c3558f15ad",
   "metadata": {},
   "outputs": [
    {
     "data": {
      "text/plain": [
       "2"
      ]
     },
     "execution_count": 10,
     "metadata": {},
     "output_type": "execute_result"
    }
   ],
   "source": [
    "# Modulus: Lấy phần dư\n",
    "8 % 3"
   ]
  },
  {
   "cell_type": "code",
   "execution_count": 13,
   "id": "db075a25-4743-4e62-b605-084f5913cf09",
   "metadata": {},
   "outputs": [
    {
     "data": {
      "text/plain": [
       "1"
      ]
     },
     "execution_count": 13,
     "metadata": {},
     "output_type": "execute_result"
    }
   ],
   "source": [
    "# Floor division: lấy phần nguyên  8/5 = 1.6 ~ ceil: 2, floor --> 1\n",
    "8 // 5"
   ]
  },
  {
   "cell_type": "code",
   "execution_count": 14,
   "id": "f9800855-bcff-4975-bab7-20e6900ae8d3",
   "metadata": {},
   "outputs": [
    {
     "data": {
      "text/plain": [
       "16"
      ]
     },
     "execution_count": 14,
     "metadata": {},
     "output_type": "execute_result"
    }
   ],
   "source": [
    "4 ** 2"
   ]
  },
  {
   "cell_type": "code",
   "execution_count": 15,
   "id": "50d1153b-208d-4270-b217-945d1f246aa3",
   "metadata": {},
   "outputs": [
    {
     "data": {
      "text/plain": [
       "4"
      ]
     },
     "execution_count": 15,
     "metadata": {},
     "output_type": "execute_result"
    }
   ],
   "source": [
    "abs(-4)"
   ]
  },
  {
   "cell_type": "code",
   "execution_count": 16,
   "id": "95fc27f4-ac3c-4f18-99e3-e5f17a0fd824",
   "metadata": {},
   "outputs": [
    {
     "data": {
      "text/plain": [
       "4.0"
      ]
     },
     "execution_count": 16,
     "metadata": {},
     "output_type": "execute_result"
    }
   ],
   "source": [
    "16 ** (1/2)"
   ]
  },
  {
   "cell_type": "code",
   "execution_count": 20,
   "id": "ce06a097-51d3-45d9-b52f-b428d13473ac",
   "metadata": {},
   "outputs": [
    {
     "data": {
      "text/plain": [
       "4.24"
      ]
     },
     "execution_count": 20,
     "metadata": {},
     "output_type": "execute_result"
    }
   ],
   "source": [
    "round(1.2355 + 3, 2)"
   ]
  },
  {
   "cell_type": "code",
   "execution_count": 21,
   "id": "ae7a9bee-3a1b-46eb-b94f-f0ed3b6d81ff",
   "metadata": {},
   "outputs": [
    {
     "data": {
      "text/plain": [
       "7"
      ]
     },
     "execution_count": 21,
     "metadata": {},
     "output_type": "execute_result"
    }
   ],
   "source": [
    "1 + 2*3"
   ]
  },
  {
   "cell_type": "code",
   "execution_count": 22,
   "id": "6136be32-4033-45f9-9c03-14876b22b547",
   "metadata": {},
   "outputs": [],
   "source": [
    "import math"
   ]
  },
  {
   "cell_type": "code",
   "execution_count": 23,
   "id": "3f9177c9-2d22-4e71-9ff3-d92164429bf8",
   "metadata": {},
   "outputs": [
    {
     "data": {
      "text/plain": [
       "2.0"
      ]
     },
     "execution_count": 23,
     "metadata": {},
     "output_type": "execute_result"
    }
   ],
   "source": [
    "math.log10(100)"
   ]
  },
  {
   "cell_type": "markdown",
   "id": "99cbcc1e-95a4-42ed-a4f1-319a61fe63ca",
   "metadata": {},
   "source": [
    "#### 1.2. Logic Operations\n",
    "- AND: True if all true\n",
    "- OR: True if at least one true\n",
    "- NOT: True --> False, False --> True\n",
    "- XOR: Same values --> False, else --> True"
   ]
  },
  {
   "cell_type": "code",
   "execution_count": 77,
   "id": "0bd300f0-ba87-4005-85a2-d10edb6ed9ca",
   "metadata": {},
   "outputs": [
    {
     "data": {
      "text/plain": [
       "True"
      ]
     },
     "execution_count": 77,
     "metadata": {},
     "output_type": "execute_result"
    }
   ],
   "source": [
    "True and True"
   ]
  },
  {
   "cell_type": "code",
   "execution_count": 79,
   "id": "2ecfacba-8c7b-4c57-9a32-08ac255df640",
   "metadata": {},
   "outputs": [
    {
     "data": {
      "text/plain": [
       "False"
      ]
     },
     "execution_count": 79,
     "metadata": {},
     "output_type": "execute_result"
    }
   ],
   "source": [
    "True and False and True"
   ]
  },
  {
   "cell_type": "code",
   "execution_count": 80,
   "id": "618d3f51-f9f5-479d-a2c9-f10f3597cd12",
   "metadata": {},
   "outputs": [
    {
     "data": {
      "text/plain": [
       "True"
      ]
     },
     "execution_count": 80,
     "metadata": {},
     "output_type": "execute_result"
    }
   ],
   "source": [
    "True or False or False"
   ]
  },
  {
   "cell_type": "code",
   "execution_count": 81,
   "id": "b8e6ab8b-70eb-4a1e-9558-d684f95ba2de",
   "metadata": {},
   "outputs": [
    {
     "data": {
      "text/plain": [
       "False"
      ]
     },
     "execution_count": 81,
     "metadata": {},
     "output_type": "execute_result"
    }
   ],
   "source": [
    "False or False or False"
   ]
  },
  {
   "cell_type": "code",
   "execution_count": 82,
   "id": "b53ae1a9-e254-4e93-b83a-e8bc996bae44",
   "metadata": {},
   "outputs": [
    {
     "data": {
      "text/plain": [
       "True"
      ]
     },
     "execution_count": 82,
     "metadata": {},
     "output_type": "execute_result"
    }
   ],
   "source": [
    "not False"
   ]
  },
  {
   "cell_type": "code",
   "execution_count": 83,
   "id": "abfc1f5e-d9ce-4a79-9bbd-9909ae91092f",
   "metadata": {},
   "outputs": [
    {
     "data": {
      "text/plain": [
       "True"
      ]
     },
     "execution_count": 83,
     "metadata": {},
     "output_type": "execute_result"
    }
   ],
   "source": [
    "True and False or False or not False "
   ]
  },
  {
   "cell_type": "code",
   "execution_count": 90,
   "id": "d4517aea-6bf3-4c45-8146-1fc23ad64a2c",
   "metadata": {},
   "outputs": [
    {
     "data": {
      "text/plain": [
       "True"
      ]
     },
     "execution_count": 90,
     "metadata": {},
     "output_type": "execute_result"
    }
   ],
   "source": [
    "True & True # Binary operations"
   ]
  },
  {
   "cell_type": "code",
   "execution_count": 91,
   "id": "4f91f3f7-67cf-4630-b534-c69515a27f01",
   "metadata": {},
   "outputs": [
    {
     "data": {
      "text/plain": [
       "True"
      ]
     },
     "execution_count": 91,
     "metadata": {},
     "output_type": "execute_result"
    }
   ],
   "source": [
    "True | False"
   ]
  },
  {
   "cell_type": "markdown",
   "id": "8a475268-bf0c-4904-99d7-c934a5cd520d",
   "metadata": {},
   "source": [
    "#### 1.3. Conditional Operations\n",
    "```\n",
    ">\n",
    "<\n",
    "<=\n",
    ">=\n",
    "==\n",
    "!=\n",
    "```"
   ]
  },
  {
   "cell_type": "markdown",
   "id": "7f2b7948-5510-4f01-892a-b12c9579772e",
   "metadata": {},
   "source": [
    "```\n",
    "=: Asignment\n",
    "== : Comparision\n",
    "```"
   ]
  },
  {
   "cell_type": "code",
   "execution_count": 84,
   "id": "c138fa5b-4f31-4e68-88f6-0cc38ce05f28",
   "metadata": {},
   "outputs": [
    {
     "data": {
      "text/plain": [
       "True"
      ]
     },
     "execution_count": 84,
     "metadata": {},
     "output_type": "execute_result"
    }
   ],
   "source": [
    "4 > 2"
   ]
  },
  {
   "cell_type": "code",
   "execution_count": 85,
   "id": "f079514a-ae4c-4260-ac17-036a87972cbd",
   "metadata": {},
   "outputs": [
    {
     "data": {
      "text/plain": [
       "True"
      ]
     },
     "execution_count": 85,
     "metadata": {},
     "output_type": "execute_result"
    }
   ],
   "source": [
    "4 >= 4  # 4 > 4 or 4 == 4 "
   ]
  },
  {
   "cell_type": "code",
   "execution_count": 86,
   "id": "55139c56-2157-4ec6-8de0-097f39edc5d2",
   "metadata": {},
   "outputs": [
    {
     "data": {
      "text/plain": [
       "True"
      ]
     },
     "execution_count": 86,
     "metadata": {},
     "output_type": "execute_result"
    }
   ],
   "source": [
    "(4 > 4) or (4 == 4)"
   ]
  },
  {
   "cell_type": "code",
   "execution_count": 87,
   "id": "73844cdb-b84f-4c41-8b2b-2b61ee25388b",
   "metadata": {},
   "outputs": [
    {
     "data": {
      "text/plain": [
       "False"
      ]
     },
     "execution_count": 87,
     "metadata": {},
     "output_type": "execute_result"
    }
   ],
   "source": [
    "4 != 4"
   ]
  },
  {
   "cell_type": "code",
   "execution_count": 88,
   "id": "b9029631-396a-4632-889b-a59ddf72f19f",
   "metadata": {},
   "outputs": [
    {
     "data": {
      "text/plain": [
       "True"
      ]
     },
     "execution_count": 88,
     "metadata": {},
     "output_type": "execute_result"
    }
   ],
   "source": [
    "4 == 4"
   ]
  },
  {
   "cell_type": "code",
   "execution_count": 89,
   "id": "5c47ceb0-0cfc-4e8d-b888-a03b1a663791",
   "metadata": {},
   "outputs": [
    {
     "data": {
      "text/plain": [
       "False"
      ]
     },
     "execution_count": 89,
     "metadata": {},
     "output_type": "execute_result"
    }
   ],
   "source": [
    "4 == 3"
   ]
  },
  {
   "cell_type": "code",
   "execution_count": 92,
   "id": "af008333-1bcb-4fda-9fda-2d440e88dc9a",
   "metadata": {},
   "outputs": [
    {
     "data": {
      "text/plain": [
       "True"
      ]
     },
     "execution_count": 92,
     "metadata": {},
     "output_type": "execute_result"
    }
   ],
   "source": [
    "4 == 4 "
   ]
  },
  {
   "cell_type": "code",
   "execution_count": 93,
   "id": "b7920c33-4eef-4a9f-b454-9dcfac489a9f",
   "metadata": {},
   "outputs": [
    {
     "data": {
      "text/plain": [
       "True"
      ]
     },
     "execution_count": 93,
     "metadata": {},
     "output_type": "execute_result"
    }
   ],
   "source": [
    "4 is 4"
   ]
  },
  {
   "cell_type": "code",
   "execution_count": 100,
   "id": "50b78678-ff9f-4daf-8768-b41962322f2e",
   "metadata": {},
   "outputs": [],
   "source": [
    "a = 4\n",
    "b = 4"
   ]
  },
  {
   "cell_type": "code",
   "execution_count": 101,
   "id": "d28979ea-7e24-449e-8474-0ca6cfd13300",
   "metadata": {},
   "outputs": [
    {
     "data": {
      "text/plain": [
       "True"
      ]
     },
     "execution_count": 101,
     "metadata": {},
     "output_type": "execute_result"
    }
   ],
   "source": [
    "a == b"
   ]
  },
  {
   "cell_type": "code",
   "execution_count": 102,
   "id": "a62e0509-8b5e-4318-82fc-133b64ad3797",
   "metadata": {},
   "outputs": [
    {
     "data": {
      "text/plain": [
       "4387095248"
      ]
     },
     "execution_count": 102,
     "metadata": {},
     "output_type": "execute_result"
    }
   ],
   "source": [
    "id(a)"
   ]
  },
  {
   "cell_type": "code",
   "execution_count": 103,
   "id": "8cefbc9f-a3c5-4288-af78-2ee12a5e4285",
   "metadata": {},
   "outputs": [
    {
     "data": {
      "text/plain": [
       "4387095248"
      ]
     },
     "execution_count": 103,
     "metadata": {},
     "output_type": "execute_result"
    }
   ],
   "source": [
    "id(b)"
   ]
  },
  {
   "cell_type": "code",
   "execution_count": 108,
   "id": "6ff0d6dd-2b73-49f4-bb35-c664860d83cb",
   "metadata": {},
   "outputs": [
    {
     "data": {
      "text/plain": [
       "True"
      ]
     },
     "execution_count": 108,
     "metadata": {},
     "output_type": "execute_result"
    }
   ],
   "source": [
    "# == : values, is: address\n",
    "a is b"
   ]
  },
  {
   "cell_type": "code",
   "execution_count": 109,
   "id": "8afad451-cd81-4605-a313-630ffd39ea92",
   "metadata": {},
   "outputs": [],
   "source": [
    "a = 4"
   ]
  },
  {
   "cell_type": "code",
   "execution_count": 110,
   "id": "e8caf185-0d11-41df-be39-31a817927d4e",
   "metadata": {},
   "outputs": [
    {
     "data": {
      "text/plain": [
       "4387095248"
      ]
     },
     "execution_count": 110,
     "metadata": {},
     "output_type": "execute_result"
    }
   ],
   "source": [
    "id(a)"
   ]
  },
  {
   "cell_type": "code",
   "execution_count": 111,
   "id": "98bda86b-8e68-40b0-8b5f-d9933a1788e5",
   "metadata": {},
   "outputs": [
    {
     "data": {
      "text/plain": [
       "4387095248"
      ]
     },
     "execution_count": 111,
     "metadata": {},
     "output_type": "execute_result"
    }
   ],
   "source": [
    "c = 4\n",
    "id(4)"
   ]
  },
  {
   "cell_type": "code",
   "execution_count": 112,
   "id": "4ca6fcf6-e199-4910-873f-e3cdbd9b72b6",
   "metadata": {},
   "outputs": [
    {
     "data": {
      "text/plain": [
       "4387095280"
      ]
     },
     "execution_count": 112,
     "metadata": {},
     "output_type": "execute_result"
    }
   ],
   "source": [
    "a = 5\n",
    "id(a)"
   ]
  },
  {
   "cell_type": "code",
   "execution_count": 115,
   "id": "f184a3a9-3d46-4a09-b97e-693f778decae",
   "metadata": {},
   "outputs": [
    {
     "data": {
      "text/plain": [
       "140219699357264"
      ]
     },
     "execution_count": 115,
     "metadata": {},
     "output_type": "execute_result"
    }
   ],
   "source": [
    "b = 25 / 5\n",
    "id(b)"
   ]
  },
  {
   "cell_type": "code",
   "execution_count": 118,
   "id": "116c088b-9ae7-41ce-a48f-91554a4de0cb",
   "metadata": {},
   "outputs": [
    {
     "name": "stdout",
     "output_type": "stream",
     "text": [
      "4387095280\n",
      "140219699357264\n"
     ]
    }
   ],
   "source": [
    "print(id(a))\n",
    "print(id(b))"
   ]
  },
  {
   "cell_type": "code",
   "execution_count": 117,
   "id": "e9e15d58-0c3c-4d0c-bbd6-7838ba3bfd3e",
   "metadata": {},
   "outputs": [
    {
     "data": {
      "text/plain": [
       "True"
      ]
     },
     "execution_count": 117,
     "metadata": {},
     "output_type": "execute_result"
    }
   ],
   "source": [
    "a == b"
   ]
  },
  {
   "cell_type": "code",
   "execution_count": 119,
   "id": "4dd0d661-1bef-4caf-8f11-16db1a6de121",
   "metadata": {},
   "outputs": [
    {
     "data": {
      "text/plain": [
       "False"
      ]
     },
     "execution_count": 119,
     "metadata": {},
     "output_type": "execute_result"
    }
   ],
   "source": [
    "a is b"
   ]
  },
  {
   "cell_type": "markdown",
   "id": "d77e087d-f4e0-43a2-84f7-e5fdf09663e0",
   "metadata": {},
   "source": [
    "Object-oriented Programming: teacher\n",
    "- Attributes/ Properties: Thuộc tính --> Static: name, Identity, age,..\n",
    "- Methods/ Functions: Phương thức/ Hàm số --> Action, dynamic: teaching, speak,..."
   ]
  },
  {
   "cell_type": "markdown",
   "id": "26c25000-67eb-4b57-b690-a59da9c03cd7",
   "metadata": {},
   "source": [
    "### 2. Datatypes and data structures"
   ]
  },
  {
   "cell_type": "markdown",
   "id": "ed341528-a97f-4750-be52-bfa326e66110",
   "metadata": {},
   "source": [
    "Programming = data structures + algorithms\n",
    "- Data structures: What is it?\n",
    "- Algorithms: What should I do?"
   ]
  },
  {
   "cell_type": "markdown",
   "id": "3ca0fa7e-3666-480b-8364-3a70ea532137",
   "metadata": {},
   "source": [
    "#### 2.1. Datatypes"
   ]
  },
  {
   "cell_type": "markdown",
   "id": "d5c1ddb5-4c4f-4adc-9da1-5825b6f48aa2",
   "metadata": {},
   "source": [
    "- Nummerics: integer, float\n",
    "- String: text, char\n",
    "- Boolean: True/ False\n",
    "- Datetime\n",
    "- Complex: 1 + 2j\n",
    "- Nonetype"
   ]
  },
  {
   "cell_type": "code",
   "execution_count": 24,
   "id": "9209129d-5d96-4828-8e75-8e63372aa174",
   "metadata": {},
   "outputs": [
    {
     "data": {
      "text/plain": [
       "int"
      ]
     },
     "execution_count": 24,
     "metadata": {},
     "output_type": "execute_result"
    }
   ],
   "source": [
    "type(1)"
   ]
  },
  {
   "cell_type": "code",
   "execution_count": 25,
   "id": "ebd5a33b-b0c3-405d-b104-70956becf1a1",
   "metadata": {},
   "outputs": [
    {
     "data": {
      "text/plain": [
       "float"
      ]
     },
     "execution_count": 25,
     "metadata": {},
     "output_type": "execute_result"
    }
   ],
   "source": [
    "type(1.0)"
   ]
  },
  {
   "cell_type": "code",
   "execution_count": 27,
   "id": "42387528-b1a6-4a73-8b60-4405fec11f5d",
   "metadata": {},
   "outputs": [
    {
     "data": {
      "text/plain": [
       "str"
      ]
     },
     "execution_count": 27,
     "metadata": {},
     "output_type": "execute_result"
    }
   ],
   "source": [
    "# No diff between '', \"\"\n",
    "type('')"
   ]
  },
  {
   "cell_type": "code",
   "execution_count": 28,
   "id": "abd16a34-3a61-4bb1-967f-9be04968036a",
   "metadata": {},
   "outputs": [
    {
     "data": {
      "text/plain": [
       "str"
      ]
     },
     "execution_count": 28,
     "metadata": {},
     "output_type": "execute_result"
    }
   ],
   "source": [
    "type('truong')"
   ]
  },
  {
   "cell_type": "code",
   "execution_count": 29,
   "id": "9bb45c8b-36c5-428e-b964-42827ef13614",
   "metadata": {},
   "outputs": [
    {
     "data": {
      "text/plain": [
       "str"
      ]
     },
     "execution_count": 29,
     "metadata": {},
     "output_type": "execute_result"
    }
   ],
   "source": [
    "type('t')"
   ]
  },
  {
   "cell_type": "code",
   "execution_count": 30,
   "id": "a7c748ff-cd28-4e65-89d4-25ad7129f1dd",
   "metadata": {},
   "outputs": [
    {
     "data": {
      "text/plain": [
       "bool"
      ]
     },
     "execution_count": 30,
     "metadata": {},
     "output_type": "execute_result"
    }
   ],
   "source": [
    "type(True)"
   ]
  },
  {
   "cell_type": "code",
   "execution_count": 31,
   "id": "65e31dba-afe1-4aea-bb02-55287f5fef0a",
   "metadata": {},
   "outputs": [
    {
     "data": {
      "text/plain": [
       "bool"
      ]
     },
     "execution_count": 31,
     "metadata": {},
     "output_type": "execute_result"
    }
   ],
   "source": [
    "type(False)"
   ]
  },
  {
   "cell_type": "code",
   "execution_count": 32,
   "id": "c7d9c994-783b-4b9e-960b-8d011b1f8eea",
   "metadata": {},
   "outputs": [
    {
     "name": "stdout",
     "output_type": "stream",
     "text": [
      "Hello World!\n",
      "Hello World!\n"
     ]
    }
   ],
   "source": [
    "print('Hello World!')\n",
    "print(\"Hello World!\")"
   ]
  },
  {
   "cell_type": "code",
   "execution_count": null,
   "id": "3fe0179d-1cc2-4e03-80b7-9ba8e5f03f71",
   "metadata": {},
   "outputs": [],
   "source": [
    "hello worl --> translator (compiler) --> 101001010101"
   ]
  },
  {
   "cell_type": "code",
   "execution_count": 33,
   "id": "daeb7f51-b162-4f0c-8a11-173dc6442999",
   "metadata": {},
   "outputs": [
    {
     "name": "stdout",
     "output_type": "stream",
     "text": [
      "Hello world\n"
     ]
    }
   ],
   "source": [
    "print('Hello world')"
   ]
  },
  {
   "cell_type": "code",
   "execution_count": 34,
   "id": "c984242e-3c8e-45a5-b2c9-01866f30772f",
   "metadata": {},
   "outputs": [
    {
     "ename": "NameError",
     "evalue": "name 'Print' is not defined",
     "output_type": "error",
     "traceback": [
      "\u001b[0;31m---------------------------------------------------------------------------\u001b[0m",
      "\u001b[0;31mNameError\u001b[0m                                 Traceback (most recent call last)",
      "\u001b[0;32m<ipython-input-34-6cb0b85ff23a>\u001b[0m in \u001b[0;36m<module>\u001b[0;34m\u001b[0m\n\u001b[1;32m      1\u001b[0m \u001b[0;31m# Programming language\u001b[0m\u001b[0;34m\u001b[0m\u001b[0;34m\u001b[0m\u001b[0;34m\u001b[0m\u001b[0m\n\u001b[0;32m----> 2\u001b[0;31m \u001b[0mPrint\u001b[0m\u001b[0;34m(\u001b[0m\u001b[0;34m'Hello world'\u001b[0m\u001b[0;34m)\u001b[0m\u001b[0;34m\u001b[0m\u001b[0;34m\u001b[0m\u001b[0m\n\u001b[0m",
      "\u001b[0;31mNameError\u001b[0m: name 'Print' is not defined"
     ]
    }
   ],
   "source": [
    "# Programming language\n",
    "Print('Hello world')"
   ]
  },
  {
   "cell_type": "code",
   "execution_count": 35,
   "id": "d47d63d0-1f6b-404c-87ab-a10e6629655c",
   "metadata": {},
   "outputs": [
    {
     "data": {
      "text/plain": [
       "NoneType"
      ]
     },
     "execution_count": 35,
     "metadata": {},
     "output_type": "execute_result"
    }
   ],
   "source": [
    "# Null differ empty\n",
    "type(None)"
   ]
  },
  {
   "cell_type": "code",
   "execution_count": 39,
   "id": "a3456d99-171a-4ea1-884a-4474ae552c24",
   "metadata": {},
   "outputs": [
    {
     "data": {
      "text/plain": [
       "complex"
      ]
     },
     "execution_count": 39,
     "metadata": {},
     "output_type": "execute_result"
    }
   ],
   "source": [
    "# real + imaginary\n",
    "type(2 + 3j)"
   ]
  },
  {
   "cell_type": "code",
   "execution_count": 41,
   "id": "f0daf741-a884-4c25-a31d-e87b3cb2ed19",
   "metadata": {},
   "outputs": [
    {
     "data": {
      "text/plain": [
       "(-1+0j)"
      ]
     },
     "execution_count": 41,
     "metadata": {},
     "output_type": "execute_result"
    }
   ],
   "source": [
    "(1j)**2"
   ]
  },
  {
   "cell_type": "code",
   "execution_count": 42,
   "id": "39db0a62-701c-4f65-a5bd-797f4337f393",
   "metadata": {},
   "outputs": [],
   "source": [
    "from datetime import datetime, "
   ]
  },
  {
   "cell_type": "code",
   "execution_count": 44,
   "id": "a77a422d-d370-49d4-bde7-1f9b1bb729b0",
   "metadata": {},
   "outputs": [
    {
     "data": {
      "text/plain": [
       "datetime.datetime"
      ]
     },
     "execution_count": 44,
     "metadata": {},
     "output_type": "execute_result"
    }
   ],
   "source": [
    "type(datetime.now())"
   ]
  },
  {
   "cell_type": "code",
   "execution_count": 46,
   "id": "140bbb89-5d17-4c65-8d18-59954f26c3d5",
   "metadata": {},
   "outputs": [
    {
     "data": {
      "text/plain": [
       "2021"
      ]
     },
     "execution_count": 46,
     "metadata": {},
     "output_type": "execute_result"
    }
   ],
   "source": [
    "datetime.now().year"
   ]
  },
  {
   "cell_type": "code",
   "execution_count": 47,
   "id": "841f6ef5-fc52-4fe7-8aa0-23d8894fb106",
   "metadata": {},
   "outputs": [
    {
     "data": {
      "text/plain": [
       "5"
      ]
     },
     "execution_count": 47,
     "metadata": {},
     "output_type": "execute_result"
    }
   ],
   "source": [
    "datetime.now().month"
   ]
  },
  {
   "cell_type": "code",
   "execution_count": 52,
   "id": "d2c8fdb0-1213-4d82-bc22-c91b4fbb9dbd",
   "metadata": {},
   "outputs": [
    {
     "data": {
      "text/plain": [
       "'2021-05-09 15:44:1620549847'"
      ]
     },
     "execution_count": 52,
     "metadata": {},
     "output_type": "execute_result"
    }
   ],
   "source": [
    "datetime.strftime(datetime.now(), '%Y-%m-%d %H:%M:%s')"
   ]
  },
  {
   "cell_type": "code",
   "execution_count": 53,
   "id": "bd82e569-163f-4ab8-99ba-b95a882341a0",
   "metadata": {},
   "outputs": [
    {
     "data": {
      "text/plain": [
       "str"
      ]
     },
     "execution_count": 53,
     "metadata": {},
     "output_type": "execute_result"
    }
   ],
   "source": [
    "type(\"2021-05-09 15:44:16\")"
   ]
  },
  {
   "cell_type": "code",
   "execution_count": 54,
   "id": "fe65b9fb-9689-4fba-b790-a5b6b7c0d151",
   "metadata": {},
   "outputs": [],
   "source": [
    "import datetime"
   ]
  },
  {
   "cell_type": "code",
   "execution_count": 55,
   "id": "ffd7762e-d188-47d1-85f6-ece576ee92ad",
   "metadata": {},
   "outputs": [
    {
     "data": {
      "text/plain": [
       "datetime.datetime(2021, 5, 9, 15, 50, 33, 375762)"
      ]
     },
     "execution_count": 55,
     "metadata": {},
     "output_type": "execute_result"
    }
   ],
   "source": [
    "datetime.datetime.now()"
   ]
  },
  {
   "cell_type": "code",
   "execution_count": 57,
   "id": "34bcedd8-6120-4962-a241-6dbaac61a3dd",
   "metadata": {},
   "outputs": [],
   "source": [
    "from dateutil import relativedelta"
   ]
  },
  {
   "cell_type": "code",
   "execution_count": null,
   "id": "45367fe9-aede-416c-95d6-fd54738644b3",
   "metadata": {},
   "outputs": [],
   "source": [
    "datetime.timedelta()"
   ]
  },
  {
   "cell_type": "code",
   "execution_count": 58,
   "id": "1fbb6c3e-a366-4b6b-b0c1-d8cc09cc382c",
   "metadata": {},
   "outputs": [
    {
     "data": {
      "text/plain": [
       "datetime.datetime(2021, 5, 9, 15, 53, 17, 145929)"
      ]
     },
     "execution_count": 58,
     "metadata": {},
     "output_type": "execute_result"
    }
   ],
   "source": [
    "start = datetime.datetime.now()\n",
    "start"
   ]
  },
  {
   "cell_type": "code",
   "execution_count": 60,
   "id": "60e6b280-3b8c-4cae-8c1e-b5e2944a4877",
   "metadata": {},
   "outputs": [],
   "source": [
    "previous = start - datetime.timedelta(days=30)"
   ]
  },
  {
   "cell_type": "code",
   "execution_count": 69,
   "id": "82fab2f4-8c00-458b-b12c-ab0fcd1d72e7",
   "metadata": {},
   "outputs": [
    {
     "data": {
      "text/plain": [
       "4"
      ]
     },
     "execution_count": 69,
     "metadata": {},
     "output_type": "execute_result"
    }
   ],
   "source": [
    "previous.weekday()"
   ]
  },
  {
   "cell_type": "markdown",
   "id": "7b87362f-6165-424c-8d24-3ca630bf5aff",
   "metadata": {},
   "source": [
    "#### 2.2. Data structures"
   ]
  },
  {
   "cell_type": "markdown",
   "id": "fdc4a11d-3885-49f1-96f1-018942c29049",
   "metadata": {},
   "source": [
    "- List: [], list(), index\n",
    "- Tuple: (), tuple(), index\n",
    "- Set: {}, set(), non-index, no-duplicated values\n",
    "- Dictionary: {key: value}, no-duplicated keys"
   ]
  },
  {
   "cell_type": "markdown",
   "id": "327377e0-a930-4c82-b7f7-4148dcc1b878",
   "metadata": {},
   "source": [
    "##### 2.2.1. List\n",
    "- Mix data types\n",
    "- Index --> ordered"
   ]
  },
  {
   "cell_type": "markdown",
   "id": "ea7e0207-a8ec-4776-b561-4567d65f8566",
   "metadata": {},
   "source": [
    "**Variable**\n",
    "- A name contains values and assigned memory adress\n",
    "- reusable\n",
    "- No capital --> lower case\n",
    "- Meaning\n",
    "- Meaning words: '_'"
   ]
  },
  {
   "cell_type": "code",
   "execution_count": 121,
   "id": "8c09b4fa-1803-4b7a-b47b-cad6665100d1",
   "metadata": {},
   "outputs": [],
   "source": [
    "li = [1, 2, 3, 4, 'Truong', 'Nam', True, 1 + 2j]"
   ]
  },
  {
   "cell_type": "code",
   "execution_count": 122,
   "id": "72d35a22-287a-4eae-8de4-18e8b33e64c6",
   "metadata": {},
   "outputs": [
    {
     "data": {
      "text/plain": [
       "[1, 2, 3, 4, 'Truong', 'Nam', True, (1+2j)]"
      ]
     },
     "execution_count": 122,
     "metadata": {},
     "output_type": "execute_result"
    }
   ],
   "source": [
    "li"
   ]
  },
  {
   "cell_type": "code",
   "execution_count": 123,
   "id": "af8864e6-ff98-47f5-9ebf-e9e69fa3fe8c",
   "metadata": {},
   "outputs": [
    {
     "data": {
      "text/plain": [
       "140218886090336"
      ]
     },
     "execution_count": 123,
     "metadata": {},
     "output_type": "execute_result"
    }
   ],
   "source": [
    "id(li)"
   ]
  },
  {
   "cell_type": "code",
   "execution_count": 124,
   "id": "246a3a27-4508-42c7-88a9-f6e47ea8302d",
   "metadata": {},
   "outputs": [
    {
     "data": {
      "text/plain": [
       "1"
      ]
     },
     "execution_count": 124,
     "metadata": {},
     "output_type": "execute_result"
    }
   ],
   "source": [
    "li[0]"
   ]
  },
  {
   "cell_type": "code",
   "execution_count": 125,
   "id": "43d6255d-80f5-44e4-acb5-5dd8bf8eb196",
   "metadata": {},
   "outputs": [
    {
     "data": {
      "text/plain": [
       "'Nam'"
      ]
     },
     "execution_count": 125,
     "metadata": {},
     "output_type": "execute_result"
    }
   ],
   "source": [
    "li[5]"
   ]
  },
  {
   "cell_type": "code",
   "execution_count": 126,
   "id": "e46c07fa-db04-4bf9-bf4d-73d9b2d34920",
   "metadata": {},
   "outputs": [
    {
     "data": {
      "text/plain": [
       "(1+2j)"
      ]
     },
     "execution_count": 126,
     "metadata": {},
     "output_type": "execute_result"
    }
   ],
   "source": [
    "li[-1]"
   ]
  },
  {
   "cell_type": "code",
   "execution_count": 127,
   "id": "30ad59b0-6f9c-4ea1-a126-133031eb6c72",
   "metadata": {},
   "outputs": [
    {
     "data": {
      "text/plain": [
       "True"
      ]
     },
     "execution_count": 127,
     "metadata": {},
     "output_type": "execute_result"
    }
   ],
   "source": [
    "li[-2]"
   ]
  },
  {
   "cell_type": "code",
   "execution_count": 129,
   "id": "b84a7d01-4c32-42e1-a129-7a2ff6efa685",
   "metadata": {},
   "outputs": [
    {
     "data": {
      "text/plain": [
       "[2, 3, 4]"
      ]
     },
     "execution_count": 129,
     "metadata": {},
     "output_type": "execute_result"
    }
   ],
   "source": [
    "li[1: 4]  # start: inclusive, end: exclusive"
   ]
  },
  {
   "cell_type": "code",
   "execution_count": 130,
   "id": "f2494233-4e46-4521-b1a5-3fe059787b4e",
   "metadata": {},
   "outputs": [
    {
     "data": {
      "text/plain": [
       "[1, 2, 3, 4, 'Truong', 'Nam', True, (1+2j)]"
      ]
     },
     "execution_count": 130,
     "metadata": {},
     "output_type": "execute_result"
    }
   ],
   "source": [
    "li"
   ]
  },
  {
   "cell_type": "code",
   "execution_count": 131,
   "id": "c1c26b45-8426-4dd5-a1c8-d0c73de50415",
   "metadata": {},
   "outputs": [
    {
     "data": {
      "text/plain": [
       "[1, 2, 3, 4, 'Ly', 'Nam', True, (1+2j)]"
      ]
     },
     "execution_count": 131,
     "metadata": {},
     "output_type": "execute_result"
    }
   ],
   "source": [
    "li[4] = 'Ly'\n",
    "li"
   ]
  },
  {
   "cell_type": "code",
   "execution_count": 132,
   "id": "f56d95b8-da22-45d2-b98e-673e1cc29636",
   "metadata": {},
   "outputs": [
    {
     "data": {
      "text/plain": [
       "[1, 5, 6, 7, 'Ly', 'Nam', True, (1+2j)]"
      ]
     },
     "execution_count": 132,
     "metadata": {},
     "output_type": "execute_result"
    }
   ],
   "source": [
    "li[1: 4] = [5, 6, 7]\n",
    "li"
   ]
  },
  {
   "cell_type": "code",
   "execution_count": 133,
   "id": "87229b51-9826-474d-b568-442bfa974f3a",
   "metadata": {},
   "outputs": [
    {
     "data": {
      "text/plain": [
       "[1, 5, 6, 7, 'Ly', 'Nam', (1+2j)]"
      ]
     },
     "execution_count": 133,
     "metadata": {},
     "output_type": "execute_result"
    }
   ],
   "source": [
    "del li[-2]\n",
    "li"
   ]
  },
  {
   "cell_type": "code",
   "execution_count": 134,
   "id": "b47892ff-c374-4c07-805a-8c4e4abff2df",
   "metadata": {},
   "outputs": [
    {
     "data": {
      "text/plain": [
       "[1, 6, 'Ly', (1+2j)]"
      ]
     },
     "execution_count": 134,
     "metadata": {},
     "output_type": "execute_result"
    }
   ],
   "source": [
    "li[::2]"
   ]
  },
  {
   "cell_type": "code",
   "execution_count": 136,
   "id": "490076b7-ff22-4718-9eb4-50433551cda3",
   "metadata": {},
   "outputs": [
    {
     "data": {
      "text/plain": [
       "[(1+2j), 'Nam', 'Ly', 7, 6, 5, 1]"
      ]
     },
     "execution_count": 136,
     "metadata": {},
     "output_type": "execute_result"
    }
   ],
   "source": [
    "li[::-1]"
   ]
  },
  {
   "cell_type": "code",
   "execution_count": 137,
   "id": "7eda9dde-a5a7-45e8-81f4-b3516fa29925",
   "metadata": {},
   "outputs": [
    {
     "data": {
      "text/plain": [
       "['append',\n",
       " 'clear',\n",
       " 'copy',\n",
       " 'count',\n",
       " 'extend',\n",
       " 'index',\n",
       " 'insert',\n",
       " 'pop',\n",
       " 'remove',\n",
       " 'reverse',\n",
       " 'sort']"
      ]
     },
     "execution_count": 137,
     "metadata": {},
     "output_type": "execute_result"
    }
   ],
   "source": [
    "[method for method in dir(li) if not method.startswith('_')]"
   ]
  },
  {
   "cell_type": "code",
   "execution_count": 138,
   "id": "43eff6eb-226c-457e-addc-837de4b00530",
   "metadata": {},
   "outputs": [
    {
     "data": {
      "text/plain": [
       "[1, 5, 6, 7, 'Ly', 'Nam', (1+2j)]"
      ]
     },
     "execution_count": 138,
     "metadata": {},
     "output_type": "execute_result"
    }
   ],
   "source": [
    "li"
   ]
  },
  {
   "cell_type": "code",
   "execution_count": 139,
   "id": "87ec2896-d06b-4d14-b337-a1a3de346505",
   "metadata": {},
   "outputs": [],
   "source": [
    "li.append(['Toi', 'di', 'hoc'])"
   ]
  },
  {
   "cell_type": "code",
   "execution_count": 140,
   "id": "952977b2-5731-4538-b0d2-3226b735b6c4",
   "metadata": {},
   "outputs": [
    {
     "data": {
      "text/plain": [
       "[1, 5, 6, 7, 'Ly', 'Nam', (1+2j), ['Toi', 'di', 'hoc']]"
      ]
     },
     "execution_count": 140,
     "metadata": {},
     "output_type": "execute_result"
    }
   ],
   "source": [
    "li"
   ]
  },
  {
   "cell_type": "markdown",
   "id": "39c51443-0b89-4128-9dfe-0d032d39ce78",
   "metadata": {},
   "source": [
    "Functions:\n",
    "- Edit at original address\n",
    "- Return new object and not edit at orginal address"
   ]
  },
  {
   "cell_type": "code",
   "execution_count": 141,
   "id": "97df093c-c6d3-4091-ace8-ee2eb15be629",
   "metadata": {},
   "outputs": [],
   "source": [
    "li_2 = li.append(5)"
   ]
  },
  {
   "cell_type": "code",
   "execution_count": 147,
   "id": "56501658-4f3c-4a9f-844c-4a0fa8cbd570",
   "metadata": {},
   "outputs": [],
   "source": [
    "li_2"
   ]
  },
  {
   "cell_type": "code",
   "execution_count": 143,
   "id": "093838a7-50c3-46a3-964f-27a308d02963",
   "metadata": {},
   "outputs": [],
   "source": [
    "a = li.count(5)"
   ]
  },
  {
   "cell_type": "code",
   "execution_count": 148,
   "id": "da89a4bd-4dfb-4097-ab6e-56cb437fb47d",
   "metadata": {},
   "outputs": [
    {
     "data": {
      "text/plain": [
       "[1, 5, 6, 7, 'Ly', 'Nam', (1+2j), ['Toi', 'di', 'hoc'], 5]"
      ]
     },
     "execution_count": 148,
     "metadata": {},
     "output_type": "execute_result"
    }
   ],
   "source": [
    "li"
   ]
  },
  {
   "cell_type": "code",
   "execution_count": 159,
   "id": "fbd00ba0-f245-4e8c-bc93-42c10ef59455",
   "metadata": {},
   "outputs": [
    {
     "data": {
      "text/plain": [
       "1"
      ]
     },
     "execution_count": 159,
     "metadata": {},
     "output_type": "execute_result"
    }
   ],
   "source": [
    "li_3 = li[-2]\n",
    "li_3.count('Toi')"
   ]
  },
  {
   "cell_type": "code",
   "execution_count": 156,
   "id": "b0bd855a-43c4-4fb0-807f-efb510961726",
   "metadata": {},
   "outputs": [
    {
     "data": {
      "text/plain": [
       "[1, 5, 6, 7, 'Ly', 'Nam', (1+2j), ['Toi', 'di', 'hoc'], 5]"
      ]
     },
     "execution_count": 156,
     "metadata": {},
     "output_type": "execute_result"
    }
   ],
   "source": [
    "li"
   ]
  },
  {
   "cell_type": "code",
   "execution_count": 157,
   "id": "60f2812b-c0bf-4b8b-8b90-643085324b04",
   "metadata": {},
   "outputs": [
    {
     "data": {
      "text/plain": [
       "['Toi', 'di', 'hoc']"
      ]
     },
     "execution_count": 157,
     "metadata": {},
     "output_type": "execute_result"
    }
   ],
   "source": [
    "li[-2]"
   ]
  },
  {
   "cell_type": "code",
   "execution_count": null,
   "id": "98fe76b7-a74c-4e60-955a-48186b3e6fd7",
   "metadata": {},
   "outputs": [],
   "source": []
  }
 ],
 "metadata": {
  "kernelspec": {
   "display_name": "Python 3",
   "language": "python",
   "name": "python3"
  },
  "language_info": {
   "codemirror_mode": {
    "name": "ipython",
    "version": 3
   },
   "file_extension": ".py",
   "mimetype": "text/x-python",
   "name": "python",
   "nbconvert_exporter": "python",
   "pygments_lexer": "ipython3",
   "version": "3.7.10"
  }
 },
 "nbformat": 4,
 "nbformat_minor": 5
}
