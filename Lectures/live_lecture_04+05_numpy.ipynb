{
 "cells": [
  {
   "cell_type": "code",
   "execution_count": 1,
   "id": "2a98c634-fdf8-47be-b691-8e0ffa5cd49f",
   "metadata": {},
   "outputs": [],
   "source": [
    "import numpy as np"
   ]
  },
  {
   "cell_type": "markdown",
   "id": "6dd10483-c6bc-4127-a64e-933b04dc5212",
   "metadata": {},
   "source": [
    "![](https://i.stack.imgur.com/NWTQH.png)"
   ]
  },
  {
   "cell_type": "markdown",
   "id": "d18b8a07-d0b3-4349-948a-4b1d925e8e8a",
   "metadata": {},
   "source": [
    "#### 1. Create array"
   ]
  },
  {
   "cell_type": "code",
   "execution_count": 2,
   "id": "1438fac8-712f-47a1-9779-e77c3135de68",
   "metadata": {},
   "outputs": [
    {
     "data": {
      "text/plain": [
       "array([1, 2, 3])"
      ]
     },
     "execution_count": 2,
     "metadata": {},
     "output_type": "execute_result"
    }
   ],
   "source": [
    "arr = np.array([1, 2, 3])\n",
    "arr"
   ]
  },
  {
   "cell_type": "code",
   "execution_count": 3,
   "id": "7dd0347f-ad2b-43c8-b349-445e79dff95e",
   "metadata": {},
   "outputs": [
    {
     "data": {
      "text/plain": [
       "numpy.ndarray"
      ]
     },
     "execution_count": 3,
     "metadata": {},
     "output_type": "execute_result"
    }
   ],
   "source": [
    "type(arr)"
   ]
  },
  {
   "cell_type": "code",
   "execution_count": 4,
   "id": "13a31239-7a0b-43b2-97be-a56df5334e15",
   "metadata": {},
   "outputs": [
    {
     "data": {
      "text/plain": [
       "array(['1', '2', '3', 'Truong'], dtype='<U21')"
      ]
     },
     "execution_count": 4,
     "metadata": {},
     "output_type": "execute_result"
    }
   ],
   "source": [
    "arr = np.array([1, 2, 3, 'Truong'])\n",
    "arr"
   ]
  },
  {
   "cell_type": "code",
   "execution_count": 5,
   "id": "6a42a925-7b50-44c3-bca7-4811cd824c4b",
   "metadata": {},
   "outputs": [
    {
     "data": {
      "text/plain": [
       "array([1., 2., 3.])"
      ]
     },
     "execution_count": 5,
     "metadata": {},
     "output_type": "execute_result"
    }
   ],
   "source": [
    "arr = np.array([1, 2, 3], dtype='float')\n",
    "arr"
   ]
  },
  {
   "cell_type": "code",
   "execution_count": 6,
   "id": "391f2171-57d1-4f56-89ad-dde843b2132c",
   "metadata": {},
   "outputs": [
    {
     "data": {
      "text/plain": [
       "(3,)"
      ]
     },
     "execution_count": 6,
     "metadata": {},
     "output_type": "execute_result"
    }
   ],
   "source": [
    "arr.shape"
   ]
  },
  {
   "cell_type": "code",
   "execution_count": 7,
   "id": "7cb2e66e-1d43-4cdd-8c03-5f6f4e2b2690",
   "metadata": {},
   "outputs": [
    {
     "data": {
      "text/plain": [
       "array([[1., 2., 3.],\n",
       "       [4., 5., 6.],\n",
       "       [7., 8., 9.]])"
      ]
     },
     "execution_count": 7,
     "metadata": {},
     "output_type": "execute_result"
    }
   ],
   "source": [
    "arr = np.array([[1, 2, 3], [4, 5, 6], [7, 8, 9]], dtype='float')\n",
    "arr"
   ]
  },
  {
   "cell_type": "code",
   "execution_count": 8,
   "id": "ba11c69d-a45b-40d8-b938-2a114e155b9e",
   "metadata": {},
   "outputs": [
    {
     "data": {
      "text/plain": [
       "(3, 3)"
      ]
     },
     "execution_count": 8,
     "metadata": {},
     "output_type": "execute_result"
    }
   ],
   "source": [
    "arr.shape"
   ]
  },
  {
   "cell_type": "code",
   "execution_count": 9,
   "id": "caf485db-6b44-447d-bc0f-4ae56bd18f1d",
   "metadata": {},
   "outputs": [
    {
     "data": {
      "text/plain": [
       "array([[[ 1.,  2.],\n",
       "        [ 3.,  4.],\n",
       "        [ 5.,  6.]],\n",
       "\n",
       "       [[ 7.,  8.],\n",
       "        [ 9., 10.],\n",
       "        [11., 12.]],\n",
       "\n",
       "       [[13., 14.],\n",
       "        [15., 16.],\n",
       "        [17.,  8.]]])"
      ]
     },
     "execution_count": 9,
     "metadata": {},
     "output_type": "execute_result"
    }
   ],
   "source": [
    "arr = np.array([[[1, 2], [3, 4], [5, 6]], \n",
    "                [[7, 8], [9, 10], [11, 12]], \n",
    "                [[13, 14], [15, 16], [17, 8]]], dtype='float')\n",
    "arr"
   ]
  },
  {
   "cell_type": "code",
   "execution_count": 10,
   "id": "a7b23d9c-ac7f-44cc-8164-f6a889d5dbe3",
   "metadata": {},
   "outputs": [
    {
     "data": {
      "text/plain": [
       "(3, 3, 2)"
      ]
     },
     "execution_count": 10,
     "metadata": {},
     "output_type": "execute_result"
    }
   ],
   "source": [
    "arr.shape"
   ]
  },
  {
   "cell_type": "code",
   "execution_count": 11,
   "id": "45b18823-594e-4cf4-a4e0-032ebd2151e3",
   "metadata": {},
   "outputs": [
    {
     "data": {
      "text/plain": [
       "array([[[ 1.        ,  1.47368421,  1.94736842,  2.42105263,\n",
       "          2.89473684],\n",
       "        [ 3.36842105,  3.84210526,  4.31578947,  4.78947368,\n",
       "          5.26315789]],\n",
       "\n",
       "       [[ 5.73684211,  6.21052632,  6.68421053,  7.15789474,\n",
       "          7.63157895],\n",
       "        [ 8.10526316,  8.57894737,  9.05263158,  9.52631579,\n",
       "         10.        ]]])"
      ]
     },
     "execution_count": 11,
     "metadata": {},
     "output_type": "execute_result"
    }
   ],
   "source": [
    "np.linspace(1, 10, 20).reshape(2, 2, 5)"
   ]
  },
  {
   "cell_type": "code",
   "execution_count": 12,
   "id": "ad3b3e1e-ed7d-4f2a-8bd8-a69a99718c35",
   "metadata": {},
   "outputs": [
    {
     "data": {
      "text/plain": [
       "array([[1.000000e+00, 2.000000e+00, 3.000000e+00, ..., 1.998000e+03,\n",
       "        1.999000e+03, 2.000000e+03],\n",
       "       [2.001000e+03, 2.002000e+03, 2.003000e+03, ..., 3.998000e+03,\n",
       "        3.999000e+03, 4.000000e+03],\n",
       "       [4.001000e+03, 4.002000e+03, 4.003000e+03, ..., 5.998000e+03,\n",
       "        5.999000e+03, 6.000000e+03],\n",
       "       ...,\n",
       "       [9.994001e+06, 9.994002e+06, 9.994003e+06, ..., 9.995998e+06,\n",
       "        9.995999e+06, 9.996000e+06],\n",
       "       [9.996001e+06, 9.996002e+06, 9.996003e+06, ..., 9.997998e+06,\n",
       "        9.997999e+06, 9.998000e+06],\n",
       "       [9.998001e+06, 9.998002e+06, 9.998003e+06, ..., 9.999998e+06,\n",
       "        9.999999e+06, 1.000000e+07]])"
      ]
     },
     "execution_count": 12,
     "metadata": {},
     "output_type": "execute_result"
    }
   ],
   "source": [
    "arr = np.linspace(1, 10_000_000, 10_000_000).reshape(5000, 2000)\n",
    "arr"
   ]
  },
  {
   "cell_type": "code",
   "execution_count": 13,
   "id": "63d5ad89-0672-4ee3-bae8-1581c8710a77",
   "metadata": {},
   "outputs": [],
   "source": [
    "np.savetxt('test.txt', arr)"
   ]
  },
  {
   "cell_type": "code",
   "execution_count": 14,
   "id": "4e9360d6-30a4-4470-a6da-ac8aa8c71ddd",
   "metadata": {},
   "outputs": [
    {
     "data": {
      "text/plain": [
       "array([[1.000000e+00, 2.000000e+00, 3.000000e+00, ..., 1.998000e+03,\n",
       "        1.999000e+03, 2.000000e+03],\n",
       "       [2.001000e+03, 2.002000e+03, 2.003000e+03, ..., 3.998000e+03,\n",
       "        3.999000e+03, 4.000000e+03],\n",
       "       [4.001000e+03, 4.002000e+03, 4.003000e+03, ..., 5.998000e+03,\n",
       "        5.999000e+03, 6.000000e+03],\n",
       "       ...,\n",
       "       [9.994001e+06, 9.994002e+06, 9.994003e+06, ..., 9.995998e+06,\n",
       "        9.995999e+06, 9.996000e+06],\n",
       "       [9.996001e+06, 9.996002e+06, 9.996003e+06, ..., 9.997998e+06,\n",
       "        9.997999e+06, 9.998000e+06],\n",
       "       [9.998001e+06, 9.998002e+06, 9.998003e+06, ..., 9.999998e+06,\n",
       "        9.999999e+06, 1.000000e+07]])"
      ]
     },
     "execution_count": 14,
     "metadata": {},
     "output_type": "execute_result"
    }
   ],
   "source": [
    "arr_2 = np.loadtxt('test.txt')\n",
    "arr_2"
   ]
  },
  {
   "cell_type": "code",
   "execution_count": 15,
   "id": "570a43d0-b9c8-4da0-b86b-147b048cc67c",
   "metadata": {},
   "outputs": [
    {
     "data": {
      "text/plain": [
       "(5000, 2000)"
      ]
     },
     "execution_count": 15,
     "metadata": {},
     "output_type": "execute_result"
    }
   ],
   "source": [
    "arr_2.shape"
   ]
  },
  {
   "cell_type": "code",
   "execution_count": 16,
   "id": "cb6673bc-be81-4028-8659-7912c3453772",
   "metadata": {},
   "outputs": [
    {
     "data": {
      "text/plain": [
       "array([[[0, 0],\n",
       "        [0, 0],\n",
       "        [0, 0]],\n",
       "\n",
       "       [[0, 0],\n",
       "        [0, 0],\n",
       "        [0, 0]],\n",
       "\n",
       "       [[0, 0],\n",
       "        [0, 0],\n",
       "        [0, 0]]])"
      ]
     },
     "execution_count": 16,
     "metadata": {},
     "output_type": "execute_result"
    }
   ],
   "source": [
    "np.zeros((3, 3, 2), dtype='int')"
   ]
  },
  {
   "cell_type": "code",
   "execution_count": 17,
   "id": "e5c42505-7063-4dab-8bf1-6e324881a8b2",
   "metadata": {},
   "outputs": [],
   "source": [
    "li = list(range(11))"
   ]
  },
  {
   "cell_type": "code",
   "execution_count": 18,
   "id": "ccb964a2-22c0-40d1-b918-fdadd88e4494",
   "metadata": {},
   "outputs": [
    {
     "name": "stdout",
     "output_type": "stream",
     "text": [
      "[0, 0, 0, 0, 0, 0]\n"
     ]
    },
    {
     "data": {
      "text/plain": [
       "[0, 2, 4, 6, 8, 10]"
      ]
     },
     "execution_count": 18,
     "metadata": {},
     "output_type": "execute_result"
    }
   ],
   "source": [
    "li = list(range(11))\n",
    "new_li = [0 for i in range(6)]\n",
    "print(new_li)\n",
    "\n",
    "index = 0 \n",
    "for i in li:\n",
    "    if i % 2 == 0:\n",
    "        new_li[index] = i\n",
    "        index += 1\n",
    "new_li"
   ]
  },
  {
   "cell_type": "code",
   "execution_count": 24,
   "id": "b9125d62-f9d7-41aa-bc18-76963e388ffe",
   "metadata": {},
   "outputs": [],
   "source": [
    "import matplotlib.pyplot as plt"
   ]
  },
  {
   "cell_type": "code",
   "execution_count": 29,
   "id": "b560f799-d7d9-416c-8ac3-e1407f0e88a6",
   "metadata": {},
   "outputs": [
    {
     "data": {
      "image/png": "[encoded data removed]",
      "text/plain": [
       "<Figure size 432x288 with 1 Axes>"
      ]
     },
     "metadata": {
      "needs_background": "light"
     },
     "output_type": "display_data"
    }
   ],
   "source": [
    "plt.hist(np.random.rand(100000), bins=100);"
   ]
  },
  {
   "cell_type": "markdown",
   "id": "b143ff9d-fae5-45b0-8788-bac10ca3e60c",
   "metadata": {},
   "source": [
    "- Frequentist\n",
    "- Bayesian"
   ]
  },
  {
   "cell_type": "markdown",
   "id": "70e18686-0e0a-4653-be1c-1c691824bdff",
   "metadata": {},
   "source": [
    "- Sample -- > mẫu\n",
    "- Population"
   ]
  },
  {
   "cell_type": "code",
   "execution_count": 42,
   "id": "ed45b2d7-85ad-4dd8-aeef-0eb8d6caf0ed",
   "metadata": {},
   "outputs": [
    {
     "data": {
      "image/png": "[encoded data removed]",
      "text/plain": [
       "<Figure size 432x288 with 1 Axes>"
      ]
     },
     "metadata": {
      "needs_background": "light"
     },
     "output_type": "display_data"
    }
   ],
   "source": [
    "plt.hist(np.random.normal(loc=0, scale=2, size=10000), bins=100);"
   ]
  },
  {
   "cell_type": "code",
   "execution_count": 37,
   "id": "4bc196df-7b1e-434c-9c96-e282d59de1f0",
   "metadata": {},
   "outputs": [
    {
     "data": {
      "text/plain": [
       "4.375"
      ]
     },
     "execution_count": 37,
     "metadata": {},
     "output_type": "execute_result"
    }
   ],
   "source": [
    "np.mean([1, 2, 3, 4, 5, 5, 7, 8])"
   ]
  },
  {
   "cell_type": "code",
   "execution_count": 38,
   "id": "ed3bc8c8-0265-4118-9c7a-ddb1f3f0c95c",
   "metadata": {},
   "outputs": [
    {
     "data": {
      "text/plain": [
       "4.5"
      ]
     },
     "execution_count": 38,
     "metadata": {},
     "output_type": "execute_result"
    }
   ],
   "source": [
    "np.median([1, 2, 3, 4, 5, 5, 7, 8])"
   ]
  },
  {
   "cell_type": "code",
   "execution_count": 62,
   "id": "6bc15c5c-5b42-4c14-a3cd-8964c7485733",
   "metadata": {},
   "outputs": [
    {
     "data": {
      "text/plain": [
       "array([6])"
      ]
     },
     "execution_count": 62,
     "metadata": {},
     "output_type": "execute_result"
    }
   ],
   "source": [
    "np.random.seed(1)\n",
    "np.random.randint(1, 10, 1)"
   ]
  },
  {
   "cell_type": "code",
   "execution_count": 64,
   "id": "6743b827-9bef-4249-81a6-093b025e0138",
   "metadata": {},
   "outputs": [],
   "source": [
    "from datetime import datetime"
   ]
  },
  {
   "cell_type": "code",
   "execution_count": 88,
   "id": "cad7f42c-965d-4e87-8484-046c398f575a",
   "metadata": {},
   "outputs": [
    {
     "data": {
      "text/plain": [
       "5"
      ]
     },
     "execution_count": 88,
     "metadata": {},
     "output_type": "execute_result"
    }
   ],
   "source": [
    "x = datetime.now().microsecond\n",
    "rand = 2 * x + 3\n",
    "rand"
   ]
  },
  {
   "cell_type": "markdown",
   "id": "1a98a474-9371-49f1-9983-e541d382a13f",
   "metadata": {},
   "source": [
    "### 2. Indexing"
   ]
  },
  {
   "cell_type": "code",
   "execution_count": 91,
   "id": "624754cb-56ad-40c9-85e0-8b33bacda71e",
   "metadata": {},
   "outputs": [
    {
     "data": {
      "text/plain": [
       "array([ 1,  2,  3,  4,  5,  6,  7,  8,  9, 10, 11, 12, 13, 14, 15, 16])"
      ]
     },
     "execution_count": 91,
     "metadata": {},
     "output_type": "execute_result"
    }
   ],
   "source": [
    "arr = np.linspace(1, 16, 16, dtype='int')\n",
    "arr"
   ]
  },
  {
   "cell_type": "code",
   "execution_count": 92,
   "id": "83f660a9-b633-4138-8aec-780ad8967e2c",
   "metadata": {},
   "outputs": [
    {
     "data": {
      "text/plain": [
       "1"
      ]
     },
     "execution_count": 92,
     "metadata": {},
     "output_type": "execute_result"
    }
   ],
   "source": [
    "arr[0]"
   ]
  },
  {
   "cell_type": "code",
   "execution_count": 93,
   "id": "cdac1174-353e-4220-9c29-9169898a12bb",
   "metadata": {},
   "outputs": [
    {
     "data": {
      "text/plain": [
       "array([2, 3, 4])"
      ]
     },
     "execution_count": 93,
     "metadata": {},
     "output_type": "execute_result"
    }
   ],
   "source": [
    "arr[1: 4]"
   ]
  },
  {
   "cell_type": "code",
   "execution_count": 94,
   "id": "023813f8-a1a7-423c-941e-2b51964568d3",
   "metadata": {},
   "outputs": [
    {
     "data": {
      "text/plain": [
       "array([[ 1,  2,  3,  4],\n",
       "       [ 5,  6,  7,  8],\n",
       "       [ 9, 10, 11, 12],\n",
       "       [13, 14, 15, 16]])"
      ]
     },
     "execution_count": 94,
     "metadata": {},
     "output_type": "execute_result"
    }
   ],
   "source": [
    "arr = np.linspace(1, 16, 16, dtype='int').reshape(4, 4)\n",
    "arr"
   ]
  },
  {
   "cell_type": "code",
   "execution_count": 111,
   "id": "498f6262-aaca-4515-a916-650599358863",
   "metadata": {},
   "outputs": [
    {
     "data": {
      "text/plain": [
       "array([ 5, 11])"
      ]
     },
     "execution_count": 111,
     "metadata": {},
     "output_type": "execute_result"
    }
   ],
   "source": [
    "arr[[1, 2], [0, 2]]"
   ]
  },
  {
   "cell_type": "code",
   "execution_count": 108,
   "id": "35b26730-85ce-42f2-812b-5fc80ed2c653",
   "metadata": {},
   "outputs": [
    {
     "data": {
      "text/plain": [
       "array([[ 5,  8],\n",
       "       [13, 16]])"
      ]
     },
     "execution_count": 108,
     "metadata": {},
     "output_type": "execute_result"
    }
   ],
   "source": [
    "arr[1::2, ::3]"
   ]
  },
  {
   "cell_type": "code",
   "execution_count": 109,
   "id": "a0968752-f7a3-497d-9a70-91dcdc9b1cde",
   "metadata": {},
   "outputs": [],
   "source": [
    "arr[1:3, [1, 3]] = [[20, 21], [22, 23]]"
   ]
  },
  {
   "cell_type": "code",
   "execution_count": 110,
   "id": "84952b49-6f52-40be-9419-7c15b1961209",
   "metadata": {},
   "outputs": [
    {
     "data": {
      "text/plain": [
       "array([[ 1,  2,  3,  4],\n",
       "       [ 5, 20,  7, 21],\n",
       "       [ 9, 22, 11, 23],\n",
       "       [13, 14, 15, 16]])"
      ]
     },
     "execution_count": 110,
     "metadata": {},
     "output_type": "execute_result"
    }
   ],
   "source": [
    "arr"
   ]
  },
  {
   "cell_type": "code",
   "execution_count": 102,
   "id": "b84f5a89-4c50-4ddf-846f-00463ea974a0",
   "metadata": {},
   "outputs": [
    {
     "data": {
      "text/plain": [
       "array([[10, 11],\n",
       "       [14, 15]])"
      ]
     },
     "execution_count": 102,
     "metadata": {},
     "output_type": "execute_result"
    }
   ],
   "source": [
    "arr[2:, 1:3]"
   ]
  },
  {
   "cell_type": "code",
   "execution_count": 95,
   "id": "cf50e658-2c02-45cd-96d1-ea2b8e388543",
   "metadata": {},
   "outputs": [
    {
     "data": {
      "text/plain": [
       "array([[ 1,  2],\n",
       "       [ 5,  6],\n",
       "       [ 9, 10],\n",
       "       [13, 14]])"
      ]
     },
     "execution_count": 95,
     "metadata": {},
     "output_type": "execute_result"
    }
   ],
   "source": [
    "arr[: , 0: 2]"
   ]
  },
  {
   "cell_type": "code",
   "execution_count": 98,
   "id": "889c725d-32eb-4757-aafc-f7c5f3631835",
   "metadata": {},
   "outputs": [
    {
     "data": {
      "text/plain": [
       "array([[ 5,  6,  7,  8],\n",
       "       [13, 14, 15, 16]])"
      ]
     },
     "execution_count": 98,
     "metadata": {},
     "output_type": "execute_result"
    }
   ],
   "source": [
    "arr[1::2 , :]"
   ]
  },
  {
   "cell_type": "code",
   "execution_count": 99,
   "id": "3fc9630d-bc32-4257-a365-ac8b96e0a700",
   "metadata": {},
   "outputs": [
    {
     "data": {
      "text/plain": [
       "array([[ 5,  6,  7,  8],\n",
       "       [13, 14, 15, 16]])"
      ]
     },
     "execution_count": 99,
     "metadata": {},
     "output_type": "execute_result"
    }
   ],
   "source": [
    "arr[[1, 3] , :]"
   ]
  },
  {
   "cell_type": "markdown",
   "id": "a56b742c-a3b5-4973-9619-12931c8f597c",
   "metadata": {},
   "source": [
    "### Statistics"
   ]
  },
  {
   "cell_type": "code",
   "execution_count": 112,
   "id": "87f298c0-de17-4eae-9708-fef2baa065cb",
   "metadata": {},
   "outputs": [
    {
     "data": {
      "text/plain": [
       "array([[ 1,  2,  3,  4],\n",
       "       [ 5,  6,  7,  8],\n",
       "       [ 9, 10, 11, 12]])"
      ]
     },
     "execution_count": 112,
     "metadata": {},
     "output_type": "execute_result"
    }
   ],
   "source": [
    "arr = np.linspace(1, 12, 12, dtype='int').reshape(3, 4)\n",
    "arr"
   ]
  },
  {
   "cell_type": "code",
   "execution_count": 113,
   "id": "c0657fa9-4ac9-410f-93ce-190c2b2ca9a3",
   "metadata": {},
   "outputs": [
    {
     "data": {
      "text/plain": [
       "6.5"
      ]
     },
     "execution_count": 113,
     "metadata": {},
     "output_type": "execute_result"
    }
   ],
   "source": [
    "np.mean(arr)"
   ]
  },
  {
   "cell_type": "code",
   "execution_count": 114,
   "id": "76447174-edfb-47b1-ae2b-c0030b425f36",
   "metadata": {},
   "outputs": [
    {
     "data": {
      "text/plain": [
       "12"
      ]
     },
     "execution_count": 114,
     "metadata": {},
     "output_type": "execute_result"
    }
   ],
   "source": [
    "np.max(arr)"
   ]
  },
  {
   "cell_type": "code",
   "execution_count": 115,
   "id": "c01656d7-38f3-423b-8b82-d85d1e0a65ee",
   "metadata": {},
   "outputs": [
    {
     "data": {
      "text/plain": [
       "1"
      ]
     },
     "execution_count": 115,
     "metadata": {},
     "output_type": "execute_result"
    }
   ],
   "source": [
    "np.min(arr)"
   ]
  },
  {
   "cell_type": "code",
   "execution_count": 116,
   "id": "f9773808-22ee-4ace-9b82-e720d096b990",
   "metadata": {},
   "outputs": [
    {
     "data": {
      "text/plain": [
       "3.452052529534663"
      ]
     },
     "execution_count": 116,
     "metadata": {},
     "output_type": "execute_result"
    }
   ],
   "source": [
    "np.std(arr)"
   ]
  },
  {
   "cell_type": "code",
   "execution_count": 117,
   "id": "5d9aceff-73fd-418d-8049-5b0b52dbefee",
   "metadata": {},
   "outputs": [
    {
     "data": {
      "text/plain": [
       "6.5"
      ]
     },
     "execution_count": 117,
     "metadata": {},
     "output_type": "execute_result"
    }
   ],
   "source": [
    "np.median(arr)"
   ]
  },
  {
   "cell_type": "code",
   "execution_count": 118,
   "id": "a5d91176-9fc1-4f6b-936b-e276978a98b5",
   "metadata": {},
   "outputs": [
    {
     "data": {
      "text/plain": [
       "12"
      ]
     },
     "execution_count": 118,
     "metadata": {},
     "output_type": "execute_result"
    }
   ],
   "source": [
    "np.count_nonzero(arr)"
   ]
  },
  {
   "cell_type": "code",
   "execution_count": 119,
   "id": "01a96152-1404-4bfc-8ca0-b9992287a170",
   "metadata": {},
   "outputs": [
    {
     "data": {
      "text/plain": [
       "array([1, 1, 2, 3, 4, 4, 4, 3, 2, 1])"
      ]
     },
     "execution_count": 119,
     "metadata": {},
     "output_type": "execute_result"
    }
   ],
   "source": [
    "arr = np.array([1, 1, 2, 3, 4, 4, 4, 3, 2, 1])\n",
    "arr"
   ]
  },
  {
   "cell_type": "code",
   "execution_count": 121,
   "id": "1b4f4df2-b035-439d-819a-8a911a2369cb",
   "metadata": {},
   "outputs": [
    {
     "data": {
      "text/plain": [
       "(array([1, 2, 3, 4]), array([3, 2, 2, 3]))"
      ]
     },
     "execution_count": 121,
     "metadata": {},
     "output_type": "execute_result"
    }
   ],
   "source": [
    "np.unique(arr, return_counts=True)"
   ]
  },
  {
   "cell_type": "code",
   "execution_count": 123,
   "id": "b62a21c7-1320-498f-9172-415c31c50dba",
   "metadata": {},
   "outputs": [
    {
     "data": {
      "text/plain": [
       "array([[ 1,  2,  3,  4],\n",
       "       [ 5,  6,  7,  8],\n",
       "       [ 9, 10, 11, 12]])"
      ]
     },
     "execution_count": 123,
     "metadata": {},
     "output_type": "execute_result"
    }
   ],
   "source": [
    "arr = np.linspace(1, 12, 12, dtype='int').reshape(3, 4)\n",
    "arr"
   ]
  },
  {
   "cell_type": "code",
   "execution_count": 126,
   "id": "89c4fcc4-099a-4329-a59f-7d5d90b65033",
   "metadata": {},
   "outputs": [
    {
     "data": {
      "text/plain": [
       "array([15, 18, 21, 24])"
      ]
     },
     "execution_count": 126,
     "metadata": {},
     "output_type": "execute_result"
    }
   ],
   "source": [
    "np.sum(arr, axis=0)"
   ]
  },
  {
   "cell_type": "code",
   "execution_count": 127,
   "id": "8bcc0cb5-f5f3-44d6-a515-2c9c176eae60",
   "metadata": {},
   "outputs": [
    {
     "data": {
      "text/plain": [
       "array([10, 26, 42])"
      ]
     },
     "execution_count": 127,
     "metadata": {},
     "output_type": "execute_result"
    }
   ],
   "source": [
    "np.sum(arr, axis=1)"
   ]
  },
  {
   "cell_type": "markdown",
   "id": "c863642b-1f81-4cdd-8098-8d2039de284a",
   "metadata": {},
   "source": [
    "- axis = 0 --> Chieu thu 0 --> Các phần tử nằm trong dấu ngoặc đầu tiên, tính từ ngoài vào\n",
    "- axis = 1 --> Chieu thu 1 --> Các phần tử nằm trong dấu ngoặc thứ 1, tính từ ngoài vào\n",
    "- axis = 2 --> Chieu thu 2 --> Các phần tử nằm trong dấu ngoặc thứ 2, tính từ ngoài vào"
   ]
  },
  {
   "cell_type": "code",
   "execution_count": 129,
   "id": "efafa440-7676-423a-a79f-8558359e5860",
   "metadata": {},
   "outputs": [
    {
     "data": {
      "text/plain": [
       "array([[[ 1,  2,  3],\n",
       "        [ 4,  5,  6]],\n",
       "\n",
       "       [[ 7,  8,  9],\n",
       "        [10, 11, 12]]])"
      ]
     },
     "execution_count": 129,
     "metadata": {},
     "output_type": "execute_result"
    }
   ],
   "source": [
    "arr = np.linspace(1, 12, 12, dtype='int').reshape(2, 2, 3)\n",
    "arr"
   ]
  },
  {
   "cell_type": "code",
   "execution_count": 132,
   "id": "11e1867e-c070-43c4-9003-3e81ae4f2b7c",
   "metadata": {},
   "outputs": [
    {
     "data": {
      "text/plain": [
       "array([[ 6, 15],\n",
       "       [24, 33]])"
      ]
     },
     "execution_count": 132,
     "metadata": {},
     "output_type": "execute_result"
    }
   ],
   "source": [
    "arr.sum(axis=2)"
   ]
  },
  {
   "cell_type": "code",
   "execution_count": 131,
   "id": "db1a202d-2270-495e-bad7-5abd870b1e05",
   "metadata": {},
   "outputs": [
    {
     "data": {
      "text/plain": [
       "array([[ 5,  7,  9],\n",
       "       [17, 19, 21]])"
      ]
     },
     "execution_count": 131,
     "metadata": {},
     "output_type": "execute_result"
    }
   ],
   "source": [
    "arr.sum(axis=1)"
   ]
  },
  {
   "cell_type": "code",
   "execution_count": 130,
   "id": "28ffc3e2-c43f-4f52-9191-feac71973599",
   "metadata": {},
   "outputs": [
    {
     "data": {
      "text/plain": [
       "array([[ 8, 10, 12],\n",
       "       [14, 16, 18]])"
      ]
     },
     "execution_count": 130,
     "metadata": {},
     "output_type": "execute_result"
    }
   ],
   "source": [
    "arr.sum(axis=0)"
   ]
  },
  {
   "cell_type": "markdown",
   "id": "97c52bb0-1489-43c0-b4d6-cb47380ea912",
   "metadata": {},
   "source": [
    "### Masking / Filter"
   ]
  },
  {
   "cell_type": "code",
   "execution_count": 133,
   "id": "0863dd3e-f2a7-46c0-9da1-08778229fe88",
   "metadata": {},
   "outputs": [
    {
     "data": {
      "text/plain": [
       "array([  1.,   2.,   3.,   4.,   5.,   6.,   7.,   8.,   9.,  10.,  11.,\n",
       "        12.,  13.,  14.,  15.,  16.,  17.,  18.,  19.,  20.,  21.,  22.,\n",
       "        23.,  24.,  25.,  26.,  27.,  28.,  29.,  30.,  31.,  32.,  33.,\n",
       "        34.,  35.,  36.,  37.,  38.,  39.,  40.,  41.,  42.,  43.,  44.,\n",
       "        45.,  46.,  47.,  48.,  49.,  50.,  51.,  52.,  53.,  54.,  55.,\n",
       "        56.,  57.,  58.,  59.,  60.,  61.,  62.,  63.,  64.,  65.,  66.,\n",
       "        67.,  68.,  69.,  70.,  71.,  72.,  73.,  74.,  75.,  76.,  77.,\n",
       "        78.,  79.,  80.,  81.,  82.,  83.,  84.,  85.,  86.,  87.,  88.,\n",
       "        89.,  90.,  91.,  92.,  93.,  94.,  95.,  96.,  97.,  98.,  99.,\n",
       "       100.])"
      ]
     },
     "execution_count": 133,
     "metadata": {},
     "output_type": "execute_result"
    }
   ],
   "source": [
    "arr = np.linspace(1, 100, 100)\n",
    "arr"
   ]
  },
  {
   "cell_type": "code",
   "execution_count": 143,
   "id": "0fe03f87-4776-4e2f-bf5f-fd714dd79bdb",
   "metadata": {},
   "outputs": [
    {
     "data": {
      "text/plain": [
       "array([ 51.,  52.,  53.,  54.,  55.,  56.,  57.,  58.,  59.,  60.,  61.,\n",
       "        62.,  63.,  64.,  65.,  66.,  67.,  68.,  69.,  70.,  71.,  72.,\n",
       "        73.,  74.,  75.,  76.,  77.,  78.,  79.,  80.,  81.,  82.,  83.,\n",
       "        84.,  85.,  86.,  87.,  88.,  89.,  90.,  91.,  92.,  93.,  94.,\n",
       "        95.,  96.,  97.,  98.,  99., 100.])"
      ]
     },
     "execution_count": 143,
     "metadata": {},
     "output_type": "execute_result"
    }
   ],
   "source": [
    "arr[arr > 50]"
   ]
  },
  {
   "cell_type": "code",
   "execution_count": 144,
   "id": "ad982059-4bd9-4054-bbc9-b783daca13be",
   "metadata": {},
   "outputs": [
    {
     "data": {
      "text/plain": [
       "array([51., 52., 53., 54., 55., 56., 57., 58., 59., 60., 61., 62., 63.,\n",
       "       64., 65., 66., 67., 68., 69.])"
      ]
     },
     "execution_count": 144,
     "metadata": {},
     "output_type": "execute_result"
    }
   ],
   "source": [
    "arr[(arr > 50) & (arr < 70)]"
   ]
  },
  {
   "cell_type": "markdown",
   "id": "59c15132-3c6b-47b7-ae48-e21add39edd4",
   "metadata": {},
   "source": [
    "- Broadcasting\n",
    "- Vectorization"
   ]
  },
  {
   "cell_type": "code",
   "execution_count": 135,
   "id": "2aa2ef79-5bc7-413b-920e-f6ca893e58bc",
   "metadata": {},
   "outputs": [
    {
     "data": {
      "text/plain": [
       "[1, 2, 3, 4, 1, 2, 3, 4]"
      ]
     },
     "execution_count": 135,
     "metadata": {},
     "output_type": "execute_result"
    }
   ],
   "source": [
    "[1, 2, 3, 4] + [1, 2, 3, 4]"
   ]
  },
  {
   "cell_type": "code",
   "execution_count": 136,
   "id": "516c5b57-ba31-4515-b0f0-30efd79d03b1",
   "metadata": {},
   "outputs": [
    {
     "data": {
      "text/plain": [
       "array([2, 4, 6, 8])"
      ]
     },
     "execution_count": 136,
     "metadata": {},
     "output_type": "execute_result"
    }
   ],
   "source": [
    "np.array([1, 2, 3, 4]) + np.array([1, 2, 3, 4])"
   ]
  },
  {
   "cell_type": "markdown",
   "id": "569920b6-5e32-4b9d-b127-1ee40e22fb76",
   "metadata": {},
   "source": [
    "![](https://i.stack.imgur.com/JcKv1.png)"
   ]
  },
  {
   "cell_type": "markdown",
   "id": "f07abc14-a406-4a84-a41e-b0a436affa60",
   "metadata": {},
   "source": [
    "### Others"
   ]
  },
  {
   "cell_type": "code",
   "execution_count": 145,
   "id": "06a0a068-4969-4005-b808-dfa1c0ea07f4",
   "metadata": {},
   "outputs": [
    {
     "data": {
      "text/plain": [
       "array([  1.,   2.,   3.,   4.,   5.,   6.,   7.,   8.,   9.,  10.,  11.,\n",
       "        12.,  13.,  14.,  15.,  16.,  17.,  18.,  19.,  20.,  21.,  22.,\n",
       "        23.,  24.,  25.,  26.,  27.,  28.,  29.,  30.,  31.,  32.,  33.,\n",
       "        34.,  35.,  36.,  37.,  38.,  39.,  40.,  41.,  42.,  43.,  44.,\n",
       "        45.,  46.,  47.,  48.,  49.,  50.,  51.,  52.,  53.,  54.,  55.,\n",
       "        56.,  57.,  58.,  59.,  60.,  61.,  62.,  63.,  64.,  65.,  66.,\n",
       "        67.,  68.,  69.,  70.,  71.,  72.,  73.,  74.,  75.,  76.,  77.,\n",
       "        78.,  79.,  80.,  81.,  82.,  83.,  84.,  85.,  86.,  87.,  88.,\n",
       "        89.,  90.,  91.,  92.,  93.,  94.,  95.,  96.,  97.,  98.,  99.,\n",
       "       100.])"
      ]
     },
     "execution_count": 145,
     "metadata": {},
     "output_type": "execute_result"
    }
   ],
   "source": [
    "arr"
   ]
  },
  {
   "cell_type": "code",
   "execution_count": 146,
   "id": "94f84fcf-135d-4345-9fdc-68f81b64adf6",
   "metadata": {},
   "outputs": [
    {
     "data": {
      "text/plain": [
       "array(['>= 50', '>= 50', '>= 50', '>= 50', '>= 50', '>= 50', '>= 50',\n",
       "       '>= 50', '>= 50', '>= 50', '>= 50', '>= 50', '>= 50', '>= 50',\n",
       "       '>= 50', '>= 50', '>= 50', '>= 50', '>= 50', '>= 50', '>= 50',\n",
       "       '>= 50', '>= 50', '>= 50', '>= 50', '>= 50', '>= 50', '>= 50',\n",
       "       '>= 50', '>= 50', '>= 50', '>= 50', '>= 50', '>= 50', '>= 50',\n",
       "       '>= 50', '>= 50', '>= 50', '>= 50', '>= 50', '>= 50', '>= 50',\n",
       "       '>= 50', '>= 50', '>= 50', '>= 50', '>= 50', '>= 50', '>= 50',\n",
       "       '>= 50', '<50', '<50', '<50', '<50', '<50', '<50', '<50', '<50',\n",
       "       '<50', '<50', '<50', '<50', '<50', '<50', '<50', '<50', '<50',\n",
       "       '<50', '<50', '<50', '<50', '<50', '<50', '<50', '<50', '<50',\n",
       "       '<50', '<50', '<50', '<50', '<50', '<50', '<50', '<50', '<50',\n",
       "       '<50', '<50', '<50', '<50', '<50', '<50', '<50', '<50', '<50',\n",
       "       '<50', '<50', '<50', '<50', '<50', '<50'], dtype='<U5')"
      ]
     },
     "execution_count": 146,
     "metadata": {},
     "output_type": "execute_result"
    }
   ],
   "source": [
    "np.where(arr > 50, '<50', '>= 50')"
   ]
  },
  {
   "cell_type": "code",
   "execution_count": 147,
   "id": "27d90238-0dd6-4021-b428-47acbd8ad11d",
   "metadata": {},
   "outputs": [
    {
     "data": {
      "text/plain": [
       "array(['<50', '<50', '<50', '<50', '<50', '<50', '<50', '<50', '<50',\n",
       "       '<50', '<50', '<50', '<50', '<50', '<50', '<50', '<50', '<50',\n",
       "       '<50', '<50', '<50', '<50', '<50', '<50', '<50', '<50', '<50',\n",
       "       '<50', '<50', '<50', '<50', '<50', '<50', '<50', '<50', '<50',\n",
       "       '<50', '<50', '<50', '<50', '<50', '<50', '<50', '<50', '<50',\n",
       "       '<50', '<50', '<50', '<50', '[50, 70]', '[50, 70]', '[50, 70]',\n",
       "       '[50, 70]', '[50, 70]', '[50, 70]', '[50, 70]', '[50, 70]',\n",
       "       '[50, 70]', '[50, 70]', '[50, 70]', '[50, 70]', '[50, 70]',\n",
       "       '[50, 70]', '[50, 70]', '[50, 70]', '[50, 70]', '[50, 70]',\n",
       "       '[50, 70]', '[50, 70]', '[50, 70]', '>70', '>70', '>70', '>70',\n",
       "       '>70', '>70', '>70', '>70', '>70', '>70', '>70', '>70', '>70',\n",
       "       '>70', '>70', '>70', '>70', '>70', '>70', '>70', '>70', '>70',\n",
       "       '>70', '>70', '>70', '>70', '>70', '>70', '>70', '>70'],\n",
       "      dtype='<U8')"
      ]
     },
     "execution_count": 147,
     "metadata": {},
     "output_type": "execute_result"
    }
   ],
   "source": [
    "np.where(arr > 70, '>70', np.where(arr < 50, '<50', '[50, 70]'))"
   ]
  },
  {
   "cell_type": "code",
   "execution_count": 148,
   "id": "a6b8161b-65d9-4be9-8f47-675cecd004a0",
   "metadata": {},
   "outputs": [],
   "source": [
    "import requests"
   ]
  },
  {
   "cell_type": "code",
   "execution_count": null,
   "id": "9c3466a3-197e-4fe6-8f09-963fc136aebd",
   "metadata": {},
   "outputs": [],
   "source": [
    "API"
   ]
  },
  {
   "cell_type": "code",
   "execution_count": 159,
   "id": "c00b5a48-7aa7-46ea-bc38-4e4070aea90a",
   "metadata": {},
   "outputs": [],
   "source": [
    "url = \"https://spreadsheets.google.com/feeds/cells/15wDu6cb9q3qfORuWIMX48YBxTVDQfZWMw8aQ9chjT8s/1/public/full?alt=json5\"\n",
    "data = requests.get(url)"
   ]
  },
  {
   "cell_type": "markdown",
   "id": "38205b99-6a37-4687-917b-cd6b84d4f9d7",
   "metadata": {},
   "source": [
    "pandas --> slow\n",
    "vai trieu, cot --> numpy\n",
    "excel --> "
   ]
  }
 ],
 "metadata": {
  "kernelspec": {
   "display_name": "Python 3",
   "language": "python",
   "name": "python3"
  },
  "language_info": {
   "codemirror_mode": {
    "name": "ipython",
    "version": 3
   },
   "file_extension": ".py",
   "mimetype": "text/x-python",
   "name": "python",
   "nbconvert_exporter": "python",
   "pygments_lexer": "ipython3",
   "version": "3.7.10"
  }
 },
 "nbformat": 4,
 "nbformat_minor": 5
}
