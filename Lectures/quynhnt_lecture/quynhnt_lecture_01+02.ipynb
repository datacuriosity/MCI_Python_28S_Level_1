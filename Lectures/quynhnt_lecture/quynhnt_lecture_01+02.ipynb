{
 "cells": [
  {
   "cell_type": "code",
   "execution_count": 4,
   "id": "cf5c84f7-6a58-41a9-bfd3-de53b66a18af",
   "metadata": {},
   "outputs": [],
   "source": [
    "def sum_of_list(li):\n",
    "    output=0\n",
    "    for val in li:\n",
    "        output+=val\n",
    "    return output"
   ]
  },
  {
   "cell_type": "code",
   "execution_count": 5,
   "id": "8d4d01fc-46bc-4d82-98f5-dc4589e474ee",
   "metadata": {},
   "outputs": [
    {
     "data": {
      "text/plain": [
       "15"
      ]
     },
     "execution_count": 5,
     "metadata": {},
     "output_type": "execute_result"
    }
   ],
   "source": [
    "sum_of_list([1,2,3,4,5])"
   ]
  },
  {
   "cell_type": "code",
   "execution_count": 6,
   "id": "8252ec8c-dccb-4e76-85e3-cc326d86f39e",
   "metadata": {},
   "outputs": [],
   "source": [
    "def average_of_list(li):\n",
    "    tuso=0\n",
    "    mauso=0\n",
    "    for val in li:\n",
    "        tuso+=val\n",
    "        mauso+=1\n",
    "    return tuso/mauso    "
   ]
  },
  {
   "cell_type": "code",
   "execution_count": 7,
   "id": "cfbbfc43-0082-4d5a-947f-36ef771baaa7",
   "metadata": {},
   "outputs": [
    {
     "data": {
      "text/plain": [
       "3.0"
      ]
     },
     "execution_count": 7,
     "metadata": {},
     "output_type": "execute_result"
    }
   ],
   "source": [
    "average_of_list([1,2,3,4,5])"
   ]
  },
  {
   "cell_type": "code",
   "execution_count": 15,
   "id": "01010d34-50c0-4d3e-9c63-1df971a6d2e5",
   "metadata": {},
   "outputs": [],
   "source": [
    "def prime_number(n):\n",
    "    if n==1:\n",
    "        return False\n",
    "    elif n==2:\n",
    "        return True\n",
    "    else:\n",
    "        output=True\n",
    "        for i in range(2,n):\n",
    "            if n%i==0:\n",
    "                output=False\n",
    "                break\n",
    "        return output"
   ]
  },
  {
   "cell_type": "code",
   "execution_count": 16,
   "id": "5eb3a389-d303-4936-90da-21a4dc751abe",
   "metadata": {},
   "outputs": [
    {
     "data": {
      "text/plain": [
       "False"
      ]
     },
     "execution_count": 16,
     "metadata": {},
     "output_type": "execute_result"
    }
   ],
   "source": [
    "prime_number(4)"
   ]
  },
  {
   "cell_type": "code",
   "execution_count": 17,
   "id": "c38f0ee9-a0df-47d5-a9bc-951048879b7a",
   "metadata": {},
   "outputs": [
    {
     "data": {
      "text/plain": [
       "True"
      ]
     },
     "execution_count": 17,
     "metadata": {},
     "output_type": "execute_result"
    }
   ],
   "source": [
    "prime_number(5)"
   ]
  },
  {
   "cell_type": "code",
   "execution_count": 18,
   "id": "02e650de-56ae-400f-a6fc-ed2a7f10c1e5",
   "metadata": {},
   "outputs": [],
   "source": [
    "li=list(range(1,101))\n",
    "prime_li=[]\n",
    "for i in li:\n",
    "    if prime_number(i):\n",
    "        prime_li.append(i)"
   ]
  },
  {
   "cell_type": "code",
   "execution_count": 19,
   "id": "e4a23ced-f44c-4ff7-90e0-5c296cfd5b56",
   "metadata": {},
   "outputs": [
    {
     "data": {
      "text/plain": [
       "[2,\n",
       " 3,\n",
       " 5,\n",
       " 7,\n",
       " 11,\n",
       " 13,\n",
       " 17,\n",
       " 19,\n",
       " 23,\n",
       " 29,\n",
       " 31,\n",
       " 37,\n",
       " 41,\n",
       " 43,\n",
       " 47,\n",
       " 53,\n",
       " 59,\n",
       " 61,\n",
       " 67,\n",
       " 71,\n",
       " 73,\n",
       " 79,\n",
       " 83,\n",
       " 89,\n",
       " 97]"
      ]
     },
     "execution_count": 19,
     "metadata": {},
     "output_type": "execute_result"
    }
   ],
   "source": [
    "prime_li"
   ]
  },
  {
   "cell_type": "code",
   "execution_count": 20,
   "id": "26932424-b0ca-4796-81ab-93aa280e441c",
   "metadata": {},
   "outputs": [
    {
     "data": {
      "text/plain": [
       "[-5, -4, -3, -2, -1, 0, 1, 2, 3, 4]"
      ]
     },
     "execution_count": 20,
     "metadata": {},
     "output_type": "execute_result"
    }
   ],
   "source": [
    "li=list(range(-5,5))\n",
    "li"
   ]
  },
  {
   "cell_type": "code",
   "execution_count": 21,
   "id": "d4080c26-40f8-4d8e-8c58-82fe1e86e4ca",
   "metadata": {},
   "outputs": [
    {
     "data": {
      "text/plain": [
       "[25, 16, 9, 4, 1, 0, 1, 2, 3, 4]"
      ]
     },
     "execution_count": 21,
     "metadata": {},
     "output_type": "execute_result"
    }
   ],
   "source": [
    "[i**2 if i<0 else i for i in li]"
   ]
  },
  {
   "cell_type": "code",
   "execution_count": 22,
   "id": "99a9f2c3-7075-481a-8d66-5d6001152d37",
   "metadata": {},
   "outputs": [
    {
     "data": {
      "text/plain": [
       "[5, 4, 3, 2, 1, 0, 1, 2, 3, 4]"
      ]
     },
     "execution_count": 22,
     "metadata": {},
     "output_type": "execute_result"
    }
   ],
   "source": [
    "[-i if i<0 else i for i in li]"
   ]
  },
  {
   "cell_type": "code",
   "execution_count": 23,
   "id": "b4eb5240-b7c3-440f-8a24-e933fd03d383",
   "metadata": {},
   "outputs": [],
   "source": [
    "li=[[1,2,3,4],\n",
    "    [4,5,6,7],\n",
    "    [7,8,9,10]]"
   ]
  },
  {
   "cell_type": "code",
   "execution_count": 24,
   "id": "0018603d-d0b3-4732-948f-0db2100adc1e",
   "metadata": {},
   "outputs": [
    {
     "data": {
      "text/plain": [
       "[[1, 2, 3, 4], [4, 5, 6, 7], [7, 8, 9, 10]]"
      ]
     },
     "execution_count": 24,
     "metadata": {},
     "output_type": "execute_result"
    }
   ],
   "source": [
    "[i for i in li]"
   ]
  },
  {
   "cell_type": "code",
   "execution_count": 25,
   "id": "1da973d6-6ead-47cd-9c00-f114a3e1f3db",
   "metadata": {},
   "outputs": [
    {
     "data": {
      "text/plain": [
       "[1, 2, 3, 4, 4, 5, 6, 7, 7, 8, 9, 10]"
      ]
     },
     "execution_count": 25,
     "metadata": {},
     "output_type": "execute_result"
    }
   ],
   "source": [
    "[i for sub_li in li for i in sub_li]"
   ]
  },
  {
   "cell_type": "code",
   "execution_count": 26,
   "id": "9c613e0b-8468-4700-8ac5-f9a2d4ebe6e5",
   "metadata": {},
   "outputs": [
    {
     "data": {
      "text/plain": [
       "[2, 4, 4, 6, 8, 10]"
      ]
     },
     "execution_count": 26,
     "metadata": {},
     "output_type": "execute_result"
    }
   ],
   "source": [
    "[i for sub_li in li for i in sub_li if i%2==0]"
   ]
  },
  {
   "cell_type": "code",
   "execution_count": 28,
   "id": "a7d01111-31f1-4a70-8a23-fa78eba0d1c8",
   "metadata": {},
   "outputs": [
    {
     "data": {
      "text/plain": [
       "[1, 4, 3, 16, 16, 5, 36, 7, 7, 64, 9, 100]"
      ]
     },
     "execution_count": 28,
     "metadata": {},
     "output_type": "execute_result"
    }
   ],
   "source": [
    "[i**2 if i%2==0 else i for sub_li in li for i in sub_li]"
   ]
  },
  {
   "cell_type": "code",
   "execution_count": null,
   "id": "aa3393d4-fe1d-48fc-9b94-889a12394e78",
   "metadata": {},
   "outputs": [],
   "source": []
  }
 ],
 "metadata": {
  "kernelspec": {
   "display_name": "Python 3",
   "language": "python",
   "name": "python3"
  },
  "language_info": {
   "codemirror_mode": {
    "name": "ipython",
    "version": 3
   },
   "file_extension": ".py",
   "mimetype": "text/x-python",
   "name": "python",
   "nbconvert_exporter": "python",
   "pygments_lexer": "ipython3",
   "version": "3.7.10"
  }
 },
 "nbformat": 4,
 "nbformat_minor": 5
}
