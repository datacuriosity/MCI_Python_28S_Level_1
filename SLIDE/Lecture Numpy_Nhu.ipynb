{
 "cells": [
  {
   "cell_type": "code",
   "execution_count": 1,
   "id": "fae73503-6db6-4df4-9d3c-e4c6c0ebcc7d",
   "metadata": {},
   "outputs": [],
   "source": [
    "import numpy as np"
   ]
  },
  {
   "cell_type": "code",
   "execution_count": 5,
   "id": "4ff1df3b-1d13-4fe3-9f49-e7b3ec9d4c9e",
   "metadata": {},
   "outputs": [],
   "source": [
    "###hyper matrix, hyper space: siêu ma trận, siêu không gian"
   ]
  },
  {
   "cell_type": "markdown",
   "id": "e6ab286d-4add-4edf-a81e-8d3a0cbf32db",
   "metadata": {},
   "source": [
    "![](data:image/png;base64,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)"
   ]
  },
  {
   "cell_type": "markdown",
   "id": "50156666-df73-432b-a4b2-21e6c751775e",
   "metadata": {},
   "source": [
    "# 1. Create array"
   ]
  },
  {
   "cell_type": "code",
   "execution_count": 10,
   "id": "52d1b83b-9a5b-46c1-aa1e-8a01f0399c22",
   "metadata": {},
   "outputs": [
    {
     "data": {
      "text/plain": [
       "array([1, 2, 3])"
      ]
     },
     "execution_count": 10,
     "metadata": {},
     "output_type": "execute_result"
    }
   ],
   "source": [
    "arr=np.array([1,2,3])\n",
    "arr"
   ]
  },
  {
   "cell_type": "code",
   "execution_count": 11,
   "id": "c3e825cd-dd62-4400-b4d1-053b9ffd72e2",
   "metadata": {},
   "outputs": [
    {
     "data": {
      "text/plain": [
       "numpy.ndarray"
      ]
     },
     "execution_count": 11,
     "metadata": {},
     "output_type": "execute_result"
    }
   ],
   "source": [
    "type(arr)"
   ]
  },
  {
   "cell_type": "code",
   "execution_count": 13,
   "id": "ed00d335-bc0e-4065-9623-999c3f57dc5d",
   "metadata": {},
   "outputs": [],
   "source": [
    "## numpy array chỉ chứa duy nhất một kiểu dữ liệu\n"
   ]
  },
  {
   "cell_type": "code",
   "execution_count": 14,
   "id": "a20258df-bfee-4eb9-bd2f-bff69f07d1d1",
   "metadata": {},
   "outputs": [
    {
     "data": {
      "text/plain": [
       "array(['1', '2', '3', 'nhu'], dtype='<U11')"
      ]
     },
     "execution_count": 14,
     "metadata": {},
     "output_type": "execute_result"
    }
   ],
   "source": [
    "arr = np.array([1,2,3,'nhu'])\n",
    "arr"
   ]
  },
  {
   "cell_type": "code",
   "execution_count": 17,
   "id": "1e8b6888-3114-40f4-b89a-d786de0860b5",
   "metadata": {},
   "outputs": [
    {
     "data": {
      "text/plain": [
       "array([1., 2., 3.])"
      ]
     },
     "execution_count": 17,
     "metadata": {},
     "output_type": "execute_result"
    }
   ],
   "source": [
    "arr = np.array([1,2,3], dtype= 'float')\n",
    "arr"
   ]
  },
  {
   "cell_type": "code",
   "execution_count": 19,
   "id": "4732288d-b357-4d4e-bdac-cd1a56366653",
   "metadata": {},
   "outputs": [
    {
     "data": {
      "text/plain": [
       "(3,)"
      ]
     },
     "execution_count": 19,
     "metadata": {},
     "output_type": "execute_result"
    }
   ],
   "source": [
    "arr.shape"
   ]
  },
  {
   "cell_type": "code",
   "execution_count": 22,
   "id": "3e9cd9eb-03f3-4514-aa01-054cf2f5ccb1",
   "metadata": {},
   "outputs": [
    {
     "data": {
      "text/plain": [
       "array([[1, 2, 3],\n",
       "       [4, 5, 6],\n",
       "       [7, 8, 9]])"
      ]
     },
     "execution_count": 22,
     "metadata": {},
     "output_type": "execute_result"
    }
   ],
   "source": [
    "arr=np.array([[1,2,3],[4,5,6],[7,8,9]])\n",
    "arr"
   ]
  },
  {
   "cell_type": "code",
   "execution_count": 23,
   "id": "56a0772e-5d05-43ec-bace-8a4174817719",
   "metadata": {},
   "outputs": [
    {
     "data": {
      "text/plain": [
       "(3, 3)"
      ]
     },
     "execution_count": 23,
     "metadata": {},
     "output_type": "execute_result"
    }
   ],
   "source": [
    "arr.shape"
   ]
  },
  {
   "cell_type": "code",
   "execution_count": 29,
   "id": "64498c45-5eeb-4f8c-b8c7-3b31619e3319",
   "metadata": {},
   "outputs": [
    {
     "data": {
      "text/plain": [
       "array([[[ 1.,  2.],\n",
       "        [ 3.,  4.],\n",
       "        [ 5.,  6.]],\n",
       "\n",
       "       [[ 7.,  8.],\n",
       "        [ 9., 10.],\n",
       "        [11., 12.]],\n",
       "\n",
       "       [[13., 14.],\n",
       "        [15., 16.],\n",
       "        [17., 18.]]])"
      ]
     },
     "execution_count": 29,
     "metadata": {},
     "output_type": "execute_result"
    }
   ],
   "source": [
    "arr = np.array([[[1,2],[3,4],[5,6]],\n",
    "                [[7,8],[9,10],[11,12]],\n",
    "                [[13,14],[15,16],[17,18]]], dtype = 'float')\n",
    "arr"
   ]
  },
  {
   "cell_type": "code",
   "execution_count": 27,
   "id": "fa8a6685-ceb4-4a1d-b4bb-5662c16a6065",
   "metadata": {},
   "outputs": [
    {
     "data": {
      "text/plain": [
       "(3, 3, 2)"
      ]
     },
     "execution_count": 27,
     "metadata": {},
     "output_type": "execute_result"
    }
   ],
   "source": [
    "arr.shape"
   ]
  },
  {
   "cell_type": "code",
   "execution_count": null,
   "id": "0790a6ee-dbe0-432a-a1e5-ca3c36ba302f",
   "metadata": {},
   "outputs": [],
   "source": [
    "### Hàm linspace để tạo ma trận "
   ]
  },
  {
   "cell_type": "code",
   "execution_count": 33,
   "id": "2214761a-b92c-4bf6-8ce7-e329e1a60c67",
   "metadata": {},
   "outputs": [
    {
     "data": {
      "text/plain": [
       "array([[ 1.,  2.,  3.,  4.,  5.],\n",
       "       [ 6.,  7.,  8.,  9., 10.]])"
      ]
     },
     "execution_count": 33,
     "metadata": {},
     "output_type": "execute_result"
    }
   ],
   "source": [
    "arr = np.linspace(1, 10,10).reshape(2,5)\n",
    "arr"
   ]
  },
  {
   "cell_type": "code",
   "execution_count": 36,
   "id": "c984171f-36e9-4752-ae28-2ffa33f4dd21",
   "metadata": {},
   "outputs": [
    {
     "data": {
      "text/plain": [
       "array([[1.000000e+00, 2.000000e+00, 3.000000e+00, ..., 1.998000e+03,\n",
       "        1.999000e+03, 2.000000e+03],\n",
       "       [2.001000e+03, 2.002000e+03, 2.003000e+03, ..., 3.998000e+03,\n",
       "        3.999000e+03, 4.000000e+03],\n",
       "       [4.001000e+03, 4.002000e+03, 4.003000e+03, ..., 5.998000e+03,\n",
       "        5.999000e+03, 6.000000e+03],\n",
       "       ...,\n",
       "       [9.994001e+06, 9.994002e+06, 9.994003e+06, ..., 9.995998e+06,\n",
       "        9.995999e+06, 9.996000e+06],\n",
       "       [9.996001e+06, 9.996002e+06, 9.996003e+06, ..., 9.997998e+06,\n",
       "        9.997999e+06, 9.998000e+06],\n",
       "       [9.998001e+06, 9.998002e+06, 9.998003e+06, ..., 9.999998e+06,\n",
       "        9.999999e+06, 1.000000e+07]])"
      ]
     },
     "execution_count": 36,
     "metadata": {},
     "output_type": "execute_result"
    }
   ],
   "source": [
    "arr= np.linspace(1,10_000_000,10_000_000).reshape(5000,2000)\n",
    "arr"
   ]
  },
  {
   "cell_type": "code",
   "execution_count": 37,
   "id": "4c0204ad-25c9-4dd9-9e75-242ee517e487",
   "metadata": {},
   "outputs": [],
   "source": [
    "np.savetxt('text.txt',arr)\n"
   ]
  },
  {
   "cell_type": "code",
   "execution_count": 41,
   "id": "0cd3fb6f-4d65-4c47-9731-e81be4f2b475",
   "metadata": {},
   "outputs": [
    {
     "data": {
      "text/plain": [
       "array([[1.000000e+00, 2.000000e+00, 3.000000e+00, ..., 1.998000e+03,\n",
       "        1.999000e+03, 2.000000e+03],\n",
       "       [2.001000e+03, 2.002000e+03, 2.003000e+03, ..., 3.998000e+03,\n",
       "        3.999000e+03, 4.000000e+03],\n",
       "       [4.001000e+03, 4.002000e+03, 4.003000e+03, ..., 5.998000e+03,\n",
       "        5.999000e+03, 6.000000e+03],\n",
       "       ...,\n",
       "       [9.994001e+06, 9.994002e+06, 9.994003e+06, ..., 9.995998e+06,\n",
       "        9.995999e+06, 9.996000e+06],\n",
       "       [9.996001e+06, 9.996002e+06, 9.996003e+06, ..., 9.997998e+06,\n",
       "        9.997999e+06, 9.998000e+06],\n",
       "       [9.998001e+06, 9.998002e+06, 9.998003e+06, ..., 9.999998e+06,\n",
       "        9.999999e+06, 1.000000e+07]])"
      ]
     },
     "execution_count": 41,
     "metadata": {},
     "output_type": "execute_result"
    }
   ],
   "source": [
    "arr_2= np.loadtxt('text.txt')\n",
    "arr_2"
   ]
  },
  {
   "cell_type": "code",
   "execution_count": 47,
   "id": "467ab4d9-e011-41e4-8017-601b02edbe64",
   "metadata": {},
   "outputs": [
    {
     "data": {
      "text/plain": [
       "array([[[0, 0],\n",
       "        [0, 0],\n",
       "        [0, 0]],\n",
       "\n",
       "       [[0, 0],\n",
       "        [0, 0],\n",
       "        [0, 0]],\n",
       "\n",
       "       [[0, 0],\n",
       "        [0, 0],\n",
       "        [0, 0]]])"
      ]
     },
     "execution_count": 47,
     "metadata": {},
     "output_type": "execute_result"
    }
   ],
   "source": [
    "arr= np.zeros((3,3,2),dtype = 'int')\n",
    "arr"
   ]
  },
  {
   "cell_type": "code",
   "execution_count": 49,
   "id": "539bfb83-660d-4cc4-b540-97c22ee530e0",
   "metadata": {},
   "outputs": [
    {
     "ename": "NameError",
     "evalue": "name 'new_li' is not defined",
     "output_type": "error",
     "traceback": [
      "\u001b[1;31m---------------------------------------------------------------------------\u001b[0m",
      "\u001b[1;31mNameError\u001b[0m                                 Traceback (most recent call last)",
      "\u001b[1;32m<ipython-input-49-05c3ad651c11>\u001b[0m in \u001b[0;36m<module>\u001b[1;34m\u001b[0m\n\u001b[0;32m      2\u001b[0m \u001b[1;32mfor\u001b[0m \u001b[0mi\u001b[0m \u001b[1;32min\u001b[0m \u001b[0mli\u001b[0m\u001b[1;33m:\u001b[0m\u001b[1;33m\u001b[0m\u001b[1;33m\u001b[0m\u001b[0m\n\u001b[0;32m      3\u001b[0m     \u001b[1;32mif\u001b[0m \u001b[0mi\u001b[0m \u001b[1;33m%\u001b[0m \u001b[1;36m2\u001b[0m \u001b[1;33m==\u001b[0m \u001b[1;36m0\u001b[0m\u001b[1;33m:\u001b[0m\u001b[1;33m\u001b[0m\u001b[1;33m\u001b[0m\u001b[0m\n\u001b[1;32m----> 4\u001b[1;33m         \u001b[0mnew_li\u001b[0m\u001b[1;33m.\u001b[0m\u001b[0mappend\u001b[0m\u001b[1;33m(\u001b[0m\u001b[0mi\u001b[0m\u001b[1;33m)\u001b[0m\u001b[1;33m\u001b[0m\u001b[1;33m\u001b[0m\u001b[0m\n\u001b[0m\u001b[0;32m      5\u001b[0m \u001b[0mnew_li\u001b[0m\u001b[1;33m\u001b[0m\u001b[1;33m\u001b[0m\u001b[0m\n",
      "\u001b[1;31mNameError\u001b[0m: name 'new_li' is not defined"
     ]
    }
   ],
   "source": [
    "li=list(range(11))\n",
    "for i in li:\n",
    "    if i % 2 == 0:\n",
    "        new_li.append(i)\n",
    "new_li"
   ]
  },
  {
   "cell_type": "code",
   "execution_count": null,
   "id": "2e08cdd4-c798-48cc-a9e8-b065bf486ebc",
   "metadata": {},
   "outputs": [],
   "source": []
  },
  {
   "cell_type": "code",
   "execution_count": 51,
   "id": "0c88e0e0-74fd-47c3-81ea-92d0cc41b0fe",
   "metadata": {},
   "outputs": [],
   "source": [
    "%config Completer.use_jedi=False"
   ]
  },
  {
   "cell_type": "code",
   "execution_count": null,
   "id": "7a96df08-07fe-4f6c-a74f-570598d81155",
   "metadata": {},
   "outputs": [],
   "source": []
  }
 ],
 "metadata": {
  "kernelspec": {
   "display_name": "Python 3",
   "language": "python",
   "name": "python3"
  },
  "language_info": {
   "codemirror_mode": {
    "name": "ipython",
    "version": 3
   },
   "file_extension": ".py",
   "mimetype": "text/x-python",
   "name": "python",
   "nbconvert_exporter": "python",
   "pygments_lexer": "ipython3",
   "version": "3.7.10"
  }
 },
 "nbformat": 4,
 "nbformat_minor": 5
}
