{
 "cells": [
  {
   "cell_type": "code",
   "execution_count": 1,
   "id": "7c42586a-086d-4c1e-a73c-aec6b6ad5628",
   "metadata": {},
   "outputs": [
    {
     "data": {
      "text/plain": [
       "2"
      ]
     },
     "execution_count": 1,
     "metadata": {},
     "output_type": "execute_result"
    }
   ],
   "source": [
    "1+1"
   ]
  },
  {
   "cell_type": "code",
   "execution_count": 2,
   "id": "a52abd0f-18b8-4e8f-9938-3a37e36ea8ea",
   "metadata": {},
   "outputs": [
    {
     "name": "stdout",
     "output_type": "stream",
     "text": [
      "I love pizza\n"
     ]
    }
   ],
   "source": [
    "print(\"I love pizza\")"
   ]
  },
  {
   "cell_type": "code",
   "execution_count": 8,
   "id": "1b97ac84-2e4a-4d00-9e4e-a4e31b98273b",
   "metadata": {},
   "outputs": [
    {
     "name": "stdout",
     "output_type": "stream",
     "text": [
      "<class 'str'>\n"
     ]
    }
   ],
   "source": [
    "name = \"nhu\"\n",
    "#print(\"My name is \" +name)\n",
    "print (type(name))"
   ]
  },
  {
   "cell_type": "code",
   "execution_count": 9,
   "id": "06d06b86-c0ad-4379-b533-6e725db49054",
   "metadata": {},
   "outputs": [
    {
     "name": "stdout",
     "output_type": "stream",
     "text": [
      "Hello bro\n"
     ]
    }
   ],
   "source": [
    "name =\"bro\"\n",
    "print(\"Hello \"+ name)"
   ]
  },
  {
   "cell_type": "code",
   "execution_count": 10,
   "id": "6d7ea1ea-31d9-45fb-84e7-c3ec10a37fd5",
   "metadata": {},
   "outputs": [
    {
     "name": "stdout",
     "output_type": "stream",
     "text": [
      "6\n"
     ]
    }
   ],
   "source": [
    "x=1\n",
    "y=2\n",
    "z=3\n",
    "print(x+y+z)"
   ]
  },
  {
   "cell_type": "code",
   "execution_count": 12,
   "id": "ad15501f-ac42-46f1-ae0e-4c37167b582a",
   "metadata": {},
   "outputs": [
    {
     "name": "stdout",
     "output_type": "stream",
     "text": [
      "Hello NhuTran\n"
     ]
    }
   ],
   "source": [
    "first_name = \"Nhu\"\n",
    "last_name = \"Tran\"\n",
    "full_name = first_name + last_name\n",
    "print(\"Hello \"+ full_name)\n"
   ]
  },
  {
   "cell_type": "markdown",
   "id": "e1408c5e-8a8c-40de-9b5d-a2628ed3564d",
   "metadata": {},
   "source": [
    "*Italic*"
   ]
  },
  {
   "cell_type": "markdown",
   "id": "362b18d6-d1f6-4243-9ce2-d027b5eb03b3",
   "metadata": {},
   "source": [
    "**Bold**"
   ]
  },
  {
   "cell_type": "markdown",
   "id": "ef1e055a-cbaa-4b2c-b85f-e62262f11d83",
   "metadata": {
    "tags": []
   },
   "source": [
    "-cells\n",
    "1.code bấm phím Y\n",
    "2.markdown ( dành cho heading)bấm phím M\n",
    "3.Insert new cell above:A\n",
    "4.Insert new cell below\n",
    "5.Paste cell V\n",
    "6.Copy cell C\n",
    "7.Cut cell X\n",
    "8.Chèn hình ảnh []()\n",
    "9.Italic text **\n",
    "10.Bold text ****\n",
    "11.Chèn hình ảnh: ![](link hình ảnh)\n"
   ]
  },
  {
   "cell_type": "markdown",
   "id": "c74404f9-e3f0-4022-a0a6-b79180bc6f12",
   "metadata": {},
   "source": [
    "![](data:image/png;base64,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)"
   ]
  },
  {
   "cell_type": "markdown",
   "id": "81706ff0-fe96-451e-a1b3-5dcd5d4050fe",
   "metadata": {},
   "source": [
    "#Lessons"
   ]
  },
  {
   "cell_type": "markdown",
   "id": "69e56b70-549c-4909-b392-c3487f22f5f7",
   "metadata": {},
   "source": [
    "conda create -n nhutt python=3.7 numpy pandas seaborn matplotlib skikit"
   ]
  },
  {
   "cell_type": "markdown",
   "id": "eeaf17ba-3522-428f-8f85-56ec4690e371",
   "metadata": {},
   "source": [
    "# Coding"
   ]
  },
  {
   "cell_type": "markdown",
   "id": "c4c0c44e-e28d-4b82-83ff-879af0b4113e",
   "metadata": {},
   "source": [
    "## 1.Operation"
   ]
  },
  {
   "cell_type": "code",
   "execution_count": 20,
   "id": "cb45d241-4465-4bbb-8067-79e0eda3443a",
   "metadata": {},
   "outputs": [
    {
     "data": {
      "text/plain": [
       "1"
      ]
     },
     "execution_count": 20,
     "metadata": {},
     "output_type": "execute_result"
    }
   ],
   "source": [
    "#Modulus: Lấy phần dư\n",
    "# Floor Division : lấy phần nguyên\n",
    "8//5"
   ]
  },
  {
   "cell_type": "code",
   "execution_count": 22,
   "id": "43a98f2a-9d7f-4e67-a36b-f3d575703bef",
   "metadata": {},
   "outputs": [
    {
     "data": {
      "text/plain": [
       "3"
      ]
     },
     "execution_count": 22,
     "metadata": {},
     "output_type": "execute_result"
    }
   ],
   "source": [
    "# lấy phần dư\n",
    "8%5"
   ]
  },
  {
   "cell_type": "code",
   "execution_count": 24,
   "id": "21cf23bb-45fa-484e-8851-586ea7fad35c",
   "metadata": {},
   "outputs": [
    {
     "data": {
      "text/plain": [
       "16"
      ]
     },
     "execution_count": 24,
     "metadata": {},
     "output_type": "execute_result"
    }
   ],
   "source": [
    "#Mũ \n",
    "4**2"
   ]
  },
  {
   "cell_type": "code",
   "execution_count": 26,
   "id": "873a38e6-6743-4273-99a1-2cb81649e5b2",
   "metadata": {},
   "outputs": [
    {
     "data": {
      "text/plain": [
       "4"
      ]
     },
     "execution_count": 26,
     "metadata": {},
     "output_type": "execute_result"
    }
   ],
   "source": [
    "##Hàm lấy giá trị tuyệt đối\n",
    "abs(-4)"
   ]
  },
  {
   "cell_type": "code",
   "execution_count": 28,
   "id": "fae5b196-457b-4638-b9d0-af60fd083c76",
   "metadata": {},
   "outputs": [
    {
     "data": {
      "text/plain": [
       "1.26"
      ]
     },
     "execution_count": 28,
     "metadata": {},
     "output_type": "execute_result"
    }
   ],
   "source": [
    "##Làm tròn\n",
    "round(1.256,2)"
   ]
  },
  {
   "cell_type": "markdown",
   "id": "715844a4-fd3c-4ce0-bd4a-d9be5ab6717f",
   "metadata": {},
   "source": [
    "## Căn bậc 2 là mũ 1/2\n",
    "16 **(1/2)"
   ]
  },
  {
   "cell_type": "code",
   "execution_count": 31,
   "id": "ab7f5050-765b-44f0-a84f-6ccaccdd9fc6",
   "metadata": {},
   "outputs": [],
   "source": [
    "import math--- lazy programing"
   ]
  },
  {
   "cell_type": "code",
   "execution_count": 33,
   "id": "922c0bfb-c0b0-43e4-9b6d-e1cef7f07e8c",
   "metadata": {},
   "outputs": [
    {
     "data": {
      "text/plain": [
       "2.0"
      ]
     },
     "execution_count": 33,
     "metadata": {},
     "output_type": "execute_result"
    }
   ],
   "source": [
    "math.log10(100)"
   ]
  },
  {
   "cell_type": "markdown",
   "id": "47c484b6-310c-4afd-8eb0-32de5b4a0945",
   "metadata": {},
   "source": [
    "## 1.Datatypes and data structures"
   ]
  },
  {
   "cell_type": "markdown",
   "id": "16ede214-a7e3-49a4-ab6a-d25f3a5dcc2d",
   "metadata": {},
   "source": [
    "Programming = Data Structures + Algorithms\n",
    "+ Data Strutures: What is it?\n",
    "+ Algorithms: What should I do"
   ]
  },
  {
   "cell_type": "markdown",
   "id": "89a6bc9a-41d4-4433-a500-9fc4a7be4040",
   "metadata": {},
   "source": [
    "### 1.1 Datatypes"
   ]
  },
  {
   "cell_type": "markdown",
   "id": "0039be60-434c-4326-aa5d-fa55edbe20ce",
   "metadata": {},
   "source": [
    "-Numerics: integer, float,\n",
    "-String: text,char\n",
    "-Boolean: True/False\n",
    "-Datetime\n",
    "-Complex 1+2j\n",
    "-Nonetype"
   ]
  },
  {
   "cell_type": "code",
   "execution_count": 36,
   "id": "e5cf1197-7b19-49e8-b824-d82b15ca3576",
   "metadata": {},
   "outputs": [
    {
     "data": {
      "text/plain": [
       "int"
      ]
     },
     "execution_count": 36,
     "metadata": {},
     "output_type": "execute_result"
    }
   ],
   "source": [
    "type(1)"
   ]
  },
  {
   "cell_type": "code",
   "execution_count": 37,
   "id": "1b78bcb1-aedb-4408-a7e9-0da6b131526f",
   "metadata": {},
   "outputs": [
    {
     "data": {
      "text/plain": [
       "float"
      ]
     },
     "execution_count": 37,
     "metadata": {},
     "output_type": "execute_result"
    }
   ],
   "source": [
    "type(1.0)"
   ]
  },
  {
   "cell_type": "code",
   "execution_count": 38,
   "id": "e3f750cf-128b-433f-80b4-e5a861c16c55",
   "metadata": {},
   "outputs": [],
   "source": [
    "#NO diff between '', \"\" in python"
   ]
  },
  {
   "cell_type": "code",
   "execution_count": 39,
   "id": "daf84e14-abf4-4876-acc7-299b3ddf896d",
   "metadata": {},
   "outputs": [
    {
     "data": {
      "text/plain": [
       "str"
      ]
     },
     "execution_count": 39,
     "metadata": {},
     "output_type": "execute_result"
    }
   ],
   "source": [
    "type('t')"
   ]
  },
  {
   "cell_type": "code",
   "execution_count": 46,
   "id": "45759f42-29a8-4038-8561-601fcb30edef",
   "metadata": {},
   "outputs": [
    {
     "data": {
      "text/plain": [
       "bool"
      ]
     },
     "execution_count": 46,
     "metadata": {},
     "output_type": "execute_result"
    }
   ],
   "source": [
    "type(True)\n",
    "type(False)\n"
   ]
  },
  {
   "cell_type": "code",
   "execution_count": 47,
   "id": "77fefec7-4e37-4db5-85c0-f978fca009dc",
   "metadata": {},
   "outputs": [
    {
     "name": "stdout",
     "output_type": "stream",
     "text": [
      "Hello World!\n",
      "Hello World\n"
     ]
    }
   ],
   "source": [
    "print('Hello World!')\n",
    "print(\"Hello World\")"
   ]
  },
  {
   "cell_type": "code",
   "execution_count": 49,
   "id": "31a489b8-ce1d-4231-b60f-b3aa1179b2ab",
   "metadata": {},
   "outputs": [
    {
     "ename": "NameError",
     "evalue": "name 'Print' is not defined",
     "output_type": "error",
     "traceback": [
      "\u001b[1;31m---------------------------------------------------------------------------\u001b[0m",
      "\u001b[1;31mNameError\u001b[0m                                 Traceback (most recent call last)",
      "\u001b[1;32m<ipython-input-49-aa8c6202048e>\u001b[0m in \u001b[0;36m<module>\u001b[1;34m\u001b[0m\n\u001b[0;32m      1\u001b[0m \u001b[1;31m#Programming language is case sensitive\u001b[0m\u001b[1;33m\u001b[0m\u001b[1;33m\u001b[0m\u001b[1;33m\u001b[0m\u001b[0m\n\u001b[1;32m----> 2\u001b[1;33m \u001b[0mPrint\u001b[0m\u001b[1;33m(\u001b[0m\u001b[1;34m'Hello World'\u001b[0m\u001b[1;33m)\u001b[0m\u001b[1;33m\u001b[0m\u001b[1;33m\u001b[0m\u001b[0m\n\u001b[0m",
      "\u001b[1;31mNameError\u001b[0m: name 'Print' is not defined"
     ]
    }
   ],
   "source": [
    "#Programming language is case sensitive\n",
    "Print('Hello World')"
   ]
  },
  {
   "cell_type": "code",
   "execution_count": 51,
   "id": "25205421-af6d-4bce-b82a-cd8589149a8e",
   "metadata": {},
   "outputs": [
    {
     "data": {
      "text/plain": [
       "NoneType"
      ]
     },
     "execution_count": 51,
     "metadata": {},
     "output_type": "execute_result"
    }
   ],
   "source": [
    "## Null differ empty\n",
    "type(None)"
   ]
  },
  {
   "cell_type": "code",
   "execution_count": 52,
   "id": "bacdd943-f54f-401a-8616-7c31bda20432",
   "metadata": {},
   "outputs": [
    {
     "data": {
      "text/plain": [
       "str"
      ]
     },
     "execution_count": 52,
     "metadata": {},
     "output_type": "execute_result"
    }
   ],
   "source": [
    "type('')"
   ]
  },
  {
   "cell_type": "code",
   "execution_count": 57,
   "id": "a731c102-6eb7-4643-9d40-432b7077288c",
   "metadata": {},
   "outputs": [
    {
     "data": {
      "text/plain": [
       "complex"
      ]
     },
     "execution_count": 57,
     "metadata": {},
     "output_type": "execute_result"
    }
   ],
   "source": [
    "type(1j)\n",
    "type(2+3j)\n",
    "#real + imaginary >> phần thực +phần ảo"
   ]
  },
  {
   "cell_type": "code",
   "execution_count": 59,
   "id": "3037bc70-da97-4070-ab8c-e89b5888b354",
   "metadata": {},
   "outputs": [],
   "source": [
    "##datetime: không có sẵn trong python mà có trong thư viện riêng biệt\n",
    "from datetime import datetime"
   ]
  },
  {
   "cell_type": "code",
   "execution_count": 60,
   "id": "6c48c030-a443-42b3-8797-f41b19b6ded1",
   "metadata": {},
   "outputs": [
    {
     "data": {
      "text/plain": [
       "datetime.datetime"
      ]
     },
     "execution_count": 60,
     "metadata": {},
     "output_type": "execute_result"
    }
   ],
   "source": [
    "type(datetime.now())"
   ]
  },
  {
   "cell_type": "code",
   "execution_count": 61,
   "id": "1174b4f9-384e-4f21-9453-f174837c7f06",
   "metadata": {},
   "outputs": [
    {
     "data": {
      "text/plain": [
       "2021"
      ]
     },
     "execution_count": 61,
     "metadata": {},
     "output_type": "execute_result"
    }
   ],
   "source": [
    "datetime.now().year"
   ]
  },
  {
   "cell_type": "code",
   "execution_count": 62,
   "id": "07422cd5-3794-4491-b6ca-5a82c5d8af1d",
   "metadata": {},
   "outputs": [
    {
     "data": {
      "text/plain": [
       "5"
      ]
     },
     "execution_count": 62,
     "metadata": {},
     "output_type": "execute_result"
    }
   ],
   "source": [
    "datetime.now().month"
   ]
  },
  {
   "cell_type": "code",
   "execution_count": 63,
   "id": "c132e002-172e-49d0-b59a-2d48569c2c35",
   "metadata": {},
   "outputs": [
    {
     "ename": "TypeError",
     "evalue": "strftime() missing required argument 'format' (pos 1)",
     "output_type": "error",
     "traceback": [
      "\u001b[1;31m---------------------------------------------------------------------------\u001b[0m",
      "\u001b[1;31mTypeError\u001b[0m                                 Traceback (most recent call last)",
      "\u001b[1;32m<ipython-input-63-f5d211aa096e>\u001b[0m in \u001b[0;36m<module>\u001b[1;34m\u001b[0m\n\u001b[1;32m----> 1\u001b[1;33m \u001b[0mdatetime\u001b[0m\u001b[1;33m.\u001b[0m\u001b[0mstrftime\u001b[0m\u001b[1;33m(\u001b[0m\u001b[0mdatetime\u001b[0m\u001b[1;33m.\u001b[0m\u001b[0mnow\u001b[0m\u001b[1;33m(\u001b[0m\u001b[1;33m)\u001b[0m\u001b[1;33m)\u001b[0m\u001b[1;33m,\u001b[0m\u001b[1;34m''\u001b[0m\u001b[1;33m\u001b[0m\u001b[1;33m\u001b[0m\u001b[0m\n\u001b[0m",
      "\u001b[1;31mTypeError\u001b[0m: strftime() missing required argument 'format' (pos 1)"
     ]
    }
   ],
   "source": [
    "datetime.strftime(datetime.now()),''"
   ]
  },
  {
   "cell_type": "code",
   "execution_count": 64,
   "id": "21eb401b-ec96-46c2-897b-4763778fbae5",
   "metadata": {},
   "outputs": [
    {
     "data": {
      "text/plain": [
       "15"
      ]
     },
     "execution_count": 64,
     "metadata": {},
     "output_type": "execute_result"
    }
   ],
   "source": [
    "datetime.now().hour"
   ]
  },
  {
   "cell_type": "code",
   "execution_count": 65,
   "id": "0620ba07-1aa6-4c33-b29d-617a2ab18986",
   "metadata": {},
   "outputs": [],
   "source": [
    "import datetime"
   ]
  },
  {
   "cell_type": "code",
   "execution_count": 67,
   "id": "8b7c5d3b-e961-49b9-8f62-5649326b21c0",
   "metadata": {},
   "outputs": [
    {
     "data": {
      "text/plain": [
       "datetime.datetime(2021, 5, 9, 15, 51, 4, 682106)"
      ]
     },
     "execution_count": 67,
     "metadata": {},
     "output_type": "execute_result"
    }
   ],
   "source": [
    "datetime.datetime.now()"
   ]
  },
  {
   "cell_type": "code",
   "execution_count": 68,
   "id": "cb5af3e7-ded2-478c-9dff-a175b3e3764c",
   "metadata": {},
   "outputs": [],
   "source": [
    "from dateutil import relativedelta"
   ]
  },
  {
   "cell_type": "markdown",
   "id": "cb9fe470-db7d-446b-88df-5f85ff05080a",
   "metadata": {},
   "source": [
    "### 1.2 Data Structures"
   ]
  },
  {
   "cell_type": "markdown",
   "id": "45b1c8dc-35ff-4710-ab05-7bee69d6896e",
   "metadata": {},
   "source": [
    "+ List [], list()\n",
    "+ Tuple(), tuple(), index\n",
    "+ Set {}, set(), non-index, non-duplicated value\n",
    "+ Dictionary:{key_value}, no duplicated"
   ]
  },
  {
   "cell_type": "markdown",
   "id": "8df39124-e2d2-4201-a515-2a866870807e",
   "metadata": {},
   "source": [
    "### 1.2.1 List\n",
    "+ Mix data types\n",
    "+ Index => ordered"
   ]
  },
  {
   "cell_type": "code",
   "execution_count": 74,
   "id": "9e98fbce-35e6-4435-b511-f214a7335cb9",
   "metadata": {},
   "outputs": [],
   "source": [
    "li =[1,2,3,4,'truong','nam', True, 1+2j]"
   ]
  },
  {
   "cell_type": "code",
   "execution_count": 75,
   "id": "62b2d29e-5e98-4a74-b742-2d5919533b40",
   "metadata": {},
   "outputs": [
    {
     "data": {
      "text/plain": [
       "[1, 2, 3, 4, 'truong', 'nam', True, (1+2j)]"
      ]
     },
     "execution_count": 75,
     "metadata": {},
     "output_type": "execute_result"
    }
   ],
   "source": [
    "li"
   ]
  },
  {
   "cell_type": "code",
   "execution_count": 76,
   "id": "e6e2c475-237e-4f63-aaa3-9fc821d9167e",
   "metadata": {},
   "outputs": [
    {
     "data": {
      "text/plain": [
       "1624871191112"
      ]
     },
     "execution_count": 76,
     "metadata": {},
     "output_type": "execute_result"
    }
   ],
   "source": [
    "### dia chi o \n",
    "id(li)"
   ]
  },
  {
   "cell_type": "code",
   "execution_count": 77,
   "id": "7944e6d9-55cc-454b-a9ca-752b512b3754",
   "metadata": {},
   "outputs": [],
   "source": [
    "# 1 list trong excel tương ứng trong 1 column or 1 row"
   ]
  },
  {
   "cell_type": "code",
   "execution_count": 78,
   "id": "1848011e-ec4a-47ba-9728-4aa641d74a48",
   "metadata": {},
   "outputs": [],
   "source": [
    "# Các phép toán, thao tác trong list"
   ]
  },
  {
   "cell_type": "code",
   "execution_count": 81,
   "id": "90832d8e-2cac-4b68-be5a-ceb29a9ad115",
   "metadata": {},
   "outputs": [
    {
     "data": {
      "text/plain": [
       "['__add__',\n",
       " '__class__',\n",
       " '__contains__',\n",
       " '__delattr__',\n",
       " '__delitem__',\n",
       " '__dir__',\n",
       " '__doc__',\n",
       " '__eq__',\n",
       " '__format__',\n",
       " '__ge__',\n",
       " '__getattribute__',\n",
       " '__getitem__',\n",
       " '__gt__',\n",
       " '__hash__',\n",
       " '__iadd__',\n",
       " '__imul__',\n",
       " '__init__',\n",
       " '__init_subclass__',\n",
       " '__iter__',\n",
       " '__le__',\n",
       " '__len__',\n",
       " '__lt__',\n",
       " '__mul__',\n",
       " '__ne__',\n",
       " '__new__',\n",
       " '__reduce__',\n",
       " '__reduce_ex__',\n",
       " '__repr__',\n",
       " '__reversed__',\n",
       " '__rmul__',\n",
       " '__setattr__',\n",
       " '__setitem__',\n",
       " '__sizeof__',\n",
       " '__str__',\n",
       " '__subclasshook__',\n",
       " 'append',\n",
       " 'clear',\n",
       " 'copy',\n",
       " 'count',\n",
       " 'extend',\n",
       " 'index',\n",
       " 'insert',\n",
       " 'pop',\n",
       " 'remove',\n",
       " 'reverse',\n",
       " 'sort']"
      ]
     },
     "execution_count": 81,
     "metadata": {},
     "output_type": "execute_result"
    }
   ],
   "source": [
    "##Trong python những hàm sử dụng 2 dấu gạch dưới không nên sử dụng, chỉ sử dụng những hàm phổ biến để thao tác với list\n",
    "dir(li)"
   ]
  },
  {
   "cell_type": "code",
   "execution_count": 94,
   "id": "7c2079ee-ad2b-4d3d-ba75-2e299e88749f",
   "metadata": {},
   "outputs": [
    {
     "data": {
      "text/plain": [
       "['append',\n",
       " 'clear',\n",
       " 'copy',\n",
       " 'count',\n",
       " 'extend',\n",
       " 'index',\n",
       " 'insert',\n",
       " 'pop',\n",
       " 'remove',\n",
       " 'reverse',\n",
       " 'sort']"
      ]
     },
     "execution_count": 94,
     "metadata": {},
     "output_type": "execute_result"
    }
   ],
   "source": [
    "[method for method in dir(li) if  not method.startswith('_')]"
   ]
  },
  {
   "cell_type": "code",
   "execution_count": 96,
   "id": "7efc7471-dc42-49f9-a1fb-a7838ae0c37d",
   "metadata": {},
   "outputs": [
    {
     "data": {
      "text/plain": [
       "[1, 2, 3, 4, 'Ly', 'nam', True, (1+2j)]"
      ]
     },
     "execution_count": 96,
     "metadata": {},
     "output_type": "execute_result"
    }
   ],
   "source": [
    "li[4]='Ly'\n",
    "li"
   ]
  },
  {
   "cell_type": "code",
   "execution_count": 98,
   "id": "d16ed24c-239d-4d4a-8efb-af508cb128a3",
   "metadata": {},
   "outputs": [
    {
     "data": {
      "text/plain": [
       "[1, 5, 6, 7, 'Ly', 'nam', True, (1+2j)]"
      ]
     },
     "execution_count": 98,
     "metadata": {},
     "output_type": "execute_result"
    }
   ],
   "source": [
    "li[1:4]= [5,6,7]\n",
    "li"
   ]
  },
  {
   "cell_type": "code",
   "execution_count": 99,
   "id": "44af30ad-9798-4304-95ba-dbffd91910ac",
   "metadata": {},
   "outputs": [
    {
     "data": {
      "text/plain": [
       "[1, 5, 6, 7, 'Ly', 'nam', (1+2j)]"
      ]
     },
     "execution_count": 99,
     "metadata": {},
     "output_type": "execute_result"
    }
   ],
   "source": [
    "del li[-2]\n",
    "li"
   ]
  },
  {
   "cell_type": "code",
   "execution_count": 95,
   "id": "ca4d981f-f7b4-49b4-8656-02ab7df44f5d",
   "metadata": {},
   "outputs": [
    {
     "data": {
      "text/plain": [
       "1"
      ]
     },
     "execution_count": 95,
     "metadata": {},
     "output_type": "execute_result"
    }
   ],
   "source": [
    "li[0]"
   ]
  },
  {
   "cell_type": "code",
   "execution_count": 84,
   "id": "a4c3beee-5699-48f6-b3bd-1e01eb69bf81",
   "metadata": {},
   "outputs": [
    {
     "data": {
      "text/plain": [
       "True"
      ]
     },
     "execution_count": 84,
     "metadata": {},
     "output_type": "execute_result"
    }
   ],
   "source": [
    "a=4\n",
    "b=4\n",
    "a==b"
   ]
  },
  {
   "cell_type": "code",
   "execution_count": 85,
   "id": "163eb1c7-b644-4265-9ca2-330fd212cf71",
   "metadata": {},
   "outputs": [
    {
     "data": {
      "text/plain": [
       "True"
      ]
     },
     "execution_count": 85,
     "metadata": {},
     "output_type": "execute_result"
    }
   ],
   "source": [
    "a is b"
   ]
  },
  {
   "cell_type": "code",
   "execution_count": 86,
   "id": "e0caad5c-16eb-41bf-8e8b-3116aadad103",
   "metadata": {},
   "outputs": [
    {
     "data": {
      "text/plain": [
       "140706594857472"
      ]
     },
     "execution_count": 86,
     "metadata": {},
     "output_type": "execute_result"
    }
   ],
   "source": [
    "id(a)"
   ]
  },
  {
   "cell_type": "code",
   "execution_count": 87,
   "id": "a62bb121-d0b7-4753-8919-4ce57a9f1ed8",
   "metadata": {},
   "outputs": [
    {
     "data": {
      "text/plain": [
       "140706594857472"
      ]
     },
     "execution_count": 87,
     "metadata": {},
     "output_type": "execute_result"
    }
   ],
   "source": [
    "id(b)"
   ]
  },
  {
   "cell_type": "code",
   "execution_count": 88,
   "id": "8531c758-2cbe-4220-a51d-d9eae63a1747",
   "metadata": {},
   "outputs": [
    {
     "data": {
      "text/plain": [
       "False"
      ]
     },
     "execution_count": 88,
     "metadata": {},
     "output_type": "execute_result"
    }
   ],
   "source": [
    "a!=b"
   ]
  },
  {
   "cell_type": "code",
   "execution_count": 91,
   "id": "0f8dbee6-cd9d-40c7-836d-6578cebcb666",
   "metadata": {},
   "outputs": [
    {
     "data": {
      "text/plain": [
       "1624872094800"
      ]
     },
     "execution_count": 91,
     "metadata": {},
     "output_type": "execute_result"
    }
   ],
   "source": [
    "a=5\n",
    "b=25/5\n",
    "id(a)\n",
    "id(b)"
   ]
  },
  {
   "cell_type": "code",
   "execution_count": 92,
   "id": "45ffbe5f-3eb1-4e40-bcb7-a8e89953df47",
   "metadata": {},
   "outputs": [
    {
     "data": {
      "text/plain": [
       "False"
      ]
     },
     "execution_count": 92,
     "metadata": {},
     "output_type": "execute_result"
    }
   ],
   "source": [
    "a is b"
   ]
  },
  {
   "cell_type": "code",
   "execution_count": 100,
   "id": "b87d7e59-4b16-4344-bb5f-0e16fa804e4a",
   "metadata": {},
   "outputs": [
    {
     "data": {
      "text/plain": [
       "[1, 5, 6, 7, 'Ly', 'nam', (1+2j)]"
      ]
     },
     "execution_count": 100,
     "metadata": {},
     "output_type": "execute_result"
    }
   ],
   "source": [
    "li"
   ]
  },
  {
   "cell_type": "code",
   "execution_count": 101,
   "id": "4222ead8-e3e8-4b15-baae-4dbec2ccdf01",
   "metadata": {},
   "outputs": [
    {
     "data": {
      "text/plain": [
       "[1, 5, 6, 7, 'Ly', 'nam', (1+2j), ['toi', 'di', 'hoc']]"
      ]
     },
     "execution_count": 101,
     "metadata": {},
     "output_type": "execute_result"
    }
   ],
   "source": [
    "li.append(['toi','di','hoc'])\n",
    "li"
   ]
  },
  {
   "cell_type": "code",
   "execution_count": 102,
   "id": "b6086da9-15cd-41fc-97aa-eaf1f227bf06",
   "metadata": {},
   "outputs": [],
   "source": [
    "li.append(5)"
   ]
  },
  {
   "cell_type": "code",
   "execution_count": 103,
   "id": "87ff08b0-f8ce-45e3-8d95-5c45a7105b52",
   "metadata": {},
   "outputs": [
    {
     "data": {
      "text/plain": [
       "[1, 5, 6, 7, 'Ly', 'nam', (1+2j), ['toi', 'di', 'hoc'], 5]"
      ]
     },
     "execution_count": 103,
     "metadata": {},
     "output_type": "execute_result"
    }
   ],
   "source": [
    "li"
   ]
  },
  {
   "cell_type": "code",
   "execution_count": 2,
   "id": "458c6344-8ac0-4b0a-8aa3-0639e81ee37e",
   "metadata": {},
   "outputs": [
    {
     "ename": "NameError",
     "evalue": "name 'li' is not defined",
     "output_type": "error",
     "traceback": [
      "\u001b[1;31m---------------------------------------------------------------------------\u001b[0m",
      "\u001b[1;31mNameError\u001b[0m                                 Traceback (most recent call last)",
      "\u001b[1;32m<ipython-input-2-a6b754927a10>\u001b[0m in \u001b[0;36m<module>\u001b[1;34m\u001b[0m\n\u001b[1;32m----> 1\u001b[1;33m \u001b[0mprint\u001b[0m\u001b[1;33m(\u001b[0m\u001b[0mli\u001b[0m\u001b[1;33m)\u001b[0m\u001b[1;33m\u001b[0m\u001b[1;33m\u001b[0m\u001b[0m\n\u001b[0m",
      "\u001b[1;31mNameError\u001b[0m: name 'li' is not defined"
     ]
    }
   ],
   "source": [
    "print(li)"
   ]
  },
  {
   "cell_type": "code",
   "execution_count": null,
   "id": "373a3c9a-1981-4121-8b76-34e3e6519e05",
   "metadata": {},
   "outputs": [],
   "source": []
  }
 ],
 "metadata": {
  "kernelspec": {
   "display_name": "Python 3",
   "language": "python",
   "name": "python3"
  },
  "language_info": {
   "codemirror_mode": {
    "name": "ipython",
    "version": 3
   },
   "file_extension": ".py",
   "mimetype": "text/x-python",
   "name": "python",
   "nbconvert_exporter": "python",
   "pygments_lexer": "ipython3",
   "version": "3.7.10"
  }
 },
 "nbformat": 4,
 "nbformat_minor": 5
}
