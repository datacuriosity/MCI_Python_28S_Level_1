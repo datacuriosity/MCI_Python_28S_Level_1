{
 "cells": [
  {
   "cell_type": "code",
   "execution_count": 3,
   "id": "c0320b0a-54f6-44ba-873b-a468c27c9616",
   "metadata": {},
   "outputs": [],
   "source": [
    "%config Completer.use_jedi=Falsec"
   ]
  },
  {
   "cell_type": "code",
   "execution_count": 2,
   "id": "e50456ac-0242-43c3-9c2f-fdc78b37fb9d",
   "metadata": {},
   "outputs": [],
   "source": [
    "li = [1,2,3,4,5]"
   ]
  },
  {
   "cell_type": "code",
   "execution_count": 9,
   "id": "997bfbda-7ca8-45e8-ba38-b0b1ce93e665",
   "metadata": {},
   "outputs": [
    {
     "data": {
      "text/plain": [
       "[1, 2, 3, 4, 5, 6, 7, 8]"
      ]
     },
     "execution_count": 9,
     "metadata": {},
     "output_type": "execute_result"
    }
   ],
   "source": [
    "[1,2,3,4]+[5,6,7,8]"
   ]
  },
  {
   "cell_type": "code",
   "execution_count": 10,
   "id": "5f7eab81-e0b2-4c05-9544-11fc633fb03f",
   "metadata": {},
   "outputs": [],
   "source": [
    "## append vs extend"
   ]
  },
  {
   "cell_type": "code",
   "execution_count": 11,
   "id": "3adf63b8-751e-4677-8bad-c5595f415a96",
   "metadata": {},
   "outputs": [],
   "source": [
    "##iterable là cấu trúc dữ liệu có khả năng lặp được, có thể chứa trên 1 phần tử: list, set, dictiinary, tuple, sring"
   ]
  },
  {
   "cell_type": "code",
   "execution_count": 18,
   "id": "9d127c93-9eee-42c9-a10c-3c035f1d217f",
   "metadata": {},
   "outputs": [
    {
     "data": {
      "text/plain": [
       "[1, 2, 3, 4, 5]"
      ]
     },
     "execution_count": 18,
     "metadata": {},
     "output_type": "execute_result"
    }
   ],
   "source": [
    "li = [1,2,3,4,5]\n",
    "li"
   ]
  },
  {
   "cell_type": "code",
   "execution_count": 21,
   "id": "4de3b01e-9442-48ce-a460-ea1efd796720",
   "metadata": {},
   "outputs": [
    {
     "data": {
      "text/plain": [
       "[1, 2, 3, 4, 5, 6, 5, 5]"
      ]
     },
     "execution_count": 21,
     "metadata": {},
     "output_type": "execute_result"
    }
   ],
   "source": [
    "li.append(5)\n",
    "li"
   ]
  },
  {
   "cell_type": "code",
   "execution_count": 23,
   "id": "d8d1366a-1b8a-4ecc-b351-ab5fc0f453c3",
   "metadata": {},
   "outputs": [
    {
     "data": {
      "text/plain": [
       "({2, 3, 4, 5, 6, 7}, {1, 6, 7, 8, 9})"
      ]
     },
     "execution_count": 23,
     "metadata": {},
     "output_type": "execute_result"
    }
   ],
   "source": [
    "set_1 ={2,3,4,5,6,7}\n",
    "set_2 ={7,8,9,6,1}\n",
    "set_1,set_2"
   ]
  },
  {
   "cell_type": "code",
   "execution_count": 25,
   "id": "6cd0464b-509d-407b-b7a7-90b77c1c9dfa",
   "metadata": {},
   "outputs": [
    {
     "data": {
      "text/plain": [
       "{2, 3, 4, 5}"
      ]
     },
     "execution_count": 25,
     "metadata": {},
     "output_type": "execute_result"
    }
   ],
   "source": [
    "set_1.difference (set_2)"
   ]
  },
  {
   "cell_type": "code",
   "execution_count": 26,
   "id": "be134aca-89f9-400d-b45c-20fd3861b474",
   "metadata": {},
   "outputs": [
    {
     "data": {
      "text/plain": [
       "{1, 8, 9}"
      ]
     },
     "execution_count": 26,
     "metadata": {},
     "output_type": "execute_result"
    }
   ],
   "source": [
    "set_2.difference(set_1)"
   ]
  },
  {
   "cell_type": "code",
   "execution_count": 28,
   "id": "9de9716b-c619-4c37-9f83-7f0c894aa3df",
   "metadata": {},
   "outputs": [
    {
     "data": {
      "text/plain": [
       "{2, 3, 4, 5}"
      ]
     },
     "execution_count": 28,
     "metadata": {},
     "output_type": "execute_result"
    }
   ],
   "source": [
    "set_1.difference_update(set_2)\n",
    "set_1"
   ]
  },
  {
   "cell_type": "code",
   "execution_count": 29,
   "id": "665fa9d8-e115-4823-8216-3e621b33045a",
   "metadata": {},
   "outputs": [
    {
     "data": {
      "text/plain": [
       "{1, 2, 3, 4, 5, 6, 7, 8, 9}"
      ]
     },
     "execution_count": 29,
     "metadata": {},
     "output_type": "execute_result"
    }
   ],
   "source": [
    "set_1.symmetric_difference(set_2)"
   ]
  },
  {
   "cell_type": "code",
   "execution_count": 30,
   "id": "accb130d-377b-4808-a1ef-14e718a8248f",
   "metadata": {},
   "outputs": [
    {
     "data": {
      "text/plain": [
       "{1, 2, 3, 4, 5, 6, 7, 8, 9}"
      ]
     },
     "execution_count": 30,
     "metadata": {},
     "output_type": "execute_result"
    }
   ],
   "source": [
    "set_1.union(set_2)"
   ]
  },
  {
   "cell_type": "code",
   "execution_count": 31,
   "id": "2e57b385-3ee7-4fbb-84e2-51f41101fbc8",
   "metadata": {},
   "outputs": [
    {
     "data": {
      "text/plain": [
       "False"
      ]
     },
     "execution_count": 31,
     "metadata": {},
     "output_type": "execute_result"
    }
   ],
   "source": [
    "set_1.issubset(set_2)"
   ]
  },
  {
   "cell_type": "code",
   "execution_count": 34,
   "id": "a94fe87c-95da-4998-8a61-3cc1c4d1b77f",
   "metadata": {},
   "outputs": [
    {
     "data": {
      "text/plain": [
       "{2, 3, 4, 5}"
      ]
     },
     "execution_count": 34,
     "metadata": {},
     "output_type": "execute_result"
    }
   ],
   "source": [
    "set_1.intersection(set_2)\n",
    "set_1"
   ]
  },
  {
   "cell_type": "code",
   "execution_count": 39,
   "id": "4b47e556-fbd9-43eb-a5db-f50999ca6e07",
   "metadata": {},
   "outputs": [],
   "source": [
    "set_1.intersection_update(set_2)"
   ]
  },
  {
   "cell_type": "code",
   "execution_count": 40,
   "id": "c7486420-c290-4008-8983-27e25f3907bc",
   "metadata": {},
   "outputs": [
    {
     "data": {
      "text/plain": [
       "set()"
      ]
     },
     "execution_count": 40,
     "metadata": {},
     "output_type": "execute_result"
    }
   ],
   "source": [
    "set_1"
   ]
  },
  {
   "cell_type": "code",
   "execution_count": 2,
   "id": "9bd9dca1-f30c-456f-bf03-ad57213370aa",
   "metadata": {},
   "outputs": [
    {
     "data": {
      "text/plain": [
       "[3, 4, 5, 6, 7, 8, 9]"
      ]
     },
     "execution_count": 2,
     "metadata": {},
     "output_type": "execute_result"
    }
   ],
   "source": [
    "li=[3,4,5,6,7,8]\n",
    "li.append(9)\n",
    "li"
   ]
  },
  {
   "cell_type": "code",
   "execution_count": 3,
   "id": "72935e0a-b65c-4861-aefd-5bb2123044b4",
   "metadata": {},
   "outputs": [],
   "source": [
    "li.clear()"
   ]
  },
  {
   "cell_type": "code",
   "execution_count": 4,
   "id": "8020a797-aa2e-474f-b250-0fcfe7b6f83f",
   "metadata": {},
   "outputs": [
    {
     "data": {
      "text/plain": [
       "[]"
      ]
     },
     "execution_count": 4,
     "metadata": {},
     "output_type": "execute_result"
    }
   ],
   "source": [
    "li"
   ]
  },
  {
   "cell_type": "code",
   "execution_count": 5,
   "id": "025a11ff-ba15-402b-912f-41c5a474021e",
   "metadata": {},
   "outputs": [
    {
     "data": {
      "text/plain": [
       "list"
      ]
     },
     "execution_count": 5,
     "metadata": {},
     "output_type": "execute_result"
    }
   ],
   "source": [
    "type(li)"
   ]
  },
  {
   "cell_type": "code",
   "execution_count": 6,
   "id": "9ba7206e-dd12-4c36-9275-63a4d0854e57",
   "metadata": {},
   "outputs": [
    {
     "data": {
      "text/plain": [
       "0"
      ]
     },
     "execution_count": 6,
     "metadata": {},
     "output_type": "execute_result"
    }
   ],
   "source": [
    "li.count(5)"
   ]
  },
  {
   "cell_type": "code",
   "execution_count": 7,
   "id": "326c978e-1dd2-4421-86c3-222adfc9af1b",
   "metadata": {},
   "outputs": [],
   "source": [
    "li=[1,2,3,4,5,6]"
   ]
  },
  {
   "cell_type": "code",
   "execution_count": 9,
   "id": "9d9986e7-4600-4c06-b128-e5372e5abf48",
   "metadata": {},
   "outputs": [
    {
     "data": {
      "text/plain": [
       "[1, 2, 3, 4, 5, 6, 'nhu', 'nhu']"
      ]
     },
     "execution_count": 9,
     "metadata": {},
     "output_type": "execute_result"
    }
   ],
   "source": [
    "li.append('nhu')\n",
    "li"
   ]
  },
  {
   "cell_type": "code",
   "execution_count": 12,
   "id": "28958160-3f3a-494a-97cc-57e8294bc20f",
   "metadata": {},
   "outputs": [
    {
     "data": {
      "text/plain": [
       "[1, 2, 3, 4, 5, 6, 'nhu', 'nhu', 'n', 'h', 'u', 'n', 'h', 'u', 'n', 'h', 'u']"
      ]
     },
     "execution_count": 12,
     "metadata": {},
     "output_type": "execute_result"
    }
   ],
   "source": [
    "li.extend('nhu')\n",
    "li"
   ]
  },
  {
   "cell_type": "code",
   "execution_count": null,
   "id": "ba7fff4a-b3b5-4c21-855b-521ac554f9a3",
   "metadata": {},
   "outputs": [],
   "source": []
  },
  {
   "cell_type": "code",
   "execution_count": 13,
   "id": "9b46c269-03b7-48ac-a88e-7cb73089f699",
   "metadata": {},
   "outputs": [
    {
     "data": {
      "text/plain": [
       "['add',\n",
       " 'clear',\n",
       " 'copy',\n",
       " 'difference',\n",
       " 'difference_update',\n",
       " 'discard',\n",
       " 'intersection',\n",
       " 'intersection_update',\n",
       " 'isdisjoint',\n",
       " 'issubset',\n",
       " 'issuperset',\n",
       " 'pop',\n",
       " 'remove',\n",
       " 'symmetric_difference',\n",
       " 'symmetric_difference_update',\n",
       " 'union',\n",
       " 'update']"
      ]
     },
     "execution_count": 13,
     "metadata": {},
     "output_type": "execute_result"
    }
   ],
   "source": [
    "[method for method in dir(set) if not method.startswith('_')]"
   ]
  },
  {
   "cell_type": "code",
   "execution_count": 2,
   "id": "4879d347-53eb-4150-a893-5a58591161b5",
   "metadata": {},
   "outputs": [
    {
     "data": {
      "text/plain": [
       "[1, 'truong', 2]"
      ]
     },
     "execution_count": 2,
     "metadata": {},
     "output_type": "execute_result"
    }
   ],
   "source": [
    "li_1=[1,'truong']\n",
    "li_1.append(2)\n",
    "li_1"
   ]
  },
  {
   "cell_type": "code",
   "execution_count": 9,
   "id": "6ab297eb-f64a-4b70-b9f9-a4982d2404d3",
   "metadata": {},
   "outputs": [
    {
     "data": {
      "text/plain": [
       "[1, 'truong', 2, 'n', 'h', 'u', 'n', 'h', 'u', 'n', 'h', 'u', 'nhu', 'nhu']"
      ]
     },
     "execution_count": 9,
     "metadata": {},
     "output_type": "execute_result"
    }
   ],
   "source": [
    "li_1.append('nhu')\n",
    "li_1"
   ]
  },
  {
   "cell_type": "code",
   "execution_count": 15,
   "id": "47ebf743-6d41-49e8-b145-aaa86881a077",
   "metadata": {},
   "outputs": [
    {
     "data": {
      "text/plain": [
       "['truong', 2, 'n', 'h', 'u', 'n', 'h', 'u', 'n', 'h', 'u', 'nhu', 'nhu']"
      ]
     },
     "execution_count": 15,
     "metadata": {},
     "output_type": "execute_result"
    }
   ],
   "source": [
    "li_1.pop(0)\n",
    "li_1"
   ]
  },
  {
   "cell_type": "code",
   "execution_count": 17,
   "id": "fc171642-6c3c-4a6a-aaea-f5dfa94ae685",
   "metadata": {},
   "outputs": [
    {
     "data": {
      "text/plain": [
       "['truong', 2, 'n', 'h', 'u', 'n', 'h', 'u', 'n', 'h', 'u', 'nhu']"
      ]
     },
     "execution_count": 17,
     "metadata": {},
     "output_type": "execute_result"
    }
   ],
   "source": [
    "li_1.pop(-1)\n",
    "li_1"
   ]
  },
  {
   "cell_type": "code",
   "execution_count": 19,
   "id": "8086f836-5e10-43aa-ae6b-d99680cc8bcc",
   "metadata": {},
   "outputs": [
    {
     "data": {
      "text/plain": [
       "['truong', 2, 'h', 'u', 'h', 'u', 'n', 'h', 'u', 'nhu']"
      ]
     },
     "execution_count": 19,
     "metadata": {},
     "output_type": "execute_result"
    }
   ],
   "source": [
    "li_1.remove('n')\n",
    "li_1"
   ]
  },
  {
   "cell_type": "code",
   "execution_count": 24,
   "id": "893d37e7-5283-4325-93df-277020db8c09",
   "metadata": {},
   "outputs": [
    {
     "name": "stdout",
     "output_type": "stream",
     "text": [
      "a lon hon b\n"
     ]
    }
   ],
   "source": [
    "a=3\n",
    "b=2\n",
    "if a>b:\n",
    "     print('a lon hon b')"
   ]
  },
  {
   "cell_type": "code",
   "execution_count": 25,
   "id": "d709e533-4084-455f-8f58-6e0cee920af3",
   "metadata": {},
   "outputs": [],
   "source": [
    "dict_1= {'name':('Nhu','Anh','Trang'),\n",
    "         'age':['17','18','19'],\n",
    "         'thanh_pho':['haiphong','haiduong','hungyen']}"
   ]
  },
  {
   "cell_type": "code",
   "execution_count": 26,
   "id": "4b81c383-5e6c-4338-8dc0-7ae2dd3a1f12",
   "metadata": {},
   "outputs": [
    {
     "data": {
      "text/plain": [
       "['Nhu', 'Anh', 'Trang']"
      ]
     },
     "execution_count": 26,
     "metadata": {},
     "output_type": "execute_result"
    }
   ],
   "source": [
    "dict_1['name']"
   ]
  },
  {
   "cell_type": "code",
   "execution_count": 27,
   "id": "d4fc57c8-b787-477d-b429-df2d63f40da1",
   "metadata": {},
   "outputs": [
    {
     "data": {
      "text/plain": [
       "list"
      ]
     },
     "execution_count": 27,
     "metadata": {},
     "output_type": "execute_result"
    }
   ],
   "source": [
    "type(dict_1['name'])"
   ]
  },
  {
   "cell_type": "code",
   "execution_count": 30,
   "id": "7eeb4e5c-a706-4410-b034-3d201097dea2",
   "metadata": {},
   "outputs": [
    {
     "data": {
      "text/plain": [
       "['Nhu', 'Anh', 'Trang']"
      ]
     },
     "execution_count": 30,
     "metadata": {},
     "output_type": "execute_result"
    }
   ],
   "source": [
    "dict_1['name']"
   ]
  },
  {
   "cell_type": "code",
   "execution_count": 31,
   "id": "aa30168e-5c6d-4958-8158-0eac9c89ad99",
   "metadata": {},
   "outputs": [
    {
     "name": "stdout",
     "output_type": "stream",
     "text": [
      "2\n",
      "3\n",
      "4\n",
      "5\n"
     ]
    }
   ],
   "source": [
    "for x in range (2,6):\n",
    "    print(x)\n",
    "    "
   ]
  },
  {
   "cell_type": "code",
   "execution_count": 33,
   "id": "d2e50996-402d-4317-8b6a-416eee68169a",
   "metadata": {},
   "outputs": [
    {
     "name": "stdout",
     "output_type": "stream",
     "text": [
      "1\n",
      "16\n",
      "25\n",
      "36\n",
      "64\n"
     ]
    }
   ],
   "source": [
    "li=[1,4,5,6,8]\n",
    "for x in li:\n",
    "    print(x**2)\n",
    "    "
   ]
  },
  {
   "cell_type": "markdown",
   "id": "6fc23314-de8f-4ba2-803f-04a5e63dccae",
   "metadata": {},
   "source": [
    "### while loop"
   ]
  },
  {
   "cell_type": "code",
   "execution_count": 42,
   "id": "a4217ec3-8e5a-4f1e-8ae9-60b7839f9666",
   "metadata": {},
   "outputs": [],
   "source": [
    "# For: Xac dinh duoc so lan lap\n",
    "# While: khong xac dinh duoc so lan lap"
   ]
  },
  {
   "cell_type": "markdown",
   "id": "49a0a826-c66e-411d-b639-cea288d5ed22",
   "metadata": {},
   "source": [
    "### 3.3.Conditionnal"
   ]
  },
  {
   "cell_type": "code",
   "execution_count": 45,
   "id": "2065d288-c30f-48e5-8321-9cae2861d9a1",
   "metadata": {},
   "outputs": [
    {
     "ename": "SyntaxError",
     "evalue": "invalid syntax (<ipython-input-45-05b7aa6b1730>, line 3)",
     "output_type": "error",
     "traceback": [
      "\u001b[1;36m  File \u001b[1;32m\"<ipython-input-45-05b7aa6b1730>\"\u001b[1;36m, line \u001b[1;32m3\u001b[0m\n\u001b[1;33m    business logic\u001b[0m\n\u001b[1;37m                 ^\u001b[0m\n\u001b[1;31mSyntaxError\u001b[0m\u001b[1;31m:\u001b[0m invalid syntax\n"
     ]
    }
   ],
   "source": [
    "...\n",
    "if Condition(True/False):\n",
    "    business logic\n",
    "elif condition:  ---> optinal\n",
    "    business logic\n",
    "elif condition:\n",
    "    business logic ---> optional\n",
    "else: ---> optional\n",
    "    business logic\n",
    "....."
   ]
  },
  {
   "cell_type": "code",
   "execution_count": 48,
   "id": "cdf73503-c563-49ef-815f-87e0f5ed152a",
   "metadata": {},
   "outputs": [
    {
     "name": "stdout",
     "output_type": "stream",
     "text": [
      "a<b\n"
     ]
    }
   ],
   "source": [
    "a,b= 1,3\n",
    "if a< b:\n",
    "    print('a<b')\n",
    "   "
   ]
  },
  {
   "cell_type": "code",
   "execution_count": 50,
   "id": "5e6050ef-bf84-435e-97da-4c8d8a13027c",
   "metadata": {},
   "outputs": [
    {
     "name": "stdout",
     "output_type": "stream",
     "text": [
      "a>b\n"
     ]
    }
   ],
   "source": [
    "a,b = 3,1\n",
    "if a<b:\n",
    "    print('a<b')\n",
    "elif a>b:\n",
    "    print('a>b')\n",
    "else:\n",
    "    print('a=b')\n",
    "    "
   ]
  },
  {
   "cell_type": "markdown",
   "id": "b134b5f4-186c-40e3-b136-d60a67409547",
   "metadata": {},
   "source": [
    "### 4.Function"
   ]
  },
  {
   "cell_type": "code",
   "execution_count": 55,
   "id": "21378ad0-9bbb-49f8-9d91-500a9dbd8eb4",
   "metadata": {},
   "outputs": [],
   "source": [
    "def length_of_list(li):\n",
    "    for _ in li:\n",
    "        count +=1\n",
    "    return count"
   ]
  },
  {
   "cell_type": "code",
   "execution_count": 56,
   "id": "12e50180-0058-4ac9-9909-24e36f2c3e35",
   "metadata": {},
   "outputs": [],
   "source": [
    "length_of_list =[1,2,3,4,5]"
   ]
  },
  {
   "cell_type": "code",
   "execution_count": 63,
   "id": "8b285865-d63d-44a4-9824-25b45695bb51",
   "metadata": {},
   "outputs": [
    {
     "data": {
      "text/plain": [
       "[-5, -4, -3, -2, -1, 0, 1, 2, 3, 4]"
      ]
     },
     "execution_count": 63,
     "metadata": {},
     "output_type": "execute_result"
    }
   ],
   "source": [
    "li =list(range(-5,5))\n",
    "li"
   ]
  },
  {
   "cell_type": "code",
   "execution_count": 64,
   "id": "c46b92e1-c65b-4c36-9898-bf9931029784",
   "metadata": {},
   "outputs": [
    {
     "data": {
      "text/plain": [
       "[5, 4, 3, 2, 1, 0, 1, 2, 3, 4]"
      ]
     },
     "execution_count": 64,
     "metadata": {},
     "output_type": "execute_result"
    }
   ],
   "source": [
    "[abs(i) if i < 0 else i for i in li]"
   ]
  },
  {
   "cell_type": "code",
   "execution_count": 65,
   "id": "99193e15-5eb2-4d65-b073-748037e5dc00",
   "metadata": {},
   "outputs": [
    {
     "data": {
      "text/plain": [
       "[25, 16, 9, 4, 1, 0, 1, 2, 3, 4]"
      ]
     },
     "execution_count": 65,
     "metadata": {},
     "output_type": "execute_result"
    }
   ],
   "source": [
    "[i**2 if i < 0 else i for i in li]"
   ]
  },
  {
   "cell_type": "code",
   "execution_count": null,
   "id": "a91dd3d4-b119-49d7-8c1c-438664bb2ab9",
   "metadata": {},
   "outputs": [],
   "source": []
  }
 ],
 "metadata": {
  "kernelspec": {
   "display_name": "Python 3",
   "language": "python",
   "name": "python3"
  },
  "language_info": {
   "codemirror_mode": {
    "name": "ipython",
    "version": 3
   },
   "file_extension": ".py",
   "mimetype": "text/x-python",
   "name": "python",
   "nbconvert_exporter": "python",
   "pygments_lexer": "ipython3",
   "version": "3.7.10"
  }
 },
 "nbformat": 4,
 "nbformat_minor": 5
}
