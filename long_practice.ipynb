{
 "cells": [
  {
   "cell_type": "code",
   "execution_count": 2,
   "id": "46e24510-9c1b-4bae-8449-7bb07d05dca9",
   "metadata": {
    "tags": []
   },
   "outputs": [
    {
     "name": "stdout",
     "output_type": "stream",
     "text": [
      "Hello World!\n"
     ]
    }
   ],
   "source": [
    "print('Hello World!')"
   ]
  },
  {
   "cell_type": "code",
   "execution_count": 3,
   "id": "6235cfc9-e60f-4ee8-bc69-fab99187d8de",
   "metadata": {},
   "outputs": [
    {
     "data": {
      "text/plain": [
       "2.5"
      ]
     },
     "execution_count": 3,
     "metadata": {},
     "output_type": "execute_result"
    }
   ],
   "source": [
    "5/2"
   ]
  },
  {
   "cell_type": "markdown",
   "id": "b6225956-9156-426c-899e-0683a5427989",
   "metadata": {},
   "source": [
    "- 1. Di chuyen Anaconda Prompt toi thu muc lam viec\n",
    "- 2. conda activate longdang\n",
    "- 3. jupyter lab"
   ]
  },
  {
   "cell_type": "code",
   "execution_count": null,
   "id": "15178f66-1904-4fcc-9b26-841e615f4f7f",
   "metadata": {},
   "outputs": [],
   "source": []
  }
 ],
 "metadata": {
  "kernelspec": {
   "display_name": "Python 3",
   "language": "python",
   "name": "python3"
  },
  "language_info": {
   "codemirror_mode": {
    "name": "ipython",
    "version": 3
   },
   "file_extension": ".py",
   "mimetype": "text/x-python",
   "name": "python",
   "nbconvert_exporter": "python",
   "pygments_lexer": "ipython3",
   "version": "3.7.10"
  }
 },
 "nbformat": 4,
 "nbformat_minor": 5
}
